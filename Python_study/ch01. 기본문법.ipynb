{
 "cells": [
  {
   "cell_type": "markdown",
   "id": "aafd78da",
   "metadata": {},
   "source": [
    "# 1 기본문법"
   ]
  },
  {
   "cell_type": "markdown",
   "id": "97a01d7b",
   "metadata": {},
   "source": [
    "## 파이썬 표준 라이브러리 문서\n",
    "- **공식문서** https://docs.python.org/3/library/index.html"
   ]
  },
  {
   "cell_type": "markdown",
   "id": "37c85409",
   "metadata": {},
   "source": [
    "## 실행 - 파이썬 실행하는 방법\n",
    "1. 도구표시줄에서 RUN 아이콘을 이용해서 실행 : Shift + Enter\n",
    "2. Shift + Enter : 해당 셀을 실행한 후 새로운 셀을 생성\n",
    "3. Ctrl + Enter : 해당 셀을 실행한다."
   ]
  },
  {
   "cell_type": "markdown",
   "id": "86aec5b8",
   "metadata": {},
   "source": [
    "## 예약어(Keyword)\n",
    "- 이미 그 용도가 정해져 있는 명령어들\n",
    "- 식별자(명명법 or 사용자 정의 규칙 - 변수명, 함수명, 파일명...)로 사용 불가"
   ]
  },
  {
   "cell_type": "code",
   "execution_count": 1,
   "id": "e005d7bb",
   "metadata": {},
   "outputs": [
    {
     "name": "stdout",
     "output_type": "stream",
     "text": [
      "['False', 'None', 'True', '__peg_parser__', 'and', 'as', 'assert', 'async', 'await', 'break', 'class', 'continue', 'def', 'del', 'elif', 'else', 'except', 'finally', 'for', 'from', 'global', 'if', 'import', 'in', 'is', 'lambda', 'nonlocal', 'not', 'or', 'pass', 'raise', 'return', 'try', 'while', 'with', 'yield']\n"
     ]
    }
   ],
   "source": [
    "# 파이썬 예약어를 확인\n",
    "import keyword #keyword 라이브러리를 포함\n",
    "\n",
    "# 파이썬의 예약어 목록 출력\n",
    "print(keyword.kwlist)"
   ]
  },
  {
   "cell_type": "code",
   "execution_count": 2,
   "id": "c4269aee",
   "metadata": {},
   "outputs": [
    {
     "name": "stdout",
     "output_type": "stream",
     "text": [
      "36\n"
     ]
    }
   ],
   "source": [
    "#len = length, 자료의 개수, 문자의 길이\n",
    "print(len(keyword.kwlist))"
   ]
  },
  {
   "cell_type": "code",
   "execution_count": 3,
   "id": "62cf6b61",
   "metadata": {},
   "outputs": [
    {
     "data": {
      "text/plain": [
       "'3.9.12 (main, Apr  4 2022, 05:22:27) [MSC v.1916 64 bit (AMD64)]'"
      ]
     },
     "execution_count": 3,
     "metadata": {},
     "output_type": "execute_result"
    }
   ],
   "source": [
    "# 파이썬 버전 확인\n",
    "import sys\n",
    "\n",
    "sys.version"
   ]
  },
  {
   "cell_type": "markdown",
   "id": "c81dd483",
   "metadata": {},
   "source": [
    "## 사칙연산\n",
    "- 파이썬을 계산기처럼 사용이 가능하다.\n",
    "- 사칙연산(산술연산) : +, -, *, /,//,%/%"
   ]
  },
  {
   "cell_type": "code",
   "execution_count": 4,
   "id": "65ca28bb",
   "metadata": {},
   "outputs": [
    {
     "data": {
      "text/plain": [
       "55"
      ]
     },
     "execution_count": 4,
     "metadata": {},
     "output_type": "execute_result"
    }
   ],
   "source": [
    "25 + 30"
   ]
  },
  {
   "cell_type": "code",
   "execution_count": 5,
   "id": "356a10f6",
   "metadata": {},
   "outputs": [
    {
     "data": {
      "text/plain": [
       "18"
      ]
     },
     "execution_count": 5,
     "metadata": {},
     "output_type": "execute_result"
    }
   ],
   "source": [
    "30 - 12"
   ]
  },
  {
   "cell_type": "code",
   "execution_count": 6,
   "id": "2c38f23c",
   "metadata": {},
   "outputs": [
    {
     "data": {
      "text/plain": [
       "150"
      ]
     },
     "execution_count": 6,
     "metadata": {},
     "output_type": "execute_result"
    }
   ],
   "source": [
    "50 * 3"
   ]
  },
  {
   "cell_type": "code",
   "execution_count": 7,
   "id": "e30abce1",
   "metadata": {},
   "outputs": [
    {
     "data": {
      "text/plain": [
       "6.0"
      ]
     },
     "execution_count": 7,
     "metadata": {},
     "output_type": "execute_result"
    }
   ],
   "source": [
    "30 / 5 # 나누기 결과(실수)"
   ]
  },
  {
   "cell_type": "code",
   "execution_count": 8,
   "id": "4a0548a0",
   "metadata": {},
   "outputs": [
    {
     "data": {
      "text/plain": [
       "243"
      ]
     },
     "execution_count": 8,
     "metadata": {},
     "output_type": "execute_result"
    }
   ],
   "source": [
    "3 * 3 * 3 * 3 * 3"
   ]
  },
  {
   "cell_type": "code",
   "execution_count": 9,
   "id": "7209e1eb",
   "metadata": {},
   "outputs": [
    {
     "data": {
      "text/plain": [
       "243"
      ]
     },
     "execution_count": 9,
     "metadata": {},
     "output_type": "execute_result"
    }
   ],
   "source": [
    "3 ** 5"
   ]
  },
  {
   "cell_type": "code",
   "execution_count": 10,
   "id": "c96cfad2",
   "metadata": {},
   "outputs": [
    {
     "data": {
      "text/plain": [
       "1"
      ]
     },
     "execution_count": 10,
     "metadata": {},
     "output_type": "execute_result"
    }
   ],
   "source": [
    "# 나머지 연산\n",
    "7 % 2"
   ]
  },
  {
   "cell_type": "code",
   "execution_count": 11,
   "id": "c3e3ee5d",
   "metadata": {},
   "outputs": [
    {
     "data": {
      "text/plain": [
       "3"
      ]
     },
     "execution_count": 11,
     "metadata": {},
     "output_type": "execute_result"
    }
   ],
   "source": [
    "# 몫(정수형)\n",
    "7 // 2"
   ]
  },
  {
   "cell_type": "code",
   "execution_count": 12,
   "id": "649b2abb",
   "metadata": {},
   "outputs": [
    {
     "data": {
      "text/plain": [
       "3.5"
      ]
     },
     "execution_count": 12,
     "metadata": {},
     "output_type": "execute_result"
    }
   ],
   "source": [
    "7 / 2"
   ]
  },
  {
   "cell_type": "code",
   "execution_count": 13,
   "id": "1d1c2aad",
   "metadata": {},
   "outputs": [
    {
     "name": "stdout",
     "output_type": "stream",
     "text": [
      "1\n",
      "2\n",
      "3\n"
     ]
    }
   ],
   "source": [
    "print(1); print(2); print(3)"
   ]
  },
  {
   "cell_type": "code",
   "execution_count": 14,
   "id": "7e44b6a1",
   "metadata": {},
   "outputs": [
    {
     "name": "stdout",
     "output_type": "stream",
     "text": [
      "1\n",
      "2\n",
      "3\n"
     ]
    }
   ],
   "source": [
    "print(1)\n",
    "print(2)\n",
    "print(3)"
   ]
  },
  {
   "cell_type": "code",
   "execution_count": 15,
   "id": "b341ed4a",
   "metadata": {},
   "outputs": [
    {
     "name": "stdout",
     "output_type": "stream",
     "text": [
      "1\n",
      "2\n",
      "3\n",
      "4\n",
      "5\n",
      "6\n",
      "7\n",
      "8\n",
      "9\n",
      "10\n"
     ]
    }
   ],
   "source": [
    "for i in range(1, 11):\n",
    "    print(i);"
   ]
  },
  {
   "cell_type": "code",
   "execution_count": 18,
   "id": "cbfd3ad1",
   "metadata": {},
   "outputs": [
    {
     "name": "stdout",
     "output_type": "stream",
     "text": [
      "100\n",
      "200\n"
     ]
    }
   ],
   "source": [
    "print(100);\n",
    "print(200);"
   ]
  },
  {
   "cell_type": "markdown",
   "id": "1ac3ae19",
   "metadata": {},
   "source": [
    "## 주석(comment)\n",
    "- 프로그램 실행과는 상관없이 설명을 담기 위해 사용하는 구문\n",
    "- '#' : 한 줄 주석\n",
    "- 여러 줄 주석"
   ]
  },
  {
   "cell_type": "code",
   "execution_count": 19,
   "id": "4ae8aac8",
   "metadata": {},
   "outputs": [
    {
     "data": {
      "text/plain": [
       "'\\n여러 줄 주석\\n여기도 주석\\n저기도 주석\\n'"
      ]
     },
     "execution_count": 19,
     "metadata": {},
     "output_type": "execute_result"
    }
   ],
   "source": [
    "# 이것은 한 줄짜리 주석입니다.\n",
    "\"\"\"\n",
    "여러 줄 주석\n",
    "여기도 주석\n",
    "저기도 주석\n",
    "\"\"\"\n",
    "'''\n",
    "여러 줄 주석\n",
    "여기도 주석\n",
    "저기도 주석\n",
    "'''"
   ]
  },
  {
   "cell_type": "code",
   "execution_count": 20,
   "id": "33fb63bd",
   "metadata": {
    "code_folding": []
   },
   "outputs": [],
   "source": [
    "# 주석이고 싶어요\n",
    "# 나도 주석일거야\n",
    "# 여기까지 주석일거예요\n",
    "# 블럭주석 : 여러 줄을 작성한 후 블럭을 설정하고 ctrl + /"
   ]
  },
  {
   "cell_type": "markdown",
   "id": "808f7569",
   "metadata": {},
   "source": [
    "# 변수(Variable)\n",
    "- 변수 : 변할 수 있는 수, 값(상수, data)을 저장하는 공간 즉, 기억공간\n",
    "- 메모리(Memory) : 주기억장소(RAM), 변수를 저장하는 물리적인 공간\n",
    "- 동적타이핑(Dynamic Typing) : 자료형이 실행할 때 자동으로 할당된다.(파이썬의 특징)\n",
    "- 표현식 : V (변수) = C; \n"
   ]
  },
  {
   "cell_type": "code",
   "execution_count": 22,
   "id": "85bb80fc",
   "metadata": {},
   "outputs": [],
   "source": [
    "a = 10;"
   ]
  },
  {
   "cell_type": "code",
   "execution_count": 23,
   "id": "969cb399",
   "metadata": {},
   "outputs": [
    {
     "data": {
      "text/plain": [
       "10"
      ]
     },
     "execution_count": 23,
     "metadata": {},
     "output_type": "execute_result"
    }
   ],
   "source": [
    "a"
   ]
  },
  {
   "cell_type": "code",
   "execution_count": 24,
   "id": "c692e176",
   "metadata": {},
   "outputs": [
    {
     "name": "stdout",
     "output_type": "stream",
     "text": [
      "10\n"
     ]
    }
   ],
   "source": [
    "print(a)"
   ]
  },
  {
   "cell_type": "markdown",
   "id": "2f18cc3b",
   "metadata": {},
   "source": [
    "## 변수 작성 규칙 : 명명법 or 사용자 정의 규칙\n",
    "- 알파벳(A 에서 Z, a 에서 z), 숫자(0 에서 9), 밑줄(_, 언더스코어)\n",
    "- 첫글자는 반드시 영문자의 대, 소문자이거나 밑줄(_)만 올 수 있다.\n",
    "- 예약어는 사용 불가\n",
    "- 글자수에 제한은 없다."
   ]
  },
  {
   "cell_type": "code",
   "execution_count": 25,
   "id": "aac01932",
   "metadata": {},
   "outputs": [
    {
     "name": "stdout",
     "output_type": "stream",
     "text": [
      "10\n"
     ]
    },
    {
     "data": {
      "text/plain": [
       "10"
      ]
     },
     "execution_count": 25,
     "metadata": {},
     "output_type": "execute_result"
    }
   ],
   "source": [
    "a = 10\n",
    "print(a)\n",
    "a"
   ]
  },
  {
   "cell_type": "code",
   "execution_count": 26,
   "id": "a25d7809",
   "metadata": {},
   "outputs": [
    {
     "data": {
      "text/plain": [
       "10"
      ]
     },
     "execution_count": 26,
     "metadata": {},
     "output_type": "execute_result"
    }
   ],
   "source": [
    "# 정수형 변수 : 정수형 상수\n",
    "a = 10\n",
    "#print(a)\n",
    "a"
   ]
  },
  {
   "cell_type": "code",
   "execution_count": 27,
   "id": "aaae0dfe",
   "metadata": {},
   "outputs": [
    {
     "ename": "NameError",
     "evalue": "name 'ᄆ' is not defined",
     "output_type": "error",
     "traceback": [
      "\u001b[1;31m---------------------------------------------------------------------------\u001b[0m",
      "\u001b[1;31mNameError\u001b[0m                                 Traceback (most recent call last)",
      "Input \u001b[1;32mIn [27]\u001b[0m, in \u001b[0;36m<cell line: 2>\u001b[1;34m()\u001b[0m\n\u001b[0;32m      1\u001b[0m a \u001b[38;5;241m=\u001b[39m \u001b[38;5;124m'\u001b[39m\u001b[38;5;124m파이썬\u001b[39m\u001b[38;5;124m'\u001b[39m\n\u001b[1;32m----> 2\u001b[0m \u001b[43mㅁ\u001b[49m\n",
      "\u001b[1;31mNameError\u001b[0m: name 'ᄆ' is not defined"
     ]
    }
   ],
   "source": [
    "a = '파이썬'\n",
    "ㅁ"
   ]
  },
  {
   "cell_type": "code",
   "execution_count": 28,
   "id": "72610452",
   "metadata": {},
   "outputs": [
    {
     "data": {
      "text/plain": [
       "'파이썬'"
      ]
     },
     "execution_count": 28,
     "metadata": {},
     "output_type": "execute_result"
    }
   ],
   "source": [
    "# 문자열 변수 : 문자열 상수\n",
    "a = '파이썬'\n",
    "a"
   ]
  },
  {
   "cell_type": "code",
   "execution_count": 29,
   "id": "37adb132",
   "metadata": {},
   "outputs": [
    {
     "data": {
      "text/plain": [
       "42.125"
      ]
     },
     "execution_count": 29,
     "metadata": {},
     "output_type": "execute_result"
    }
   ],
   "source": [
    "# 실수형 변수 : 실수형 상수\n",
    "a = 42.125\n",
    "a"
   ]
  },
  {
   "cell_type": "code",
   "execution_count": 31,
   "id": "3491ab0a",
   "metadata": {},
   "outputs": [
    {
     "name": "stdout",
     "output_type": "stream",
     "text": [
      "7\n",
      "<class 'int'>\n"
     ]
    }
   ],
   "source": [
    "# type() : 자료형을 확인하는 함수\n",
    "a = 3\n",
    "b = 4\n",
    "print(a + b)\n",
    "print(type(a)) # 변수 a의 자료형 확인"
   ]
  },
  {
   "cell_type": "code",
   "execution_count": null,
   "id": "0bc6d04d",
   "metadata": {},
   "outputs": [],
   "source": [
    "# '=' : 대입연산자, 할당연산자, 치환연산자"
   ]
  },
  {
   "cell_type": "markdown",
   "id": "33bfc244",
   "metadata": {},
   "source": [
    "## 연산자(Operation)\n",
    "- 피연산자(항) 사이에 계산을 수행하기 위해 사용하는 기호들\n",
    "- 단항연산자 : 하나의 피연산자를 가지고 있는 연산\n",
    "- 이항연산자 : 하나 이상의 피연산자를 가지고 있는 연산\n",
    "  1. 최우선 연산자 : 가장 우선순위가 좋은 연산자('.','[ ]','( )')\n",
    "  2. 산술 연산자\n",
    "  3. 관계 연산자(비교 연산자) : ==, !=, >, >=, <, <=\n",
    "  4. 논리 연산자 : and(&&) <= 이항 연산자(항이 2개가 있어야만 쓸 수 있다.),or(||)<= 이항 연산자(항이 2개가 있어야만 쓸 수 있다.), not(!,단항 연산자) not True of not False\n",
    "  5. 비트(bit = binart digit) 연산자 : and(&), or(|), not(~)\n",
    "  6. 대입할당연산자 : 대입연산자(=)와 산술연산자를 중첩해서 사용하는 연산자, 축약\n",
    "  7. 대입연산자"
   ]
  },
  {
   "cell_type": "code",
   "execution_count": 33,
   "id": "28042111",
   "metadata": {},
   "outputs": [
    {
     "data": {
      "text/plain": [
       "2"
      ]
     },
     "execution_count": 33,
     "metadata": {},
     "output_type": "execute_result"
    }
   ],
   "source": [
    "# c언어나 Java에서 사용되는 증감연산자(++, --)를 파이썬은 지원하지 않는다.\n",
    "a = 1\n",
    "#a++ <==> a= a + 1 <== a += 1\n",
    "a += 1\n",
    "a"
   ]
  },
  {
   "cell_type": "code",
   "execution_count": 34,
   "id": "f92e4b37",
   "metadata": {},
   "outputs": [
    {
     "data": {
      "text/plain": [
       "9"
      ]
     },
     "execution_count": 34,
     "metadata": {},
     "output_type": "execute_result"
    }
   ],
   "source": [
    "a = 10\n",
    "# a = a - 1\n",
    "a -= 1\n",
    "a"
   ]
  },
  {
   "cell_type": "code",
   "execution_count": 37,
   "id": "b47e76f8",
   "metadata": {},
   "outputs": [
    {
     "data": {
      "text/plain": [
       "6"
      ]
     },
     "execution_count": 37,
     "metadata": {},
     "output_type": "execute_result"
    }
   ],
   "source": [
    "a = 3\n",
    "#a = a * 2\n",
    "a *= 2\n",
    "a"
   ]
  },
  {
   "cell_type": "markdown",
   "id": "25d83aa6",
   "metadata": {},
   "source": [
    "## 기본 자료형\n",
    "- 숫자형(수치형) : 정수형과 실수형\n",
    "- 문자형 : '' or \"\"\n",
    "- 논리형 : True of False\n"
   ]
  },
  {
   "cell_type": "code",
   "execution_count": 38,
   "id": "452c2312",
   "metadata": {},
   "outputs": [
    {
     "name": "stdout",
     "output_type": "stream",
     "text": [
      "1 2\n",
      "1.5 2.3\n",
      "Python Hello World\n",
      "True False\n"
     ]
    }
   ],
   "source": [
    "# 정수형(Integer Type,int / long)\n",
    "a = 1\n",
    "b = 2\n",
    "print(a, b)\n",
    "\n",
    "# 실수형(Floating-point type, float / double)\n",
    "a = 1.5\n",
    "b = 2.3\n",
    "print(a, b)\n",
    "\n",
    "# 문자(열)형(string type, char/string)\n",
    "a = 'Python'\n",
    "b = \"Hello World\"\n",
    "print(a, b)\n",
    "\n",
    "# 불린형(boolean type)\n",
    "a = True\n",
    "b = False\n",
    "print(a, b)"
   ]
  },
  {
   "cell_type": "code",
   "execution_count": 39,
   "id": "2a4c1727",
   "metadata": {},
   "outputs": [
    {
     "name": "stdout",
     "output_type": "stream",
     "text": [
      "3\n",
      "12\n"
     ]
    }
   ],
   "source": [
    "# '+' : 산술연산의 의미, 연결연산의 의미\n",
    "print(1 + 2)\n",
    "print('1' + '2')"
   ]
  },
  {
   "cell_type": "markdown",
   "id": "b1179cdf",
   "metadata": {},
   "source": [
    "## 형 변환(casting)\n",
    "- 자료형을 다른 자료형으로 변경시켜주는 기능\n",
    "- 자동형변환(묵시적형변환, promotion) : 작은 데이터를 큰 공간에 담을 때, 자료의 손실이 없다.\n",
    "- 강제형변환(명시적형변환, casting) : 큰 데이터를 작은 공간에 담을 때, 자료의 손실이 있다."
   ]
  },
  {
   "cell_type": "code",
   "execution_count": 40,
   "id": "26bad482",
   "metadata": {},
   "outputs": [
    {
     "name": "stdout",
     "output_type": "stream",
     "text": [
      "10\n",
      "10.0\n"
     ]
    }
   ],
   "source": [
    "# 정수형과 실수형 간 변환 : float(), int() 함수 사용\n",
    "a = 10\n",
    "print(a)\n",
    "\n",
    "a = float(10)\n",
    "print(a)"
   ]
  },
  {
   "cell_type": "code",
   "execution_count": 41,
   "id": "488975f9",
   "metadata": {},
   "outputs": [
    {
     "name": "stdout",
     "output_type": "stream",
     "text": [
      "3.3333333333333335\n"
     ]
    }
   ],
   "source": [
    "a = 10\n",
    "b = 3\n",
    "print(a / b)"
   ]
  },
  {
   "cell_type": "code",
   "execution_count": 42,
   "id": "03ad6f2e",
   "metadata": {},
   "outputs": [
    {
     "name": "stdout",
     "output_type": "stream",
     "text": [
      "17\n",
      "10 7\n"
     ]
    }
   ],
   "source": [
    "# 데이터 용량 크기 비교 : 정수형 < 실수형\n",
    "a = int(10.7) # 결과값은 10이므로 0.7이 사라지는 손실이 일어난다.\n",
    "b = int(7.3) # 결과값은 7이므로 0.3이 사라지는 손실이 일어난다.\n",
    "print(a + b)\n",
    "print(a, b)"
   ]
  },
  {
   "cell_type": "code",
   "execution_count": 43,
   "id": "f5eb2320",
   "metadata": {},
   "outputs": [
    {
     "name": "stdout",
     "output_type": "stream",
     "text": [
      "76.3\n",
      "76.3\n"
     ]
    },
    {
     "ename": "TypeError",
     "evalue": "can only concatenate str (not \"float\") to str",
     "output_type": "error",
     "traceback": [
      "\u001b[1;31m---------------------------------------------------------------------------\u001b[0m",
      "\u001b[1;31mTypeError\u001b[0m                                 Traceback (most recent call last)",
      "Input \u001b[1;32mIn [43]\u001b[0m, in \u001b[0;36m<cell line: 6>\u001b[1;34m()\u001b[0m\n\u001b[0;32m      4\u001b[0m \u001b[38;5;28mprint\u001b[39m(a)\n\u001b[0;32m      5\u001b[0m \u001b[38;5;28mprint\u001b[39m(b)\n\u001b[1;32m----> 6\u001b[0m \u001b[38;5;28mprint\u001b[39m(\u001b[43ma\u001b[49m\u001b[43m \u001b[49m\u001b[38;5;241;43m+\u001b[39;49m\u001b[43m \u001b[49m\u001b[43mb\u001b[49m)\n",
      "\u001b[1;31mTypeError\u001b[0m: can only concatenate str (not \"float\") to str"
     ]
    }
   ],
   "source": [
    "# 숫자형과 문자형간의 변환은 주의가 필요\n",
    "a = '76.3'\n",
    "b = float(a)\n",
    "print(a)\n",
    "print(b)\n",
    "print(a + b)"
   ]
  },
  {
   "cell_type": "code",
   "execution_count": 44,
   "id": "d509e983",
   "metadata": {},
   "outputs": [
    {
     "name": "stdout",
     "output_type": "stream",
     "text": [
      "152.6\n"
     ]
    }
   ],
   "source": [
    "print(float(a)+b)"
   ]
  },
  {
   "cell_type": "code",
   "execution_count": 45,
   "id": "037ea7b7",
   "metadata": {},
   "outputs": [
    {
     "name": "stdout",
     "output_type": "stream",
     "text": [
      "<class 'int'>\n",
      "<class 'float'>\n",
      "<class 'str'>\n"
     ]
    }
   ],
   "source": [
    "# 자료형 확인 : type()\n",
    "a = int(7.3)\n",
    "b = float(10)\n",
    "c = str(10.3)\n",
    "print(type(a))\n",
    "print(type(b))\n",
    "print(type(c))"
   ]
  },
  {
   "cell_type": "markdown",
   "id": "99923bef",
   "metadata": {},
   "source": [
    "# 표준 입출력(console input/output)\n",
    "- console : 키보드와 모니터 환경\n",
    "    1. 표준 입력 함수 : input('문자열')\n",
    "    2. 표준 출력 함수 : print('문자열' or 수식 or 서식)"
   ]
  },
  {
   "cell_type": "code",
   "execution_count": 53,
   "id": "0b683053",
   "metadata": {},
   "outputs": [
    {
     "name": "stdout",
     "output_type": "stream",
     "text": [
      "숫자를 입력하세요 :5\n",
      "연산결과 : 15\n"
     ]
    }
   ],
   "source": [
    "# 표준 입력 함수 : input()\n",
    "a = input('숫자를 입력하세요 :')\n",
    "print('연산결과 :', int(a) + 10)"
   ]
  },
  {
   "cell_type": "code",
   "execution_count": null,
   "id": "21e04acd",
   "metadata": {},
   "outputs": [],
   "source": [
    "#input 은 문자열로 입력한다."
   ]
  },
  {
   "cell_type": "code",
   "execution_count": 49,
   "id": "57ea4d73",
   "metadata": {},
   "outputs": [
    {
     "name": "stdout",
     "output_type": "stream",
     "text": [
      "<class 'str'>\n"
     ]
    }
   ],
   "source": [
    "print(type(a))"
   ]
  },
  {
   "cell_type": "code",
   "execution_count": 54,
   "id": "fe8ff6ba",
   "metadata": {},
   "outputs": [
    {
     "name": "stdout",
     "output_type": "stream",
     "text": [
      "Hello Python!!\n"
     ]
    }
   ],
   "source": [
    "# 표준 출력 함수 : print('출력내용')\n",
    "print('Hello Python!!')"
   ]
  },
  {
   "cell_type": "code",
   "execution_count": 55,
   "id": "4d131ce3",
   "metadata": {},
   "outputs": [
    {
     "name": "stdout",
     "output_type": "stream",
     "text": [
      "best python study\n"
     ]
    }
   ],
   "source": [
    "# 여러개의 문자열을 나열할 때 (열거형 연산자: ,)\n",
    "print('best', 'python', 'study')"
   ]
  },
  {
   "cell_type": "code",
   "execution_count": 57,
   "id": "d3412766",
   "metadata": {},
   "outputs": [
    {
     "name": "stdout",
     "output_type": "stream",
     "text": [
      "best python study\n"
     ]
    }
   ],
   "source": [
    "# 연결연산자 : 문자열과 문자열을 연결할 때 사용하는 연산자\n",
    "print('best ' + 'python ' + 'study')\n",
    "# 홑따옴표('') 안에 공백처리"
   ]
  },
  {
   "cell_type": "code",
   "execution_count": 59,
   "id": "3df5f782",
   "metadata": {},
   "outputs": [
    {
     "name": "stdout",
     "output_type": "stream",
     "text": [
      "best~*:*~python~*:*~study\n"
     ]
    }
   ],
   "source": [
    "# 구분자 : 문자열과 문자열 사이에 특정 문자열을 추가\n",
    "print('best', 'python', 'study', sep = '~*:*~')"
   ]
  },
  {
   "cell_type": "code",
   "execution_count": 60,
   "id": "4687e719",
   "metadata": {},
   "outputs": [
    {
     "name": "stdout",
     "output_type": "stream",
     "text": [
      "10\n",
      "x = 10\n"
     ]
    }
   ],
   "source": [
    "# 변수를 이용한 출력\n",
    "x = 10\n",
    "print(x)\n",
    "print(\"x =\", x)"
   ]
  },
  {
   "cell_type": "code",
   "execution_count": 61,
   "id": "88c00224",
   "metadata": {},
   "outputs": [
    {
     "name": "stdout",
     "output_type": "stream",
     "text": [
      "홍길동 33\n"
     ]
    }
   ],
   "source": [
    "name = '홍길동'\n",
    "age = 33\n",
    "print(name, age)"
   ]
  },
  {
   "cell_type": "code",
   "execution_count": 62,
   "id": "7d36ec6e",
   "metadata": {},
   "outputs": [
    {
     "name": "stdout",
     "output_type": "stream",
     "text": [
      "홍길동:33\n"
     ]
    }
   ],
   "source": [
    "print(name, age, sep = ':')"
   ]
  },
  {
   "cell_type": "code",
   "execution_count": 63,
   "id": "4dd8f1cd",
   "metadata": {},
   "outputs": [
    {
     "name": "stdout",
     "output_type": "stream",
     "text": [
      "name =  홍길동  , age 33\n"
     ]
    }
   ],
   "source": [
    "print('name = ',name, ' , age', age)"
   ]
  },
  {
   "cell_type": "code",
   "execution_count": 64,
   "id": "b5914045",
   "metadata": {},
   "outputs": [
    {
     "name": "stdout",
     "output_type": "stream",
     "text": [
      "James is my friend.\n",
      "He is Korean.\n"
     ]
    }
   ],
   "source": [
    "# 개행문자('\\n'):줄 바꿈, 한글(원화표시), 영문(\\)\n",
    "print('James is my friend.\\nHe is Korean.')"
   ]
  },
  {
   "cell_type": "code",
   "execution_count": 65,
   "id": "45e77953",
   "metadata": {},
   "outputs": [
    {
     "name": "stdout",
     "output_type": "stream",
     "text": [
      "James is my friend.\n",
      "\n",
      "He is Korean.\n"
     ]
    }
   ],
   "source": [
    "print('James is my friend.\\n\\nHe is Korean.')"
   ]
  },
  {
   "cell_type": "code",
   "execution_count": 66,
   "id": "ecb8db35",
   "metadata": {},
   "outputs": [
    {
     "name": "stdout",
     "output_type": "stream",
     "text": [
      "Welcome to\n",
      "python World!\n"
     ]
    }
   ],
   "source": [
    "print('Welcome to')\n",
    "print('python World!')"
   ]
  },
  {
   "cell_type": "code",
   "execution_count": 67,
   "id": "37b5d2c2",
   "metadata": {},
   "outputs": [
    {
     "name": "stdout",
     "output_type": "stream",
     "text": [
      "Welcome to python World!\n"
     ]
    }
   ],
   "source": [
    "# 기본형 end = '\\n' (줄 줄임)\n",
    "print('Welcome to ', end = '')\n",
    "print('python World!')"
   ]
  },
  {
   "cell_type": "markdown",
   "id": "17d29867",
   "metadata": {},
   "source": [
    "## 형식 지정 출력\n",
    "- 기본형식 print('%type' % data)\n",
    "- 서식(format) : 데이터의 타입이나 자릿수를 지정할 때 사용하는 기호\n",
    "- %s (=> str) 문자열, %d 정수형 , %f 실수형"
   ]
  },
  {
   "cell_type": "code",
   "execution_count": 68,
   "id": "c611819e",
   "metadata": {},
   "outputs": [
    {
     "name": "stdout",
     "output_type": "stream",
     "text": [
      "홍길동\n",
      "name =  홍길동\n",
      "당신의 이름은  홍길동 입니다.\n",
      "홍길동는 나의 친구 입니다.\n"
     ]
    }
   ],
   "source": [
    "name = '홍길동'\n",
    "print(name)\n",
    "print('name = ',name)\n",
    "print('당신의 이름은 ', name, '입니다.')\n",
    "print('%s는 나의 친구 입니다.' % name)"
   ]
  },
  {
   "cell_type": "code",
   "execution_count": null,
   "id": "7a26510c",
   "metadata": {},
   "outputs": [],
   "source": []
  }
 ],
 "metadata": {
  "kernelspec": {
   "display_name": "Python 3 (ipykernel)",
   "language": "python",
   "name": "python3"
  },
  "language_info": {
   "codemirror_mode": {
    "name": "ipython",
    "version": 3
   },
   "file_extension": ".py",
   "mimetype": "text/x-python",
   "name": "python",
   "nbconvert_exporter": "python",
   "pygments_lexer": "ipython3",
   "version": "3.9.12"
  },
  "toc": {
   "base_numbering": 1,
   "nav_menu": {},
   "number_sections": true,
   "sideBar": true,
   "skip_h1_title": false,
   "title_cell": "Table of Contents",
   "title_sidebar": "Contents",
   "toc_cell": false,
   "toc_position": {},
   "toc_section_display": true,
   "toc_window_display": true
  }
 },
 "nbformat": 4,
 "nbformat_minor": 5
}

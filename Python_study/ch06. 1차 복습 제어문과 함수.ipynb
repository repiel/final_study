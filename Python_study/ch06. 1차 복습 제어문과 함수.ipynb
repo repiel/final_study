{
 "cells": [
  {
   "cell_type": "markdown",
   "id": "c2e46883",
   "metadata": {},
   "source": [
    "# Python Program\n",
    "#### 변수 - 자료구조(리스트, 튜플, 집합, 사전) - 함수\n",
    "#### 자료 - 기본자료형(논리형, 정수형, 실수형, 문자형)\n",
    "#### 제어문 - 조건문, 반복문"
   ]
  },
  {
   "cell_type": "markdown",
   "id": "b9d83f8c",
   "metadata": {},
   "source": [
    "### 문자열 자료형"
   ]
  },
  {
   "cell_type": "code",
   "execution_count": null,
   "id": "0cdf206d",
   "metadata": {},
   "outputs": [],
   "source": [
    "# 문자열(string) 자료형 : 하나의 문자 또는 그 이상의 문자를 묶어놓은 자료형\n",
    "# 큰 따옴표(\"\") 또는 작은 따옴표('')\n",
    "# 여러 줄의 문자열을 처리할 때(\"\"\" ~ \"\"\", ''' ~ ''')"
   ]
  },
  {
   "cell_type": "code",
   "execution_count": 1,
   "id": "d800120b",
   "metadata": {},
   "outputs": [
    {
     "data": {
      "text/plain": [
       "'Hello World'"
      ]
     },
     "execution_count": 1,
     "metadata": {},
     "output_type": "execute_result"
    }
   ],
   "source": [
    "'Hello World'"
   ]
  },
  {
   "cell_type": "code",
   "execution_count": 2,
   "id": "1730a0b3",
   "metadata": {},
   "outputs": [
    {
     "data": {
      "text/plain": [
       "9"
      ]
     },
     "execution_count": 2,
     "metadata": {},
     "output_type": "execute_result"
    }
   ],
   "source": [
    "4 + 5"
   ]
  },
  {
   "cell_type": "code",
   "execution_count": 3,
   "id": "5eb7a63c",
   "metadata": {},
   "outputs": [
    {
     "data": {
      "text/plain": [
       "'python is fun'"
      ]
     },
     "execution_count": 3,
     "metadata": {},
     "output_type": "execute_result"
    }
   ],
   "source": [
    "'python is fun'"
   ]
  },
  {
   "cell_type": "code",
   "execution_count": 4,
   "id": "e81bba8c",
   "metadata": {},
   "outputs": [
    {
     "name": "stdout",
     "output_type": "stream",
     "text": [
      "Life is short, \n",
      "You need Python\n"
     ]
    }
   ],
   "source": [
    "print(\"\"\"Life is short, \n",
    "You need Python\"\"\")"
   ]
  },
  {
   "cell_type": "code",
   "execution_count": 5,
   "id": "d259270c",
   "metadata": {},
   "outputs": [
    {
     "name": "stdout",
     "output_type": "stream",
     "text": [
      "Life is short, You need 'Python'\n"
     ]
    }
   ],
   "source": [
    "print(\"Life is short, You need 'Python'\")"
   ]
  },
  {
   "cell_type": "code",
   "execution_count": 6,
   "id": "e07cdeed",
   "metadata": {},
   "outputs": [
    {
     "name": "stdout",
     "output_type": "stream",
     "text": [
      "Life is short, You need \"Python\"\n"
     ]
    }
   ],
   "source": [
    "print(\"Life is short, You need \\\"Python\\\"\")"
   ]
  },
  {
   "cell_type": "markdown",
   "id": "6b1327ba",
   "metadata": {},
   "source": [
    "#####  이스케이프 문자\n",
    "- \\\\, (원화 표시) 동일\n",
    "- \\n(new line) : 줄바꿈(개행)\n",
    "- \\t(tap key) : 일정 간격을 띄워라"
   ]
  },
  {
   "cell_type": "code",
   "execution_count": 7,
   "id": "b750397b",
   "metadata": {},
   "outputs": [
    {
     "name": "stdout",
     "output_type": "stream",
     "text": [
      "hellopython\n"
     ]
    }
   ],
   "source": [
    "# 연산 : +, *\n",
    "a = 'hello'\n",
    "b = 'python'\n",
    "print(a + b)"
   ]
  },
  {
   "cell_type": "code",
   "execution_count": 8,
   "id": "0c2706da",
   "metadata": {},
   "outputs": [
    {
     "name": "stdout",
     "output_type": "stream",
     "text": [
      "pythonpythonpythonpythonpython\n"
     ]
    }
   ],
   "source": [
    "# 문자열 * 횟수(정수형만 가능)\n",
    "print(b * 5)"
   ]
  },
  {
   "cell_type": "code",
   "execution_count": 9,
   "id": "230386b2",
   "metadata": {},
   "outputs": [
    {
     "name": "stdout",
     "output_type": "stream",
     "text": [
      "======================================================================\n",
      "Life is short, You need Python\n",
      "======================================================================\n"
     ]
    }
   ],
   "source": [
    "print('=' * 70)\n",
    "print('Life is short, You need Python')\n",
    "print('=' * 70)\n"
   ]
  },
  {
   "cell_type": "code",
   "execution_count": 10,
   "id": "20abaeae",
   "metadata": {},
   "outputs": [
    {
     "name": "stdout",
     "output_type": "stream",
     "text": [
      "30\n"
     ]
    }
   ],
   "source": [
    "# 문자열 길이 : len(), length\n",
    "p = 'Life is short, You need Python'\n",
    "print(len(p))"
   ]
  },
  {
   "cell_type": "code",
   "execution_count": 11,
   "id": "d1e27001",
   "metadata": {},
   "outputs": [
    {
     "name": "stdout",
     "output_type": "stream",
     "text": [
      "e\n",
      "n\n"
     ]
    }
   ],
   "source": [
    "# 인덱싱과 슬라이싱\n",
    "# [index], [start:end], [start:end:step]\n",
    "a = 'Life is too short, You need Python'\n",
    "print(a[3]) # 네번째 문자인 e가 오게된다.\n",
    "print(a[-1]) # 리버스 인덱스, 마지막 문자 n이 오게된다.\n"
   ]
  },
  {
   "cell_type": "code",
   "execution_count": 12,
   "id": "f9402afd",
   "metadata": {},
   "outputs": [
    {
     "name": "stdout",
     "output_type": "stream",
     "text": [
      "Life\n",
      "Life\n"
     ]
    }
   ],
   "source": [
    "print(a[0:4])\n",
    "print(a[:4]) # 시작 인덱스 생략시 처음부터"
   ]
  },
  {
   "cell_type": "code",
   "execution_count": 18,
   "id": "ada1ebbf",
   "metadata": {},
   "outputs": [
    {
     "name": "stdout",
     "output_type": "stream",
     "text": [
      "Life is too short, You need Python\n",
      "Life is too short, You need Python\n"
     ]
    }
   ],
   "source": [
    "print(a[0:]) # 마지막 인덱스 생략시 끝까지\n",
    "print(a[:])"
   ]
  },
  {
   "cell_type": "code",
   "execution_count": 19,
   "id": "55306cf5",
   "metadata": {},
   "outputs": [
    {
     "name": "stdout",
     "output_type": "stream",
     "text": [
      "1922\n",
      "<class 'str'>\n",
      "남자\n"
     ]
    }
   ],
   "source": [
    "jumin = '220902-1234567'\n",
    "# 출생년도, 월, 일\n",
    "print('19'+ jumin[0:2])\n",
    "# 성별 : 1800 - 0과 9, 1900 - 1과 2, 2000 - 3과 4\n",
    "print(type(jumin[7])) # str \n",
    "if int(jumin[7]) % 2 == 0:\n",
    "    print('여자')\n",
    "else:\n",
    "    print('남자')\n",
    "\n",
    "# 출생지역"
   ]
  },
  {
   "cell_type": "code",
   "execution_count": 20,
   "id": "2d3748ee",
   "metadata": {},
   "outputs": [],
   "source": [
    "# 파이썬의 메모리 관리 방식\n",
    "# -5 ~ 256까지는 이미 메모리에 저장되어서 시작된다."
   ]
  },
  {
   "cell_type": "code",
   "execution_count": 21,
   "id": "6ea04fe8",
   "metadata": {},
   "outputs": [
    {
     "name": "stdout",
     "output_type": "stream",
     "text": [
      "hello\n",
      "None\n"
     ]
    }
   ],
   "source": [
    "a = print('hello')\n",
    "print(a)"
   ]
  },
  {
   "cell_type": "markdown",
   "id": "3d8150fe",
   "metadata": {},
   "source": [
    "### 리스트(List) 자료형"
   ]
  },
  {
   "cell_type": "code",
   "execution_count": 22,
   "id": "62d880cd",
   "metadata": {},
   "outputs": [
    {
     "data": {
      "text/plain": [
       "[1, 'a', 3.14, 'korea', True, 30]"
      ]
     },
     "execution_count": 22,
     "metadata": {},
     "output_type": "execute_result"
    }
   ],
   "source": [
    "a = [1, 'a', 3.14, 'korea', True, 10 + 20]\n",
    "a"
   ]
  },
  {
   "cell_type": "code",
   "execution_count": 23,
   "id": "53cb2175",
   "metadata": {},
   "outputs": [
    {
     "name": "stdout",
     "output_type": "stream",
     "text": [
      "<class 'list'>\n",
      "<class 'int'>\n"
     ]
    }
   ],
   "source": [
    "print(type(a))\n",
    "print(type(a[0]))"
   ]
  },
  {
   "cell_type": "code",
   "execution_count": 24,
   "id": "490d99c6",
   "metadata": {},
   "outputs": [
    {
     "name": "stdout",
     "output_type": "stream",
     "text": [
      "<class 'list'>\n",
      "<class 'list'>\n"
     ]
    }
   ],
   "source": [
    "b = []\n",
    "c = list()  # tuple()\n",
    "print(type(b))\n",
    "print(type(c))"
   ]
  },
  {
   "cell_type": "code",
   "execution_count": 25,
   "id": "ffc43a5b",
   "metadata": {},
   "outputs": [
    {
     "data": {
      "text/plain": [
       "[1, 2, 3, ['a', 'b', 'c', 'd'], 5, 6, (7, 8)]"
      ]
     },
     "execution_count": 25,
     "metadata": {},
     "output_type": "execute_result"
    }
   ],
   "source": [
    "x = [1, 2, 3, ['a','b','c','d'], 5, 6, (7, 8)] \n",
    "x"
   ]
  },
  {
   "cell_type": "code",
   "execution_count": 26,
   "id": "ad2e4e12",
   "metadata": {},
   "outputs": [
    {
     "name": "stdout",
     "output_type": "stream",
     "text": [
      "(7, 8)\n"
     ]
    }
   ],
   "source": [
    "print(x[-1])"
   ]
  },
  {
   "cell_type": "code",
   "execution_count": 27,
   "id": "d530e89b",
   "metadata": {},
   "outputs": [
    {
     "name": "stdout",
     "output_type": "stream",
     "text": [
      "['a', 'b', 'c', 'd']\n"
     ]
    }
   ],
   "source": [
    "print(x[3])"
   ]
  },
  {
   "cell_type": "code",
   "execution_count": 28,
   "id": "76488ca0",
   "metadata": {},
   "outputs": [
    {
     "name": "stdout",
     "output_type": "stream",
     "text": [
      "b\n"
     ]
    }
   ],
   "source": [
    "print(x[3][1]) # [행, 열]"
   ]
  },
  {
   "cell_type": "code",
   "execution_count": 29,
   "id": "fa82c773",
   "metadata": {},
   "outputs": [
    {
     "name": "stdout",
     "output_type": "stream",
     "text": [
      "['b', 'c']\n"
     ]
    }
   ],
   "source": [
    "print(x[3][1:3])"
   ]
  },
  {
   "cell_type": "code",
   "execution_count": 30,
   "id": "1cdebacf",
   "metadata": {},
   "outputs": [
    {
     "name": "stdout",
     "output_type": "stream",
     "text": [
      "b c\n"
     ]
    }
   ],
   "source": [
    "print(x[3][1], x[3][2])"
   ]
  },
  {
   "cell_type": "code",
   "execution_count": 31,
   "id": "720043dc",
   "metadata": {},
   "outputs": [
    {
     "data": {
      "text/plain": [
       "[1, 2, 3, 4, 5, 6]"
      ]
     },
     "execution_count": 31,
     "metadata": {},
     "output_type": "execute_result"
    }
   ],
   "source": [
    "a = [1, 2, 3]\n",
    "b = [4, 5, 6]\n",
    "a + b"
   ]
  },
  {
   "cell_type": "code",
   "execution_count": 32,
   "id": "f0bd3b69",
   "metadata": {},
   "outputs": [
    {
     "data": {
      "text/plain": [
       "[5, 7, 9]"
      ]
     },
     "execution_count": 32,
     "metadata": {},
     "output_type": "execute_result"
    }
   ],
   "source": [
    "[a[0] + b[0], a[1] + b [1], a[2] + b[2]]"
   ]
  },
  {
   "cell_type": "code",
   "execution_count": 33,
   "id": "1fe01b3c",
   "metadata": {},
   "outputs": [
    {
     "name": "stdout",
     "output_type": "stream",
     "text": [
      "[5, 7, 9]\n"
     ]
    }
   ],
   "source": [
    "x = []\n",
    "for i in range(3):  #0, 1, 2 \n",
    "    imsi = a[i] + b[i]\n",
    "    x.append(imsi)\n",
    "print(x)"
   ]
  },
  {
   "cell_type": "code",
   "execution_count": 34,
   "id": "fb4d7bcb",
   "metadata": {},
   "outputs": [
    {
     "ename": "TypeError",
     "evalue": "'tuple' object does not support item assignment",
     "output_type": "error",
     "traceback": [
      "\u001b[1;31m---------------------------------------------------------------------------\u001b[0m",
      "\u001b[1;31mTypeError\u001b[0m                                 Traceback (most recent call last)",
      "Input \u001b[1;32mIn [34]\u001b[0m, in \u001b[0;36m<cell line: 2>\u001b[1;34m()\u001b[0m\n\u001b[0;32m      1\u001b[0m g \u001b[38;5;241m=\u001b[39m (\u001b[38;5;241m1\u001b[39m, \u001b[38;5;241m2\u001b[39m, [\u001b[38;5;241m4\u001b[39m, \u001b[38;5;241m5\u001b[39m, \u001b[38;5;241m6\u001b[39m, \u001b[38;5;241m7\u001b[39m], \u001b[38;5;241m8\u001b[39m)\n\u001b[1;32m----> 2\u001b[0m g[\u001b[38;5;241m2\u001b[39m]\u001b[38;5;241m=\u001b[39m[\u001b[38;5;241m1\u001b[39m,\u001b[38;5;241m2\u001b[39m,\u001b[38;5;241m3\u001b[39m,\u001b[38;5;241m4\u001b[39m]\n\u001b[0;32m      3\u001b[0m g\n",
      "\u001b[1;31mTypeError\u001b[0m: 'tuple' object does not support item assignment"
     ]
    }
   ],
   "source": [
    "g = (1, 2, [4, 5, 6, 7], 8)\n",
    "g[2]=[1,2,3,4]\n",
    "g"
   ]
  },
  {
   "cell_type": "code",
   "execution_count": 35,
   "id": "4bea657c",
   "metadata": {},
   "outputs": [
    {
     "data": {
      "text/plain": [
       "[1, 2, [1, 2, 3, 4], 8]"
      ]
     },
     "execution_count": 35,
     "metadata": {},
     "output_type": "execute_result"
    }
   ],
   "source": [
    "g = [1, 2, [4, 5, 6, 7], 8]\n",
    "g[2]=[1,2,3,4]\n",
    "g"
   ]
  },
  {
   "cell_type": "code",
   "execution_count": 36,
   "id": "7c6f304e",
   "metadata": {},
   "outputs": [],
   "source": [
    "# 리스트 관련 함수 : 리스트 객체명.함수()\n",
    "## 리스트에 마지막 요소를 추가 append()\n",
    "## 리스트에 원하는 위치에 요소를 추가 insert(index, data)\n",
    "## 리스트 정렬 sort() - 오름차순, sort(reverse = True) - 내림차순\n",
    "## 리스트 뒤집기 reverse()\n",
    "## 리스트 해당 요소의 인덱스 index(data)\n",
    "## 리스트 요소 삭제 : del 리스트명[인덱스], remove(data), clear()\n",
    "## 리스트의 마지막 요소를 추출 : 리스트명.pop()\n",
    "## 리스트의 요소의 개수 : 리스트명.count(data)\n",
    "## 리스트의 확장 : 리스트.extend(리스트 자료형만 올 수 있다.)"
   ]
  },
  {
   "cell_type": "markdown",
   "id": "646466a8",
   "metadata": {},
   "source": [
    "### 튜플(Tuple) 자료형 "
   ]
  },
  {
   "cell_type": "code",
   "execution_count": 37,
   "id": "a86d0336",
   "metadata": {},
   "outputs": [
    {
     "name": "stdout",
     "output_type": "stream",
     "text": [
      "()\n",
      "(1,)\n",
      "(1, 2, 3)\n"
     ]
    }
   ],
   "source": [
    "t1 = ()\n",
    "t2 = (1,)\n",
    "t3 = (1, 2, 3)\n",
    "print(t1)\n",
    "print(t2)\n",
    "print(t3)"
   ]
  },
  {
   "cell_type": "code",
   "execution_count": 38,
   "id": "31539447",
   "metadata": {},
   "outputs": [
    {
     "name": "stdout",
     "output_type": "stream",
     "text": [
      "[]\n",
      "[1]\n",
      "[1, 2, 3]\n"
     ]
    }
   ],
   "source": [
    "l1 = []\n",
    "l2 = [1]\n",
    "l3 = [1, 2, 3]\n",
    "print(l1)\n",
    "print(l2)\n",
    "print(l3)"
   ]
  },
  {
   "cell_type": "code",
   "execution_count": 39,
   "id": "18d28f14",
   "metadata": {},
   "outputs": [
    {
     "name": "stdout",
     "output_type": "stream",
     "text": [
      "(1, 2, 3, ['a', 'b'], ('aaa', 'bbb'))\n"
     ]
    }
   ],
   "source": [
    "t4 = (1, 2, 3, ['a','b'], ('aaa','bbb'))\n",
    "print(t4)"
   ]
  },
  {
   "cell_type": "code",
   "execution_count": 40,
   "id": "5071df28",
   "metadata": {},
   "outputs": [
    {
     "name": "stdout",
     "output_type": "stream",
     "text": [
      "['a', 'b']\n",
      "<class 'list'>\n"
     ]
    }
   ],
   "source": [
    "print(t4[3])\n",
    "print(type(t4[3]))"
   ]
  },
  {
   "cell_type": "code",
   "execution_count": 41,
   "id": "492bb1d9",
   "metadata": {},
   "outputs": [
    {
     "ename": "TypeError",
     "evalue": "'tuple' object does not support item assignment",
     "output_type": "error",
     "traceback": [
      "\u001b[1;31m---------------------------------------------------------------------------\u001b[0m",
      "\u001b[1;31mTypeError\u001b[0m                                 Traceback (most recent call last)",
      "Input \u001b[1;32mIn [41]\u001b[0m, in \u001b[0;36m<cell line: 1>\u001b[1;34m()\u001b[0m\n\u001b[1;32m----> 1\u001b[0m t4[\u001b[38;5;241m3\u001b[39m] \u001b[38;5;241m=\u001b[39m \u001b[38;5;241m4\u001b[39m\n\u001b[0;32m      2\u001b[0m \u001b[38;5;28mprint\u001b[39m(t4)\n",
      "\u001b[1;31mTypeError\u001b[0m: 'tuple' object does not support item assignment"
     ]
    }
   ],
   "source": [
    "t4[3] = 4\n",
    "print(t4)"
   ]
  },
  {
   "cell_type": "code",
   "execution_count": 42,
   "id": "9398674d",
   "metadata": {},
   "outputs": [
    {
     "name": "stdout",
     "output_type": "stream",
     "text": [
      "(1, 2, 3, ['k', 'b'], ('aaa', 'bbb'))\n"
     ]
    }
   ],
   "source": [
    "t4[3][0] = 'k'\n",
    "print(t4)"
   ]
  },
  {
   "cell_type": "code",
   "execution_count": 43,
   "id": "6c1a6f49",
   "metadata": {},
   "outputs": [
    {
     "name": "stdout",
     "output_type": "stream",
     "text": [
      "(1, 2)\n"
     ]
    }
   ],
   "source": [
    "print(t4[:2])"
   ]
  },
  {
   "cell_type": "code",
   "execution_count": 44,
   "id": "b1f754e8",
   "metadata": {},
   "outputs": [
    {
     "ename": "AttributeError",
     "evalue": "'tuple' object has no attribute 'pop'",
     "output_type": "error",
     "traceback": [
      "\u001b[1;31m---------------------------------------------------------------------------\u001b[0m",
      "\u001b[1;31mAttributeError\u001b[0m                            Traceback (most recent call last)",
      "Input \u001b[1;32mIn [44]\u001b[0m, in \u001b[0;36m<cell line: 1>\u001b[1;34m()\u001b[0m\n\u001b[1;32m----> 1\u001b[0m \u001b[38;5;28mprint\u001b[39m(\u001b[43mt4\u001b[49m\u001b[38;5;241;43m.\u001b[39;49m\u001b[43mpop\u001b[49m())\n",
      "\u001b[1;31mAttributeError\u001b[0m: 'tuple' object has no attribute 'pop'"
     ]
    }
   ],
   "source": [
    "print(t4.pop()) "
   ]
  },
  {
   "cell_type": "code",
   "execution_count": 45,
   "id": "3a23f970",
   "metadata": {},
   "outputs": [
    {
     "name": "stdout",
     "output_type": "stream",
     "text": [
      "(1, 2, 'a', 'b', 3, 4)\n",
      "t1 =  (1, 2, 'a', 'b')\n",
      "t2 =  (3, 4)\n"
     ]
    }
   ],
   "source": [
    "t1 = (1, 2, 'a', 'b')\n",
    "t2 = (3, 4)\n",
    "print(t1 + t2)\n",
    "print('t1 = ', t1)\n",
    "print('t2 = ', t2)"
   ]
  },
  {
   "cell_type": "code",
   "execution_count": 46,
   "id": "0db0958d",
   "metadata": {},
   "outputs": [
    {
     "name": "stdout",
     "output_type": "stream",
     "text": [
      "t1 =  (1, 2, 'a', 'b', 3, 4)\n"
     ]
    }
   ],
   "source": [
    "t1 = t1 + t2\n",
    "print('t1 = ', t1)"
   ]
  },
  {
   "cell_type": "code",
   "execution_count": 47,
   "id": "93b59791",
   "metadata": {},
   "outputs": [
    {
     "name": "stdout",
     "output_type": "stream",
     "text": [
      "(3, 4, 3, 4)\n"
     ]
    }
   ],
   "source": [
    "print(t2 * 2)"
   ]
  },
  {
   "cell_type": "code",
   "execution_count": 48,
   "id": "fde60cbe",
   "metadata": {},
   "outputs": [
    {
     "name": "stdout",
     "output_type": "stream",
     "text": [
      "6\n"
     ]
    }
   ],
   "source": [
    "print(len(t1))"
   ]
  },
  {
   "cell_type": "markdown",
   "id": "0d3cd17c",
   "metadata": {},
   "source": [
    "### 사전"
   ]
  },
  {
   "cell_type": "code",
   "execution_count": 49,
   "id": "a645baef",
   "metadata": {},
   "outputs": [],
   "source": [
    "dic = {'a':1}\n",
    "s = {1, 2, 3, 1, 2}\n",
    "l = []\n",
    "t = ()"
   ]
  },
  {
   "cell_type": "code",
   "execution_count": 50,
   "id": "48383ae4",
   "metadata": {},
   "outputs": [
    {
     "name": "stdout",
     "output_type": "stream",
     "text": [
      "{'name': 'aaa', 'phone': '123-456-7890'}\n",
      "<class 'dict'>\n"
     ]
    }
   ],
   "source": [
    "dic = {'name':'aaa', 'phone':'123-456-7890'}\n",
    "print(dic)\n",
    "print(type(dic))"
   ]
  },
  {
   "cell_type": "code",
   "execution_count": 51,
   "id": "2c06e454",
   "metadata": {},
   "outputs": [
    {
     "name": "stdout",
     "output_type": "stream",
     "text": [
      "aaa\n"
     ]
    }
   ],
   "source": [
    "# 사전[key]\n",
    "print(dic['name'])"
   ]
  },
  {
   "cell_type": "code",
   "execution_count": 52,
   "id": "603764a0",
   "metadata": {},
   "outputs": [
    {
     "name": "stdout",
     "output_type": "stream",
     "text": [
      "{'name': 'aaa', 'phone': '123-456-7890', 'age': 33}\n"
     ]
    }
   ],
   "source": [
    "dic['age'] = 33 # 사전에 새로운 아이템을 추가하는 형식이다.\n",
    "print(dic)"
   ]
  },
  {
   "cell_type": "code",
   "execution_count": 53,
   "id": "c9862b6a",
   "metadata": {},
   "outputs": [
    {
     "ename": "KeyError",
     "evalue": "0",
     "output_type": "error",
     "traceback": [
      "\u001b[1;31m---------------------------------------------------------------------------\u001b[0m",
      "\u001b[1;31mKeyError\u001b[0m                                  Traceback (most recent call last)",
      "Input \u001b[1;32mIn [53]\u001b[0m, in \u001b[0;36m<cell line: 1>\u001b[1;34m()\u001b[0m\n\u001b[1;32m----> 1\u001b[0m \u001b[43mdic\u001b[49m\u001b[43m[\u001b[49m\u001b[38;5;241;43m0\u001b[39;49m\u001b[43m]\u001b[49m\n",
      "\u001b[1;31mKeyError\u001b[0m: 0"
     ]
    }
   ],
   "source": [
    "dic[0] # 인덱스의 번호로 불러올 수 없다"
   ]
  },
  {
   "cell_type": "code",
   "execution_count": 54,
   "id": "fe2b19df",
   "metadata": {},
   "outputs": [
    {
     "name": "stdout",
     "output_type": "stream",
     "text": [
      "{'name': 'aaa', 'phone': '123-456-7890', 'age': 33, 3: [1, 2, 3]}\n"
     ]
    }
   ],
   "source": [
    "dic[3] = [1, 2, 3]\n",
    "print(dic)"
   ]
  },
  {
   "cell_type": "code",
   "execution_count": 55,
   "id": "133dc9b4",
   "metadata": {},
   "outputs": [
    {
     "name": "stdout",
     "output_type": "stream",
     "text": [
      "{'name': 'aaa', 'phone': '123-456-7890', 'age': 33}\n"
     ]
    }
   ],
   "source": [
    "del dic[3]\n",
    "print(dic)"
   ]
  },
  {
   "cell_type": "code",
   "execution_count": 56,
   "id": "c2324b42",
   "metadata": {},
   "outputs": [
    {
     "name": "stdout",
     "output_type": "stream",
     "text": [
      "{'id': [111, 222, 333, 444, 555], 'name': ['aaa', 'bbb', 'ccc', 'ddd', 'eee'], 'kor': [88, 92, 74, 100, 93], 'eng': [90, 87, 74, 88, 93], 'math': [80, 70, 90, 50, 60]}\n"
     ]
    }
   ],
   "source": [
    "student = {'id':[111, 222, 333, 444, 555],\n",
    "           'name':['aaa', 'bbb', 'ccc', 'ddd', 'eee'],\n",
    "           'kor':[88, 92, 74, 100, 93],\n",
    "           'eng':[90, 87, 74, 88, 93],\n",
    "           'math':[80, 70, 90, 50, 60]}\n",
    "print(student)"
   ]
  },
  {
   "cell_type": "code",
   "execution_count": 57,
   "id": "f154a918",
   "metadata": {},
   "outputs": [
    {
     "name": "stdout",
     "output_type": "stream",
     "text": [
      "[111, 222, 333, 444, 555]\n"
     ]
    }
   ],
   "source": [
    "print(student['id'])"
   ]
  },
  {
   "cell_type": "code",
   "execution_count": 58,
   "id": "e5bb3b7f",
   "metadata": {},
   "outputs": [
    {
     "name": "stdout",
     "output_type": "stream",
     "text": [
      "dict_keys(['id', 'name', 'kor', 'eng', 'math'])\n"
     ]
    }
   ],
   "source": [
    "print(student.keys())"
   ]
  },
  {
   "cell_type": "code",
   "execution_count": 59,
   "id": "a2093e72",
   "metadata": {},
   "outputs": [
    {
     "name": "stdout",
     "output_type": "stream",
     "text": [
      "dict_values([[111, 222, 333, 444, 555], ['aaa', 'bbb', 'ccc', 'ddd', 'eee'], [88, 92, 74, 100, 93], [90, 87, 74, 88, 93], [80, 70, 90, 50, 60]])\n"
     ]
    }
   ],
   "source": [
    "print(student.values())"
   ]
  },
  {
   "cell_type": "code",
   "execution_count": 60,
   "id": "c437a5f1",
   "metadata": {},
   "outputs": [
    {
     "data": {
      "text/plain": [
       "[[1, 2, 3], [4, 5, 6]]"
      ]
     },
     "execution_count": 60,
     "metadata": {},
     "output_type": "execute_result"
    }
   ],
   "source": [
    "a = [[1, 2, 3], [4, 5, 6]]\n",
    "a"
   ]
  },
  {
   "cell_type": "code",
   "execution_count": 61,
   "id": "d17d1345",
   "metadata": {},
   "outputs": [
    {
     "name": "stdout",
     "output_type": "stream",
     "text": [
      "dict_items([('id', [111, 222, 333, 444, 555]), ('name', ['aaa', 'bbb', 'ccc', 'ddd', 'eee']), ('kor', [88, 92, 74, 100, 93]), ('eng', [90, 87, 74, 88, 93]), ('math', [80, 70, 90, 50, 60])])\n"
     ]
    }
   ],
   "source": [
    "print(student.items())"
   ]
  },
  {
   "cell_type": "code",
   "execution_count": 62,
   "id": "cff72f01",
   "metadata": {},
   "outputs": [
    {
     "name": "stdout",
     "output_type": "stream",
     "text": [
      "id\n",
      "name\n",
      "kor\n",
      "eng\n",
      "math\n"
     ]
    }
   ],
   "source": [
    "# for 개별변수 in 집합변수\n",
    "for key in student.keys():\n",
    "    print(key)"
   ]
  },
  {
   "cell_type": "code",
   "execution_count": 63,
   "id": "76ff364d",
   "metadata": {},
   "outputs": [
    {
     "name": "stdout",
     "output_type": "stream",
     "text": [
      "{}\n"
     ]
    }
   ],
   "source": [
    "student.clear()\n",
    "print(student)"
   ]
  },
  {
   "cell_type": "code",
   "execution_count": 64,
   "id": "5b692982",
   "metadata": {},
   "outputs": [
    {
     "name": "stdout",
     "output_type": "stream",
     "text": [
      "{'name': 'aaa', 'phone': '123-456-7890', 'age': 33}\n"
     ]
    }
   ],
   "source": [
    "dic = {'name':'aaa', 'phone':'123-456-7890'}\n",
    "dic['age'] = 33\n",
    "print(dic)"
   ]
  },
  {
   "cell_type": "code",
   "execution_count": 65,
   "id": "2139034f",
   "metadata": {},
   "outputs": [
    {
     "name": "stdout",
     "output_type": "stream",
     "text": [
      "aaa\n"
     ]
    }
   ],
   "source": [
    "print(dic['name'])"
   ]
  },
  {
   "cell_type": "code",
   "execution_count": 66,
   "id": "2d1c99e3",
   "metadata": {},
   "outputs": [
    {
     "name": "stdout",
     "output_type": "stream",
     "text": [
      "aaa\n"
     ]
    }
   ],
   "source": [
    "print(dic.get('name')) # get을 이용하여 값을 가져오기도 한다."
   ]
  },
  {
   "cell_type": "markdown",
   "id": "9b852f53",
   "metadata": {},
   "source": [
    "### 집합(set)"
   ]
  },
  {
   "cell_type": "code",
   "execution_count": 67,
   "id": "668e207b",
   "metadata": {},
   "outputs": [
    {
     "name": "stdout",
     "output_type": "stream",
     "text": [
      "{1, 2, 3, 4, 5}\n"
     ]
    }
   ],
   "source": [
    "# 중복이 불가능, 순서가 없다.\n",
    "s = set([1, 2, 3, 4, 5])\n",
    "print(s)"
   ]
  },
  {
   "cell_type": "code",
   "execution_count": 68,
   "id": "91b84e98",
   "metadata": {},
   "outputs": [
    {
     "name": "stdout",
     "output_type": "stream",
     "text": [
      "{'H', 'o', 'l', 'e'}\n"
     ]
    }
   ],
   "source": [
    "s2 = set('Hello')\n",
    "print(s2)"
   ]
  },
  {
   "cell_type": "code",
   "execution_count": 69,
   "id": "fc196ecb",
   "metadata": {},
   "outputs": [
    {
     "name": "stdout",
     "output_type": "stream",
     "text": [
      "[1, 2, 3, 4, 5]\n"
     ]
    }
   ],
   "source": [
    "a = list(s)\n",
    "print(a)"
   ]
  },
  {
   "cell_type": "code",
   "execution_count": 70,
   "id": "42a940be",
   "metadata": {},
   "outputs": [
    {
     "name": "stdout",
     "output_type": "stream",
     "text": [
      "(1, 2, 3, 4, 5)\n"
     ]
    }
   ],
   "source": [
    "b = tuple(s)\n",
    "print(b)"
   ]
  },
  {
   "cell_type": "code",
   "execution_count": 71,
   "id": "ce958a63",
   "metadata": {},
   "outputs": [
    {
     "name": "stdout",
     "output_type": "stream",
     "text": [
      "{1, 2, 3, 4, 5}\n"
     ]
    }
   ],
   "source": [
    "# 집합과 관련된 함수\n",
    "## add : 1개의 요소 추가\n",
    "print(s)"
   ]
  },
  {
   "cell_type": "code",
   "execution_count": 72,
   "id": "e8286823",
   "metadata": {},
   "outputs": [
    {
     "name": "stdout",
     "output_type": "stream",
     "text": [
      "{1, 2, 3, 4, 5, 6}\n"
     ]
    }
   ],
   "source": [
    "s.add(6)\n",
    "print(s)"
   ]
  },
  {
   "cell_type": "code",
   "execution_count": 73,
   "id": "faa0c4ce",
   "metadata": {},
   "outputs": [
    {
     "name": "stdout",
     "output_type": "stream",
     "text": [
      "{1, 2, 3, 4, 5, 6}\n"
     ]
    }
   ],
   "source": [
    "s.add(5)\n",
    "print(s)"
   ]
  },
  {
   "cell_type": "code",
   "execution_count": 74,
   "id": "9a8e2f64",
   "metadata": {},
   "outputs": [
    {
     "name": "stdout",
     "output_type": "stream",
     "text": [
      "{1, 2, 3}\n"
     ]
    }
   ],
   "source": [
    "# 여러개의 값을 추가 update(리스트)\n",
    "s1 = set([1, 2, 3])\n",
    "print(s1)"
   ]
  },
  {
   "cell_type": "code",
   "execution_count": 75,
   "id": "3e4391ce",
   "metadata": {},
   "outputs": [
    {
     "ename": "TypeError",
     "evalue": "'int' object is not iterable",
     "output_type": "error",
     "traceback": [
      "\u001b[1;31m---------------------------------------------------------------------------\u001b[0m",
      "\u001b[1;31mTypeError\u001b[0m                                 Traceback (most recent call last)",
      "Input \u001b[1;32mIn [75]\u001b[0m, in \u001b[0;36m<cell line: 1>\u001b[1;34m()\u001b[0m\n\u001b[1;32m----> 1\u001b[0m \u001b[43ms1\u001b[49m\u001b[38;5;241;43m.\u001b[39;49m\u001b[43mupdate\u001b[49m\u001b[43m(\u001b[49m\u001b[38;5;241;43m4\u001b[39;49m\u001b[43m)\u001b[49m\n\u001b[0;32m      2\u001b[0m \u001b[38;5;28mprint\u001b[39m(s1)\n",
      "\u001b[1;31mTypeError\u001b[0m: 'int' object is not iterable"
     ]
    }
   ],
   "source": [
    "s1.update(4)\n",
    "print(s1)"
   ]
  },
  {
   "cell_type": "code",
   "execution_count": 76,
   "id": "e59b5c94",
   "metadata": {},
   "outputs": [
    {
     "name": "stdout",
     "output_type": "stream",
     "text": [
      "{1, 2, 3, 4}\n"
     ]
    }
   ],
   "source": [
    "s1.update([4])\n",
    "print(s1)"
   ]
  },
  {
   "cell_type": "code",
   "execution_count": 77,
   "id": "a3922b45",
   "metadata": {},
   "outputs": [
    {
     "name": "stdout",
     "output_type": "stream",
     "text": [
      "{1, 2, 3, 4, 5, 6}\n"
     ]
    }
   ],
   "source": [
    "s1.update([4, 5, 6])\n",
    "print(s1)"
   ]
  },
  {
   "cell_type": "code",
   "execution_count": 78,
   "id": "2f78dd20",
   "metadata": {},
   "outputs": [
    {
     "name": "stdout",
     "output_type": "stream",
     "text": [
      "{1, 2, 3, 4, 5, 6, 7, 8, 9}\n"
     ]
    }
   ],
   "source": [
    "s1.update([7, 8, 9])\n",
    "print(s1)"
   ]
  },
  {
   "cell_type": "code",
   "execution_count": 79,
   "id": "471b8406",
   "metadata": {},
   "outputs": [
    {
     "name": "stdout",
     "output_type": "stream",
     "text": [
      "{'t', 1, 2, 3, 4, 5, 6, 7, 8, 9, 'p', 'y', 'o', 'n', 'h'}\n"
     ]
    }
   ],
   "source": [
    "s1.update('python')\n",
    "print(s1)"
   ]
  },
  {
   "cell_type": "code",
   "execution_count": 80,
   "id": "39427b5f",
   "metadata": {},
   "outputs": [
    {
     "name": "stdout",
     "output_type": "stream",
     "text": [
      "{'t', 1, 2, 3, 4, 5, 6, 7, 8, 9, 'y', 'o', 'n', 'h'}\n"
     ]
    }
   ],
   "source": [
    "# 특정 값을 제거하는 함수 remove(값)\n",
    "s1.remove('p')\n",
    "print(s1)"
   ]
  },
  {
   "cell_type": "code",
   "execution_count": 81,
   "id": "4fad10ff",
   "metadata": {},
   "outputs": [
    {
     "ename": "KeyError",
     "evalue": "'python'",
     "output_type": "error",
     "traceback": [
      "\u001b[1;31m---------------------------------------------------------------------------\u001b[0m",
      "\u001b[1;31mKeyError\u001b[0m                                  Traceback (most recent call last)",
      "Input \u001b[1;32mIn [81]\u001b[0m, in \u001b[0;36m<cell line: 1>\u001b[1;34m()\u001b[0m\n\u001b[1;32m----> 1\u001b[0m \u001b[43ms1\u001b[49m\u001b[38;5;241;43m.\u001b[39;49m\u001b[43mremove\u001b[49m\u001b[43m(\u001b[49m\u001b[38;5;124;43m'\u001b[39;49m\u001b[38;5;124;43mpython\u001b[39;49m\u001b[38;5;124;43m'\u001b[39;49m\u001b[43m)\u001b[49m\n\u001b[0;32m      2\u001b[0m \u001b[38;5;28mprint\u001b[39m(s1)\n",
      "\u001b[1;31mKeyError\u001b[0m: 'python'"
     ]
    }
   ],
   "source": [
    "s1.remove('python')\n",
    "print(s1)"
   ]
  },
  {
   "cell_type": "code",
   "execution_count": 82,
   "id": "0cb33b88",
   "metadata": {},
   "outputs": [
    {
     "name": "stdout",
     "output_type": "stream",
     "text": [
      "#####\n"
     ]
    }
   ],
   "source": [
    "print('#' * 5)"
   ]
  },
  {
   "cell_type": "code",
   "execution_count": 83,
   "id": "7d775b8f",
   "metadata": {},
   "outputs": [
    {
     "name": "stdout",
     "output_type": "stream",
     "text": [
      "#\n",
      "#\n",
      "#\n",
      "#\n",
      "#\n"
     ]
    }
   ],
   "source": [
    "for i in range(5): # 0, 1, 2, 3, 4 \n",
    "    print('#')"
   ]
  },
  {
   "cell_type": "code",
   "execution_count": 84,
   "id": "095a6e0a",
   "metadata": {},
   "outputs": [
    {
     "name": "stdout",
     "output_type": "stream",
     "text": [
      "#####"
     ]
    }
   ],
   "source": [
    "for i in range(5): # 0, 1, 2, 3, 4 \n",
    "    print('#', end = '')"
   ]
  },
  {
   "cell_type": "code",
   "execution_count": null,
   "id": "e04b1786",
   "metadata": {},
   "outputs": [],
   "source": [
    "for i in range(5): # 0, 1, 2, 3, 4 \n",
    "    print('#', end = '')"
   ]
  },
  {
   "cell_type": "code",
   "execution_count": 85,
   "id": "f002e6c7",
   "metadata": {},
   "outputs": [
    {
     "name": "stdout",
     "output_type": "stream",
     "text": [
      "#####\n",
      "#####\n",
      "#####\n",
      "#####\n",
      "#####\n"
     ]
    }
   ],
   "source": [
    "a = '#####'\n",
    "for i in range(5):\n",
    "    print(a)"
   ]
  },
  {
   "cell_type": "code",
   "execution_count": 86,
   "id": "dbb93d07",
   "metadata": {},
   "outputs": [
    {
     "ename": "TypeError",
     "evalue": "'a' is an invalid keyword argument for print()",
     "output_type": "error",
     "traceback": [
      "\u001b[1;31m---------------------------------------------------------------------------\u001b[0m",
      "\u001b[1;31mTypeError\u001b[0m                                 Traceback (most recent call last)",
      "Input \u001b[1;32mIn [86]\u001b[0m, in \u001b[0;36m<cell line: 2>\u001b[1;34m()\u001b[0m\n\u001b[0;32m      1\u001b[0m a \u001b[38;5;241m=\u001b[39m \u001b[38;5;124m'\u001b[39m\u001b[38;5;124m#\u001b[39m\u001b[38;5;124m'\u001b[39m\n\u001b[0;32m      2\u001b[0m \u001b[38;5;28;01mfor\u001b[39;00m i \u001b[38;5;129;01min\u001b[39;00m \u001b[38;5;28mrange\u001b[39m(\u001b[38;5;241m5\u001b[39m):\n\u001b[1;32m----> 3\u001b[0m     \u001b[38;5;28;43mprint\u001b[39;49m\u001b[43m(\u001b[49m\u001b[43ma\u001b[49m\u001b[43m \u001b[49m\u001b[38;5;241;43m=\u001b[39;49m\u001b[43m \u001b[49m\u001b[43ma\u001b[49m\u001b[38;5;241;43m*\u001b[39;49m\u001b[38;5;241;43m1\u001b[39;49m\u001b[43m,\u001b[49m\u001b[43m)\u001b[49m\n",
      "\u001b[1;31mTypeError\u001b[0m: 'a' is an invalid keyword argument for print()"
     ]
    }
   ],
   "source": [
    "a = '#'\n",
    "for i in range(5):\n",
    "    print(a = a*1,)"
   ]
  },
  {
   "cell_type": "code",
   "execution_count": 87,
   "id": "09c46cd8",
   "metadata": {},
   "outputs": [
    {
     "name": "stdout",
     "output_type": "stream",
     "text": [
      "\n",
      "#\n",
      "##\n",
      "###\n",
      "####\n",
      "#####\n"
     ]
    }
   ],
   "source": [
    "a = \"#\"\n",
    "for i in range(6):\n",
    "    print(a*i)"
   ]
  },
  {
   "cell_type": "code",
   "execution_count": 88,
   "id": "61fed735",
   "metadata": {},
   "outputs": [
    {
     "ename": "TypeError",
     "evalue": "descriptor 'rjust' for 'str' objects doesn't apply to a 'int' object",
     "output_type": "error",
     "traceback": [
      "\u001b[1;31m---------------------------------------------------------------------------\u001b[0m",
      "\u001b[1;31mTypeError\u001b[0m                                 Traceback (most recent call last)",
      "Input \u001b[1;32mIn [88]\u001b[0m, in \u001b[0;36m<cell line: 2>\u001b[1;34m()\u001b[0m\n\u001b[0;32m      1\u001b[0m a \u001b[38;5;241m=\u001b[39m \u001b[38;5;124m\"\u001b[39m\u001b[38;5;124m#\u001b[39m\u001b[38;5;124m\"\u001b[39m\n\u001b[0;32m      2\u001b[0m \u001b[38;5;28;01mfor\u001b[39;00m i \u001b[38;5;129;01min\u001b[39;00m \u001b[38;5;28mrange\u001b[39m(\u001b[38;5;241m6\u001b[39m):\n\u001b[1;32m----> 3\u001b[0m     \u001b[38;5;28mprint\u001b[39m(\u001b[38;5;28;43mstr\u001b[39;49m\u001b[38;5;241;43m.\u001b[39;49m\u001b[43mrjust\u001b[49m\u001b[43m(\u001b[49m\u001b[38;5;241;43m10\u001b[39;49m\u001b[43m)\u001b[49m,(a\u001b[38;5;241m*\u001b[39mi))\n",
      "\u001b[1;31mTypeError\u001b[0m: descriptor 'rjust' for 'str' objects doesn't apply to a 'int' object"
     ]
    }
   ],
   "source": [
    "a = \"#\"\n",
    "for i in range(6):\n",
    "    print(str.rjust(10),(a*i))"
   ]
  },
  {
   "cell_type": "code",
   "execution_count": 1,
   "id": "1dd624f6",
   "metadata": {},
   "outputs": [
    {
     "name": "stdout",
     "output_type": "stream",
     "text": [
      "    #\n",
      "   ##\n",
      "  ###\n",
      " ####\n",
      "#####\n"
     ]
    }
   ],
   "source": [
    "n = 0\n",
    "for i in range(4,-1,-1):\n",
    "    n = n + 1\n",
    "    print(\" \" * i + \"#\" * n)"
   ]
  },
  {
   "cell_type": "markdown",
   "id": "04cfbe00",
   "metadata": {},
   "source": [
    "### 제어문"
   ]
  },
  {
   "cell_type": "code",
   "execution_count": 89,
   "id": "43a59867",
   "metadata": {},
   "outputs": [
    {
     "name": "stdout",
     "output_type": "stream",
     "text": [
      "택시 타고 집 가자\n"
     ]
    }
   ],
   "source": [
    "# 조건문 : 단순 if문, if~else문, elif문 => 선택문\n",
    "## 조건식 : 비교(관계) 연산자, 논리연산자\n",
    "money = True\n",
    "if money:\n",
    "    print('택시 타고 집 가자')\n",
    "else:\n",
    "    print('걸어가자')"
   ]
  },
  {
   "cell_type": "markdown",
   "id": "bd22c6a9",
   "metadata": {},
   "source": [
    "#### 계산기 프로그램\n",
    "두 개의 정수와 하나의 연산자를 입력받아 연산을 수행한 후 결과를 출력하는 프로그램을 구현하시오."
   ]
  },
  {
   "cell_type": "code",
   "execution_count": 92,
   "id": "e9c7ceb8",
   "metadata": {},
   "outputs": [
    {
     "name": "stdout",
     "output_type": "stream",
     "text": [
      "숫자1 = 0\n",
      "숫자2 = 10\n",
      "연산자(+, -, *, / 중 택1) = /\n",
      "0\n"
     ]
    }
   ],
   "source": [
    "a = int(input('숫자1 = '))\n",
    "b = int(input('숫자2 = '))\n",
    "c = input('연산자(+, -, *, / 중 택1) = ')\n",
    "if c == '+':\n",
    "    print(a + b) \n",
    "elif c == '-':\n",
    "    print(a - b) \n",
    "elif c == '*':\n",
    "    print(int(a * b))\n",
    "elif c == '/':\n",
    "    print(int(a / b))\n",
    "else:\n",
    "    print ('연산을 수행할 수 없습니다.')\n"
   ]
  },
  {
   "cell_type": "markdown",
   "id": "ae341369",
   "metadata": {},
   "source": [
    "#### UP/DOWN 게임\n",
    "1에서 100 사이의 숫자 하나를 랜덤으로 발생한 후 사용자가 입력한 숫자와 비교하여 그 결과를 출력하는 프로그램"
   ]
  },
  {
   "cell_type": "code",
   "execution_count": 91,
   "id": "900b1a57",
   "metadata": {},
   "outputs": [],
   "source": [
    "# 난수 생성하는 함수를 가지고 있는 모듈\n",
    "import random\n",
    "\n",
    "# 난수 생성 함수 : random.randint(1, 100) - 하나의 정수 난수(1~100) 생성\n",
    "check = random.randint(1, 100)"
   ]
  },
  {
   "cell_type": "code",
   "execution_count": 95,
   "id": "e647e3de",
   "metadata": {},
   "outputs": [
    {
     "name": "stdout",
     "output_type": "stream",
     "text": [
      "수 입력(1에서 100사이) = 66\n",
      "Down\n",
      "수 입력(1에서 100사이) = 30\n",
      "Up\n",
      "수 입력(1에서 100사이) = 35\n",
      "Down\n",
      "수 입력(1에서 100사이) = 34\n",
      "Down\n",
      "수 입력(1에서 100사이) = 32\n",
      "Up\n",
      "수 입력(1에서 100사이) = 33\n",
      "check =  33 user = 33\n"
     ]
    }
   ],
   "source": [
    "#해답\n",
    "user = int(input('수 입력(1에서 100사이) = '))\n",
    "\n",
    "# while True: #무한 Loop\n",
    "    \n",
    "while(user != check): # user not in check\n",
    "    if user > check:\n",
    "        print('Down')\n",
    "    else:\n",
    "        print('Up')\n",
    "    user = int(input('수 입력(1에서 100사이) = '))\n",
    "\n",
    "else:\n",
    "    print('check = ',check, 'user =',user)"
   ]
  },
  {
   "cell_type": "code",
   "execution_count": null,
   "id": "5fcc56d5",
   "metadata": {},
   "outputs": [],
   "source": [
    "\n",
    "\n",
    "while True: #무한 Loop\n",
    "    user = int(input('수 입력(1에서 100사이) = '))\n",
    "    if check == user :\n",
    "        pirnt('Down')\n",
    "    else:\n",
    "        print('Up')\n",
    "    user = int(input('수 입력(1에서 100사이) = '))\n",
    "\n",
    "else:\n",
    "    prin('check = ',check, 'user =',user)"
   ]
  },
  {
   "cell_type": "code",
   "execution_count": null,
   "id": "d349e382",
   "metadata": {},
   "outputs": [],
   "source": [
    "kotae = int(input('정답을 입력하세요 = '))\n",
    "while kotae < 101:\n",
    "    if kotae == check:\n",
    "        print('정답입니다.')\n",
    "    elif kotae > check:\n",
    "        print('숫자를 줄이세요')\n",
    "    elif kotae < check:\n",
    "        print('숫자를 늘리세요')\n",
    "        #살려주세여....."
   ]
  },
  {
   "cell_type": "markdown",
   "id": "bb8013a7",
   "metadata": {},
   "source": [
    "### 사다리꼴의 넓이를 구하는 프로그램을 구현하시오."
   ]
  },
  {
   "cell_type": "code",
   "execution_count": 96,
   "id": "3706031f",
   "metadata": {},
   "outputs": [
    {
     "name": "stdout",
     "output_type": "stream",
     "text": [
      "윗변 = 4\n",
      "아랫변 = 2\n",
      "높이 = 5\n",
      "사다리꼴의 넓이 =  15.0\n"
     ]
    }
   ],
   "source": [
    "# 윗변, 아랫변, 높이 \n",
    "## 윗변을 입력받는다.\n",
    "a = int(input('윗변 = '))\n",
    "\n",
    "## 아랫변을 입력받는다.\n",
    "\n",
    "b = int(input('아랫변 = '))\n",
    "\n",
    "## 높이를 입력받는다\n",
    "\n",
    "c = int(input('높이 = '))\n",
    "\n",
    "## 넓이를 계산하여 결과를 저장하는 변수에 담는다.\n",
    "\n",
    "area = (a + b)/ 2 * c\n",
    "\n",
    "## 넓이의 결과를 출력한다.\n",
    "print('사다리꼴의 넓이 = ', area)"
   ]
  },
  {
   "cell_type": "code",
   "execution_count": 97,
   "id": "991558a8",
   "metadata": {},
   "outputs": [
    {
     "name": "stdout",
     "output_type": "stream",
     "text": [
      "==== Main Menu =====\n",
      "1. 최대값 구하기\n",
      "2. 수나열 구하기\n",
      "3. 계산기 프로그램\n",
      "4. 프로그램 종료\n",
      "====================\n",
      "menu = 5\n",
      "너 바보지!\n",
      "==== Main Menu =====\n",
      "1. 최대값 구하기\n",
      "2. 수나열 구하기\n",
      "3. 계산기 프로그램\n",
      "4. 프로그램 종료\n",
      "====================\n",
      "menu = 2\n",
      "==== Main Menu =====\n",
      "1. 최대값 구하기\n",
      "2. 수나열 구하기\n",
      "3. 계산기 프로그램\n",
      "4. 프로그램 종료\n",
      "====================\n",
      "menu = 3\n",
      "==== Main Menu =====\n",
      "1. 최대값 구하기\n",
      "2. 수나열 구하기\n",
      "3. 계산기 프로그램\n",
      "4. 프로그램 종료\n",
      "====================\n",
      "menu = 1\n",
      "==== Main Menu =====\n",
      "1. 최대값 구하기\n",
      "2. 수나열 구하기\n",
      "3. 계산기 프로그램\n",
      "4. 프로그램 종료\n",
      "====================\n",
      "menu = 4\n"
     ]
    }
   ],
   "source": [
    "while True:\n",
    "    print('==== Main Menu =====')\n",
    "    print('1. 최대값 구하기')\n",
    "    print('2. 수나열 구하기')\n",
    "    print('3. 계산기 프로그램')\n",
    "    print('4. 프로그램 종료')\n",
    "    print('====================')\n",
    "    menu = int(input('menu = '))\n",
    "    \n",
    "    if menu == 4:\n",
    "        break\n",
    "    elif menu == 1:\n",
    "        pass\n",
    "    elif menu == 2:\n",
    "        pass\n",
    "    elif menu == 3:\n",
    "        pass\n",
    "    else:\n",
    "        print('너 바보지!')"
   ]
  },
  {
   "cell_type": "markdown",
   "id": "594504f7",
   "metadata": {},
   "source": [
    "### 함수(Function)\n",
    "1. 함수의 정의 : 관련된 기능이나 명령어 묶음\n",
    "  - 필요할 때 호출 가능\n",
    "  - 유지보수가 수월\n",
    "  - 가독성이 좋다\n",
    "  \n",
    "2. 함수의 구조(구성) : def(=define) 선언문\n",
    "   def 함수의 이름(매개변수):<br>\n",
    "       문장1<br>\n",
    "       문장2<br>\n",
    "        |  <br>\n",
    "       return 값\n",
    "       \n",
    "3. 함수의 호출 방법\n",
    "  - 이름에 의한 호출(Call By Name)\n",
    "  - 값에 의한 호출(Call By Value)\n",
    "  - 주소에 의한 호출(Call By Reference)\n",
    "  \n",
    "4. 함수의 기본 형식\n",
    "  - 매개변수 없고, 리턴값도 없는 경우\n",
    "  - 매개변수 없고, 리턴값 있는 경우\n",
    "  - 매개변수 있고, 리턴값 없는 경우\n",
    "  - 매개변수 있고, 리턴값 있는 경우\n"
   ]
  },
  {
   "cell_type": "code",
   "execution_count": 98,
   "id": "9fde90a1",
   "metadata": {},
   "outputs": [],
   "source": [
    "# 매개변수 없고, 리턴값도 없는 함수\n",
    "def aaa(): \n",
    "    print('Hi')\n",
    "    print('뭘봐')"
   ]
  },
  {
   "cell_type": "code",
   "execution_count": 99,
   "id": "29df33d8",
   "metadata": {},
   "outputs": [],
   "source": [
    "# 매개변수 없고, 리턴값 있는 경우\n",
    "def bbb(): \n",
    "    return 'Hi'"
   ]
  },
  {
   "cell_type": "code",
   "execution_count": 100,
   "id": "dca78637",
   "metadata": {},
   "outputs": [],
   "source": [
    "# 매개변수 있고, 리턴값 없는 경우\n",
    "def ccc(a):\n",
    "    print(a)"
   ]
  },
  {
   "cell_type": "code",
   "execution_count": 101,
   "id": "d7cd9639",
   "metadata": {},
   "outputs": [],
   "source": [
    "def ddd(a, b, c):\n",
    "    print(a + b + c)"
   ]
  },
  {
   "cell_type": "code",
   "execution_count": 102,
   "id": "d5a3c7cc",
   "metadata": {},
   "outputs": [],
   "source": [
    "# 매개변수 있고, 리턴값 있는 경우\n",
    "def eee(a, b):\n",
    "    c = a + b\n",
    "    return c"
   ]
  },
  {
   "cell_type": "code",
   "execution_count": 103,
   "id": "310b0826",
   "metadata": {},
   "outputs": [
    {
     "name": "stdout",
     "output_type": "stream",
     "text": [
      "프로그램 시작\n",
      "여러가지 작업\n",
      "Hi\n",
      "뭘봐\n",
      "프로그램 종료\n"
     ]
    }
   ],
   "source": [
    "# 함수 호출\n",
    "print('프로그램 시작')\n",
    "print('여러가지 작업')\n",
    "aaa()\n",
    "print('프로그램 종료')"
   ]
  },
  {
   "cell_type": "code",
   "execution_count": 105,
   "id": "038b49b3",
   "metadata": {},
   "outputs": [
    {
     "name": "stdout",
     "output_type": "stream",
     "text": [
      "프로그램 시작\n",
      "여러가지 작업\n",
      "Hi\n",
      "프로그램 종료\n"
     ]
    }
   ],
   "source": [
    "# 함수 호출\n",
    "print('프로그램 시작')\n",
    "print('여러가지 작업')\n",
    "print(bbb()) # print('Hi')\n",
    "string = bbb()  # string = 'Hi'\n",
    "print(string)\n",
    "print('프로그램 종료')"
   ]
  },
  {
   "cell_type": "code",
   "execution_count": 106,
   "id": "9e4e10ee",
   "metadata": {},
   "outputs": [
    {
     "name": "stdout",
     "output_type": "stream",
     "text": [
      "프로그램 시작\n",
      "여러가지 작업\n",
      "bye\n",
      "프로그램 종료\n"
     ]
    }
   ],
   "source": [
    "# 함수 호출\n",
    "print('프로그램 시작')\n",
    "print('여러가지 작업')\n",
    "ccc('bye')\n",
    "print('프로그램 종료')"
   ]
  },
  {
   "cell_type": "code",
   "execution_count": 108,
   "id": "1ce6cead",
   "metadata": {},
   "outputs": [
    {
     "name": "stdout",
     "output_type": "stream",
     "text": [
      "프로그램 시작\n",
      "여러가지 작업\n"
     ]
    },
    {
     "ename": "TypeError",
     "evalue": "ccc() missing 1 required positional argument: 'a'",
     "output_type": "error",
     "traceback": [
      "\u001b[1;31m---------------------------------------------------------------------------\u001b[0m",
      "\u001b[1;31mTypeError\u001b[0m                                 Traceback (most recent call last)",
      "Input \u001b[1;32mIn [108]\u001b[0m, in \u001b[0;36m<cell line: 4>\u001b[1;34m()\u001b[0m\n\u001b[0;32m      2\u001b[0m \u001b[38;5;28mprint\u001b[39m(\u001b[38;5;124m'\u001b[39m\u001b[38;5;124m프로그램 시작\u001b[39m\u001b[38;5;124m'\u001b[39m)\n\u001b[0;32m      3\u001b[0m \u001b[38;5;28mprint\u001b[39m(\u001b[38;5;124m'\u001b[39m\u001b[38;5;124m여러가지 작업\u001b[39m\u001b[38;5;124m'\u001b[39m)\n\u001b[1;32m----> 4\u001b[0m \u001b[43mccc\u001b[49m\u001b[43m(\u001b[49m\u001b[43m)\u001b[49m\n\u001b[0;32m      5\u001b[0m \u001b[38;5;28mprint\u001b[39m(\u001b[38;5;124m'\u001b[39m\u001b[38;5;124m프로그램 종료\u001b[39m\u001b[38;5;124m'\u001b[39m)\n",
      "\u001b[1;31mTypeError\u001b[0m: ccc() missing 1 required positional argument: 'a'"
     ]
    }
   ],
   "source": [
    "# 함수 호출\n",
    "print('프로그램 시작')\n",
    "print('여러가지 작업')\n",
    "ccc()\n",
    "print('프로그램 종료')"
   ]
  },
  {
   "cell_type": "code",
   "execution_count": 131,
   "id": "42c1214a",
   "metadata": {},
   "outputs": [],
   "source": [
    "# default parameter : 초기 파라미터\n",
    "## 함수의 매개변수에 초기값을 담아서 처리하는 기능\n",
    "def ppp(a = 1, b= 2 , c= 3):\n",
    "    print(a, b, c)"
   ]
  },
  {
   "cell_type": "code",
   "execution_count": 132,
   "id": "6dc624fb",
   "metadata": {},
   "outputs": [
    {
     "name": "stdout",
     "output_type": "stream",
     "text": [
      "1 2 3\n"
     ]
    }
   ],
   "source": [
    "ppp()"
   ]
  },
  {
   "cell_type": "code",
   "execution_count": 133,
   "id": "d818654b",
   "metadata": {},
   "outputs": [
    {
     "name": "stdout",
     "output_type": "stream",
     "text": [
      "100 2 3\n"
     ]
    }
   ],
   "source": [
    "ppp(100)"
   ]
  },
  {
   "cell_type": "code",
   "execution_count": 134,
   "id": "f3a3b270",
   "metadata": {},
   "outputs": [
    {
     "name": "stdout",
     "output_type": "stream",
     "text": [
      "100 200 3\n"
     ]
    }
   ],
   "source": [
    "ppp(100,200)"
   ]
  },
  {
   "cell_type": "code",
   "execution_count": 129,
   "id": "57d38cca",
   "metadata": {},
   "outputs": [
    {
     "name": "stdout",
     "output_type": "stream",
     "text": [
      "100 200 300\n"
     ]
    }
   ],
   "source": [
    "ppp(100,200,300)"
   ]
  },
  {
   "cell_type": "code",
   "execution_count": 135,
   "id": "438619fb",
   "metadata": {},
   "outputs": [
    {
     "name": "stdout",
     "output_type": "stream",
     "text": [
      "프로그램 시작\n",
      "여러가지 작업\n",
      "x =  3\n",
      "프로그램 종료\n"
     ]
    }
   ],
   "source": [
    "# 함수 호출\n",
    "print('프로그램 시작')\n",
    "print('여러가지 작업')\n",
    "#print(eee(1, 2))\n",
    "x = eee(1, 2)\n",
    "print('x = ', x)\n",
    "print('프로그램 종료')"
   ]
  },
  {
   "cell_type": "code",
   "execution_count": 3,
   "id": "2eaadb2b",
   "metadata": {},
   "outputs": [],
   "source": [
    "# 가변길이 매개변수\n",
    "def add(a, b):\n",
    "    return a + b"
   ]
  },
  {
   "cell_type": "code",
   "execution_count": 4,
   "id": "d1ab74cb",
   "metadata": {},
   "outputs": [],
   "source": [
    "def add(a, b, c):\n",
    "    return a + b + c "
   ]
  },
  {
   "cell_type": "code",
   "execution_count": 5,
   "id": "5cf14406",
   "metadata": {},
   "outputs": [
    {
     "ename": "TypeError",
     "evalue": "add() missing 1 required positional argument: 'c'",
     "output_type": "error",
     "traceback": [
      "\u001b[1;31m---------------------------------------------------------------------------\u001b[0m",
      "\u001b[1;31mTypeError\u001b[0m                                 Traceback (most recent call last)",
      "Input \u001b[1;32mIn [5]\u001b[0m, in \u001b[0;36m<cell line: 1>\u001b[1;34m()\u001b[0m\n\u001b[1;32m----> 1\u001b[0m \u001b[43madd\u001b[49m\u001b[43m(\u001b[49m\u001b[38;5;241;43m10\u001b[39;49m\u001b[43m,\u001b[49m\u001b[43m \u001b[49m\u001b[38;5;241;43m20\u001b[39;49m\u001b[43m)\u001b[49m\n",
      "\u001b[1;31mTypeError\u001b[0m: add() missing 1 required positional argument: 'c'"
     ]
    }
   ],
   "source": [
    "add(10, 20)"
   ]
  },
  {
   "cell_type": "code",
   "execution_count": 141,
   "id": "096a33bc",
   "metadata": {},
   "outputs": [
    {
     "data": {
      "text/plain": [
       "60"
      ]
     },
     "execution_count": 141,
     "metadata": {},
     "output_type": "execute_result"
    }
   ],
   "source": [
    "add(10, 20, 30)"
   ]
  },
  {
   "cell_type": "code",
   "execution_count": 147,
   "id": "8076b3c2",
   "metadata": {},
   "outputs": [],
   "source": [
    "# 가변길이 매개변수 \n",
    "def add_res(*args):\n",
    "    res = 0\n",
    "    \n",
    "    for i in args:\n",
    "        #res = res + i\n",
    "        res += i\n",
    "        \n",
    "    return res"
   ]
  },
  {
   "cell_type": "code",
   "execution_count": 148,
   "id": "cb192097",
   "metadata": {},
   "outputs": [
    {
     "name": "stdout",
     "output_type": "stream",
     "text": [
      "a =  6\n",
      "a =  15\n",
      "a =  55\n"
     ]
    }
   ],
   "source": [
    "a = add_res(1, 2, 3)\n",
    "print('a = ', a)\n",
    "\n",
    "a = add_res(1, 2, 3, 4, 5 )\n",
    "print('a = ', a)\n",
    "\n",
    "a = add_res(1, 2, 3, 4, 5, 6, 7, 8, 9, 10)\n",
    "print('a = ', a)\n",
    "\n",
    "\n",
    "\n"
   ]
  },
  {
   "cell_type": "code",
   "execution_count": 149,
   "id": "d222f79e",
   "metadata": {},
   "outputs": [],
   "source": [
    "def calc(ch, *ar):\n",
    "    if ch == 'add':\n",
    "        res = 0\n",
    "        for i in ar:\n",
    "            res += i\n",
    "    elif ch == 'mul':\n",
    "        res = 1\n",
    "        for i in ar:\n",
    "            res *= i\n",
    "            \n",
    "    return res"
   ]
  },
  {
   "cell_type": "code",
   "execution_count": 150,
   "id": "bc7acf2c",
   "metadata": {},
   "outputs": [
    {
     "name": "stdout",
     "output_type": "stream",
     "text": [
      "a = 6\n",
      "b =  120\n"
     ]
    }
   ],
   "source": [
    "a = calc('add', 1, 2, 3)\n",
    "print('a =', a)\n",
    "b = calc('mul', 1, 2, 3, 4, 5)\n",
    "print('b = ',b)"
   ]
  },
  {
   "cell_type": "code",
   "execution_count": null,
   "id": "2569cf02",
   "metadata": {},
   "outputs": [],
   "source": []
  }
 ],
 "metadata": {
  "kernelspec": {
   "display_name": "Python 3 (ipykernel)",
   "language": "python",
   "name": "python3"
  },
  "language_info": {
   "codemirror_mode": {
    "name": "ipython",
    "version": 3
   },
   "file_extension": ".py",
   "mimetype": "text/x-python",
   "name": "python",
   "nbconvert_exporter": "python",
   "pygments_lexer": "ipython3",
   "version": "3.9.12"
  },
  "toc": {
   "base_numbering": 1,
   "nav_menu": {},
   "number_sections": true,
   "sideBar": true,
   "skip_h1_title": false,
   "title_cell": "Table of Contents",
   "title_sidebar": "Contents",
   "toc_cell": false,
   "toc_position": {},
   "toc_section_display": true,
   "toc_window_display": false
  }
 },
 "nbformat": 4,
 "nbformat_minor": 5
}

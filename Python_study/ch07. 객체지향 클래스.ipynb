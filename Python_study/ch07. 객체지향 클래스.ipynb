{
 "cells": [
  {
   "cell_type": "markdown",
   "id": "122cfebf",
   "metadata": {},
   "source": [
    "###  OOP\n",
    "- 객체(Object) : 현실 세계에 또는 실생활에 존재하는 실제적인 물건 또는 개념\n",
    "- 클래스(class) : 객체를 프로그램으로 표현하는 기본 단위, 사용자 정의 자료형\n",
    "  - 클래스의 구성요소(포함멤버) : 속성(attribute, feature, field) = variable(변수)\n",
    "  - 행위나 동작(Method, Function, Action) - 함수\n",
    "- 자료형(Data Type) : 기본 자료형(변수가 값을 가지고 있음), 참조형 자료형(문자열,리스트형,튜플 등(시퀀스 자료형(인덱스로 뽑아낼 수 있는 순서가 있는 자료형))이 여기에 해당, 변수가 주소를 가지고 있음), 사용자 정의 자료형(변수가 주소를 가지고 있음)"
   ]
  },
  {
   "cell_type": "code",
   "execution_count": 4,
   "id": "83da017e",
   "metadata": {},
   "outputs": [],
   "source": [
    "# 클래스 선언\n",
    "class Person: \n",
    "    # 멤버 필드 = 프로퍼티\n",
    "#     name = \"\"\n",
    "#     age = 0\n",
    "#     height = 0.0\n",
    "    \n",
    "    # 생성자 매서드(Constructor) : 객체가 생성될 때 자동으로 호출된다.\n",
    "    \n",
    "    # 멤버 메서드 : Method = Function\n",
    "    def put(self): #입력 매개변수가 없어도 반드시 써야 한다. self(=this)를 \n",
    "        print('이름 : ', self.name)\n",
    "        print('나이 : ', self.age)\n",
    "        print('키 : ', self.height)\n",
    "    \n",
    "    # 소멸자 메서드 : 객체가 소멸될 때 자동으로 호출된다."
   ]
  },
  {
   "cell_type": "code",
   "execution_count": 6,
   "id": "2b0b9161",
   "metadata": {},
   "outputs": [
    {
     "name": "stdout",
     "output_type": "stream",
     "text": [
      "이름 :  김철수\n",
      "나이 :  20\n",
      "키 :  180.5\n"
     ]
    }
   ],
   "source": [
    "# Person 클래스의 인스턴스 객체를 생성, 이때 생성되는 인스턴스 객체 = 참조변수\n",
    "p1 = Person()\n",
    "\n",
    "# 멤버 필드를 초기화하는 작업\n",
    "p1.name = '김철수'\n",
    "p1.age = '20'\n",
    "p1.height = 180.5\n",
    "\n",
    "# 인스턴스 객체를 이용 : 객체명.멤버필드 or 객체명.멤버메서드\n",
    "p1.put()"
   ]
  },
  {
   "cell_type": "code",
   "execution_count": 7,
   "id": "baf305d8",
   "metadata": {},
   "outputs": [
    {
     "name": "stdout",
     "output_type": "stream",
     "text": [
      "이름 :  이철수\n",
      "나이 :  30\n",
      "키 :  175.8\n"
     ]
    }
   ],
   "source": [
    "p2 = Person()\n",
    "p2.name = '이철수'\n",
    "p2.age = 30\n",
    "p2.height = 175.8\n",
    "p2.put()"
   ]
  },
  {
   "cell_type": "code",
   "execution_count": 8,
   "id": "812d456a",
   "metadata": {},
   "outputs": [],
   "source": [
    "class Person:\n",
    "    # 생성자 메서드 : 멤버 필드를 초기화하는 역할\n",
    "    def __init__(self, name, age, height):\n",
    "        self.name = name\n",
    "        self.age = age\n",
    "        self.height = height\n",
    "        \n",
    "    # 멤버 메서드\n",
    "    def disp(self):\n",
    "        print('이름 : ' + self.name)\n",
    "        print('나이 : ' + str(self.age))\n",
    "        print('신장 : ' + str(self.height))\n",
    "        "
   ]
  },
  {
   "cell_type": "code",
   "execution_count": 9,
   "id": "09dac13a",
   "metadata": {},
   "outputs": [
    {
     "name": "stdout",
     "output_type": "stream",
     "text": [
      "이름 : kim\n",
      "나이 : 25\n",
      "신장 : 177.9\n"
     ]
    }
   ],
   "source": [
    "p3 = Person(\"kim\", 25, 177.9)\n",
    "p3.disp()"
   ]
  },
  {
   "cell_type": "code",
   "execution_count": 13,
   "id": "3413ae0d",
   "metadata": {},
   "outputs": [],
   "source": [
    "class Person:\n",
    "    # 멤버 필드 = 프로퍼티 : 클래스 변수, 공유 목적의 변수\n",
    "    name = 'lee'\n",
    "    age = 20\n",
    "    height = 180.5\n",
    "    \n",
    "    # 멤버 메서드\n",
    "    def disp(self):\n",
    "        # self.변수 : 인스턴스 변수(self 붙인다./ self의 값만 나온다.) - 개별적 값\n",
    "        print('이름 : ' + self.name, end = ' ')\n",
    "        print('나이 : ' + str(self.age), end = ' ')\n",
    "        print('신장 : ' + str(self.height), end = ' ')\n",
    "        # 클래스명.변수 : 클래스 변수 (Person을 붙인다./ Person에 해당한 모든 것이 똑같이 나온다.), static 변수 - 공통적인 값\n",
    "        print('이름 : ' + Person.name, end = ' ')\n",
    "        print('나이 : ' + str(Person.age), end = ' ')\n",
    "        print('신장 : ' + str(Person.height))\n",
    "        "
   ]
  },
  {
   "cell_type": "code",
   "execution_count": 15,
   "id": "9883d977",
   "metadata": {},
   "outputs": [
    {
     "name": "stdout",
     "output_type": "stream",
     "text": [
      "이름 : 김철수 나이 : 21 신장 : 177.7 이름 : lee 나이 : 20 신장 : 180.5\n",
      "이름 : 홍길동 나이 : 33 신장 : 180.5 이름 : lee 나이 : 20 신장 : 180.5\n",
      "이름 : lee 나이 : 20 신장 : 180.5 이름 : lee 나이 : 20 신장 : 180.5\n"
     ]
    }
   ],
   "source": [
    "p4 = Person()\n",
    "p4.name = '김철수'\n",
    "p4.age = 21\n",
    "p4.height = 177.7\n",
    "\n",
    "p5 = Person()\n",
    "p5.name = '홍길동'\n",
    "p5.age = 33\n",
    "p5.heihgt = 178.9\n",
    "\n",
    "p6 = Person()\n",
    "\n",
    "p4.disp()\n",
    "p5.disp()\n",
    "p6.disp()"
   ]
  },
  {
   "cell_type": "code",
   "execution_count": 107,
   "id": "7c782e1a",
   "metadata": {},
   "outputs": [],
   "source": [
    "class JBank:\n",
    "    # 멤버 필드\n",
    "    rate = 0.3\n",
    "    \n",
    "    # 생성자 메서드\n",
    "    def __init__(self, name, money, iyul):\n",
    "        self.name = name\n",
    "        self.balance = money\n",
    "        self.rate = iyul\n",
    "    \n",
    "    # 멤버 메서드\n",
    "    def disp(self):\n",
    "        print('고객이름 : ', self.name, end = '')\n",
    "        print('예금금액 : ', self.balance, end = '')\n",
    "        print('예금이율 : ', JBank.rate)"
   ]
  },
  {
   "cell_type": "code",
   "execution_count": 108,
   "id": "d55a148d",
   "metadata": {},
   "outputs": [
    {
     "name": "stdout",
     "output_type": "stream",
     "text": [
      "고객이름 :  aaa예금금액 :  10000예금이율 :  0.3\n"
     ]
    }
   ],
   "source": [
    "# 초기고객\n",
    "a = JBank('aaa', 10000, 0.7)\n",
    "a.disp()"
   ]
  },
  {
   "cell_type": "code",
   "execution_count": 37,
   "id": "07ce0e4e",
   "metadata": {},
   "outputs": [
    {
     "name": "stdout",
     "output_type": "stream",
     "text": [
      "고객이름 :  aaa예금금액 :  10000예금이율 :  0.3\n",
      "고객이름 :  bbb예금금액 :  10000예금이율 :  0.3\n"
     ]
    }
   ],
   "source": [
    "# 중기고객\n",
    "b = JBank('bbb', 10000, 0.3)\n",
    "\n",
    "a.disp()\n",
    "b.disp()"
   ]
  },
  {
   "cell_type": "code",
   "execution_count": 38,
   "id": "483fa887",
   "metadata": {},
   "outputs": [
    {
     "name": "stdout",
     "output_type": "stream",
     "text": [
      "고객이름 :  aaa예금금액 :  10000예금이율 :  0.3\n",
      "고객이름 :  bbb예금금액 :  10000예금이율 :  0.3\n",
      "고객이름 :  ccc예금금액 :  10000예금이율 :  0.3\n"
     ]
    }
   ],
   "source": [
    "# 후기고객\n",
    "c = JBank('ccc', 10000, 0.5)\n",
    "a.disp()\n",
    "b.disp()\n",
    "c.disp()"
   ]
  },
  {
   "cell_type": "code",
   "execution_count": 49,
   "id": "e8e0d2ba",
   "metadata": {},
   "outputs": [],
   "source": [
    "class Member:\n",
    "    userid = 'king@kong.com'\n",
    "    \n",
    "    def __init__(self, userid='aaa@a.com', userpw='1234', name=\"aaa\"):\n",
    "        self.userid = userid\n",
    "        self.userpw = userpw\n",
    "        self.name = name\n",
    "        \n",
    "    def disp(self):\n",
    "        print(Member.userid, self.userpw, self.name)"
   ]
  },
  {
   "cell_type": "code",
   "execution_count": 50,
   "id": "6d99816d",
   "metadata": {},
   "outputs": [
    {
     "name": "stdout",
     "output_type": "stream",
     "text": [
      "king@kong.com 1234 aaa\n"
     ]
    }
   ],
   "source": [
    "m1 = Member()\n",
    "\n",
    "m1.disp()"
   ]
  },
  {
   "cell_type": "code",
   "execution_count": 44,
   "id": "0585c96f",
   "metadata": {},
   "outputs": [
    {
     "name": "stdout",
     "output_type": "stream",
     "text": [
      "bbb@b.com 2222 bbb\n"
     ]
    }
   ],
   "source": [
    "m2 = Member('bbb@b.com', '2222', 'bbb')\n",
    "m2.disp()"
   ]
  },
  {
   "cell_type": "code",
   "execution_count": 45,
   "id": "36dc8372",
   "metadata": {},
   "outputs": [
    {
     "name": "stdout",
     "output_type": "stream",
     "text": [
      "ccc@c.com 1234 aaa\n"
     ]
    }
   ],
   "source": [
    "m3 = Member('ccc@c.com')\n",
    "m3.disp()"
   ]
  },
  {
   "cell_type": "markdown",
   "id": "0c102913",
   "metadata": {},
   "source": [
    "### 상속(Inheritance)"
   ]
  },
  {
   "cell_type": "code",
   "execution_count": 94,
   "id": "1e63b74a",
   "metadata": {},
   "outputs": [],
   "source": [
    "class A(object): #object\n",
    "    \n",
    "    def disp(self):\n",
    "        print('A class')"
   ]
  },
  {
   "cell_type": "code",
   "execution_count": 54,
   "id": "4e6a66a4",
   "metadata": {},
   "outputs": [],
   "source": [
    "class B: # B뒤의 ()에 들어가는 object는 생략가능\n",
    "    \n",
    "    def bbb(self):\n",
    "        print('B class')"
   ]
  },
  {
   "cell_type": "code",
   "execution_count": 76,
   "id": "ba540d6f",
   "metadata": {},
   "outputs": [],
   "source": [
    "class C(A): # A에서 상속받은 C라는 클래스 라는 뜻\n",
    "    \n",
    "    def disp(self): # 오버라이딩(재정의)\n",
    "        A.disp(self)\n",
    "        print('C class')"
   ]
  },
  {
   "cell_type": "code",
   "execution_count": 57,
   "id": "d44d2d79",
   "metadata": {},
   "outputs": [
    {
     "name": "stdout",
     "output_type": "stream",
     "text": [
      "A class\n"
     ]
    }
   ],
   "source": [
    "# 일반적인 클래스의 멤버는 인스턴스 객체를 통해서 접근한다.\n",
    "ap = A()\n",
    "ap.aaa()"
   ]
  },
  {
   "cell_type": "code",
   "execution_count": 59,
   "id": "5e94dda4",
   "metadata": {},
   "outputs": [
    {
     "name": "stdout",
     "output_type": "stream",
     "text": [
      "B class\n"
     ]
    }
   ],
   "source": [
    "bp = B()\n",
    "bp.bbb()"
   ]
  },
  {
   "cell_type": "code",
   "execution_count": 62,
   "id": "8bb13328",
   "metadata": {},
   "outputs": [
    {
     "name": "stdout",
     "output_type": "stream",
     "text": [
      "C class\n",
      "A class\n"
     ]
    }
   ],
   "source": [
    "cp = C() # 인스턴스 객체가 없어도 실행이 가능하다(C는 A의 상속을 받았기 때문!!)\n",
    "cp.ccc()\n",
    "cp.aaa()"
   ]
  },
  {
   "cell_type": "code",
   "execution_count": 64,
   "id": "9dbd21dc",
   "metadata": {},
   "outputs": [
    {
     "name": "stdout",
     "output_type": "stream",
     "text": [
      "A class\n"
     ]
    }
   ],
   "source": [
    "cp.aaa() "
   ]
  },
  {
   "cell_type": "code",
   "execution_count": 77,
   "id": "58c3ec25",
   "metadata": {},
   "outputs": [],
   "source": [
    "cp = C()"
   ]
  },
  {
   "cell_type": "code",
   "execution_count": 78,
   "id": "d827a95d",
   "metadata": {},
   "outputs": [
    {
     "name": "stdout",
     "output_type": "stream",
     "text": [
      "A class\n",
      "C class\n"
     ]
    }
   ],
   "source": [
    "cp.disp()"
   ]
  },
  {
   "cell_type": "code",
   "execution_count": 91,
   "id": "59bb8d6f",
   "metadata": {},
   "outputs": [],
   "source": [
    "class Person: # 상위클래스(부모클래스)\n",
    "    def __init__(self, name, age, height):\n",
    "        self.name = name\n",
    "        self.age = age\n",
    "        self.height = height\n",
    "        \n",
    "    def disp(self):\n",
    "        print('이름 : ' + self.name, end = ' ' ) # end = end of line\n",
    "        print('나이 : ' + str(self.age), end = ' ')\n",
    "        print('신장 : ' + str(self.height), end = ' ')"
   ]
  },
  {
   "cell_type": "code",
   "execution_count": 87,
   "id": "3a6be59c",
   "metadata": {},
   "outputs": [],
   "source": [
    "class PersonInfo(Person): # 파생클래스(Person을 상속받은 PersonInfo 클래스이다.)\n",
    "    \n",
    "    def disp(self):\n",
    "        print('체중 : ' + str(self.weight), end = ' ' ) # end = end of line\n",
    "        print('시력(좌) : ' + str(self.left_eye), end = ' ')\n",
    "        print('시력(우) : ' + str(self.right_eye))"
   ]
  },
  {
   "cell_type": "code",
   "execution_count": 88,
   "id": "3b30ccf2",
   "metadata": {},
   "outputs": [
    {
     "name": "stdout",
     "output_type": "stream",
     "text": [
      "체중 : 70 시력(좌) : 1.0 시력(우) : 1.5\n"
     ]
    }
   ],
   "source": [
    "p1 = PersonInfo('aaa', 20, 178.9)\n",
    "\n",
    "p1.weight = 70\n",
    "p1.left_eye = 1.0\n",
    "p1.right_eye = 1.5\n",
    "\n",
    "p1.disp()"
   ]
  },
  {
   "cell_type": "code",
   "execution_count": 89,
   "id": "c08d83d3",
   "metadata": {},
   "outputs": [],
   "source": [
    "class PersonInfo(Person): # 파생클래스(Person을 상속받은 PersonInfo 클래스이다.)\n",
    "    \n",
    "    def __init__(self, name, age, height, weight, left_eye, right_eye):\n",
    "        Person.__init__(self, name, age, height) \n",
    "        self.weight = weight\n",
    "        self.left_eye = left_eye\n",
    "        self.right_eye = right_eye\n",
    "        \n",
    "    def disp(self):\n",
    "        Person.disp(self)\n",
    "        print('체중 : ' + str(self.weight), end = ' ' ) # end = end of line\n",
    "        print('시력(좌) : ' + str(self.left_eye), end = ' ')\n",
    "        print('시력(우) : ' + str(self.right_eye))"
   ]
  },
  {
   "cell_type": "code",
   "execution_count": 93,
   "id": "cd4ebda6",
   "metadata": {},
   "outputs": [
    {
     "name": "stdout",
     "output_type": "stream",
     "text": [
      "이름 : 홍길동 나이 : 33 신장 : 170.9 체중 : 90 시력(좌) : 1.2 시력(우) : 1.5\n"
     ]
    }
   ],
   "source": [
    "p1 = PersonInfo('홍길동', 33, 170.9, 90, 1.2, 1.5)\n",
    "p1.disp()"
   ]
  },
  {
   "cell_type": "code",
   "execution_count": 95,
   "id": "3ba01bef",
   "metadata": {},
   "outputs": [],
   "source": [
    "class A:\n",
    "    # 멤버 필드 = 프로퍼티 = 클래스 변수(공통적으로 사용할 값)\n",
    "    name = '김철수'\n",
    "    age = 20\n",
    "    \n",
    "    # 멤버 메서드\n",
    "    def disp(self):\n",
    "        self.message = \"안녕하세요\"\n",
    "        print(self.message)\n",
    "        "
   ]
  },
  {
   "cell_type": "code",
   "execution_count": 97,
   "id": "9962efa5",
   "metadata": {},
   "outputs": [
    {
     "name": "stdout",
     "output_type": "stream",
     "text": [
      "안녕하세요\n"
     ]
    }
   ],
   "source": [
    "ap = A()\n",
    "ap.disp()"
   ]
  },
  {
   "cell_type": "code",
   "execution_count": 98,
   "id": "a53409ad",
   "metadata": {},
   "outputs": [
    {
     "name": "stdout",
     "output_type": "stream",
     "text": [
      "김철수\n"
     ]
    }
   ],
   "source": [
    "print(ap.name)"
   ]
  },
  {
   "cell_type": "code",
   "execution_count": 99,
   "id": "211ae106",
   "metadata": {},
   "outputs": [
    {
     "name": "stdout",
     "output_type": "stream",
     "text": [
      "20\n"
     ]
    }
   ],
   "source": [
    "print(ap.age)"
   ]
  },
  {
   "cell_type": "code",
   "execution_count": 100,
   "id": "567b1d2b",
   "metadata": {},
   "outputs": [
    {
     "name": "stdout",
     "output_type": "stream",
     "text": [
      "김철수\n"
     ]
    }
   ],
   "source": [
    "print(A.name)"
   ]
  },
  {
   "cell_type": "code",
   "execution_count": 104,
   "id": "d0900412",
   "metadata": {},
   "outputs": [
    {
     "ename": "AttributeError",
     "evalue": "type object 'A' has no attribute 'message'",
     "output_type": "error",
     "traceback": [
      "\u001b[1;31m---------------------------------------------------------------------------\u001b[0m",
      "\u001b[1;31mAttributeError\u001b[0m                            Traceback (most recent call last)",
      "Input \u001b[1;32mIn [104]\u001b[0m, in \u001b[0;36m<cell line: 1>\u001b[1;34m()\u001b[0m\n\u001b[1;32m----> 1\u001b[0m \u001b[38;5;28mprint\u001b[39m(\u001b[43mA\u001b[49m\u001b[38;5;241;43m.\u001b[39;49m\u001b[43mmessage\u001b[49m)\n",
      "\u001b[1;31mAttributeError\u001b[0m: type object 'A' has no attribute 'message'"
     ]
    }
   ],
   "source": [
    "print(A.message)"
   ]
  },
  {
   "cell_type": "code",
   "execution_count": 103,
   "id": "cd6ade4a",
   "metadata": {},
   "outputs": [
    {
     "name": "stdout",
     "output_type": "stream",
     "text": [
      "안녕하세요\n"
     ]
    }
   ],
   "source": [
    "print(ap.message)"
   ]
  },
  {
   "cell_type": "code",
   "execution_count": 105,
   "id": "fbe86a85",
   "metadata": {},
   "outputs": [],
   "source": [
    "class Person:\n",
    "    nation = '한국'\n",
    "    name = str()\n",
    "    age = int()\n",
    "    height = float()\n",
    "    weight = float()"
   ]
  },
  {
   "cell_type": "code",
   "execution_count": 106,
   "id": "56dec443",
   "metadata": {},
   "outputs": [
    {
     "name": "stdout",
     "output_type": "stream",
     "text": [
      "['__class__', '__delattr__', '__dict__', '__dir__', '__doc__', '__eq__', '__format__', '__ge__', '__getattribute__', '__gt__', '__hash__', '__init__', '__init_subclass__', '__le__', '__lt__', '__module__', '__ne__', '__new__', '__reduce__', '__reduce_ex__', '__repr__', '__setattr__', '__sizeof__', '__str__', '__subclasshook__', '__weakref__', 'age', 'height', 'name', 'nation', 'weight']\n"
     ]
    }
   ],
   "source": [
    "print(dir(Person)) # dir = 객체의 목록을 보여달라는 의미"
   ]
  },
  {
   "cell_type": "markdown",
   "id": "cf276b48",
   "metadata": {},
   "source": [
    "### 은행 계좌 관리"
   ]
  }
 ],
 "metadata": {
  "kernelspec": {
   "display_name": "Python 3 (ipykernel)",
   "language": "python",
   "name": "python3"
  },
  "language_info": {
   "codemirror_mode": {
    "name": "ipython",
    "version": 3
   },
   "file_extension": ".py",
   "mimetype": "text/x-python",
   "name": "python",
   "nbconvert_exporter": "python",
   "pygments_lexer": "ipython3",
   "version": "3.9.12"
  },
  "toc": {
   "base_numbering": 1,
   "nav_menu": {},
   "number_sections": true,
   "sideBar": true,
   "skip_h1_title": false,
   "title_cell": "Table of Contents",
   "title_sidebar": "Contents",
   "toc_cell": false,
   "toc_position": {},
   "toc_section_display": true,
   "toc_window_display": false
  }
 },
 "nbformat": 4,
 "nbformat_minor": 5
}

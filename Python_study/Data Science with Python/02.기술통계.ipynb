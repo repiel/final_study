{
 "cells": [
  {
   "cell_type": "code",
   "execution_count": 1,
   "id": "1a024355",
   "metadata": {},
   "outputs": [],
   "source": [
    "import numpy as np"
   ]
  },
  {
   "cell_type": "markdown",
   "id": "61e49ce4",
   "metadata": {},
   "source": [
    "#### 데이터 개수 :(len, count) "
   ]
  },
  {
   "cell_type": "code",
   "execution_count": 3,
   "id": "808a42e6",
   "metadata": {},
   "outputs": [],
   "source": [
    "x = np.array([18, 5, 10, 23, 19, -8, 10, 0, 0, 5, 2, 15, 8,\n",
    "             2, 5, 4, 15, -1, 4, -7, -24, 7, 9, -6, 23, -13])"
   ]
  },
  {
   "cell_type": "code",
   "execution_count": 4,
   "id": "0dd14552",
   "metadata": {},
   "outputs": [
    {
     "data": {
      "text/plain": [
       "26"
      ]
     },
     "execution_count": 4,
     "metadata": {},
     "output_type": "execute_result"
    }
   ],
   "source": [
    "len(x)"
   ]
  },
  {
   "cell_type": "markdown",
   "id": "f058a3c1",
   "metadata": {},
   "source": [
    "#### 평균(mean, average)"
   ]
  },
  {
   "cell_type": "code",
   "execution_count": 6,
   "id": "94db8f68",
   "metadata": {},
   "outputs": [
    {
     "data": {
      "text/plain": [
       "4.8076923076923075"
      ]
     },
     "execution_count": 6,
     "metadata": {},
     "output_type": "execute_result"
    }
   ],
   "source": [
    "np.mean(x)"
   ]
  },
  {
   "cell_type": "markdown",
   "id": "314e6c6a",
   "metadata": {},
   "source": [
    "#### 분산(var, variance)\n",
    "- 표본 분산\n",
    "- 불편 분산 (값이 치우쳐져 있는 것을 감안한 채 값을 구하는 것)\n",
    "- 값이 작으면 편차가 크지 않아 값이 모여있고, 값이 크면 편차가 커서 값이 떨어져 있다."
   ]
  },
  {
   "cell_type": "code",
   "execution_count": 9,
   "id": "2cafd553",
   "metadata": {},
   "outputs": [
    {
     "data": {
      "text/plain": [
       "115.23224852071006"
      ]
     },
     "execution_count": 9,
     "metadata": {},
     "output_type": "execute_result"
    }
   ],
   "source": [
    "np.var(x) # 표본 분산"
   ]
  },
  {
   "cell_type": "code",
   "execution_count": 10,
   "id": "bd3056d0",
   "metadata": {},
   "outputs": [
    {
     "data": {
      "text/plain": [
       "119.84153846153846"
      ]
     },
     "execution_count": 10,
     "metadata": {},
     "output_type": "execute_result"
    }
   ],
   "source": [
    "np.var(x, ddof=1) # 비편향 분산, 추후 공부바람..."
   ]
  },
  {
   "cell_type": "markdown",
   "id": "23d07991",
   "metadata": {},
   "source": [
    "#### 표준 편차(standarad divation)\n",
    "- 분산의 양의 제곱근"
   ]
  },
  {
   "cell_type": "code",
   "execution_count": 12,
   "id": "e0d2f7d2",
   "metadata": {},
   "outputs": [
    {
     "data": {
      "text/plain": [
       "10.734628476137871"
      ]
     },
     "execution_count": 12,
     "metadata": {},
     "output_type": "execute_result"
    }
   ],
   "source": [
    "np.std(x)"
   ]
  },
  {
   "cell_type": "markdown",
   "id": "ea8d9632",
   "metadata": {},
   "source": [
    "#### 최댓값(max, maximum) "
   ]
  },
  {
   "cell_type": "code",
   "execution_count": 13,
   "id": "124eecc8",
   "metadata": {},
   "outputs": [
    {
     "data": {
      "text/plain": [
       "23"
      ]
     },
     "execution_count": 13,
     "metadata": {},
     "output_type": "execute_result"
    }
   ],
   "source": [
    "np.max(x)"
   ]
  },
  {
   "cell_type": "markdown",
   "id": "6757ab95",
   "metadata": {},
   "source": [
    "#### 최솟값(min, minimum) "
   ]
  },
  {
   "cell_type": "code",
   "execution_count": 14,
   "id": "e3b193f5",
   "metadata": {},
   "outputs": [
    {
     "data": {
      "text/plain": [
       "-24"
      ]
     },
     "execution_count": 14,
     "metadata": {},
     "output_type": "execute_result"
    }
   ],
   "source": [
    "np.min(x)"
   ]
  },
  {
   "cell_type": "markdown",
   "id": "1b579d85",
   "metadata": {},
   "source": [
    "#### 중앙값(median) "
   ]
  },
  {
   "cell_type": "code",
   "execution_count": 15,
   "id": "8c5e65d6",
   "metadata": {},
   "outputs": [
    {
     "data": {
      "text/plain": [
       "5.0"
      ]
     },
     "execution_count": 15,
     "metadata": {},
     "output_type": "execute_result"
    }
   ],
   "source": [
    "np.median(x)"
   ]
  },
  {
   "cell_type": "markdown",
   "id": "eeee9eb7",
   "metadata": {},
   "source": [
    "#### 사분위수(percentile, quantile)\n",
    "- 백분위수(percentile)"
   ]
  },
  {
   "cell_type": "code",
   "execution_count": 18,
   "id": "48b14f9a",
   "metadata": {},
   "outputs": [
    {
     "data": {
      "text/plain": [
       "-24.0"
      ]
     },
     "execution_count": 18,
     "metadata": {},
     "output_type": "execute_result"
    }
   ],
   "source": [
    "np.percentile(x, 0) # 최솟값"
   ]
  },
  {
   "cell_type": "code",
   "execution_count": 20,
   "id": "e5e8c8bc",
   "metadata": {},
   "outputs": [
    {
     "data": {
      "text/plain": [
       "0.0"
      ]
     },
     "execution_count": 20,
     "metadata": {},
     "output_type": "execute_result"
    }
   ],
   "source": [
    "np.percentile(x, 25) # 1사분위수"
   ]
  },
  {
   "cell_type": "code",
   "execution_count": null,
   "id": "e7d8102e",
   "metadata": {},
   "outputs": [],
   "source": []
  }
 ],
 "metadata": {
  "kernelspec": {
   "display_name": "Python 3 (ipykernel)",
   "language": "python",
   "name": "python3"
  },
  "language_info": {
   "codemirror_mode": {
    "name": "ipython",
    "version": 3
   },
   "file_extension": ".py",
   "mimetype": "text/x-python",
   "name": "python",
   "nbconvert_exporter": "python",
   "pygments_lexer": "ipython3",
   "version": "3.9.7"
  },
  "toc": {
   "base_numbering": 1,
   "nav_menu": {},
   "number_sections": true,
   "sideBar": true,
   "skip_h1_title": false,
   "title_cell": "Table of Contents",
   "title_sidebar": "Contents",
   "toc_cell": false,
   "toc_position": {},
   "toc_section_display": true,
   "toc_window_display": false
  }
 },
 "nbformat": 4,
 "nbformat_minor": 5
}

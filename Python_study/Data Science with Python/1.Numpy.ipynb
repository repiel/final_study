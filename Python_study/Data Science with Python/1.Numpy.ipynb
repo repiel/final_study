{
 "cells": [
  {
   "cell_type": "markdown",
   "id": "f2ffbe1b",
   "metadata": {},
   "source": [
    "# 넘파이(Numpy) 배열 프로그래밍"
   ]
  },
  {
   "cell_type": "markdown",
   "id": "ecfd7324",
   "metadata": {},
   "source": [
    "### 1. 넘파이 배열\n",
    "#### Array(배열): 동일한 자료형을 순서대로 저장하여 처리하는 자료구조\n",
    "#### 파이썬 자료형: List[], Tuple(), set{}, Dict{} - key:value\n",
    "#### 넘파이 자료구조: 다차원 배열 자료구조 클래스 ndarray"
   ]
  },
  {
   "cell_type": "code",
   "execution_count": 5,
   "id": "9bce2acc",
   "metadata": {},
   "outputs": [
    {
     "name": "stdout",
     "output_type": "stream",
     "text": [
      "[1, 4, 9, 16, 25]\n"
     ]
    }
   ],
   "source": [
    "a=[1, 2, 3, 4, 5]\n",
    "b=[1, 2, 3, 4, 5]\n",
    "c = [] # 빈 리스트 객체\n",
    "# for 개별변수 in 집합변수\n",
    "for i in range(len(a)): \n",
    "    c.append(a[i]*b[i])\n",
    "    \n",
    "print(c)\n",
    "    \n",
    "    "
   ]
  },
  {
   "cell_type": "code",
   "execution_count": 6,
   "id": "2c351b3f",
   "metadata": {},
   "outputs": [
    {
     "ename": "TypeError",
     "evalue": "can't multiply sequence by non-int of type 'list'",
     "output_type": "error",
     "traceback": [
      "\u001b[1;31m---------------------------------------------------------------------------\u001b[0m",
      "\u001b[1;31mTypeError\u001b[0m                                 Traceback (most recent call last)",
      "\u001b[1;32m~\\AppData\\Local\\Temp/ipykernel_7992/2816461933.py\u001b[0m in \u001b[0;36m<module>\u001b[1;34m\u001b[0m\n\u001b[1;32m----> 1\u001b[1;33m \u001b[0mc\u001b[0m\u001b[1;33m=\u001b[0m\u001b[0ma\u001b[0m\u001b[1;33m*\u001b[0m\u001b[0mb\u001b[0m\u001b[1;33m\u001b[0m\u001b[1;33m\u001b[0m\u001b[0m\n\u001b[0m\u001b[0;32m      2\u001b[0m \u001b[0mc\u001b[0m\u001b[1;33m\u001b[0m\u001b[1;33m\u001b[0m\u001b[0m\n",
      "\u001b[1;31mTypeError\u001b[0m: can't multiply sequence by non-int of type 'list'"
     ]
    }
   ],
   "source": [
    "c=a*b\n",
    "c"
   ]
  },
  {
   "cell_type": "markdown",
   "id": "ab2d28c8",
   "metadata": {},
   "source": [
    "### 2. 넘파이 패키지 임포트"
   ]
  },
  {
   "cell_type": "code",
   "execution_count": 7,
   "id": "dedbd665",
   "metadata": {},
   "outputs": [],
   "source": [
    "import numpy as np"
   ]
  },
  {
   "cell_type": "code",
   "execution_count": 8,
   "id": "5f70919a",
   "metadata": {},
   "outputs": [
    {
     "data": {
      "text/plain": [
       "'1.20.3'"
      ]
     },
     "execution_count": 8,
     "metadata": {},
     "output_type": "execute_result"
    }
   ],
   "source": [
    "# Numpy 라이브러리 버전 확인\n",
    "np.__version__"
   ]
  },
  {
   "cell_type": "code",
   "execution_count": 26,
   "id": "3c52f8ce",
   "metadata": {},
   "outputs": [
    {
     "ename": "ValueError",
     "evalue": "operands could not be broadcast together with shapes (3,) (5,) ",
     "output_type": "error",
     "traceback": [
      "\u001b[1;31m---------------------------------------------------------------------------\u001b[0m",
      "\u001b[1;31mValueError\u001b[0m                                Traceback (most recent call last)",
      "\u001b[1;32m~\\AppData\\Local\\Temp/ipykernel_7992/2142455117.py\u001b[0m in \u001b[0;36m<module>\u001b[1;34m\u001b[0m\n\u001b[0;32m      1\u001b[0m \u001b[0mx\u001b[0m \u001b[1;33m=\u001b[0m \u001b[0mnp\u001b[0m\u001b[1;33m.\u001b[0m\u001b[0marray\u001b[0m\u001b[1;33m(\u001b[0m\u001b[0ma\u001b[0m\u001b[1;33m)\u001b[0m\u001b[1;33m\u001b[0m\u001b[1;33m\u001b[0m\u001b[0m\n\u001b[0;32m      2\u001b[0m \u001b[0my\u001b[0m \u001b[1;33m=\u001b[0m \u001b[0mnp\u001b[0m\u001b[1;33m.\u001b[0m\u001b[0marray\u001b[0m\u001b[1;33m(\u001b[0m\u001b[0mb\u001b[0m\u001b[1;33m)\u001b[0m\u001b[1;33m\u001b[0m\u001b[1;33m\u001b[0m\u001b[0m\n\u001b[1;32m----> 3\u001b[1;33m \u001b[0mx\u001b[0m \u001b[1;33m*\u001b[0m \u001b[0my\u001b[0m\u001b[1;33m\u001b[0m\u001b[1;33m\u001b[0m\u001b[0m\n\u001b[0m",
      "\u001b[1;31mValueError\u001b[0m: operands could not be broadcast together with shapes (3,) (5,) "
     ]
    }
   ],
   "source": [
    "x = np.array(a)\n",
    "y = np.array(b)\n",
    "x * y"
   ]
  },
  {
   "cell_type": "markdown",
   "id": "8585cc60",
   "metadata": {},
   "source": [
    "#### 수업에 사용할 함수 정의"
   ]
  },
  {
   "cell_type": "markdown",
   "id": "fab0eb50",
   "metadata": {},
   "source": [
    "#### 파이썬 1차원 배열(list)로 Numpy 배열 생성하는 방법"
   ]
  },
  {
   "cell_type": "code",
   "execution_count": 27,
   "id": "0e31f295",
   "metadata": {},
   "outputs": [],
   "source": [
    "arr=[1, 2, 3]\n",
    "a = np.array(arr)\n",
    "a = np.array([1, 2, 3])"
   ]
  },
  {
   "cell_type": "code",
   "execution_count": 28,
   "id": "0730622a",
   "metadata": {},
   "outputs": [
    {
     "name": "stdout",
     "output_type": "stream",
     "text": [
      "type:<class 'numpy.ndarray'>\n",
      "shape:(3,), dimension:1, dtype:int32\n",
      "Array's Data : \n",
      " [1 2 3]\n"
     ]
    }
   ],
   "source": [
    "teacher.pprint(a)"
   ]
  },
  {
   "cell_type": "code",
   "execution_count": 29,
   "id": "8cc8486a",
   "metadata": {},
   "outputs": [],
   "source": [
    "import teacher"
   ]
  },
  {
   "cell_type": "code",
   "execution_count": 30,
   "id": "b5c55026",
   "metadata": {},
   "outputs": [],
   "source": [
    "from teacher import *"
   ]
  },
  {
   "cell_type": "markdown",
   "id": "6a6e8e7b",
   "metadata": {},
   "source": [
    "#### 파이썬 2차원 배열로 Numpy 배열 생성, 원소 데이터타입 지정 "
   ]
  },
  {
   "cell_type": "code",
   "execution_count": 32,
   "id": "6d7915ba",
   "metadata": {},
   "outputs": [],
   "source": [
    "arr = [[1, 2, 3],[4, 5, 6]]\n",
    "arr2 = [(1, 2, 3), (4, 5, 6)]\n",
    "b = np.array(arr, dtype = float)"
   ]
  },
  {
   "cell_type": "code",
   "execution_count": 34,
   "id": "e9295163",
   "metadata": {},
   "outputs": [
    {
     "name": "stdout",
     "output_type": "stream",
     "text": [
      "type:<class 'numpy.ndarray'>\n",
      "shape:(2, 3), dimension:2, dtype:float64\n",
      "Array's Data : \n",
      " [[1. 2. 3.]\n",
      " [4. 5. 6.]]\n"
     ]
    }
   ],
   "source": [
    "pprint(b)"
   ]
  },
  {
   "cell_type": "markdown",
   "id": "ee3a84d4",
   "metadata": {},
   "source": [
    "#### 파이썬 3차원 배열로 Numpy 배열 생성, 원소 데이터 타입 지정 "
   ]
  },
  {
   "cell_type": "code",
   "execution_count": 35,
   "id": "c52b8b35",
   "metadata": {},
   "outputs": [],
   "source": [
    "arr = np.array([[[1, 2, 3], [4, 5, 6]],[[3, 2, 1],[4, 5, 6]]], dtype = float)"
   ]
  },
  {
   "cell_type": "code",
   "execution_count": 36,
   "id": "1c85985c",
   "metadata": {},
   "outputs": [
    {
     "name": "stdout",
     "output_type": "stream",
     "text": [
      "type:<class 'numpy.ndarray'>\n",
      "shape:(2, 2, 3), dimension:3, dtype:float64\n",
      "Array's Data : \n",
      " [[[1. 2. 3.]\n",
      "  [4. 5. 6.]]\n",
      "\n",
      " [[3. 2. 1.]\n",
      "  [4. 5. 6.]]]\n"
     ]
    }
   ],
   "source": [
    "pprint(arr)"
   ]
  },
  {
   "cell_type": "markdown",
   "id": "631987f6",
   "metadata": {},
   "source": [
    "#### np.zeros(shape, dtype = float, order = 'C')\n",
    "- 지정된 shape의 배열을 생성하고, 모든 요소를 0으로 초기화"
   ]
  },
  {
   "cell_type": "code",
   "execution_count": 37,
   "id": "da770164",
   "metadata": {},
   "outputs": [
    {
     "name": "stdout",
     "output_type": "stream",
     "text": [
      "type:<class 'numpy.ndarray'>\n",
      "shape:(3, 4), dimension:2, dtype:float64\n",
      "Array's Data : \n",
      " [[0. 0. 0. 0.]\n",
      " [0. 0. 0. 0.]\n",
      " [0. 0. 0. 0.]]\n"
     ]
    }
   ],
   "source": [
    "a = np.zeros((3, 4))\n",
    "pprint(a)"
   ]
  },
  {
   "cell_type": "markdown",
   "id": "51509547",
   "metadata": {},
   "source": [
    "#### np.ones(shape, dtype=None, order='C')\n",
    "- 지정된 shape의 배열을 생성하고, 모든 요소를 1로 초기화"
   ]
  },
  {
   "cell_type": "code",
   "execution_count": 41,
   "id": "0c75d098",
   "metadata": {},
   "outputs": [
    {
     "name": "stdout",
     "output_type": "stream",
     "text": [
      "type:<class 'numpy.ndarray'>\n",
      "shape:(2, 3, 4), dimension:3, dtype:int16\n",
      "Array's Data : \n",
      " [[[1 1 1 1]\n",
      "  [1 1 1 1]\n",
      "  [1 1 1 1]]\n",
      "\n",
      " [[1 1 1 1]\n",
      "  [1 1 1 1]\n",
      "  [1 1 1 1]]]\n"
     ]
    }
   ],
   "source": [
    "a = np.ones((2, 3, 4), dtype = np.int16)\n",
    "pprint(a)"
   ]
  },
  {
   "cell_type": "markdown",
   "id": "b0415738",
   "metadata": {},
   "source": [
    "#### np.full(shape, fill_value, dtype=None,order='C')\n",
    "- 지정된 shape의 배열을 생성하고, 모든 요소를 fill_value 값으로 초기화"
   ]
  },
  {
   "cell_type": "code",
   "execution_count": 42,
   "id": "c333f5f2",
   "metadata": {},
   "outputs": [
    {
     "name": "stdout",
     "output_type": "stream",
     "text": [
      "type:<class 'numpy.ndarray'>\n",
      "shape:(2, 2), dimension:2, dtype:int32\n",
      "Array's Data : \n",
      " [[7 7]\n",
      " [7 7]]\n"
     ]
    }
   ],
   "source": [
    "a = np.full((2, 2), 7)\n",
    "pprint(a)"
   ]
  },
  {
   "cell_type": "markdown",
   "id": "027f2caf",
   "metadata": {},
   "source": [
    "#### np.eye(N, M=None, k=0, dtype=float) \n",
    "- (N, N) shape의 단위 행렬을 생성"
   ]
  },
  {
   "cell_type": "code",
   "execution_count": 43,
   "id": "3d8894dc",
   "metadata": {},
   "outputs": [
    {
     "data": {
      "text/plain": [
       "array([[1., 0., 0., 0.],\n",
       "       [0., 1., 0., 0.],\n",
       "       [0., 0., 1., 0.],\n",
       "       [0., 0., 0., 1.]])"
      ]
     },
     "execution_count": 43,
     "metadata": {},
     "output_type": "execute_result"
    }
   ],
   "source": [
    "np.eye(4)"
   ]
  },
  {
   "cell_type": "markdown",
   "id": "d73535bf",
   "metadata": {},
   "source": [
    "#### np.empty(shape, dtype=float, order='C')\n",
    "- 지정된 shape의 배열 생성\n",
    "- 요소의 초기화과정이 없고, 기존 메모리 값을 그대로 사용\n",
    "- 배열 생성비용이 가장 저렴하고 빠르다"
   ]
  },
  {
   "cell_type": "code",
   "execution_count": 44,
   "id": "862cb061",
   "metadata": {},
   "outputs": [
    {
     "name": "stdout",
     "output_type": "stream",
     "text": [
      "type:<class 'numpy.ndarray'>\n",
      "shape:(4, 2), dimension:2, dtype:float64\n",
      "Array's Data : \n",
      " [[0.00000000e+000 0.00000000e+000]\n",
      " [0.00000000e+000 0.00000000e+000]\n",
      " [0.00000000e+000 7.58884832e-321]\n",
      " [1.60219034e-306 2.56761491e-312]]\n"
     ]
    }
   ],
   "source": [
    "a = np.empty((4, 2))\n",
    "pprint(a)"
   ]
  },
  {
   "cell_type": "markdown",
   "id": "2c5da674",
   "metadata": {},
   "source": [
    "#### like 함수, ~처럼, ~같은\n",
    "- 지정된 배열과 shape이 같은 배열을 만드는 함수\n",
    "- np.zeros_like(기존에 만든 배열)\n",
    "- np.ones_like\n",
    "- np.full_like\n",
    "- np.empty_like"
   ]
  },
  {
   "cell_type": "code",
   "execution_count": 45,
   "id": "2964ba00",
   "metadata": {
    "scrolled": true
   },
   "outputs": [
    {
     "name": "stdout",
     "output_type": "stream",
     "text": [
      "type:<class 'numpy.ndarray'>\n",
      "shape:(2, 3), dimension:2, dtype:int32\n",
      "Array's Data : \n",
      " [[1 1 1]\n",
      " [1 1 1]]\n"
     ]
    }
   ],
   "source": [
    "a = np.array([[1, 2, 3],[4, 5, 6]])\n",
    "b = np.ones_like(a)\n",
    "pprint(b)"
   ]
  },
  {
   "cell_type": "markdown",
   "id": "690d2abf",
   "metadata": {},
   "source": [
    "#### 난수 발생과 카운팅\n",
    "- 난수(random number) : 파이썬을 이용하여 데이터를 무작위로 섞거나 임의의 수\n",
    "- 시드(seed) : 0 이거나 0보다 큰 정수를 취한다"
   ]
  },
  {
   "cell_type": "code",
   "execution_count": 66,
   "id": "0d31c940",
   "metadata": {},
   "outputs": [],
   "source": [
    "# seed 설정\n",
    "np.random.seed(0)"
   ]
  },
  {
   "cell_type": "code",
   "execution_count": 67,
   "id": "cb94e67e",
   "metadata": {},
   "outputs": [
    {
     "data": {
      "text/plain": [
       "array([0.5488135 , 0.71518937, 0.60276338, 0.54488318, 0.4236548 ])"
      ]
     },
     "execution_count": 67,
     "metadata": {},
     "output_type": "execute_result"
    }
   ],
   "source": [
    "# rand : 0 ~ 1 사이의 난수 발생 함수\n",
    "np.random.rand(5)"
   ]
  },
  {
   "cell_type": "code",
   "execution_count": 72,
   "id": "baf1c75a",
   "metadata": {},
   "outputs": [
    {
     "data": {
      "text/plain": [
       "array([0.67063787, 0.21038256, 0.1289263 , 0.31542835, 0.36371077,\n",
       "       0.57019677, 0.43860151, 0.98837384, 0.10204481, 0.20887676])"
      ]
     },
     "execution_count": 72,
     "metadata": {},
     "output_type": "execute_result"
    }
   ],
   "source": [
    "np.random.rand(10)"
   ]
  },
  {
   "cell_type": "code",
   "execution_count": 63,
   "id": "a9470fe0",
   "metadata": {},
   "outputs": [],
   "source": [
    "np.random.seed(0)"
   ]
  },
  {
   "cell_type": "code",
   "execution_count": 64,
   "id": "adc8a471",
   "metadata": {},
   "outputs": [
    {
     "data": {
      "text/plain": [
       "array([0.5488135 , 0.71518937, 0.60276338, 0.54488318, 0.4236548 ])"
      ]
     },
     "execution_count": 64,
     "metadata": {},
     "output_type": "execute_result"
    }
   ],
   "source": [
    "np.random.rand(5)"
   ]
  },
  {
   "cell_type": "code",
   "execution_count": 65,
   "id": "157583a8",
   "metadata": {},
   "outputs": [
    {
     "data": {
      "text/plain": [
       "array([0.64589411, 0.43758721, 0.891773  , 0.96366276, 0.38344152,\n",
       "       0.79172504, 0.52889492, 0.56804456, 0.92559664, 0.07103606])"
      ]
     },
     "execution_count": 65,
     "metadata": {},
     "output_type": "execute_result"
    }
   ],
   "source": [
    "np.random.rand(10)"
   ]
  },
  {
   "cell_type": "code",
   "execution_count": 70,
   "id": "cefc70a6",
   "metadata": {},
   "outputs": [
    {
     "data": {
      "text/plain": [
       "array([0.63992102, 0.14335329, 0.94466892, 0.52184832, 0.41466194,\n",
       "       0.26455561, 0.77423369, 0.45615033, 0.56843395, 0.0187898 ])"
      ]
     },
     "execution_count": 70,
     "metadata": {},
     "output_type": "execute_result"
    }
   ],
   "source": [
    "np.random.rand(10)"
   ]
  },
  {
   "cell_type": "markdown",
   "id": "521704c0",
   "metadata": {},
   "source": [
    "#### 데이터의 순서 변경 : shuffle "
   ]
  },
  {
   "cell_type": "code",
   "execution_count": 75,
   "id": "ae319bf9",
   "metadata": {},
   "outputs": [
    {
     "data": {
      "text/plain": [
       "array([0, 1, 2, 3, 4, 5, 6, 7, 8, 9])"
      ]
     },
     "execution_count": 75,
     "metadata": {},
     "output_type": "execute_result"
    }
   ],
   "source": [
    "x = np.arange(10)\n",
    "x"
   ]
  },
  {
   "cell_type": "code",
   "execution_count": 78,
   "id": "fade5147",
   "metadata": {},
   "outputs": [
    {
     "data": {
      "text/plain": [
       "array([1, 9, 0, 4, 2, 8, 3, 5, 6, 7])"
      ]
     },
     "execution_count": 78,
     "metadata": {},
     "output_type": "execute_result"
    }
   ],
   "source": [
    "np.random.shuffle(x)\n",
    "x"
   ]
  },
  {
   "cell_type": "markdown",
   "id": "ef9b6fe1",
   "metadata": {},
   "source": [
    "#### 데이터 샘플링 : choice\n",
    "- np.random.choice(data, size=None, replace=True, p=None)\n",
    "- data : 원래의 데이터, arrange(data)\n",
    "- size : 샘플 숫자\n",
    "- replace : True이면 한 번 선택한 데이터를 다시 선택 가능\n",
    "- p : 각 데이터가 선택될 수 있는 확률\n"
   ]
  },
  {
   "cell_type": "code",
   "execution_count": 79,
   "id": "9859114c",
   "metadata": {},
   "outputs": [
    {
     "data": {
      "text/plain": [
       "array([3, 4, 2, 1, 0])"
      ]
     },
     "execution_count": 79,
     "metadata": {},
     "output_type": "execute_result"
    }
   ],
   "source": [
    "np.random.choice(5, 5, replace = False) # shuffle 명령과 같다"
   ]
  },
  {
   "cell_type": "code",
   "execution_count": 80,
   "id": "0fe45b3c",
   "metadata": {},
   "outputs": [
    {
     "data": {
      "text/plain": [
       "array([3, 4, 1])"
      ]
     },
     "execution_count": 80,
     "metadata": {},
     "output_type": "execute_result"
    }
   ],
   "source": [
    "np.random.choice(5, 3, replace = False)"
   ]
  },
  {
   "cell_type": "code",
   "execution_count": 81,
   "id": "f4645f37",
   "metadata": {},
   "outputs": [
    {
     "data": {
      "text/plain": [
       "array([2, 2, 0, 1, 0, 2, 2, 3, 2, 3])"
      ]
     },
     "execution_count": 81,
     "metadata": {},
     "output_type": "execute_result"
    }
   ],
   "source": [
    "np.random.choice(5, 10)"
   ]
  },
  {
   "cell_type": "code",
   "execution_count": 82,
   "id": "e6075d8b",
   "metadata": {},
   "outputs": [
    {
     "data": {
      "text/plain": [
       "array([2, 2, 3, 0, 3, 3, 2, 3, 0, 3])"
      ]
     },
     "execution_count": 82,
     "metadata": {},
     "output_type": "execute_result"
    }
   ],
   "source": [
    "np.random.choice(5, 10, p = [0.1, 0, 0.3, 0.6, 0])"
   ]
  },
  {
   "cell_type": "markdown",
   "id": "06474123",
   "metadata": {},
   "source": [
    "#### 난수 생성\n",
    "- rand : 0부터 1사이의 균일분포\n",
    "- randdn : 표준 정규 분포\n",
    "- randint : 균일 분포의 정수 난수\n",
    "- randint(low, high=None, size=None)"
   ]
  },
  {
   "cell_type": "code",
   "execution_count": 84,
   "id": "9105b1e9",
   "metadata": {},
   "outputs": [
    {
     "data": {
      "text/plain": [
       "array([6, 8, 2, 3, 0, 0, 6, 0, 6, 3])"
      ]
     },
     "execution_count": 84,
     "metadata": {},
     "output_type": "execute_result"
    }
   ],
   "source": [
    "np.random.randint(10, size=10)"
   ]
  },
  {
   "cell_type": "code",
   "execution_count": 85,
   "id": "6cdc0808",
   "metadata": {},
   "outputs": [
    {
     "data": {
      "text/plain": [
       "array([13, 18, 18, 18, 12, 13, 12, 10, 18, 18])"
      ]
     },
     "execution_count": 85,
     "metadata": {},
     "output_type": "execute_result"
    }
   ],
   "source": [
    "np.random.randint(10, 20, size=10)"
   ]
  },
  {
   "cell_type": "code",
   "execution_count": 86,
   "id": "bff6c268",
   "metadata": {},
   "outputs": [
    {
     "data": {
      "text/plain": [
       "array([[13, 18, 12, 18, 14],\n",
       "       [13, 10, 14, 13, 16],\n",
       "       [19, 18, 10, 18, 15]])"
      ]
     },
     "execution_count": 86,
     "metadata": {},
     "output_type": "execute_result"
    }
   ],
   "source": [
    "np.random.randint(10, 20, size=(3, 5))"
   ]
  },
  {
   "cell_type": "markdown",
   "id": "d710540b",
   "metadata": {},
   "source": [
    "#### 정수 데이터 카운팅"
   ]
  },
  {
   "cell_type": "code",
   "execution_count": 87,
   "id": "f28f452c",
   "metadata": {},
   "outputs": [
    {
     "data": {
      "text/plain": [
       "array([ 2, 11, 34])"
      ]
     },
     "execution_count": 87,
     "metadata": {},
     "output_type": "execute_result"
    }
   ],
   "source": [
    "np.unique([11, 11, 2, 2, 34, 34])"
   ]
  },
  {
   "cell_type": "code",
   "execution_count": 88,
   "id": "435a8664",
   "metadata": {},
   "outputs": [],
   "source": [
    "a = np.array(['a','b','b','c','a'])\n",
    "index, count = np.unique(a, return_counts = True)"
   ]
  },
  {
   "cell_type": "code",
   "execution_count": 89,
   "id": "934a6726",
   "metadata": {},
   "outputs": [
    {
     "data": {
      "text/plain": [
       "array(['a', 'b', 'c'], dtype='<U1')"
      ]
     },
     "execution_count": 89,
     "metadata": {},
     "output_type": "execute_result"
    }
   ],
   "source": [
    "index"
   ]
  },
  {
   "cell_type": "code",
   "execution_count": 90,
   "id": "53a22ff9",
   "metadata": {},
   "outputs": [
    {
     "data": {
      "text/plain": [
       "array([2, 2, 1], dtype=int64)"
      ]
     },
     "execution_count": 90,
     "metadata": {},
     "output_type": "execute_result"
    }
   ],
   "source": [
    "count"
   ]
  },
  {
   "cell_type": "markdown",
   "id": "94f58071",
   "metadata": {},
   "source": [
    "#### 데이터 생성 함수\n",
    "- Numpy는 주어진 조건으로 데이터를 생성한 후, 배열을 만드는 데이터 생성함수 제공\n",
    "- np.linspace(start, stop, num=50, endpoint=True, retstep=False, dtype=None)\n",
    "- np.arange(start, stop, step)\n",
    "- np.logspace"
   ]
  },
  {
   "cell_type": "code",
   "execution_count": 91,
   "id": "2f03face",
   "metadata": {},
   "outputs": [
    {
     "name": "stdout",
     "output_type": "stream",
     "text": [
      "type:<class 'numpy.ndarray'>\n",
      "shape:(5,), dimension:1, dtype:float64\n",
      "Array's Data : \n",
      " [0.   0.25 0.5  0.75 1.  ]\n"
     ]
    }
   ],
   "source": [
    "a = np.linspace(0, 1, 5)\n",
    "pprint(a)"
   ]
  },
  {
   "cell_type": "code",
   "execution_count": 92,
   "id": "be3d9187",
   "metadata": {},
   "outputs": [
    {
     "data": {
      "image/png": "[encoded data removed]",
      "text/plain": [
       "<Figure size 432x288 with 1 Axes>"
      ]
     },
     "metadata": {
      "needs_background": "light"
     },
     "output_type": "display_data"
    }
   ],
   "source": [
    "import matplotlib.pyplot as plt\n",
    "plt.plot(a, 'o')\n",
    "plt.show()"
   ]
  },
  {
   "cell_type": "code",
   "execution_count": 95,
   "id": "bd3a5def",
   "metadata": {},
   "outputs": [
    {
     "name": "stdout",
     "output_type": "stream",
     "text": [
      "type:<class 'numpy.ndarray'>\n",
      "shape:(5,), dimension:1, dtype:float64\n",
      "Array's Data : \n",
      " [0. 2. 4. 6. 8.]\n"
     ]
    }
   ],
   "source": [
    "a = np.arange(0, 10, 2, np.float64)\n",
    "pprint(a)"
   ]
  },
  {
   "cell_type": "code",
   "execution_count": 97,
   "id": "58413eef",
   "metadata": {},
   "outputs": [
    {
     "name": "stdout",
     "output_type": "stream",
     "text": [
      "type:<class 'numpy.ndarray'>\n",
      "shape:(20,), dimension:1, dtype:float64\n",
      "Array's Data : \n",
      " [ 1.25892541  1.40400425  1.565802    1.74624535  1.94748304  2.1719114\n",
      "  2.42220294  2.70133812  3.0126409   3.35981829  3.74700446  4.17881006\n",
      "  4.66037703  5.19743987  5.79639395  6.46437163  7.2093272   8.04013161\n",
      "  8.9666781  10.        ]\n"
     ]
    }
   ],
   "source": [
    "a = np.logspace(0.1, 1, 20)\n",
    "pprint(a)"
   ]
  },
  {
   "cell_type": "code",
   "execution_count": 99,
   "id": "00341397",
   "metadata": {},
   "outputs": [
    {
     "data": {
      "image/png": "[encoded data removed]",
      "text/plain": [
       "<Figure size 432x288 with 1 Axes>"
      ]
     },
     "metadata": {
      "needs_background": "light"
     },
     "output_type": "display_data"
    }
   ],
   "source": [
    "plt.plot(a, 'o')\n",
    "plt.show()"
   ]
  },
  {
   "cell_type": "markdown",
   "id": "2df83beb",
   "metadata": {},
   "source": [
    "#### 난수 기반 배열 생성 \n",
    "- np.random.normal(loc = 0.0, scale=1.0, size)\n",
    "- np.random.random()\n",
    "- np.random.rand()\n",
    "- np.random.randn()\n",
    "- np.random.randint()"
   ]
  },
  {
   "cell_type": "code",
   "execution_count": 101,
   "id": "684f81db",
   "metadata": {},
   "outputs": [
    {
     "name": "stdout",
     "output_type": "stream",
     "text": [
      "type:<class 'numpy.ndarray'>\n",
      "shape:(2, 3), dimension:2, dtype:float64\n",
      "Array's Data : \n",
      " [[ 0.08672983  0.45628701  0.4310333 ]\n",
      " [ 2.07257353 -0.53778512 -1.3784301 ]]\n"
     ]
    }
   ],
   "source": [
    "mean = 0\n",
    "std = 1\n",
    "a = np.random.normal(mean, std, (2,3))\n",
    "pprint(a)"
   ]
  },
  {
   "cell_type": "code",
   "execution_count": 102,
   "id": "aa87b319",
   "metadata": {},
   "outputs": [
    {
     "data": {
      "image/png": "[encoded data removed]",
      "text/plain": [
       "<Figure size 432x288 with 1 Axes>"
      ]
     },
     "metadata": {
      "needs_background": "light"
     },
     "output_type": "display_data"
    }
   ],
   "source": [
    "data = np.random.normal(0, 1, 10000)\n",
    "plt.hist(data, bins=100)\n",
    "plt.show()"
   ]
  },
  {
   "cell_type": "code",
   "execution_count": 104,
   "id": "b578eabd",
   "metadata": {},
   "outputs": [
    {
     "data": {
      "image/png": "[encoded data removed]",
      "text/plain": [
       "<Figure size 432x288 with 1 Axes>"
      ]
     },
     "metadata": {
      "needs_background": "light"
     },
     "output_type": "display_data"
    }
   ],
   "source": [
    "data = np.random.rand(10000)\n",
    "plt.hist(data, bins = 10)\n",
    "plt.show()"
   ]
  },
  {
   "cell_type": "code",
   "execution_count": 106,
   "id": "0ef3307a",
   "metadata": {},
   "outputs": [
    {
     "data": {
      "image/png": "[encoded data removed]",
      "text/plain": [
       "<Figure size 432x288 with 1 Axes>"
      ]
     },
     "metadata": {
      "needs_background": "light"
     },
     "output_type": "display_data"
    }
   ],
   "source": [
    "data = np.random.randn(10000)\n",
    "plt.hist(data, bins = 10)\n",
    "plt.show()"
   ]
  },
  {
   "cell_type": "code",
   "execution_count": 107,
   "id": "934c2d8a",
   "metadata": {},
   "outputs": [
    {
     "data": {
      "image/png": "[encoded data removed]",
      "text/plain": [
       "<Figure size 432x288 with 1 Axes>"
      ]
     },
     "metadata": {
      "needs_background": "light"
     },
     "output_type": "display_data"
    }
   ],
   "source": [
    "data = np.random.randint(-100, 100, 10000)\n",
    "plt.hist(data, bins = 10)\n",
    "plt.show()"
   ]
  },
  {
   "cell_type": "code",
   "execution_count": 108,
   "id": "4c5eb300",
   "metadata": {},
   "outputs": [
    {
     "data": {
      "image/png": "[encoded data removed]",
      "text/plain": [
       "<Figure size 432x288 with 1 Axes>"
      ]
     },
     "metadata": {
      "needs_background": "light"
     },
     "output_type": "display_data"
    }
   ],
   "source": [
    "data = np.random.random(100000)\n",
    "plt.hist(data, bins = 10)\n",
    "plt.show()"
   ]
  },
  {
   "cell_type": "markdown",
   "id": "f9c5a81a",
   "metadata": {},
   "source": [
    "# Numpy 입출력"
   ]
  },
  {
   "cell_type": "markdown",
   "id": "20c2ca3f",
   "metadata": {},
   "source": [
    "##### 바이너리(Binary)\n",
    "- np.save() : Numpy배열 객체 1개를 파일에 저장 (확장자:npy)\n",
    "- np.savez() : Numpy배열 객체 복수개를 파일에 저장 (확장자:npz)\n",
    "- np.load() : Numpy배열 저장 파일로부터 객체 로딩\n",
    "\n",
    "##### 텍스트(text)\n",
    "- np.loadtxt(): 텍스트 파일로부터 배열 로딩\n",
    "- np.savetxt() : 텍스트 파일에 Numpy 배열 객체 저장"
   ]
  },
  {
   "cell_type": "code",
   "execution_count": 109,
   "id": "995f324c",
   "metadata": {},
   "outputs": [
    {
     "name": "stdout",
     "output_type": "stream",
     "text": [
      "type:<class 'numpy.ndarray'>\n",
      "shape:(2, 3), dimension:2, dtype:int32\n",
      "Array's Data : \n",
      " [[2 6 1]\n",
      " [4 4 4]]\n",
      "type:<class 'numpy.ndarray'>\n",
      "shape:(2, 3), dimension:2, dtype:int32\n",
      "Array's Data : \n",
      " [[9 5 5]\n",
      " [0 1 5]]\n"
     ]
    }
   ],
   "source": [
    "a = np.random.randint(0, 10, (2, 3))\n",
    "b = np.random.randint(0, 10, (2, 3))\n",
    "\n",
    "pprint(a)\n",
    "pprint(b)"
   ]
  },
  {
   "cell_type": "markdown",
   "id": "11d2d2c3",
   "metadata": {},
   "source": [
    "#### 1개 배열 파일에 저장"
   ]
  },
  {
   "cell_type": "code",
   "execution_count": 110,
   "id": "baa99296",
   "metadata": {},
   "outputs": [],
   "source": [
    "np.save('my_array1', a)"
   ]
  },
  {
   "cell_type": "code",
   "execution_count": 112,
   "id": "4ee2acc7",
   "metadata": {},
   "outputs": [
    {
     "name": "stdout",
     "output_type": "stream",
     "text": [
      " C 드라이브의 볼륨에는 이름이 없습니다.\n",
      " 볼륨 일련 번호: 50EE-7FC3\n",
      "\n",
      " C:\\K_digital\\source\\python base\\Data Science with Python 디렉터리\n",
      "\n",
      "2022-10-24  오후 12:19    <DIR>          .\n",
      "2022-10-24  오후 12:19    <DIR>          ..\n",
      "2022-10-24  오전 09:24    <DIR>          .ipynb_checkpoints\n",
      "2022-10-24  오후 12:19            72,952 1.Numpy.ipynb\n",
      "2022-10-24  오후 12:18               152 my_array1.npy\n",
      "2022-10-24  오전 10:19               176 teacher.py\n",
      "2022-10-24  오전 10:19    <DIR>          __pycache__\n",
      "               3개 파일              73,280 바이트\n",
      "               4개 디렉터리  187,002,417,152 바이트 남음\n"
     ]
    }
   ],
   "source": [
    "!dir "
   ]
  },
  {
   "cell_type": "code",
   "execution_count": 113,
   "id": "72a97e71",
   "metadata": {},
   "outputs": [],
   "source": [
    "np.savez('my_array2', a, b)"
   ]
  },
  {
   "cell_type": "code",
   "execution_count": 114,
   "id": "e404c110",
   "metadata": {},
   "outputs": [
    {
     "data": {
      "text/plain": [
       "array([[2, 6, 1],\n",
       "       [4, 4, 4]])"
      ]
     },
     "execution_count": 114,
     "metadata": {},
     "output_type": "execute_result"
    }
   ],
   "source": [
    "np.load('my_array1.npy')"
   ]
  },
  {
   "cell_type": "code",
   "execution_count": 117,
   "id": "6414475e",
   "metadata": {},
   "outputs": [],
   "source": [
    "x = np.load('my_array2.npz')"
   ]
  },
  {
   "cell_type": "code",
   "execution_count": 118,
   "id": "663efcff",
   "metadata": {},
   "outputs": [
    {
     "data": {
      "text/plain": [
       "['arr_0', 'arr_1']"
      ]
     },
     "execution_count": 118,
     "metadata": {},
     "output_type": "execute_result"
    }
   ],
   "source": [
    "x.files "
   ]
  },
  {
   "cell_type": "code",
   "execution_count": 119,
   "id": "70dfb725",
   "metadata": {},
   "outputs": [
    {
     "data": {
      "text/plain": [
       "array([[2, 6, 1],\n",
       "       [4, 4, 4]])"
      ]
     },
     "execution_count": 119,
     "metadata": {},
     "output_type": "execute_result"
    }
   ],
   "source": [
    "x['arr_0']"
   ]
  },
  {
   "cell_type": "code",
   "execution_count": 120,
   "id": "e0efd0fb",
   "metadata": {},
   "outputs": [
    {
     "data": {
      "text/plain": [
       "array([[9, 5, 5],\n",
       "       [0, 1, 5]])"
      ]
     },
     "execution_count": 120,
     "metadata": {},
     "output_type": "execute_result"
    }
   ],
   "source": [
    "x['arr_1']"
   ]
  },
  {
   "cell_type": "markdown",
   "id": "06b41675",
   "metadata": {},
   "source": [
    "### 4. Numpy 데이터 타입 "
   ]
  },
  {
   "cell_type": "markdown",
   "id": "438b9950",
   "metadata": {},
   "source": [
    "### 5. inspecting : 배열 상태 검사"
   ]
  },
  {
   "cell_type": "code",
   "execution_count": 121,
   "id": "407a3128",
   "metadata": {},
   "outputs": [],
   "source": [
    "arr = np.random.random((5, 2, 3))"
   ]
  },
  {
   "cell_type": "code",
   "execution_count": 122,
   "id": "b4d31275",
   "metadata": {},
   "outputs": [
    {
     "data": {
      "text/plain": [
       "numpy.ndarray"
      ]
     },
     "execution_count": 122,
     "metadata": {},
     "output_type": "execute_result"
    }
   ],
   "source": [
    "# 배열 타입 : class\n",
    "type(arr)"
   ]
  },
  {
   "cell_type": "code",
   "execution_count": 123,
   "id": "44111f65",
   "metadata": {},
   "outputs": [
    {
     "data": {
      "text/plain": [
       "(5, 2, 3)"
      ]
     },
     "execution_count": 123,
     "metadata": {},
     "output_type": "execute_result"
    }
   ],
   "source": [
    "# 배열 shape 확인\n",
    "arr.shape"
   ]
  },
  {
   "cell_type": "code",
   "execution_count": 124,
   "id": "8219fd55",
   "metadata": {},
   "outputs": [
    {
     "data": {
      "text/plain": [
       "5"
      ]
     },
     "execution_count": 124,
     "metadata": {},
     "output_type": "execute_result"
    }
   ],
   "source": [
    "# 배열의 길이\n",
    "len(arr)"
   ]
  },
  {
   "cell_type": "code",
   "execution_count": 125,
   "id": "70c595f7",
   "metadata": {},
   "outputs": [
    {
     "data": {
      "text/plain": [
       "3"
      ]
     },
     "execution_count": 125,
     "metadata": {},
     "output_type": "execute_result"
    }
   ],
   "source": [
    "# 배열의 차원 수\n",
    "arr.ndim"
   ]
  },
  {
   "cell_type": "code",
   "execution_count": 126,
   "id": "28ada97c",
   "metadata": {},
   "outputs": [
    {
     "data": {
      "text/plain": [
       "30"
      ]
     },
     "execution_count": 126,
     "metadata": {},
     "output_type": "execute_result"
    }
   ],
   "source": [
    "# 배열의 요소 수 : shape(k, m, n) = k * m * n\n",
    "arr.size"
   ]
  },
  {
   "cell_type": "code",
   "execution_count": 127,
   "id": "4b9d1d33",
   "metadata": {},
   "outputs": [
    {
     "data": {
      "text/plain": [
       "dtype('float64')"
      ]
     },
     "execution_count": 127,
     "metadata": {},
     "output_type": "execute_result"
    }
   ],
   "source": [
    "# 배열 데이터 타입\n",
    "arr.dtype "
   ]
  },
  {
   "cell_type": "code",
   "execution_count": 128,
   "id": "65e25344",
   "metadata": {},
   "outputs": [
    {
     "data": {
      "text/plain": [
       "'float64'"
      ]
     },
     "execution_count": 128,
     "metadata": {},
     "output_type": "execute_result"
    }
   ],
   "source": [
    "arr.dtype.name"
   ]
  },
  {
   "cell_type": "code",
   "execution_count": 130,
   "id": "1a417602",
   "metadata": {},
   "outputs": [
    {
     "data": {
      "text/plain": [
       "array([[[0, 0, 0],\n",
       "        [0, 0, 0]],\n",
       "\n",
       "       [[0, 0, 0],\n",
       "        [0, 0, 0]],\n",
       "\n",
       "       [[0, 0, 0],\n",
       "        [0, 0, 0]],\n",
       "\n",
       "       [[0, 0, 0],\n",
       "        [0, 0, 0]],\n",
       "\n",
       "       [[0, 0, 0],\n",
       "        [0, 0, 0]]], dtype=int64)"
      ]
     },
     "execution_count": 130,
     "metadata": {},
     "output_type": "execute_result"
    }
   ],
   "source": [
    "arr.astype(np.int64)"
   ]
  },
  {
   "cell_type": "code",
   "execution_count": 131,
   "id": "7891c72e",
   "metadata": {},
   "outputs": [
    {
     "data": {
      "text/plain": [
       "array([[[0.84678798, 0.61668353, 0.41462743],\n",
       "        [0.88360343, 0.78114095, 0.9293944 ]],\n",
       "\n",
       "       [[0.47054323, 0.82302542, 0.77156899],\n",
       "        [0.30589374, 0.75236263, 0.5946823 ]],\n",
       "\n",
       "       [[0.267673  , 0.66529079, 0.55750253],\n",
       "        [0.46098471, 0.04566069, 0.9844457 ]],\n",
       "\n",
       "       [[0.1404761 , 0.52326591, 0.49295168],\n",
       "        [0.79590074, 0.360659  , 0.48334834]],\n",
       "\n",
       "       [[0.31439518, 0.49075076, 0.83684377],\n",
       "        [0.22834152, 0.51343891, 0.52822381]]])"
      ]
     },
     "execution_count": 131,
     "metadata": {},
     "output_type": "execute_result"
    }
   ],
   "source": [
    "arr.astype(np.float64)"
   ]
  },
  {
   "cell_type": "markdown",
   "id": "248194d8",
   "metadata": {},
   "source": [
    "### 6. 도움말"
   ]
  },
  {
   "cell_type": "code",
   "execution_count": 132,
   "id": "67663c5f",
   "metadata": {},
   "outputs": [
    {
     "name": "stdout",
     "output_type": "stream",
     "text": [
      "Data-type of the array's elements.\n",
      "\n",
      "Parameters\n",
      "----------\n",
      "None\n",
      "\n",
      "Returns\n",
      "-------\n",
      "d : numpy dtype object\n",
      "\n",
      "See Also\n",
      "--------\n",
      "numpy.dtype\n",
      "\n",
      "Examples\n",
      "--------\n",
      ">>> x\n",
      "array([[0, 1],\n",
      "       [2, 3]])\n",
      ">>> x.dtype\n",
      "dtype('int32')\n",
      ">>> type(x.dtype)\n",
      "<type 'numpy.dtype'>\n"
     ]
    }
   ],
   "source": [
    "np.info(np.ndarray.dtype)"
   ]
  },
  {
   "cell_type": "markdown",
   "id": "020e2317",
   "metadata": {},
   "source": [
    "# 배열 연산 "
   ]
  },
  {
   "cell_type": "code",
   "execution_count": 133,
   "id": "73af7578",
   "metadata": {},
   "outputs": [],
   "source": [
    "# arange(1, 10) : 1부터 10미만의 범위에서 1씩 증가하는 배열 생성"
   ]
  },
  {
   "cell_type": "code",
   "execution_count": 135,
   "id": "8923c43f",
   "metadata": {},
   "outputs": [
    {
     "name": "stdout",
     "output_type": "stream",
     "text": [
      "type:<class 'numpy.ndarray'>\n",
      "shape:(3, 3), dimension:2, dtype:int32\n",
      "Array's Data : \n",
      " [[1 2 3]\n",
      " [4 5 6]\n",
      " [7 8 9]]\n"
     ]
    }
   ],
   "source": [
    "a = np.arange(1, 10).reshape(3, 3)\n",
    "pprint(a)"
   ]
  },
  {
   "cell_type": "code",
   "execution_count": 136,
   "id": "7c205d65",
   "metadata": {},
   "outputs": [
    {
     "name": "stdout",
     "output_type": "stream",
     "text": [
      "type:<class 'numpy.ndarray'>\n",
      "shape:(3, 3), dimension:2, dtype:int32\n",
      "Array's Data : \n",
      " [[9 8 7]\n",
      " [6 5 4]\n",
      " [3 2 1]]\n"
     ]
    }
   ],
   "source": [
    "b = np.arange(9, 0, -1).reshape(3, 3)\n",
    "pprint(b)"
   ]
  },
  {
   "cell_type": "code",
   "execution_count": 137,
   "id": "5d907c0f",
   "metadata": {},
   "outputs": [
    {
     "data": {
      "text/plain": [
       "array([[10, 10, 10],\n",
       "       [10, 10, 10],\n",
       "       [10, 10, 10]])"
      ]
     },
     "execution_count": 137,
     "metadata": {},
     "output_type": "execute_result"
    }
   ],
   "source": [
    "a + b"
   ]
  },
  {
   "cell_type": "code",
   "execution_count": 139,
   "id": "95a3858c",
   "metadata": {},
   "outputs": [
    {
     "data": {
      "text/plain": [
       "array([[10, 10, 10],\n",
       "       [10, 10, 10],\n",
       "       [10, 10, 10]])"
      ]
     },
     "execution_count": 139,
     "metadata": {},
     "output_type": "execute_result"
    }
   ],
   "source": [
    "np.add(a,b)"
   ]
  },
  {
   "cell_type": "code",
   "execution_count": 138,
   "id": "dc5cb086",
   "metadata": {},
   "outputs": [
    {
     "data": {
      "text/plain": [
       "array([[-8, -6, -4],\n",
       "       [-2,  0,  2],\n",
       "       [ 4,  6,  8]])"
      ]
     },
     "execution_count": 138,
     "metadata": {},
     "output_type": "execute_result"
    }
   ],
   "source": [
    "a - b"
   ]
  },
  {
   "cell_type": "code",
   "execution_count": 142,
   "id": "8e4f6c97",
   "metadata": {},
   "outputs": [
    {
     "data": {
      "text/plain": [
       "array([[-8, -6, -4],\n",
       "       [-2,  0,  2],\n",
       "       [ 4,  6,  8]])"
      ]
     },
     "execution_count": 142,
     "metadata": {},
     "output_type": "execute_result"
    }
   ],
   "source": [
    "np.subtract(a,b)"
   ]
  },
  {
   "cell_type": "code",
   "execution_count": 143,
   "id": "2e9cd1f9",
   "metadata": {},
   "outputs": [
    {
     "data": {
      "text/plain": [
       "array([[0.11111111, 0.25      , 0.42857143],\n",
       "       [0.66666667, 1.        , 1.5       ],\n",
       "       [2.33333333, 4.        , 9.        ]])"
      ]
     },
     "execution_count": 143,
     "metadata": {},
     "output_type": "execute_result"
    }
   ],
   "source": [
    "a/b"
   ]
  },
  {
   "cell_type": "code",
   "execution_count": 145,
   "id": "873a5716",
   "metadata": {},
   "outputs": [
    {
     "data": {
      "text/plain": [
       "array([[0.11111111, 0.25      , 0.42857143],\n",
       "       [0.66666667, 1.        , 1.5       ],\n",
       "       [2.33333333, 4.        , 9.        ]])"
      ]
     },
     "execution_count": 145,
     "metadata": {},
     "output_type": "execute_result"
    }
   ],
   "source": [
    "np.divide(a,b)"
   ]
  },
  {
   "cell_type": "code",
   "execution_count": 144,
   "id": "8f26fc90",
   "metadata": {},
   "outputs": [
    {
     "data": {
      "text/plain": [
       "array([[ 9, 16, 21],\n",
       "       [24, 25, 24],\n",
       "       [21, 16,  9]])"
      ]
     },
     "execution_count": 144,
     "metadata": {},
     "output_type": "execute_result"
    }
   ],
   "source": [
    "a*b"
   ]
  },
  {
   "cell_type": "code",
   "execution_count": 146,
   "id": "86bcbd54",
   "metadata": {},
   "outputs": [
    {
     "data": {
      "text/plain": [
       "array([[ 9, 16, 21],\n",
       "       [24, 25, 24],\n",
       "       [21, 16,  9]])"
      ]
     },
     "execution_count": 146,
     "metadata": {},
     "output_type": "execute_result"
    }
   ],
   "source": [
    "np.multiply(a, b)"
   ]
  },
  {
   "cell_type": "code",
   "execution_count": 147,
   "id": "5ec6e7f3",
   "metadata": {},
   "outputs": [
    {
     "data": {
      "text/plain": [
       "array([[8.10308393e+03, 2.98095799e+03, 1.09663316e+03],\n",
       "       [4.03428793e+02, 1.48413159e+02, 5.45981500e+01],\n",
       "       [2.00855369e+01, 7.38905610e+00, 2.71828183e+00]])"
      ]
     },
     "execution_count": 147,
     "metadata": {},
     "output_type": "execute_result"
    }
   ],
   "source": [
    "# 지수\n",
    "np.exp(b)"
   ]
  },
  {
   "cell_type": "code",
   "execution_count": 148,
   "id": "5a32a93a",
   "metadata": {},
   "outputs": [
    {
     "data": {
      "text/plain": [
       "array([[1.        , 1.41421356, 1.73205081],\n",
       "       [2.        , 2.23606798, 2.44948974],\n",
       "       [2.64575131, 2.82842712, 3.        ]])"
      ]
     },
     "execution_count": 148,
     "metadata": {},
     "output_type": "execute_result"
    }
   ],
   "source": [
    "# 제곱근\n",
    "np.sqrt(a)"
   ]
  },
  {
   "cell_type": "code",
   "execution_count": 149,
   "id": "0184d56c",
   "metadata": {},
   "outputs": [
    {
     "data": {
      "text/plain": [
       "array([[ 0.84147098,  0.90929743,  0.14112001],\n",
       "       [-0.7568025 , -0.95892427, -0.2794155 ],\n",
       "       [ 0.6569866 ,  0.98935825,  0.41211849]])"
      ]
     },
     "execution_count": 149,
     "metadata": {},
     "output_type": "execute_result"
    }
   ],
   "source": [
    "np.sin(a)"
   ]
  },
  {
   "cell_type": "code",
   "execution_count": 150,
   "id": "8e67b85b",
   "metadata": {},
   "outputs": [
    {
     "data": {
      "text/plain": [
       "array([[ 0.54030231, -0.41614684, -0.9899925 ],\n",
       "       [-0.65364362,  0.28366219,  0.96017029],\n",
       "       [ 0.75390225, -0.14550003, -0.91113026]])"
      ]
     },
     "execution_count": 150,
     "metadata": {},
     "output_type": "execute_result"
    }
   ],
   "source": [
    "np.cos(a)"
   ]
  },
  {
   "cell_type": "code",
   "execution_count": 151,
   "id": "b5faaccc",
   "metadata": {},
   "outputs": [
    {
     "data": {
      "text/plain": [
       "array([[ 1.55740772, -2.18503986, -0.14254654],\n",
       "       [ 1.15782128, -3.38051501, -0.29100619],\n",
       "       [ 0.87144798, -6.79971146, -0.45231566]])"
      ]
     },
     "execution_count": 151,
     "metadata": {},
     "output_type": "execute_result"
    }
   ],
   "source": [
    "np.tan(a)"
   ]
  },
  {
   "cell_type": "code",
   "execution_count": 152,
   "id": "85be8aef",
   "metadata": {},
   "outputs": [
    {
     "data": {
      "text/plain": [
       "array([[0.        , 0.69314718, 1.09861229],\n",
       "       [1.38629436, 1.60943791, 1.79175947],\n",
       "       [1.94591015, 2.07944154, 2.19722458]])"
      ]
     },
     "execution_count": 152,
     "metadata": {},
     "output_type": "execute_result"
    }
   ],
   "source": [
    "np.log(a)"
   ]
  },
  {
   "cell_type": "code",
   "execution_count": 153,
   "id": "182139f8",
   "metadata": {},
   "outputs": [
    {
     "data": {
      "text/plain": [
       "array([[ 30,  24,  18],\n",
       "       [ 84,  69,  54],\n",
       "       [138, 114,  90]])"
      ]
     },
     "execution_count": 153,
     "metadata": {},
     "output_type": "execute_result"
    }
   ],
   "source": [
    "# 내적 = 행렬곱\n",
    "np.dot(a, b)"
   ]
  },
  {
   "cell_type": "code",
   "execution_count": 154,
   "id": "2249e140",
   "metadata": {},
   "outputs": [
    {
     "data": {
      "text/plain": [
       "50"
      ]
     },
     "execution_count": 154,
     "metadata": {},
     "output_type": "execute_result"
    }
   ],
   "source": [
    "x=[1, 2, 3, 4]\n",
    "y=[3, 4, 5, 6]\n",
    "np.dot(x,y)"
   ]
  },
  {
   "cell_type": "code",
   "execution_count": 155,
   "id": "09aa5aac",
   "metadata": {},
   "outputs": [
    {
     "data": {
      "text/plain": [
       "array([[False, False, False],\n",
       "       [False,  True, False],\n",
       "       [False, False, False]])"
      ]
     },
     "execution_count": 155,
     "metadata": {},
     "output_type": "execute_result"
    }
   ],
   "source": [
    "a == b"
   ]
  },
  {
   "cell_type": "code",
   "execution_count": 157,
   "id": "0ed98b97",
   "metadata": {},
   "outputs": [
    {
     "data": {
      "text/plain": [
       "array([[False, False, False],\n",
       "       [False, False,  True],\n",
       "       [ True,  True,  True]])"
      ]
     },
     "execution_count": 157,
     "metadata": {},
     "output_type": "execute_result"
    }
   ],
   "source": [
    "a > b"
   ]
  },
  {
   "cell_type": "code",
   "execution_count": 159,
   "id": "6cf11295",
   "metadata": {},
   "outputs": [
    {
     "data": {
      "text/plain": [
       "False"
      ]
     },
     "execution_count": 159,
     "metadata": {},
     "output_type": "execute_result"
    }
   ],
   "source": [
    "# 배열 전체를 비교\n",
    "np.array_equal(a, b)"
   ]
  },
  {
   "cell_type": "markdown",
   "id": "6890149b",
   "metadata": {},
   "source": [
    "#### 집계함수(Aggregate Function)\n",
    "- axis(축)을 기준으로 계산한다.\n",
    "- axis = None, 0, 1\n",
    "- axis = None : 전체 행렬을 하나의 배열로 간주\n",
    "- axis = 0 : 열단위로 그룹화하여 연산수행\n",
    "- axis = 1 : 행단위로 그룹화하여 연산수행\n"
   ]
  },
  {
   "cell_type": "code",
   "execution_count": 160,
   "id": "d42a1ab7",
   "metadata": {},
   "outputs": [
    {
     "name": "stdout",
     "output_type": "stream",
     "text": [
      "type:<class 'numpy.ndarray'>\n",
      "shape:(3, 3), dimension:2, dtype:int32\n",
      "Array's Data : \n",
      " [[1 2 3]\n",
      " [4 5 6]\n",
      " [7 8 9]]\n"
     ]
    }
   ],
   "source": [
    "a = np.arange(1, 10).reshape(3, 3)\n",
    "pprint(a)"
   ]
  },
  {
   "cell_type": "code",
   "execution_count": 161,
   "id": "90f8f196",
   "metadata": {},
   "outputs": [
    {
     "data": {
      "text/plain": [
       "(45, 45)"
      ]
     },
     "execution_count": 161,
     "metadata": {},
     "output_type": "execute_result"
    }
   ],
   "source": [
    "# axis = None\n",
    "a.sum(), np.sum(a)"
   ]
  },
  {
   "cell_type": "code",
   "execution_count": 162,
   "id": "fa8664b3",
   "metadata": {},
   "outputs": [
    {
     "data": {
      "text/plain": [
       "(array([12, 15, 18]), array([12, 15, 18]))"
      ]
     },
     "execution_count": 162,
     "metadata": {},
     "output_type": "execute_result"
    }
   ],
   "source": [
    "# axis = 0, 열 단위로 계산\n",
    "a.sum(axis=0), np.sum(a, axis=0)"
   ]
  },
  {
   "cell_type": "code",
   "execution_count": 163,
   "id": "2269eea9",
   "metadata": {},
   "outputs": [
    {
     "data": {
      "text/plain": [
       "(array([ 6, 15, 24]), array([ 6, 15, 24]))"
      ]
     },
     "execution_count": 163,
     "metadata": {},
     "output_type": "execute_result"
    }
   ],
   "source": [
    "# axis=1, 행단위로 계산\n",
    "a.sum(axis=1), np.sum(a, axis=1)"
   ]
  },
  {
   "cell_type": "code",
   "execution_count": 164,
   "id": "73dcd902",
   "metadata": {},
   "outputs": [
    {
     "data": {
      "text/plain": [
       "(1, 1)"
      ]
     },
     "execution_count": 164,
     "metadata": {},
     "output_type": "execute_result"
    }
   ],
   "source": [
    "# min\n",
    "a.min(), np.min(a)"
   ]
  },
  {
   "cell_type": "code",
   "execution_count": 165,
   "id": "8c4c16ce",
   "metadata": {},
   "outputs": [
    {
     "data": {
      "text/plain": [
       "(array([1, 2, 3]), array([1, 2, 3]))"
      ]
     },
     "execution_count": 165,
     "metadata": {},
     "output_type": "execute_result"
    }
   ],
   "source": [
    "a.min(axis=0), np.min(a,axis=0)"
   ]
  },
  {
   "cell_type": "code",
   "execution_count": 166,
   "id": "d53de2eb",
   "metadata": {},
   "outputs": [
    {
     "data": {
      "text/plain": [
       "(array([1, 4, 7]), array([1, 4, 7]))"
      ]
     },
     "execution_count": 166,
     "metadata": {},
     "output_type": "execute_result"
    }
   ],
   "source": [
    "a.min(axis=1), np.min(a,axis=1)"
   ]
  },
  {
   "cell_type": "code",
   "execution_count": 167,
   "id": "a4ae2318",
   "metadata": {},
   "outputs": [
    {
     "data": {
      "text/plain": [
       "(9, 9)"
      ]
     },
     "execution_count": 167,
     "metadata": {},
     "output_type": "execute_result"
    }
   ],
   "source": [
    "# max\n",
    "a.max(), np.max(a)"
   ]
  },
  {
   "cell_type": "code",
   "execution_count": 168,
   "id": "e9ba7b0e",
   "metadata": {},
   "outputs": [
    {
     "data": {
      "text/plain": [
       "(array([7, 8, 9]), array([7, 8, 9]))"
      ]
     },
     "execution_count": 168,
     "metadata": {},
     "output_type": "execute_result"
    }
   ],
   "source": [
    "a.max(axis=0), np.max(a, axis=0)"
   ]
  },
  {
   "cell_type": "code",
   "execution_count": 169,
   "id": "038691a1",
   "metadata": {},
   "outputs": [
    {
     "data": {
      "text/plain": [
       "(array([3, 6, 9]), array([3, 6, 9]))"
      ]
     },
     "execution_count": 169,
     "metadata": {},
     "output_type": "execute_result"
    }
   ],
   "source": [
    "a.max(axis=1), np.max(a, axis=1)"
   ]
  },
  {
   "cell_type": "code",
   "execution_count": 170,
   "id": "16e8cdcc",
   "metadata": {},
   "outputs": [
    {
     "data": {
      "text/plain": [
       "(array([ 1,  3,  6, 10, 15, 21, 28, 36, 45], dtype=int32),\n",
       " array([ 1,  3,  6, 10, 15, 21, 28, 36, 45], dtype=int32))"
      ]
     },
     "execution_count": 170,
     "metadata": {},
     "output_type": "execute_result"
    }
   ],
   "source": [
    "# 누적합계 : cumsum\n",
    "a. cumsum(), np.cumsum(a)"
   ]
  },
  {
   "cell_type": "code",
   "execution_count": 171,
   "id": "ab9ce1b1",
   "metadata": {},
   "outputs": [
    {
     "data": {
      "text/plain": [
       "(array([[ 1,  2,  3],\n",
       "        [ 5,  7,  9],\n",
       "        [12, 15, 18]], dtype=int32),\n",
       " array([[ 1,  2,  3],\n",
       "        [ 5,  7,  9],\n",
       "        [12, 15, 18]], dtype=int32))"
      ]
     },
     "execution_count": 171,
     "metadata": {},
     "output_type": "execute_result"
    }
   ],
   "source": [
    "a. cumsum(axis=0), np.cumsum(a,axis=0)"
   ]
  },
  {
   "cell_type": "code",
   "execution_count": 172,
   "id": "75664a8e",
   "metadata": {},
   "outputs": [
    {
     "data": {
      "text/plain": [
       "(array([[ 1,  3,  6],\n",
       "        [ 4,  9, 15],\n",
       "        [ 7, 15, 24]], dtype=int32),\n",
       " array([[ 1,  3,  6],\n",
       "        [ 4,  9, 15],\n",
       "        [ 7, 15, 24]], dtype=int32))"
      ]
     },
     "execution_count": 172,
     "metadata": {},
     "output_type": "execute_result"
    }
   ],
   "source": [
    "a. cumsum(axis=1), np.cumsum(a,axis=1)"
   ]
  },
  {
   "cell_type": "code",
   "execution_count": 173,
   "id": "3d1b45ca",
   "metadata": {},
   "outputs": [
    {
     "data": {
      "text/plain": [
       "(5.0, 5.0)"
      ]
     },
     "execution_count": 173,
     "metadata": {},
     "output_type": "execute_result"
    }
   ],
   "source": [
    "# 평균 mean\n",
    "a.mean(), np.mean(a)"
   ]
  },
  {
   "cell_type": "code",
   "execution_count": 174,
   "id": "37c39ba7",
   "metadata": {},
   "outputs": [
    {
     "data": {
      "text/plain": [
       "(array([4., 5., 6.]), array([4., 5., 6.]))"
      ]
     },
     "execution_count": 174,
     "metadata": {},
     "output_type": "execute_result"
    }
   ],
   "source": [
    "a.mean(axis=0), np.mean(a, axis=0)"
   ]
  },
  {
   "cell_type": "code",
   "execution_count": 175,
   "id": "aa9ac2cf",
   "metadata": {},
   "outputs": [
    {
     "data": {
      "text/plain": [
       "(array([4., 5., 6.]), array([2., 5., 8.]))"
      ]
     },
     "execution_count": 175,
     "metadata": {},
     "output_type": "execute_result"
    }
   ],
   "source": [
    "a.mean(axis=0), np.mean(a, axis=1)"
   ]
  },
  {
   "cell_type": "code",
   "execution_count": 178,
   "id": "44a1df16",
   "metadata": {},
   "outputs": [
    {
     "data": {
      "text/plain": [
       "5.0"
      ]
     },
     "execution_count": 178,
     "metadata": {},
     "output_type": "execute_result"
    }
   ],
   "source": [
    "# 중앙값 median()\n",
    "np.median(a)"
   ]
  },
  {
   "cell_type": "code",
   "execution_count": 179,
   "id": "b3d58ffd",
   "metadata": {},
   "outputs": [
    {
     "data": {
      "text/plain": [
       "array([4., 5., 6.])"
      ]
     },
     "execution_count": 179,
     "metadata": {},
     "output_type": "execute_result"
    }
   ],
   "source": [
    "np.median(a, axis=0)"
   ]
  },
  {
   "cell_type": "code",
   "execution_count": 180,
   "id": "a9f20368",
   "metadata": {},
   "outputs": [
    {
     "data": {
      "text/plain": [
       "array([2., 5., 8.])"
      ]
     },
     "execution_count": 180,
     "metadata": {},
     "output_type": "execute_result"
    }
   ],
   "source": [
    "np.median(a, axis=1)"
   ]
  },
  {
   "cell_type": "code",
   "execution_count": 181,
   "id": "27f40049",
   "metadata": {},
   "outputs": [
    {
     "data": {
      "text/plain": [
       "array([[1., 1., 1.],\n",
       "       [1., 1., 1.],\n",
       "       [1., 1., 1.]])"
      ]
     },
     "execution_count": 181,
     "metadata": {},
     "output_type": "execute_result"
    }
   ],
   "source": [
    "# 상관계수\n",
    "np.corrcoef(a)"
   ]
  },
  {
   "cell_type": "code",
   "execution_count": 183,
   "id": "5e2123a1",
   "metadata": {},
   "outputs": [
    {
     "data": {
      "text/plain": [
       "(2.581988897471611, 2.581988897471611)"
      ]
     },
     "execution_count": 183,
     "metadata": {},
     "output_type": "execute_result"
    }
   ],
   "source": [
    "# 표준편차\n",
    "a.std(), np.std(a)"
   ]
  },
  {
   "cell_type": "markdown",
   "id": "291d3fad",
   "metadata": {},
   "source": [
    "#### 브로드캐스팅(Broadcasting)\n",
    "- 일반적으로 벡터나 행렬의 크기가 같아야 연산을 수행할 수 있다.\n",
    "- 넘파이에서 서로 다른 크기를 가진 두 배열의 연산을 지원하는 기능을 말한다.\n"
   ]
  },
  {
   "cell_type": "code",
   "execution_count": 186,
   "id": "7fa1a0bf",
   "metadata": {},
   "outputs": [
    {
     "data": {
      "text/plain": [
       "range(1, 10)"
      ]
     },
     "execution_count": 186,
     "metadata": {},
     "output_type": "execute_result"
    }
   ],
   "source": [
    "x = range(1,10)\n",
    "x"
   ]
  },
  {
   "cell_type": "code",
   "execution_count": 187,
   "id": "2b89b7db",
   "metadata": {},
   "outputs": [
    {
     "data": {
      "text/plain": [
       "array([1, 2, 3, 4, 5, 6, 7, 8, 9])"
      ]
     },
     "execution_count": 187,
     "metadata": {},
     "output_type": "execute_result"
    }
   ],
   "source": [
    "y = np.arange(1 ,10)\n",
    "y"
   ]
  },
  {
   "cell_type": "code",
   "execution_count": 188,
   "id": "b7e91f6e",
   "metadata": {},
   "outputs": [
    {
     "data": {
      "text/plain": [
       "array([ 4,  5,  6,  7,  8,  9, 10, 11, 12])"
      ]
     },
     "execution_count": 188,
     "metadata": {},
     "output_type": "execute_result"
    }
   ],
   "source": [
    "y + 3"
   ]
  },
  {
   "cell_type": "code",
   "execution_count": 189,
   "id": "65ae2302",
   "metadata": {},
   "outputs": [],
   "source": [
    "z = [1, 2, 3] "
   ]
  },
  {
   "cell_type": "code",
   "execution_count": 190,
   "id": "31716686",
   "metadata": {},
   "outputs": [
    {
     "ename": "ValueError",
     "evalue": "operands could not be broadcast together with shapes (9,) (3,) ",
     "output_type": "error",
     "traceback": [
      "\u001b[1;31m---------------------------------------------------------------------------\u001b[0m",
      "\u001b[1;31mValueError\u001b[0m                                Traceback (most recent call last)",
      "\u001b[1;32m~\\AppData\\Local\\Temp/ipykernel_7992/885399778.py\u001b[0m in \u001b[0;36m<module>\u001b[1;34m\u001b[0m\n\u001b[1;32m----> 1\u001b[1;33m \u001b[0my\u001b[0m \u001b[1;33m+\u001b[0m \u001b[0mz\u001b[0m\u001b[1;33m\u001b[0m\u001b[1;33m\u001b[0m\u001b[0m\n\u001b[0m",
      "\u001b[1;31mValueError\u001b[0m: operands could not be broadcast together with shapes (9,) (3,) "
     ]
    }
   ],
   "source": [
    "y + z"
   ]
  },
  {
   "cell_type": "code",
   "execution_count": 192,
   "id": "e4548cea",
   "metadata": {},
   "outputs": [
    {
     "name": "stdout",
     "output_type": "stream",
     "text": [
      "type:<class 'numpy.ndarray'>\n",
      "shape:(4, 6), dimension:2, dtype:int32\n",
      "Array's Data : \n",
      " [[ 1  2  3  4  5  6]\n",
      " [ 7  8  9 10 11 12]\n",
      " [13 14 15 16 17 18]\n",
      " [19 20 21 22 23 24]]\n",
      "type:<class 'numpy.ndarray'>\n",
      "shape:(4, 6), dimension:2, dtype:int32\n",
      "Array's Data : \n",
      " [[25 26 27 28 29 30]\n",
      " [31 32 33 34 35 36]\n",
      " [37 38 39 40 41 42]\n",
      " [43 44 45 46 47 48]]\n"
     ]
    }
   ],
   "source": [
    "a = np.arange(1, 25).reshape(4, 6)\n",
    "pprint(a)\n",
    "b = np.arange(25, 49).reshape(4, 6)\n",
    "pprint(b)"
   ]
  },
  {
   "cell_type": "markdown",
   "id": "0dfc4d1f",
   "metadata": {},
   "source": [
    "#### shape이 같은 배열의 연산"
   ]
  },
  {
   "cell_type": "code",
   "execution_count": 193,
   "id": "abf5eede",
   "metadata": {},
   "outputs": [
    {
     "data": {
      "text/plain": [
       "array([[26, 28, 30, 32, 34, 36],\n",
       "       [38, 40, 42, 44, 46, 48],\n",
       "       [50, 52, 54, 56, 58, 60],\n",
       "       [62, 64, 66, 68, 70, 72]])"
      ]
     },
     "execution_count": 193,
     "metadata": {},
     "output_type": "execute_result"
    }
   ],
   "source": [
    "a + b"
   ]
  },
  {
   "cell_type": "markdown",
   "id": "094c0688",
   "metadata": {},
   "source": [
    "#### shape 다른 두 배열의 연산\n",
    "- 두 배열을 같은 shape으로 만든 후 연산을 수행"
   ]
  },
  {
   "cell_type": "code",
   "execution_count": 194,
   "id": "f33f2964",
   "metadata": {},
   "outputs": [
    {
     "name": "stdout",
     "output_type": "stream",
     "text": [
      "type:<class 'numpy.ndarray'>\n",
      "shape:(4, 6), dimension:2, dtype:int32\n",
      "Array's Data : \n",
      " [[ 1  2  3  4  5  6]\n",
      " [ 7  8  9 10 11 12]\n",
      " [13 14 15 16 17 18]\n",
      " [19 20 21 22 23 24]]\n"
     ]
    }
   ],
   "source": [
    "# case1 : 배열과 스칼라\n",
    "pprint(a)"
   ]
  },
  {
   "cell_type": "code",
   "execution_count": 195,
   "id": "625a886c",
   "metadata": {},
   "outputs": [
    {
     "data": {
      "text/plain": [
       "array([[101, 102, 103, 104, 105, 106],\n",
       "       [107, 108, 109, 110, 111, 112],\n",
       "       [113, 114, 115, 116, 117, 118],\n",
       "       [119, 120, 121, 122, 123, 124]])"
      ]
     },
     "execution_count": 195,
     "metadata": {},
     "output_type": "execute_result"
    }
   ],
   "source": [
    "a + 100"
   ]
  },
  {
   "cell_type": "code",
   "execution_count": 197,
   "id": "260647ba",
   "metadata": {},
   "outputs": [
    {
     "name": "stdout",
     "output_type": "stream",
     "text": [
      "type:<class 'numpy.ndarray'>\n",
      "shape:(4, 6), dimension:2, dtype:int32\n",
      "Array's Data : \n",
      " [[100 100 100 100 100 100]\n",
      " [100 100 100 100 100 100]\n",
      " [100 100 100 100 100 100]\n",
      " [100 100 100 100 100 100]]\n"
     ]
    }
   ],
   "source": [
    "# step1. 스칼라를 배열로 변경\n",
    "new_arr = np.full_like(a, 100)\n",
    "pprint(new_arr)"
   ]
  },
  {
   "cell_type": "code",
   "execution_count": 198,
   "id": "d1538f7f",
   "metadata": {},
   "outputs": [
    {
     "data": {
      "text/plain": [
       "array([[101, 102, 103, 104, 105, 106],\n",
       "       [107, 108, 109, 110, 111, 112],\n",
       "       [113, 114, 115, 116, 117, 118],\n",
       "       [119, 120, 121, 122, 123, 124]])"
      ]
     },
     "execution_count": 198,
     "metadata": {},
     "output_type": "execute_result"
    }
   ],
   "source": [
    "# step2. 배열 연산\n",
    "a + new_arr"
   ]
  },
  {
   "cell_type": "code",
   "execution_count": 203,
   "id": "16c8ad6d",
   "metadata": {},
   "outputs": [
    {
     "name": "stdout",
     "output_type": "stream",
     "text": [
      "type:<class 'numpy.ndarray'>\n",
      "shape:(1, 5), dimension:2, dtype:int32\n",
      "Array's Data : \n",
      " [[0 1 2 3 4]]\n",
      "type:<class 'numpy.ndarray'>\n",
      "shape:(5, 1), dimension:2, dtype:int32\n",
      "Array's Data : \n",
      " [[0]\n",
      " [1]\n",
      " [2]\n",
      " [3]\n",
      " [4]]\n"
     ]
    }
   ],
   "source": [
    "# case2, shape이 다른 두 배열의 연산\n",
    "a=np.arange(5).reshape(1,5)\n",
    "pprint(a)\n",
    "b=np.arange(5).reshape(5,1)\n",
    "pprint(b)"
   ]
  },
  {
   "cell_type": "code",
   "execution_count": 204,
   "id": "0228a785",
   "metadata": {},
   "outputs": [
    {
     "data": {
      "text/plain": [
       "array([[0, 1, 2, 3, 4],\n",
       "       [1, 2, 3, 4, 5],\n",
       "       [2, 3, 4, 5, 6],\n",
       "       [3, 4, 5, 6, 7],\n",
       "       [4, 5, 6, 7, 8]])"
      ]
     },
     "execution_count": 204,
     "metadata": {},
     "output_type": "execute_result"
    }
   ],
   "source": [
    "a + b"
   ]
  },
  {
   "cell_type": "markdown",
   "id": "50d87195",
   "metadata": {},
   "source": [
    "### 배열 복사"
   ]
  },
  {
   "cell_type": "code",
   "execution_count": 206,
   "id": "30b07cce",
   "metadata": {},
   "outputs": [
    {
     "name": "stdout",
     "output_type": "stream",
     "text": [
      "type:<class 'numpy.ndarray'>\n",
      "shape:(3, 3), dimension:2, dtype:int32\n",
      "Array's Data : \n",
      " [[5 3 8]\n",
      " [2 1 1]\n",
      " [2 5 3]]\n"
     ]
    }
   ],
   "source": [
    "a = np.random.randint(0, 9, (3, 3))\n",
    "pprint(a)"
   ]
  },
  {
   "cell_type": "code",
   "execution_count": 211,
   "id": "9ba6d682",
   "metadata": {},
   "outputs": [
    {
     "name": "stdout",
     "output_type": "stream",
     "text": [
      "type:<class 'numpy.ndarray'>\n",
      "shape:(3, 3), dimension:2, dtype:int32\n",
      "Array's Data : \n",
      " [[0 3 8]\n",
      " [0 1 1]\n",
      " [0 5 3]]\n"
     ]
    }
   ],
   "source": [
    "a1 = np.copy(a)\n",
    "a1[: , 0] = 0\n",
    "pprint(a1)"
   ]
  },
  {
   "cell_type": "code",
   "execution_count": 212,
   "id": "e3369a79",
   "metadata": {},
   "outputs": [
    {
     "name": "stdout",
     "output_type": "stream",
     "text": [
      "type:<class 'numpy.ndarray'>\n",
      "shape:(3, 3), dimension:2, dtype:int32\n",
      "Array's Data : \n",
      " [[5 3 8]\n",
      " [2 1 1]\n",
      " [2 5 3]]\n"
     ]
    }
   ],
   "source": [
    "pprint(a)"
   ]
  },
  {
   "cell_type": "markdown",
   "id": "03f7f18d",
   "metadata": {},
   "source": [
    "### 배열 정렬\n",
    "- axis를 기준으로 요소 정렬하는 함수 sort()"
   ]
  },
  {
   "cell_type": "code",
   "execution_count": 214,
   "id": "e71ac525",
   "metadata": {},
   "outputs": [
    {
     "name": "stdout",
     "output_type": "stream",
     "text": [
      "type:<class 'numpy.ndarray'>\n",
      "shape:(3, 3), dimension:2, dtype:float64\n",
      "Array's Data : \n",
      " [[0.07760484 0.01647795 0.47740917]\n",
      " [0.22968049 0.98627953 0.64549705]\n",
      " [0.33314995 0.74373616 0.04789756]]\n"
     ]
    }
   ],
   "source": [
    "unsorted_arr = np.random.random((3, 3))\n",
    "pprint(unsorted_arr)"
   ]
  },
  {
   "cell_type": "code",
   "execution_count": 216,
   "id": "ad67d92e",
   "metadata": {},
   "outputs": [],
   "source": [
    "arr1 = unsorted_arr.copy()\n",
    "arr2 = unsorted_arr.copy()\n",
    "arr3 = unsorted_arr.copy()"
   ]
  },
  {
   "cell_type": "code",
   "execution_count": 217,
   "id": "149cd4a7",
   "metadata": {},
   "outputs": [
    {
     "name": "stdout",
     "output_type": "stream",
     "text": [
      "type:<class 'numpy.ndarray'>\n",
      "shape:(3, 3), dimension:2, dtype:float64\n",
      "Array's Data : \n",
      " [[0.01647795 0.07760484 0.47740917]\n",
      " [0.22968049 0.64549705 0.98627953]\n",
      " [0.04789756 0.33314995 0.74373616]]\n"
     ]
    }
   ],
   "source": [
    "# axis = -1\n",
    "arr1.sort()\n",
    "pprint(arr1)"
   ]
  },
  {
   "cell_type": "code",
   "execution_count": 218,
   "id": "f2d31f3c",
   "metadata": {},
   "outputs": [
    {
     "name": "stdout",
     "output_type": "stream",
     "text": [
      "type:<class 'numpy.ndarray'>\n",
      "shape:(3, 3), dimension:2, dtype:float64\n",
      "Array's Data : \n",
      " [[0.07760484 0.01647795 0.04789756]\n",
      " [0.22968049 0.74373616 0.47740917]\n",
      " [0.33314995 0.98627953 0.64549705]]\n"
     ]
    }
   ],
   "source": [
    "# axis = 0, 열단위로 연산\n",
    "arr2.sort(axis=0)\n",
    "pprint(arr2)\n"
   ]
  },
  {
   "cell_type": "code",
   "execution_count": 219,
   "id": "5fd03c2f",
   "metadata": {},
   "outputs": [
    {
     "name": "stdout",
     "output_type": "stream",
     "text": [
      "type:<class 'numpy.ndarray'>\n",
      "shape:(3, 3), dimension:2, dtype:float64\n",
      "Array's Data : \n",
      " [[0.01647795 0.07760484 0.47740917]\n",
      " [0.22968049 0.64549705 0.98627953]\n",
      " [0.04789756 0.33314995 0.74373616]]\n"
     ]
    }
   ],
   "source": [
    "# axis = 1, 행단위로 연산\n",
    "arr3.sort(axis=1)\n",
    "pprint(arr3)"
   ]
  },
  {
   "cell_type": "markdown",
   "id": "7a559abb",
   "metadata": {},
   "source": [
    "###  서브셋, 슬라이싱, 인덱싱"
   ]
  },
  {
   "cell_type": "code",
   "execution_count": 222,
   "id": "2aeec1dd",
   "metadata": {},
   "outputs": [
    {
     "name": "stdout",
     "output_type": "stream",
     "text": [
      "type:<class 'numpy.ndarray'>\n",
      "shape:(24,), dimension:1, dtype:int32\n",
      "Array's Data : \n",
      " [ 0  1  2  3  4  5  6  7  8  9 10 11 12 13 14 15 16 17 18 19 20 21 22 23]\n",
      "type:<class 'numpy.ndarray'>\n",
      "shape:(4, 6), dimension:2, dtype:int32\n",
      "Array's Data : \n",
      " [[ 0  1  2  3  4  5]\n",
      " [ 6  7  8  9 10 11]\n",
      " [12 13 14 15 16 17]\n",
      " [18 19 20 21 22 23]]\n",
      "type:<class 'numpy.ndarray'>\n",
      "shape:(2, 4, 3), dimension:3, dtype:int32\n",
      "Array's Data : \n",
      " [[[ 0  1  2]\n",
      "  [ 3  4  5]\n",
      "  [ 6  7  8]\n",
      "  [ 9 10 11]]\n",
      "\n",
      " [[12 13 14]\n",
      "  [15 16 17]\n",
      "  [18 19 20]\n",
      "  [21 22 23]]]\n"
     ]
    }
   ],
   "source": [
    "arr0 = np.arange(24) # 1차원 배열\n",
    "pprint(arr0)\n",
    "arr1 = np.arange(24).reshape(4, 6) # 2차원 배열\n",
    "pprint(arr1)\n",
    "arr2 = np.arange(24).reshape(2, 4, 3) # 3차원 배열\n",
    "pprint(arr2)\n"
   ]
  },
  {
   "cell_type": "markdown",
   "id": "1c3ee4c9",
   "metadata": {},
   "source": [
    "### 1차원 배열의 요소 참조 및 변경"
   ]
  },
  {
   "cell_type": "code",
   "execution_count": 224,
   "id": "c9ea4024",
   "metadata": {},
   "outputs": [
    {
     "name": "stdout",
     "output_type": "stream",
     "text": [
      "type:<class 'numpy.ndarray'>\n",
      "shape:(24,), dimension:1, dtype:int32\n",
      "Array's Data : \n",
      " [    0     1     2     3     4 10000     6     7     8     9    10    11\n",
      "    12    13    14    15    16    17    18    19    20    21    22    23]\n"
     ]
    }
   ],
   "source": [
    "arr0[5] = 10000\n",
    "pprint(arr0)"
   ]
  },
  {
   "cell_type": "markdown",
   "id": "dde8a99c",
   "metadata": {},
   "source": [
    "#### 2차원 배열의 요소 참조와 변경"
   ]
  },
  {
   "cell_type": "code",
   "execution_count": 225,
   "id": "1f3d364e",
   "metadata": {},
   "outputs": [
    {
     "data": {
      "text/plain": [
       "1"
      ]
     },
     "execution_count": 225,
     "metadata": {},
     "output_type": "execute_result"
    }
   ],
   "source": [
    "# 1행에 두번째 컬럼 요소 참조\n",
    "arr1[0, 1]"
   ]
  },
  {
   "cell_type": "code",
   "execution_count": 226,
   "id": "4b38dd0a",
   "metadata": {},
   "outputs": [
    {
     "name": "stdout",
     "output_type": "stream",
     "text": [
      "type:<class 'numpy.ndarray'>\n",
      "shape:(4, 6), dimension:2, dtype:int32\n",
      "Array's Data : \n",
      " [[     0 100000      2      3      4      5]\n",
      " [     6      7      8      9     10     11]\n",
      " [    12     13     14     15     16     17]\n",
      " [    18     19     20     21     22     23]]\n"
     ]
    }
   ],
   "source": [
    "arr1[0, 1] = 100000\n",
    "pprint(arr1)"
   ]
  },
  {
   "cell_type": "markdown",
   "id": "7fada25e",
   "metadata": {},
   "source": [
    "### 3차원 배열의 요소 참조와 변경"
   ]
  },
  {
   "cell_type": "code",
   "execution_count": 229,
   "id": "468deb89",
   "metadata": {},
   "outputs": [
    {
     "name": "stdout",
     "output_type": "stream",
     "text": [
      "type:<class 'numpy.ndarray'>\n",
      "shape:(2, 4, 3), dimension:3, dtype:int32\n",
      "Array's Data : \n",
      " [[[    0     1     2]\n",
      "  [    3     4     5]\n",
      "  [    6     7     8]\n",
      "  [    9    10    11]]\n",
      "\n",
      " [[   12 10000    14]\n",
      "  [   15    16    17]\n",
      "  [   18    19    20]\n",
      "  [   21    22    23]]]\n"
     ]
    }
   ],
   "source": [
    "# 2번째 면, 첫번째 행, 두번째 열 참조\n",
    "arr2[1, 0, 1] = 10000\n",
    "pprint(arr2)"
   ]
  },
  {
   "cell_type": "markdown",
   "id": "9e171972",
   "metadata": {},
   "source": [
    "#### 슬라이싱(slicing)\n",
    "- 시작위치:마지막위치(마지막위치-1)\n",
    "- 음수 인덱스 : -1(반대방향, 마지막 인덱스를 의미)"
   ]
  },
  {
   "cell_type": "code",
   "execution_count": 233,
   "id": "c8d2bb15",
   "metadata": {},
   "outputs": [
    {
     "name": "stdout",
     "output_type": "stream",
     "text": [
      "type:<class 'numpy.ndarray'>\n",
      "shape:(4, 6), dimension:2, dtype:int32\n",
      "Array's Data : \n",
      " [[ 1  2  3  4  5  6]\n",
      " [ 7  8  9 10 11 12]\n",
      " [13 14 15 16 17 18]\n",
      " [19 20 21 22 23 24]]\n"
     ]
    }
   ],
   "source": [
    "arr1 = np.arange(1, 25).reshape(4, 6) # 2차원 배열\n",
    "pprint(arr1)"
   ]
  },
  {
   "cell_type": "code",
   "execution_count": 234,
   "id": "3081df6e",
   "metadata": {},
   "outputs": [
    {
     "data": {
      "text/plain": [
       "array([[ 8,  9, 10, 11],\n",
       "       [14, 15, 16, 17]])"
      ]
     },
     "execution_count": 234,
     "metadata": {},
     "output_type": "execute_result"
    }
   ],
   "source": [
    "# 가운데 요소 추출\n",
    "arr1[1:3 , 1:5]"
   ]
  },
  {
   "cell_type": "code",
   "execution_count": 235,
   "id": "1ba54b51",
   "metadata": {},
   "outputs": [
    {
     "data": {
      "text/plain": [
       "array([[ 8,  9, 10, 11],\n",
       "       [14, 15, 16, 17]])"
      ]
     },
     "execution_count": 235,
     "metadata": {},
     "output_type": "execute_result"
    }
   ],
   "source": [
    "arr1[1:-1 , 1:-1]"
   ]
  },
  {
   "cell_type": "code",
   "execution_count": 237,
   "id": "e0a45ff2",
   "metadata": {},
   "outputs": [
    {
     "name": "stdout",
     "output_type": "stream",
     "text": [
      "type:<class 'numpy.ndarray'>\n",
      "shape:(4, 2), dimension:2, dtype:int32\n",
      "Array's Data : \n",
      " [[ 2  3]\n",
      " [ 8  9]\n",
      " [14 15]\n",
      " [20 21]]\n"
     ]
    }
   ],
   "source": [
    "a = arr1[:, 1:3]\n",
    "pprint(a)"
   ]
  },
  {
   "cell_type": "code",
   "execution_count": 238,
   "id": "6567e6e4",
   "metadata": {},
   "outputs": [
    {
     "name": "stdout",
     "output_type": "stream",
     "text": [
      "type:<class 'numpy.ndarray'>\n",
      "shape:(4, 6), dimension:2, dtype:int32\n",
      "Array's Data : \n",
      " [[   1 9999 9999    4    5    6]\n",
      " [   7 9999 9999   10   11   12]\n",
      " [  13 9999 9999   16   17   18]\n",
      " [  19 9999 9999   22   23   24]]\n"
     ]
    }
   ],
   "source": [
    "arr1[:, 1:3] = 9999\n",
    "pprint(arr1)"
   ]
  },
  {
   "cell_type": "markdown",
   "id": "6515a8d2",
   "metadata": {},
   "source": [
    "### 불린 인덱싱(boolean indexing)"
   ]
  },
  {
   "cell_type": "code",
   "execution_count": 239,
   "id": "55980673",
   "metadata": {},
   "outputs": [
    {
     "name": "stdout",
     "output_type": "stream",
     "text": [
      "type:<class 'numpy.ndarray'>\n",
      "shape:(4, 6), dimension:2, dtype:int32\n",
      "Array's Data : \n",
      " [[ 1  2  3  4  5  6]\n",
      " [ 7  8  9 10 11 12]\n",
      " [13 14 15 16 17 18]\n",
      " [19 20 21 22 23 24]]\n"
     ]
    }
   ],
   "source": [
    "arr1 = np.arange(1, 25).reshape(4, 6) # 2차원 배열\n",
    "pprint(arr1)"
   ]
  },
  {
   "cell_type": "code",
   "execution_count": 257,
   "id": "9130bcf1",
   "metadata": {},
   "outputs": [
    {
     "data": {
      "text/plain": [
       "156"
      ]
     },
     "execution_count": 257,
     "metadata": {},
     "output_type": "execute_result"
    }
   ],
   "source": [
    "# arr1 배열에서 요소의 값이 짝수인 요소들의 총합은?\n",
    "sum(sum(arr1[:,(1,3,5)]))"
   ]
  },
  {
   "cell_type": "code",
   "execution_count": 262,
   "id": "efdd119d",
   "metadata": {},
   "outputs": [
    {
     "data": {
      "text/plain": [
       "156"
      ]
     },
     "execution_count": 262,
     "metadata": {},
     "output_type": "execute_result"
    }
   ],
   "source": [
    "np.sum(arr1[arr1 % 2 == 0])"
   ]
  },
  {
   "cell_type": "markdown",
   "id": "2e589da5",
   "metadata": {},
   "source": [
    "#### 팬시 인덱싱(Fancy indexing)"
   ]
  },
  {
   "cell_type": "code",
   "execution_count": 266,
   "id": "55910fad",
   "metadata": {},
   "outputs": [
    {
     "name": "stdout",
     "output_type": "stream",
     "text": [
      "type:<class 'numpy.ndarray'>\n",
      "shape:(4, 6), dimension:2, dtype:int32\n",
      "Array's Data : \n",
      " [[ 1  2  3  4  5  6]\n",
      " [ 7  8  9 10 11 12]\n",
      " [13 14 15 16 17 18]\n",
      " [19 20 21 22 23 24]]\n"
     ]
    }
   ],
   "source": [
    "arr = np.arange(1, 25).reshape(4, 6) # 2차원 배열\n",
    "pprint(arr1)"
   ]
  },
  {
   "cell_type": "code",
   "execution_count": 267,
   "id": "06d44c6e",
   "metadata": {},
   "outputs": [
    {
     "data": {
      "text/plain": [
       "[1, 8, 15, 22]"
      ]
     },
     "execution_count": 267,
     "metadata": {},
     "output_type": "execute_result"
    }
   ],
   "source": [
    "[arr[0,0], arr[1,1], arr[2,2], arr[3,3]]"
   ]
  },
  {
   "cell_type": "code",
   "execution_count": 268,
   "id": "2fe3c277",
   "metadata": {},
   "outputs": [
    {
     "data": {
      "text/plain": [
       "array([ 1,  8, 15, 22])"
      ]
     },
     "execution_count": 268,
     "metadata": {},
     "output_type": "execute_result"
    }
   ],
   "source": [
    "arr[[0, 1, 2, 3], [0, 1, 2, 3]]"
   ]
  },
  {
   "cell_type": "code",
   "execution_count": 269,
   "id": "c8af0fbe",
   "metadata": {},
   "outputs": [
    {
     "data": {
      "text/plain": [
       "array([[ 2,  3],\n",
       "       [ 8,  9],\n",
       "       [14, 15],\n",
       "       [20, 21]])"
      ]
     },
     "execution_count": 269,
     "metadata": {},
     "output_type": "execute_result"
    }
   ],
   "source": [
    "arr[:, [1, 2]]"
   ]
  },
  {
   "cell_type": "markdown",
   "id": "6e72a692",
   "metadata": {},
   "source": [
    "### 배열 변환\n",
    "- 전치, 배열 shape 변환, 배열 요소의 추가/삭제, 배열 결합, 분리"
   ]
  },
  {
   "cell_type": "markdown",
   "id": "d189fecd",
   "metadata": {},
   "source": [
    "#### 전치(Transpose): 행렬의 행과 열을 바꾼다."
   ]
  },
  {
   "cell_type": "code",
   "execution_count": 271,
   "id": "696baf01",
   "metadata": {},
   "outputs": [
    {
     "name": "stdout",
     "output_type": "stream",
     "text": [
      "type:<class 'numpy.ndarray'>\n",
      "shape:(2, 3), dimension:2, dtype:int32\n",
      "Array's Data : \n",
      " [[5 6 6]\n",
      " [5 7 9]]\n"
     ]
    }
   ],
   "source": [
    "a = np.random.randint(1, 10, (2, 3))\n",
    "pprint(a)"
   ]
  },
  {
   "cell_type": "code",
   "execution_count": 272,
   "id": "d52cded1",
   "metadata": {},
   "outputs": [
    {
     "name": "stdout",
     "output_type": "stream",
     "text": [
      "type:<class 'numpy.ndarray'>\n",
      "shape:(3, 2), dimension:2, dtype:int32\n",
      "Array's Data : \n",
      " [[5 5]\n",
      " [6 7]\n",
      " [6 9]]\n"
     ]
    }
   ],
   "source": [
    "pprint(a.T)"
   ]
  },
  {
   "cell_type": "markdown",
   "id": "57330ff4",
   "metadata": {},
   "source": [
    "#### 배열 형태 변경\n",
    "- ravel : 배열의 shape을 1차원 배열로 만드는 메서드\n",
    "- reshape : 데이터의 변경없이 지정된 shape으로 변환하는 메서드"
   ]
  },
  {
   "cell_type": "code",
   "execution_count": 275,
   "id": "6623f42f",
   "metadata": {},
   "outputs": [
    {
     "name": "stdout",
     "output_type": "stream",
     "text": [
      "type:<class 'numpy.ndarray'>\n",
      "shape:(2, 3), dimension:2, dtype:int32\n",
      "Array's Data : \n",
      " [[5 6 5]\n",
      " [1 2 6]]\n"
     ]
    }
   ],
   "source": [
    "a = np.random.randint(1, 10, (2, 3))\n",
    "pprint(a)"
   ]
  },
  {
   "cell_type": "code",
   "execution_count": 278,
   "id": "9649234c",
   "metadata": {},
   "outputs": [],
   "source": [
    "b=a.ravel()"
   ]
  },
  {
   "cell_type": "code",
   "execution_count": 276,
   "id": "21fbac5c",
   "metadata": {},
   "outputs": [
    {
     "data": {
      "text/plain": [
       "array([[5, 6, 5],\n",
       "       [1, 2, 6]])"
      ]
     },
     "execution_count": 276,
     "metadata": {},
     "output_type": "execute_result"
    }
   ],
   "source": [
    "a"
   ]
  },
  {
   "cell_type": "code",
   "execution_count": 280,
   "id": "451508c0",
   "metadata": {},
   "outputs": [
    {
     "name": "stdout",
     "output_type": "stream",
     "text": [
      "type:<class 'numpy.ndarray'>\n",
      "shape:(6,), dimension:1, dtype:int32\n",
      "Array's Data : \n",
      " [99  6  5  1  2  6]\n"
     ]
    }
   ],
   "source": [
    "b[0] = 99\n",
    "pprint(b)"
   ]
  },
  {
   "cell_type": "code",
   "execution_count": 282,
   "id": "19eb7705",
   "metadata": {},
   "outputs": [
    {
     "name": "stdout",
     "output_type": "stream",
     "text": [
      "type:<class 'numpy.ndarray'>\n",
      "shape:(2, 3), dimension:2, dtype:int32\n",
      "Array's Data : \n",
      " [[99  6  5]\n",
      " [ 1  2  6]]\n"
     ]
    }
   ],
   "source": [
    "pprint(a)"
   ]
  },
  {
   "cell_type": "code",
   "execution_count": 305,
   "id": "1daf5dac",
   "metadata": {},
   "outputs": [
    {
     "data": {
      "text/plain": [
       "[1, 2, 3, 4, 5]"
      ]
     },
     "execution_count": 305,
     "metadata": {},
     "output_type": "execute_result"
    }
   ],
   "source": [
    "x = [1, 2, 3, 4, 5]\n",
    "x"
   ]
  },
  {
   "cell_type": "code",
   "execution_count": 286,
   "id": "1b7c2368",
   "metadata": {},
   "outputs": [
    {
     "data": {
      "text/plain": [
       "[1, 2, 3, 4, 5]"
      ]
     },
     "execution_count": 286,
     "metadata": {},
     "output_type": "execute_result"
    }
   ],
   "source": [
    "x1 = x\n",
    "x1"
   ]
  },
  {
   "cell_type": "code",
   "execution_count": 292,
   "id": "3647d1e9",
   "metadata": {},
   "outputs": [
    {
     "data": {
      "text/plain": [
       "[100, 2, 3, 4, 5]"
      ]
     },
     "execution_count": 292,
     "metadata": {},
     "output_type": "execute_result"
    }
   ],
   "source": [
    "x1[0] = 100\n",
    "x1"
   ]
  },
  {
   "cell_type": "code",
   "execution_count": 301,
   "id": "e2885f64",
   "metadata": {},
   "outputs": [
    {
     "data": {
      "text/plain": [
       "[100, 2, 3, 4, 5]"
      ]
     },
     "execution_count": 301,
     "metadata": {},
     "output_type": "execute_result"
    }
   ],
   "source": [
    "x"
   ]
  },
  {
   "cell_type": "code",
   "execution_count": 306,
   "id": "249f0905",
   "metadata": {},
   "outputs": [
    {
     "data": {
      "text/plain": [
       "[1, 2, 3, 4, 5]"
      ]
     },
     "execution_count": 306,
     "metadata": {},
     "output_type": "execute_result"
    }
   ],
   "source": [
    "x2 = x[:]\n",
    "x2"
   ]
  },
  {
   "cell_type": "code",
   "execution_count": 309,
   "id": "9e772a6a",
   "metadata": {},
   "outputs": [
    {
     "data": {
      "text/plain": [
       "[1, 2, 3, 4, 5]"
      ]
     },
     "execution_count": 309,
     "metadata": {},
     "output_type": "execute_result"
    }
   ],
   "source": [
    "x"
   ]
  },
  {
   "cell_type": "code",
   "execution_count": 310,
   "id": "ad9e4054",
   "metadata": {},
   "outputs": [
    {
     "name": "stdout",
     "output_type": "stream",
     "text": [
      "type:<class 'numpy.ndarray'>\n",
      "shape:(2, 3), dimension:2, dtype:int32\n",
      "Array's Data : \n",
      " [[1 1 3]\n",
      " [5 8 8]]\n"
     ]
    }
   ],
   "source": [
    "a = np.random.randint(1, 10, (2, 3))\n",
    "pprint(a)"
   ]
  },
  {
   "cell_type": "code",
   "execution_count": 312,
   "id": "3aaa2337",
   "metadata": {},
   "outputs": [
    {
     "name": "stdout",
     "output_type": "stream",
     "text": [
      "type:<class 'numpy.ndarray'>\n",
      "shape:(3, 2, 1), dimension:3, dtype:int32\n",
      "Array's Data : \n",
      " [[[1]\n",
      "  [1]]\n",
      "\n",
      " [[3]\n",
      "  [5]]\n",
      "\n",
      " [[8]\n",
      "  [8]]]\n"
     ]
    }
   ],
   "source": [
    "result = a.reshape(3, 2, 1)\n",
    "pprint(result)"
   ]
  },
  {
   "cell_type": "code",
   "execution_count": 313,
   "id": "ace2a115",
   "metadata": {},
   "outputs": [
    {
     "data": {
      "text/plain": [
       "array([1, 2, 3, 4, 5, 6, 7, 8, 9])"
      ]
     },
     "execution_count": 313,
     "metadata": {},
     "output_type": "execute_result"
    }
   ],
   "source": [
    "x = np.array([1, 2, 3, 4, 5, 6, 7, 8, 9])\n",
    "x"
   ]
  },
  {
   "cell_type": "code",
   "execution_count": 314,
   "id": "1d4fb2f8",
   "metadata": {},
   "outputs": [
    {
     "name": "stdout",
     "output_type": "stream",
     "text": [
      "type:<class 'numpy.ndarray'>\n",
      "shape:(3, 3), dimension:2, dtype:int32\n",
      "Array's Data : \n",
      " [[1 2 3]\n",
      " [4 5 6]\n",
      " [7 8 9]]\n"
     ]
    }
   ],
   "source": [
    "y =x.reshape(3, -1)\n",
    "pprint(y)"
   ]
  },
  {
   "cell_type": "markdown",
   "id": "d028e77b",
   "metadata": {},
   "source": [
    "#### 요소 추가/삭제\n",
    "- 배열의 요소 변경, 추가, 삽입, 삭제\n",
    "- resize, append, insert, delete\n",
    "- resize와 reshape 함수는 배열의 shape을 변경한다는 부분에서 유사함\n",
    "- 단, resize는 shape을 변경하는 과정에서 배열의 요소의 수가 줄거나 늘어난다."
   ]
  },
  {
   "cell_type": "code",
   "execution_count": 315,
   "id": "34d9ac6f",
   "metadata": {},
   "outputs": [
    {
     "name": "stdout",
     "output_type": "stream",
     "text": [
      "type:<class 'numpy.ndarray'>\n",
      "shape:(2, 6), dimension:2, dtype:int32\n",
      "Array's Data : \n",
      " [[3 9 2 3 4 1]\n",
      " [5 2 9 4 7 7]]\n"
     ]
    }
   ],
   "source": [
    "a = np.random.randint(1, 10, (2, 6))\n",
    "pprint(a)"
   ]
  },
  {
   "cell_type": "code",
   "execution_count": 316,
   "id": "ed873fd2",
   "metadata": {},
   "outputs": [
    {
     "name": "stdout",
     "output_type": "stream",
     "text": [
      "type:<class 'numpy.ndarray'>\n",
      "shape:(6, 2), dimension:2, dtype:int32\n",
      "Array's Data : \n",
      " [[3 9]\n",
      " [2 3]\n",
      " [4 1]\n",
      " [5 2]\n",
      " [9 4]\n",
      " [7 7]]\n"
     ]
    }
   ],
   "source": [
    "# shape 변경, 요소수 변경 없음\n",
    "a.resize((6, 2))\n",
    "pprint(a)"
   ]
  },
  {
   "cell_type": "code",
   "execution_count": 318,
   "id": "ca815f18",
   "metadata": {},
   "outputs": [
    {
     "name": "stdout",
     "output_type": "stream",
     "text": [
      "type:<class 'numpy.ndarray'>\n",
      "shape:(2, 6), dimension:2, dtype:int32\n",
      "Array's Data : \n",
      " [[7 5 7 4 4 3]\n",
      " [1 3 1 9 8 2]]\n"
     ]
    }
   ],
   "source": [
    "b = np.random.randint(1, 10, (2, 6))\n",
    "pprint(b)"
   ]
  },
  {
   "cell_type": "code",
   "execution_count": 319,
   "id": "d9784ea3",
   "metadata": {},
   "outputs": [
    {
     "name": "stdout",
     "output_type": "stream",
     "text": [
      "type:<class 'numpy.ndarray'>\n",
      "shape:(2, 10), dimension:2, dtype:int32\n",
      "Array's Data : \n",
      " [[7 5 7 4 4 3 1 3 1 9]\n",
      " [8 2 0 0 0 0 0 0 0 0]]\n"
     ]
    }
   ],
   "source": [
    "# 요소수 12 => 20\n",
    "# 늘어난 요소는 0으로 채워짐\n",
    "b.resize((2, 10))\n",
    "pprint(b)"
   ]
  },
  {
   "cell_type": "code",
   "execution_count": 320,
   "id": "d56262f1",
   "metadata": {},
   "outputs": [
    {
     "name": "stdout",
     "output_type": "stream",
     "text": [
      "type:<class 'numpy.ndarray'>\n",
      "shape:(2, 6), dimension:2, dtype:int32\n",
      "Array's Data : \n",
      " [[1 8 5 5 6 8]\n",
      " [5 2 9 3 5 3]]\n"
     ]
    }
   ],
   "source": [
    "c = np.random.randint(1, 10, (2, 6))\n",
    "pprint(c)"
   ]
  },
  {
   "cell_type": "code",
   "execution_count": 321,
   "id": "a5eed9cb",
   "metadata": {},
   "outputs": [
    {
     "name": "stdout",
     "output_type": "stream",
     "text": [
      "type:<class 'numpy.ndarray'>\n",
      "shape:(3, 3), dimension:2, dtype:int32\n",
      "Array's Data : \n",
      " [[1 8 5]\n",
      " [5 6 8]\n",
      " [5 2 9]]\n"
     ]
    }
   ],
   "source": [
    "# 요소수 12 => 9\n",
    "# 삭제\n",
    "c.resize((3, 3))\n",
    "pprint(c)"
   ]
  },
  {
   "cell_type": "code",
   "execution_count": 322,
   "id": "c73f7abf",
   "metadata": {},
   "outputs": [
    {
     "name": "stdout",
     "output_type": "stream",
     "text": [
      "type:<class 'numpy.ndarray'>\n",
      "shape:(3, 3), dimension:2, dtype:int32\n",
      "Array's Data : \n",
      " [[1 2 3]\n",
      " [4 5 6]\n",
      " [7 8 9]]\n",
      "type:<class 'numpy.ndarray'>\n",
      "shape:(3, 3), dimension:2, dtype:int32\n",
      "Array's Data : \n",
      " [[10 11 12]\n",
      " [13 14 15]\n",
      " [16 17 18]]\n"
     ]
    }
   ],
   "source": [
    "x = np.arange(1, 10).reshape(3, 3)\n",
    "pprint(x)\n",
    "y = np.arange(10, 19).reshape(3, 3)\n",
    "pprint(y)"
   ]
  },
  {
   "cell_type": "code",
   "execution_count": 323,
   "id": "0f2d1833",
   "metadata": {},
   "outputs": [
    {
     "name": "stdout",
     "output_type": "stream",
     "text": [
      "type:<class 'numpy.ndarray'>\n",
      "shape:(18,), dimension:1, dtype:int32\n",
      "Array's Data : \n",
      " [ 1  2  3  4  5  6  7  8  9 10 11 12 13 14 15 16 17 18]\n"
     ]
    }
   ],
   "source": [
    "# case1. axis 지정없이 추가\n",
    "# axis를 지정하지 않으면 배열은 1차원 배열로 변형되어 결합된다.\n",
    "result = np.append(x, y)\n",
    "pprint(result)"
   ]
  },
  {
   "cell_type": "code",
   "execution_count": 324,
   "id": "199c145d",
   "metadata": {},
   "outputs": [
    {
     "name": "stdout",
     "output_type": "stream",
     "text": [
      "type:<class 'numpy.ndarray'>\n",
      "shape:(3, 3), dimension:2, dtype:int32\n",
      "Array's Data : \n",
      " [[1 2 3]\n",
      " [4 5 6]\n",
      " [7 8 9]]\n"
     ]
    }
   ],
   "source": [
    "pprint(x)"
   ]
  },
  {
   "cell_type": "code",
   "execution_count": 326,
   "id": "8e12ef5c",
   "metadata": {},
   "outputs": [
    {
     "name": "stdout",
     "output_type": "stream",
     "text": [
      "type:<class 'numpy.ndarray'>\n",
      "shape:(6, 3), dimension:2, dtype:int32\n",
      "Array's Data : \n",
      " [[ 1  2  3]\n",
      " [ 4  5  6]\n",
      " [ 7  8  9]\n",
      " [10 11 12]\n",
      " [13 14 15]\n",
      " [16 17 18]]\n"
     ]
    }
   ],
   "source": [
    "# case2. axis = 0, 열단위\n",
    "result = np.append(x, y, axis = 0)\n",
    "pprint(result)"
   ]
  },
  {
   "cell_type": "code",
   "execution_count": 327,
   "id": "25d5284a",
   "metadata": {},
   "outputs": [
    {
     "name": "stdout",
     "output_type": "stream",
     "text": [
      "type:<class 'numpy.ndarray'>\n",
      "shape:(3, 6), dimension:2, dtype:int32\n",
      "Array's Data : \n",
      " [[ 1  2  3 10 11 12]\n",
      " [ 4  5  6 13 14 15]\n",
      " [ 7  8  9 16 17 18]]\n"
     ]
    }
   ],
   "source": [
    "# case3. axis = 1, 열을 기준으로\n",
    "result = np.append(x, y, axis = 1)\n",
    "pprint(result)"
   ]
  },
  {
   "cell_type": "markdown",
   "id": "a555edb1",
   "metadata": {},
   "source": [
    "#### insert(arr, obj, value, axis)"
   ]
  },
  {
   "cell_type": "code",
   "execution_count": 328,
   "id": "04f49802",
   "metadata": {},
   "outputs": [
    {
     "name": "stdout",
     "output_type": "stream",
     "text": [
      "type:<class 'numpy.ndarray'>\n",
      "shape:(3, 3), dimension:2, dtype:int32\n",
      "Array's Data : \n",
      " [[1 2 3]\n",
      " [4 5 6]\n",
      " [7 8 9]]\n"
     ]
    }
   ],
   "source": [
    "a = np.arange(1, 10).reshape(3, 3)\n",
    "pprint(a)"
   ]
  },
  {
   "cell_type": "code",
   "execution_count": 329,
   "id": "53b7a67c",
   "metadata": {},
   "outputs": [
    {
     "data": {
      "text/plain": [
       "array([ 1, 99,  2,  3,  4,  5,  6,  7,  8,  9])"
      ]
     },
     "execution_count": 329,
     "metadata": {},
     "output_type": "execute_result"
    }
   ],
   "source": [
    "# a라는 배열을 일차원 배열로 변환하고 1번 index에 99를 추가\n",
    "np.insert(a, 1, 99)"
   ]
  },
  {
   "cell_type": "code",
   "execution_count": 330,
   "id": "9a3862d3",
   "metadata": {},
   "outputs": [
    {
     "data": {
      "text/plain": [
       "array([[ 1,  2,  3],\n",
       "       [99, 99, 99],\n",
       "       [ 4,  5,  6],\n",
       "       [ 7,  8,  9]])"
      ]
     },
     "execution_count": 330,
     "metadata": {},
     "output_type": "execute_result"
    }
   ],
   "source": [
    "np. insert(a, 1, 99, axis=0)"
   ]
  },
  {
   "cell_type": "code",
   "execution_count": 331,
   "id": "e4e4a9d4",
   "metadata": {},
   "outputs": [
    {
     "data": {
      "text/plain": [
       "array([[ 1, 99,  2,  3],\n",
       "       [ 4, 99,  5,  6],\n",
       "       [ 7, 99,  8,  9]])"
      ]
     },
     "execution_count": 331,
     "metadata": {},
     "output_type": "execute_result"
    }
   ],
   "source": [
    "np.insert(a, 1, 99, axis=1)"
   ]
  },
  {
   "cell_type": "markdown",
   "id": "d367c12b",
   "metadata": {},
   "source": [
    "#### delete(arr,obj,axis=None)"
   ]
  },
  {
   "cell_type": "code",
   "execution_count": 333,
   "id": "09f0c41f",
   "metadata": {},
   "outputs": [
    {
     "name": "stdout",
     "output_type": "stream",
     "text": [
      "type:<class 'numpy.ndarray'>\n",
      "shape:(3, 3), dimension:2, dtype:int32\n",
      "Array's Data : \n",
      " [[1 2 3]\n",
      " [4 5 6]\n",
      " [7 8 9]]\n"
     ]
    }
   ],
   "source": [
    "a = np.arange(1, 10).reshape(3, 3)\n",
    "pprint(a)"
   ]
  },
  {
   "cell_type": "code",
   "execution_count": 334,
   "id": "f7b4bedd",
   "metadata": {},
   "outputs": [
    {
     "data": {
      "text/plain": [
       "array([1, 3, 4, 5, 6, 7, 8, 9])"
      ]
     },
     "execution_count": 334,
     "metadata": {},
     "output_type": "execute_result"
    }
   ],
   "source": [
    "# 1차원 배열로 변환하고 1번째 index 삭제\n",
    "np.delete(a, 1)"
   ]
  },
  {
   "cell_type": "code",
   "execution_count": 335,
   "id": "b0446eb8",
   "metadata": {},
   "outputs": [
    {
     "data": {
      "text/plain": [
       "array([[1, 2, 3],\n",
       "       [7, 8, 9]])"
      ]
     },
     "execution_count": 335,
     "metadata": {},
     "output_type": "execute_result"
    }
   ],
   "source": [
    "np.delete(a, 1, axis=0)"
   ]
  },
  {
   "cell_type": "code",
   "execution_count": 336,
   "id": "f91c1428",
   "metadata": {},
   "outputs": [
    {
     "data": {
      "text/plain": [
       "array([[1, 3],\n",
       "       [4, 6],\n",
       "       [7, 9]])"
      ]
     },
     "execution_count": 336,
     "metadata": {},
     "output_type": "execute_result"
    }
   ],
   "source": [
    "np.delete(a, 1, axis=1)"
   ]
  },
  {
   "cell_type": "markdown",
   "id": "ea7705a0",
   "metadata": {},
   "source": [
    "#### 배열 결합 : 결합할 배열은 tuple로 담는다\n",
    "- np.concatenate((a1, a2), axis = 0(기본값))\n",
    "- np.vstack : 수직방향으로 배열 결합(axis = 0)\n",
    "- np.hstack : 수평방향으로 배열 결합(axis = 1)"
   ]
  },
  {
   "cell_type": "code",
   "execution_count": 339,
   "id": "cb3195b4",
   "metadata": {},
   "outputs": [
    {
     "name": "stdout",
     "output_type": "stream",
     "text": [
      "type:<class 'numpy.ndarray'>\n",
      "shape:(2, 3), dimension:2, dtype:int32\n",
      "Array's Data : \n",
      " [[1 2 3]\n",
      " [4 5 6]]\n",
      "type:<class 'numpy.ndarray'>\n",
      "shape:(2, 3), dimension:2, dtype:int32\n",
      "Array's Data : \n",
      " [[ 7  8  9]\n",
      " [10 11 12]]\n"
     ]
    }
   ],
   "source": [
    "a = np.arange(1, 7).reshape(2, 3)\n",
    "pprint(a)\n",
    "b = np.arange(7, 13).reshape(2, 3)\n",
    "pprint(b)"
   ]
  },
  {
   "cell_type": "code",
   "execution_count": 341,
   "id": "5609eaa7",
   "metadata": {},
   "outputs": [
    {
     "data": {
      "text/plain": [
       "array([[ 1,  2,  3],\n",
       "       [ 4,  5,  6],\n",
       "       [ 7,  8,  9],\n",
       "       [10, 11, 12]])"
      ]
     },
     "execution_count": 341,
     "metadata": {},
     "output_type": "execute_result"
    }
   ],
   "source": [
    "result = np.concatenate((a, b)) # axis = 0\n",
    "result"
   ]
  },
  {
   "cell_type": "code",
   "execution_count": 342,
   "id": "3baf8c34",
   "metadata": {},
   "outputs": [
    {
     "data": {
      "text/plain": [
       "array([[ 1,  2,  3],\n",
       "       [ 4,  5,  6],\n",
       "       [ 7,  8,  9],\n",
       "       [10, 11, 12]])"
      ]
     },
     "execution_count": 342,
     "metadata": {},
     "output_type": "execute_result"
    }
   ],
   "source": [
    "result = np.concatenate((a, b), axis = 0)\n",
    "result"
   ]
  },
  {
   "cell_type": "code",
   "execution_count": 343,
   "id": "ef255e36",
   "metadata": {},
   "outputs": [
    {
     "data": {
      "text/plain": [
       "array([[ 1,  2,  3,  7,  8,  9],\n",
       "       [ 4,  5,  6, 10, 11, 12]])"
      ]
     },
     "execution_count": 343,
     "metadata": {},
     "output_type": "execute_result"
    }
   ],
   "source": [
    "result = np.concatenate((a, b), axis = 1)\n",
    "result"
   ]
  },
  {
   "cell_type": "markdown",
   "id": "76ad7557",
   "metadata": {},
   "source": [
    "#### 수직 방향 배열 결합 : vstack\n",
    "- np.concatenate((a, b), axis=0) 동일"
   ]
  },
  {
   "cell_type": "code",
   "execution_count": 344,
   "id": "877ed87d",
   "metadata": {},
   "outputs": [
    {
     "name": "stdout",
     "output_type": "stream",
     "text": [
      "type:<class 'numpy.ndarray'>\n",
      "shape:(2, 3), dimension:2, dtype:int32\n",
      "Array's Data : \n",
      " [[1 2 3]\n",
      " [4 5 6]]\n",
      "type:<class 'numpy.ndarray'>\n",
      "shape:(2, 3), dimension:2, dtype:int32\n",
      "Array's Data : \n",
      " [[ 7  8  9]\n",
      " [10 11 12]]\n"
     ]
    }
   ],
   "source": [
    "a = np.arange(1, 7).reshape(2, 3)\n",
    "pprint(a)\n",
    "b = np.arange(7, 13).reshape(2, 3)\n",
    "pprint(b)"
   ]
  },
  {
   "cell_type": "code",
   "execution_count": 345,
   "id": "04f1e174",
   "metadata": {},
   "outputs": [
    {
     "data": {
      "text/plain": [
       "array([[ 1,  2,  3],\n",
       "       [ 4,  5,  6],\n",
       "       [ 7,  8,  9],\n",
       "       [10, 11, 12]])"
      ]
     },
     "execution_count": 345,
     "metadata": {},
     "output_type": "execute_result"
    }
   ],
   "source": [
    "np.vstack((a, b))"
   ]
  },
  {
   "cell_type": "code",
   "execution_count": 346,
   "id": "13c6c8e7",
   "metadata": {},
   "outputs": [
    {
     "data": {
      "text/plain": [
       "array([[ 1,  2,  3],\n",
       "       [ 4,  5,  6],\n",
       "       [ 7,  8,  9],\n",
       "       [10, 11, 12],\n",
       "       [ 1,  2,  3],\n",
       "       [ 4,  5,  6],\n",
       "       [ 7,  8,  9],\n",
       "       [10, 11, 12]])"
      ]
     },
     "execution_count": 346,
     "metadata": {},
     "output_type": "execute_result"
    }
   ],
   "source": [
    "np.vstack((a, b, a, b))"
   ]
  },
  {
   "cell_type": "markdown",
   "id": "77b9e043",
   "metadata": {},
   "source": [
    "#### 수평 방향 배열 결합 : hstack\n",
    "- np.concatenate((a, b), axis=1) 동일"
   ]
  },
  {
   "cell_type": "code",
   "execution_count": 347,
   "id": "2fc01e99",
   "metadata": {},
   "outputs": [
    {
     "name": "stdout",
     "output_type": "stream",
     "text": [
      "type:<class 'numpy.ndarray'>\n",
      "shape:(2, 3), dimension:2, dtype:int32\n",
      "Array's Data : \n",
      " [[1 2 3]\n",
      " [4 5 6]]\n",
      "type:<class 'numpy.ndarray'>\n",
      "shape:(2, 3), dimension:2, dtype:int32\n",
      "Array's Data : \n",
      " [[ 7  8  9]\n",
      " [10 11 12]]\n"
     ]
    }
   ],
   "source": [
    "a = np.arange(1, 7).reshape(2, 3)\n",
    "pprint(a)\n",
    "b = np.arange(7, 13).reshape(2, 3)\n",
    "pprint(b)"
   ]
  },
  {
   "cell_type": "code",
   "execution_count": 348,
   "id": "a2df21de",
   "metadata": {},
   "outputs": [
    {
     "data": {
      "text/plain": [
       "array([[ 1,  2,  3,  7,  8,  9],\n",
       "       [ 4,  5,  6, 10, 11, 12]])"
      ]
     },
     "execution_count": 348,
     "metadata": {},
     "output_type": "execute_result"
    }
   ],
   "source": [
    "np.hstack((a, b))"
   ]
  },
  {
   "cell_type": "code",
   "execution_count": 349,
   "id": "2a6e2f46",
   "metadata": {},
   "outputs": [
    {
     "data": {
      "text/plain": [
       "array([[ 1,  2,  3,  7,  8,  9,  1,  2,  3,  7,  8,  9],\n",
       "       [ 4,  5,  6, 10, 11, 12,  4,  5,  6, 10, 11, 12]])"
      ]
     },
     "execution_count": 349,
     "metadata": {},
     "output_type": "execute_result"
    }
   ],
   "source": [
    "np.hstack((a, b, a, b))"
   ]
  },
  {
   "cell_type": "markdown",
   "id": "2c0073d0",
   "metadata": {},
   "source": [
    "#### 배열 분리\n",
    "- np.hsplit() : 수평(행) 방향으로 분할\n",
    "- np.vsplit() : 수직(열) 방향으로 분할"
   ]
  },
  {
   "cell_type": "code",
   "execution_count": 350,
   "id": "8e9b7be9",
   "metadata": {},
   "outputs": [
    {
     "name": "stdout",
     "output_type": "stream",
     "text": [
      "type:<class 'numpy.ndarray'>\n",
      "shape:(4, 6), dimension:2, dtype:int32\n",
      "Array's Data : \n",
      " [[ 1  2  3  4  5  6]\n",
      " [ 7  8  9 10 11 12]\n",
      " [13 14 15 16 17 18]\n",
      " [19 20 21 22 23 24]]\n"
     ]
    }
   ],
   "source": [
    "a = np.arange(1, 25).reshape(4, 6)\n",
    "pprint(a)"
   ]
  },
  {
   "cell_type": "code",
   "execution_count": 351,
   "id": "b028fef0",
   "metadata": {},
   "outputs": [
    {
     "data": {
      "text/plain": [
       "[array([[ 1,  2,  3],\n",
       "        [ 7,  8,  9],\n",
       "        [13, 14, 15],\n",
       "        [19, 20, 21]]),\n",
       " array([[ 4,  5,  6],\n",
       "        [10, 11, 12],\n",
       "        [16, 17, 18],\n",
       "        [22, 23, 24]])]"
      ]
     },
     "execution_count": 351,
     "metadata": {},
     "output_type": "execute_result"
    }
   ],
   "source": [
    "# 수평방향으로 배열을 두 그룹으로 분할\n",
    "result = np.hsplit(a, 2)\n",
    "result"
   ]
  },
  {
   "cell_type": "code",
   "execution_count": 352,
   "id": "8f91fb3c",
   "metadata": {},
   "outputs": [
    {
     "data": {
      "text/plain": [
       "[array([[ 1,  2],\n",
       "        [ 7,  8],\n",
       "        [13, 14],\n",
       "        [19, 20]]),\n",
       " array([[ 3,  4],\n",
       "        [ 9, 10],\n",
       "        [15, 16],\n",
       "        [21, 22]]),\n",
       " array([[ 5,  6],\n",
       "        [11, 12],\n",
       "        [17, 18],\n",
       "        [23, 24]])]"
      ]
     },
     "execution_count": 352,
     "metadata": {},
     "output_type": "execute_result"
    }
   ],
   "source": [
    "# 수평방향으로 배열을 두 그룹으로 분할\n",
    "result = np.hsplit(a, 3)\n",
    "result"
   ]
  },
  {
   "cell_type": "code",
   "execution_count": 356,
   "id": "d36507ea",
   "metadata": {},
   "outputs": [
    {
     "data": {
      "text/plain": [
       "[array([[ 1],\n",
       "        [ 7],\n",
       "        [13],\n",
       "        [19]]),\n",
       " array([[ 2,  3],\n",
       "        [ 8,  9],\n",
       "        [14, 15],\n",
       "        [20, 21]]),\n",
       " array([[ 4,  5,  6],\n",
       "        [10, 11, 12],\n",
       "        [16, 17, 18],\n",
       "        [22, 23, 24]]),\n",
       " array([], shape=(4, 0), dtype=int32)]"
      ]
     },
     "execution_count": 356,
     "metadata": {},
     "output_type": "execute_result"
    }
   ],
   "source": [
    "# 구간 설정 배열을 이용하여 여러 구간으로 구분\n",
    "# a[:,:1], a[:, 1:3], a[:, 3:6]\n",
    "result = np.hsplit(a, [1, 3, 6])\n",
    "result"
   ]
  },
  {
   "cell_type": "code",
   "execution_count": 1,
   "id": "2d16fc2f",
   "metadata": {},
   "outputs": [],
   "source": [
    "import numpy as np"
   ]
  },
  {
   "cell_type": "code",
   "execution_count": null,
   "id": "6f59a954",
   "metadata": {},
   "outputs": [],
   "source": []
  },
  {
   "cell_type": "code",
   "execution_count": 31,
   "id": "3493e31e",
   "metadata": {},
   "outputs": [
    {
     "data": {
      "text/plain": [
       "array([ 1,  2,  3,  4,  5,  6,  7,  8,  9, 10])"
      ]
     },
     "execution_count": 31,
     "metadata": {},
     "output_type": "execute_result"
    }
   ],
   "source": [
    "x = np.array([1, 2, 3, 4, 5, 6, 7, 8, 9, 10])\n",
    "x"
   ]
  },
  {
   "cell_type": "code",
   "execution_count": 24,
   "id": "830bdda1",
   "metadata": {},
   "outputs": [
    {
     "data": {
      "text/plain": [
       "array([6, 7, 8])"
      ]
     },
     "execution_count": 24,
     "metadata": {},
     "output_type": "execute_result"
    }
   ],
   "source": [
    "y = x[5:8]\n",
    "y"
   ]
  },
  {
   "cell_type": "code",
   "execution_count": 25,
   "id": "c8eaa0be",
   "metadata": {},
   "outputs": [
    {
     "data": {
      "text/plain": [
       "array([100,   7,   8])"
      ]
     },
     "execution_count": 25,
     "metadata": {},
     "output_type": "execute_result"
    }
   ],
   "source": [
    "y[0] = 100\n",
    "y"
   ]
  },
  {
   "cell_type": "code",
   "execution_count": 26,
   "id": "d6cf15d1",
   "metadata": {},
   "outputs": [
    {
     "data": {
      "text/plain": [
       "array([99, 99, 99])"
      ]
     },
     "execution_count": 26,
     "metadata": {},
     "output_type": "execute_result"
    }
   ],
   "source": [
    "y[:]=99\n",
    "y"
   ]
  },
  {
   "cell_type": "code",
   "execution_count": 27,
   "id": "30169712",
   "metadata": {},
   "outputs": [
    {
     "data": {
      "text/plain": [
       "array([ 1,  2,  3,  4,  5, 99, 99, 99,  9, 10])"
      ]
     },
     "execution_count": 27,
     "metadata": {},
     "output_type": "execute_result"
    }
   ],
   "source": [
    "x"
   ]
  },
  {
   "cell_type": "code",
   "execution_count": 28,
   "id": "ae998c5d",
   "metadata": {},
   "outputs": [
    {
     "data": {
      "text/plain": [
       "array([ 1,  2,  3,  4,  5, 99, 99, 99,  9, 10])"
      ]
     },
     "execution_count": 28,
     "metadata": {},
     "output_type": "execute_result"
    }
   ],
   "source": [
    "z = x[:].copy() # new space\n",
    "z"
   ]
  },
  {
   "cell_type": "code",
   "execution_count": 29,
   "id": "7764c456",
   "metadata": {},
   "outputs": [
    {
     "data": {
      "text/plain": [
       "1"
      ]
     },
     "execution_count": 29,
     "metadata": {},
     "output_type": "execute_result"
    }
   ],
   "source": [
    "z[0]"
   ]
  },
  {
   "cell_type": "code",
   "execution_count": 32,
   "id": "47b619a7",
   "metadata": {},
   "outputs": [
    {
     "name": "stdout",
     "output_type": "stream",
     "text": [
      "[-100    2    3    4    5   99   99   99    9   10]\n",
      "[ 1  2  3  4  5  6  7  8  9 10]\n"
     ]
    }
   ],
   "source": [
    "z[0]=-100\n",
    "print(z)\n",
    "print(x)"
   ]
  },
  {
   "cell_type": "code",
   "execution_count": 33,
   "id": "8db18c7f",
   "metadata": {},
   "outputs": [
    {
     "data": {
      "text/plain": [
       "array([[1, 2, 3],\n",
       "       [4, 5, 6],\n",
       "       [7, 8, 9]])"
      ]
     },
     "execution_count": 33,
     "metadata": {},
     "output_type": "execute_result"
    }
   ],
   "source": [
    "# axis = 0(행을 기준으로), axis=1(열을 기준으로)\n",
    "a = np.arange(1, 10).reshape(3, 3)\n",
    "a"
   ]
  },
  {
   "cell_type": "code",
   "execution_count": 34,
   "id": "16510bf0",
   "metadata": {},
   "outputs": [
    {
     "data": {
      "text/plain": [
       "45"
      ]
     },
     "execution_count": 34,
     "metadata": {},
     "output_type": "execute_result"
    }
   ],
   "source": [
    "# 파이썬 내장함수를 이용한 합계\n",
    "a.sum()"
   ]
  },
  {
   "cell_type": "code",
   "execution_count": 35,
   "id": "0889119a",
   "metadata": {},
   "outputs": [
    {
     "data": {
      "text/plain": [
       "45"
      ]
     },
     "execution_count": 35,
     "metadata": {},
     "output_type": "execute_result"
    }
   ],
   "source": [
    "# 넘파이 내장함수를 이용한 합계\n",
    "np.sum(a)"
   ]
  },
  {
   "cell_type": "code",
   "execution_count": 36,
   "id": "2763eb8c",
   "metadata": {},
   "outputs": [
    {
     "data": {
      "text/plain": [
       "array([12, 15, 18])"
      ]
     },
     "execution_count": 36,
     "metadata": {},
     "output_type": "execute_result"
    }
   ],
   "source": [
    "np.sum(a, axis=0)"
   ]
  },
  {
   "cell_type": "markdown",
   "id": "9ba7fda1",
   "metadata": {},
   "source": [
    "Boolean indexing"
   ]
  },
  {
   "cell_type": "code",
   "execution_count": 37,
   "id": "6bda6775",
   "metadata": {},
   "outputs": [],
   "source": [
    "names = np.array(['Bob', 'Joe', 'Will', 'Bob', 'Will', 'Joe', 'Joe'])\n",
    "data = np.random.randn(7, 4)"
   ]
  },
  {
   "cell_type": "code",
   "execution_count": 38,
   "id": "c7d823c3",
   "metadata": {},
   "outputs": [
    {
     "data": {
      "text/plain": [
       "array(['Bob', 'Joe', 'Will', 'Bob', 'Will', 'Joe', 'Joe'], dtype='<U4')"
      ]
     },
     "execution_count": 38,
     "metadata": {},
     "output_type": "execute_result"
    }
   ],
   "source": [
    "names"
   ]
  },
  {
   "cell_type": "code",
   "execution_count": 39,
   "id": "c53c1c7c",
   "metadata": {},
   "outputs": [
    {
     "data": {
      "text/plain": [
       "array([[ 0.82926509, -0.04769617, -0.29857181,  0.21358767],\n",
       "       [-2.37207849,  0.21393641,  1.56834776,  0.23255366],\n",
       "       [-1.0992631 , -0.56846367, -0.37973797,  1.26415501],\n",
       "       [-0.9152818 ,  0.469891  ,  0.1561891 ,  0.01717349],\n",
       "       [ 1.17044806, -0.6390617 , -1.11591475, -0.40687033],\n",
       "       [ 0.54204246,  1.08837965, -1.69448393,  0.45966615],\n",
       "       [-0.91254998,  1.66739352,  0.46033458,  1.49504976]])"
      ]
     },
     "execution_count": 39,
     "metadata": {},
     "output_type": "execute_result"
    }
   ],
   "source": [
    "data"
   ]
  },
  {
   "cell_type": "code",
   "execution_count": 43,
   "id": "57331066",
   "metadata": {},
   "outputs": [
    {
     "data": {
      "text/plain": [
       "array([ True, False, False,  True, False, False, False])"
      ]
     },
     "execution_count": 43,
     "metadata": {},
     "output_type": "execute_result"
    }
   ],
   "source": [
    "names == 'Bob'"
   ]
  },
  {
   "cell_type": "code",
   "execution_count": 44,
   "id": "6670d565",
   "metadata": {},
   "outputs": [
    {
     "data": {
      "text/plain": [
       "array([[ 0.82926509, -0.04769617, -0.29857181,  0.21358767],\n",
       "       [-0.9152818 ,  0.469891  ,  0.1561891 ,  0.01717349]])"
      ]
     },
     "execution_count": 44,
     "metadata": {},
     "output_type": "execute_result"
    }
   ],
   "source": [
    "data[names == 'Bob']"
   ]
  },
  {
   "cell_type": "code",
   "execution_count": 45,
   "id": "9acad0d1",
   "metadata": {},
   "outputs": [
    {
     "data": {
      "text/plain": [
       "array([0.21358767, 0.01717349])"
      ]
     },
     "execution_count": 45,
     "metadata": {},
     "output_type": "execute_result"
    }
   ],
   "source": [
    "data[names == 'Bob',3]"
   ]
  },
  {
   "cell_type": "markdown",
   "id": "ea978939",
   "metadata": {},
   "source": [
    "#### 전치행렬과 축바꾸기\n",
    "- transpose()와 T"
   ]
  },
  {
   "cell_type": "code",
   "execution_count": 47,
   "id": "46fd0337",
   "metadata": {},
   "outputs": [
    {
     "data": {
      "text/plain": [
       "array([[0, 1],\n",
       "       [2, 3]])"
      ]
     },
     "execution_count": 47,
     "metadata": {},
     "output_type": "execute_result"
    }
   ],
   "source": [
    "x = np.arange(4).reshape(2, 2)\n",
    "x"
   ]
  },
  {
   "cell_type": "code",
   "execution_count": 49,
   "id": "8020ed10",
   "metadata": {},
   "outputs": [
    {
     "data": {
      "text/plain": [
       "array([[0, 2],\n",
       "       [1, 3]])"
      ]
     },
     "execution_count": 49,
     "metadata": {},
     "output_type": "execute_result"
    }
   ],
   "source": [
    "x.T"
   ]
  },
  {
   "cell_type": "code",
   "execution_count": 50,
   "id": "5fa864b0",
   "metadata": {},
   "outputs": [
    {
     "data": {
      "text/plain": [
       "array([[0, 2],\n",
       "       [1, 3]])"
      ]
     },
     "execution_count": 50,
     "metadata": {},
     "output_type": "execute_result"
    }
   ],
   "source": [
    "np.transpose(x)"
   ]
  },
  {
   "cell_type": "code",
   "execution_count": 55,
   "id": "6f9d487c",
   "metadata": {},
   "outputs": [
    {
     "data": {
      "text/plain": [
       "array([[[1., 1., 1.],\n",
       "        [1., 1., 1.]]])"
      ]
     },
     "execution_count": 55,
     "metadata": {},
     "output_type": "execute_result"
    }
   ],
   "source": [
    "y = np.ones((1, 2, 3))\n",
    "y"
   ]
  },
  {
   "cell_type": "code",
   "execution_count": 59,
   "id": "12c6ab06",
   "metadata": {},
   "outputs": [
    {
     "data": {
      "text/plain": [
       "(2, 1, 3)"
      ]
     },
     "execution_count": 59,
     "metadata": {},
     "output_type": "execute_result"
    }
   ],
   "source": [
    "np.transpose(y,(1, 0, 2)).shape"
   ]
  },
  {
   "cell_type": "code",
   "execution_count": null,
   "id": "a3f6ecfd",
   "metadata": {},
   "outputs": [],
   "source": []
  },
  {
   "cell_type": "code",
   "execution_count": null,
   "id": "997482e9",
   "metadata": {},
   "outputs": [],
   "source": []
  },
  {
   "cell_type": "code",
   "execution_count": null,
   "id": "2f8f80e4",
   "metadata": {},
   "outputs": [],
   "source": []
  },
  {
   "cell_type": "code",
   "execution_count": null,
   "id": "bb2b6b33",
   "metadata": {},
   "outputs": [],
   "source": []
  },
  {
   "cell_type": "code",
   "execution_count": null,
   "id": "25d53a6c",
   "metadata": {},
   "outputs": [],
   "source": []
  },
  {
   "cell_type": "code",
   "execution_count": null,
   "id": "3a46bbc9",
   "metadata": {},
   "outputs": [],
   "source": []
  },
  {
   "cell_type": "code",
   "execution_count": null,
   "id": "6481ea93",
   "metadata": {},
   "outputs": [],
   "source": []
  },
  {
   "cell_type": "code",
   "execution_count": null,
   "id": "fbbc7c2a",
   "metadata": {},
   "outputs": [],
   "source": []
  },
  {
   "cell_type": "code",
   "execution_count": null,
   "id": "b472fd2a",
   "metadata": {},
   "outputs": [],
   "source": []
  },
  {
   "cell_type": "code",
   "execution_count": null,
   "id": "9068a918",
   "metadata": {},
   "outputs": [],
   "source": []
  },
  {
   "cell_type": "code",
   "execution_count": null,
   "id": "b41558c8",
   "metadata": {},
   "outputs": [],
   "source": []
  }
 ],
 "metadata": {
  "kernelspec": {
   "display_name": "Python 3 (ipykernel)",
   "language": "python",
   "name": "python3"
  },
  "language_info": {
   "codemirror_mode": {
    "name": "ipython",
    "version": 3
   },
   "file_extension": ".py",
   "mimetype": "text/x-python",
   "name": "python",
   "nbconvert_exporter": "python",
   "pygments_lexer": "ipython3",
   "version": "3.9.7"
  },
  "toc": {
   "base_numbering": 1,
   "nav_menu": {},
   "number_sections": true,
   "sideBar": true,
   "skip_h1_title": false,
   "title_cell": "Table of Contents",
   "title_sidebar": "Contents",
   "toc_cell": false,
   "toc_position": {},
   "toc_section_display": true,
   "toc_window_display": false
  }
 },
 "nbformat": 4,
 "nbformat_minor": 5
}

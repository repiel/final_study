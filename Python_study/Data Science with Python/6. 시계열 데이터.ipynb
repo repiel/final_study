{
 "cells": [
  {
   "cell_type": "markdown",
   "id": "c4cda90e",
   "metadata": {},
   "source": [
    "# DatetimeIndex \n",
    "- pd.to_datetime() : 문자열을 날짜/시간의 자료형인 datetime 자료형으로 바꿔주는 함수\n",
    "- pd.date_range() : 시작일과 종료일 또는 시작일과 기간을 입력하면 범위 내의 인덱스를 자동으로 생성\n",
    "- 시계열 자료 : 인덱스에 날짜나 시간이 오는 데이터\n",
    "- 판다스에서 시계열 자료를 생성하려면 인덱스를 DatetimeIndex 자료형으로 만들어야 한다.\n",
    "- 판다스에서 시계열 자료를 생성하려면 인덱스를 DatetimeIndex 자료형으로 만들어야 한다."
   ]
  },
  {
   "cell_type": "code",
   "execution_count": 2,
   "id": "37cbe2cc",
   "metadata": {},
   "outputs": [],
   "source": [
    "import numpy as np\n",
    "import pandas as pd"
   ]
  },
  {
   "cell_type": "code",
   "execution_count": 6,
   "id": "32b7fc4b",
   "metadata": {},
   "outputs": [
    {
     "name": "stdout",
     "output_type": "stream",
     "text": [
      "<class 'list'>\n"
     ]
    }
   ],
   "source": [
    "date_str = ['2018, 1, 1','2018, 1, 4','2018, 1, 5','2018, 1, 6']\n",
    "print(type(date_str))"
   ]
  },
  {
   "cell_type": "code",
   "execution_count": 7,
   "id": "43970976",
   "metadata": {},
   "outputs": [
    {
     "data": {
      "text/plain": [
       "DatetimeIndex(['2018-01-01', '2018-01-04', '2018-01-05', '2018-01-06'], dtype='datetime64[ns]', freq=None)"
      ]
     },
     "execution_count": 7,
     "metadata": {},
     "output_type": "execute_result"
    }
   ],
   "source": [
    "idx = pd.to_datetime(date_str)\n",
    "idx"
   ]
  },
  {
   "cell_type": "code",
   "execution_count": 8,
   "id": "7831236b",
   "metadata": {},
   "outputs": [
    {
     "data": {
      "text/plain": [
       "2018-01-01    0.952687\n",
       "2018-01-04   -0.012788\n",
       "2018-01-05    0.559820\n",
       "2018-01-06   -0.067473\n",
       "dtype: float64"
      ]
     },
     "execution_count": 8,
     "metadata": {},
     "output_type": "execute_result"
    }
   ],
   "source": [
    "# Series\n",
    "s = pd.Series(np.random.randn(4), index=idx)\n",
    "s"
   ]
  },
  {
   "cell_type": "code",
   "execution_count": 9,
   "id": "b710321c",
   "metadata": {},
   "outputs": [
    {
     "data": {
      "text/plain": [
       "DatetimeIndex(['2022-04-02', '2022-04-03', '2022-04-04', '2022-04-05',\n",
       "               '2022-04-06', '2022-04-07', '2022-04-08', '2022-04-09',\n",
       "               '2022-04-10', '2022-04-11', '2022-04-12', '2022-04-13',\n",
       "               '2022-04-14', '2022-04-15', '2022-04-16', '2022-04-17',\n",
       "               '2022-04-18', '2022-04-19', '2022-04-20', '2022-04-21',\n",
       "               '2022-04-22', '2022-04-23', '2022-04-24', '2022-04-25',\n",
       "               '2022-04-26', '2022-04-27', '2022-04-28', '2022-04-29',\n",
       "               '2022-04-30'],\n",
       "              dtype='datetime64[ns]', freq='D')"
      ]
     },
     "execution_count": 9,
     "metadata": {},
     "output_type": "execute_result"
    }
   ],
   "source": [
    "pd.date_range('2022-4-2', '2022-4-30')"
   ]
  },
  {
   "cell_type": "code",
   "execution_count": 10,
   "id": "6a07ae47",
   "metadata": {},
   "outputs": [
    {
     "data": {
      "text/plain": [
       "DatetimeIndex(['2022-10-01', '2022-10-02', '2022-10-03', '2022-10-04',\n",
       "               '2022-10-05', '2022-10-06', '2022-10-07', '2022-10-08',\n",
       "               '2022-10-09', '2022-10-10', '2022-10-11', '2022-10-12',\n",
       "               '2022-10-13', '2022-10-14', '2022-10-15', '2022-10-16',\n",
       "               '2022-10-17', '2022-10-18', '2022-10-19', '2022-10-20',\n",
       "               '2022-10-21', '2022-10-22', '2022-10-23', '2022-10-24',\n",
       "               '2022-10-25', '2022-10-26', '2022-10-27', '2022-10-28',\n",
       "               '2022-10-29', '2022-10-30'],\n",
       "              dtype='datetime64[ns]', freq='D')"
      ]
     },
     "execution_count": 10,
     "metadata": {},
     "output_type": "execute_result"
    }
   ],
   "source": [
    "pd.date_range(start='2022-10-1', periods = 30)"
   ]
  },
  {
   "cell_type": "markdown",
   "id": "c477418b",
   "metadata": {},
   "source": [
    "### freq 매개변수로 특정한 날짜만 생성되도록 설정할 수 있다.\n",
    "- s : second, 초\n",
    "- T : minute, 분\n",
    "- H : hour, 시간\n",
    "- D : day, 일\n",
    "- B : 주말이 아닌 평일\n",
    "- W : 주(일요일)\n",
    "- W-MON : 주(월요일)\n",
    "- M : 각 달의 마지막 날\n",
    "- MS : 각 달의 첫날\n",
    "- https://pandas.pydata.org/pandas-docs/stable/user_guide/timeseries.html#dateoffset-objects"
   ]
  },
  {
   "cell_type": "code",
   "execution_count": 12,
   "id": "e616e31c",
   "metadata": {},
   "outputs": [
    {
     "data": {
      "text/plain": [
       "DatetimeIndex(['2022-10-02', '2022-10-09', '2022-10-16', '2022-10-23',\n",
       "               '2022-10-30', '2022-11-06', '2022-11-13', '2022-11-20',\n",
       "               '2022-11-27', '2022-12-04', '2022-12-11', '2022-12-18',\n",
       "               '2022-12-25'],\n",
       "              dtype='datetime64[ns]', freq='W-SUN')"
      ]
     },
     "execution_count": 12,
     "metadata": {},
     "output_type": "execute_result"
    }
   ],
   "source": [
    "pd.date_range('2022-10-1', '2022-12-31', freq='W')"
   ]
  },
  {
   "cell_type": "code",
   "execution_count": 13,
   "id": "fe1e174b",
   "metadata": {},
   "outputs": [
    {
     "data": {
      "text/plain": [
       "DatetimeIndex(['2022-10-03', '2022-10-10', '2022-10-17', '2022-10-24',\n",
       "               '2022-10-31', '2022-11-07', '2022-11-14', '2022-11-21',\n",
       "               '2022-11-28', '2022-12-05', '2022-12-12', '2022-12-19',\n",
       "               '2022-12-26'],\n",
       "              dtype='datetime64[ns]', freq='W-MON')"
      ]
     },
     "execution_count": 13,
     "metadata": {},
     "output_type": "execute_result"
    }
   ],
   "source": [
    "pd.date_range('2022-10-1', '2022-12-31', freq='W-MON')"
   ]
  },
  {
   "cell_type": "markdown",
   "id": "191a6462",
   "metadata": {},
   "source": [
    "### shift"
   ]
  },
  {
   "cell_type": "code",
   "execution_count": 14,
   "id": "35cdfb4c",
   "metadata": {},
   "outputs": [
    {
     "data": {
      "text/plain": [
       "2018-01-31   -0.025459\n",
       "2018-02-28    0.095811\n",
       "2018-03-31   -2.761430\n",
       "2018-04-30   -1.181555\n",
       "Freq: M, dtype: float64"
      ]
     },
     "execution_count": 14,
     "metadata": {},
     "output_type": "execute_result"
    }
   ],
   "source": [
    "ts = pd.Series(np.random.randn(4), index = pd.date_range('2018-1-1', periods = 4, freq = 'M'))\n",
    "ts"
   ]
  },
  {
   "cell_type": "code",
   "execution_count": 15,
   "id": "f5f01904",
   "metadata": {},
   "outputs": [
    {
     "data": {
      "text/plain": [
       "2018-01-31         NaN\n",
       "2018-02-28   -0.025459\n",
       "2018-03-31    0.095811\n",
       "2018-04-30   -2.761430\n",
       "Freq: M, dtype: float64"
      ]
     },
     "execution_count": 15,
     "metadata": {},
     "output_type": "execute_result"
    }
   ],
   "source": [
    "ts.shift(1)"
   ]
  },
  {
   "cell_type": "code",
   "execution_count": 16,
   "id": "1e7af0ab",
   "metadata": {},
   "outputs": [
    {
     "data": {
      "text/plain": [
       "2018-01-31    0.095811\n",
       "2018-02-28   -2.761430\n",
       "2018-03-31   -1.181555\n",
       "2018-04-30         NaN\n",
       "Freq: M, dtype: float64"
      ]
     },
     "execution_count": 16,
     "metadata": {},
     "output_type": "execute_result"
    }
   ],
   "source": [
    "ts.shift(-1)"
   ]
  },
  {
   "cell_type": "code",
   "execution_count": 17,
   "id": "252a54b1",
   "metadata": {},
   "outputs": [
    {
     "data": {
      "text/plain": [
       "2018-02-28   -0.025459\n",
       "2018-03-31    0.095811\n",
       "2018-04-30   -2.761430\n",
       "2018-05-31   -1.181555\n",
       "Freq: M, dtype: float64"
      ]
     },
     "execution_count": 17,
     "metadata": {},
     "output_type": "execute_result"
    }
   ],
   "source": [
    "ts.shift(1, freq = 'M')"
   ]
  },
  {
   "cell_type": "code",
   "execution_count": 18,
   "id": "8a5b075e",
   "metadata": {},
   "outputs": [
    {
     "data": {
      "text/plain": [
       "2018-02-04   -0.025459\n",
       "2018-03-04    0.095811\n",
       "2018-04-01   -2.761430\n",
       "2018-05-06   -1.181555\n",
       "dtype: float64"
      ]
     },
     "execution_count": 18,
     "metadata": {},
     "output_type": "execute_result"
    }
   ],
   "source": [
    "ts.shift(1, freq = 'W')"
   ]
  },
  {
   "cell_type": "markdown",
   "id": "c8b9290a",
   "metadata": {},
   "source": [
    "### resample : 날짜나 시간 간격을 재조정하는 기능\n",
    "- up-sample(업 샘플링): 데이터 양이 증가\n",
    "- down-sample(다운 샘플링): 데이터 양이 감소"
   ]
  },
  {
   "cell_type": "code",
   "execution_count": 21,
   "id": "75a773c5",
   "metadata": {},
   "outputs": [
    {
     "data": {
      "text/plain": [
       "2018-01-01   -0.712935\n",
       "2018-01-02   -1.189685\n",
       "2018-01-03    0.810552\n",
       "2018-01-04   -0.481846\n",
       "2018-01-05    0.530084\n",
       "2018-01-06    0.536961\n",
       "2018-01-07    0.279107\n",
       "2018-01-08    0.184247\n",
       "2018-01-09   -0.530118\n",
       "2018-01-10    1.408875\n",
       "2018-01-11   -0.148644\n",
       "2018-01-12   -0.437299\n",
       "2018-01-13   -0.108087\n",
       "2018-01-14   -1.094325\n",
       "2018-01-15   -0.243785\n",
       "2018-01-16    0.876134\n",
       "2018-01-17    1.146971\n",
       "2018-01-18   -0.292071\n",
       "2018-01-19   -0.446235\n",
       "2018-01-20   -0.940291\n",
       "Freq: D, dtype: float64"
      ]
     },
     "execution_count": 21,
     "metadata": {},
     "output_type": "execute_result"
    }
   ],
   "source": [
    "ts = pd.Series(np.random.randn(100), index = pd.date_range('2018-1-1', \n",
    "                                                         periods = 100, freq = 'D'))\n",
    "ts.head(20)"
   ]
  },
  {
   "cell_type": "code",
   "execution_count": 22,
   "id": "4aa6b1ab",
   "metadata": {},
   "outputs": [
    {
     "data": {
      "text/plain": [
       "2018-01-07   -0.032537\n",
       "2018-01-14   -0.103622\n",
       "2018-01-21    0.266333\n",
       "2018-01-28    0.230895\n",
       "2018-02-04   -0.240593\n",
       "2018-02-11    0.025681\n",
       "2018-02-18   -0.588539\n",
       "2018-02-25    0.184186\n",
       "2018-03-04   -0.232847\n",
       "2018-03-11   -0.413841\n",
       "2018-03-18    0.033501\n",
       "2018-03-25    0.119243\n",
       "2018-04-01    0.431587\n",
       "2018-04-08   -0.393350\n",
       "2018-04-15   -0.079980\n",
       "Freq: W-SUN, dtype: float64"
      ]
     },
     "execution_count": 22,
     "metadata": {},
     "output_type": "execute_result"
    }
   ],
   "source": [
    "# 다운 샘플링의 경우에는 원래의 데이터가 그룹화\n",
    "ts.resample('W').mean()"
   ]
  },
  {
   "cell_type": "code",
   "execution_count": 23,
   "id": "a3670180",
   "metadata": {},
   "outputs": [
    {
     "data": {
      "text/plain": [
       "2018-01-31   -0.712935\n",
       "2018-02-28   -1.956087\n",
       "2018-03-31    0.518397\n",
       "2018-04-30    1.646365\n",
       "Freq: M, dtype: float64"
      ]
     },
     "execution_count": 23,
     "metadata": {},
     "output_type": "execute_result"
    }
   ],
   "source": [
    "ts.resample('M').first()"
   ]
  },
  {
   "cell_type": "code",
   "execution_count": null,
   "id": "3eeba340",
   "metadata": {},
   "outputs": [],
   "source": []
  },
  {
   "cell_type": "code",
   "execution_count": null,
   "id": "7ea765d6",
   "metadata": {},
   "outputs": [],
   "source": []
  },
  {
   "cell_type": "code",
   "execution_count": null,
   "id": "9d1e1eae",
   "metadata": {},
   "outputs": [],
   "source": []
  }
 ],
 "metadata": {
  "kernelspec": {
   "display_name": "Python 3 (ipykernel)",
   "language": "python",
   "name": "python3"
  },
  "language_info": {
   "codemirror_mode": {
    "name": "ipython",
    "version": 3
   },
   "file_extension": ".py",
   "mimetype": "text/x-python",
   "name": "python",
   "nbconvert_exporter": "python",
   "pygments_lexer": "ipython3",
   "version": "3.9.7"
  },
  "toc": {
   "base_numbering": 1,
   "nav_menu": {},
   "number_sections": true,
   "sideBar": true,
   "skip_h1_title": false,
   "title_cell": "Table of Contents",
   "title_sidebar": "Contents",
   "toc_cell": false,
   "toc_position": {},
   "toc_section_display": true,
   "toc_window_display": false
  }
 },
 "nbformat": 4,
 "nbformat_minor": 5
}

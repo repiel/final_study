{
 "cells": [
  {
   "cell_type": "code",
   "execution_count": 2,
   "id": "045a81e7",
   "metadata": {},
   "outputs": [
    {
     "name": "stdout",
     "output_type": "stream",
     "text": [
      "Hello python\n"
     ]
    }
   ],
   "source": [
    "print('Hello python') # 내장 함수"
   ]
  },
  {
   "cell_type": "code",
   "execution_count": 1,
   "id": "29334cb3",
   "metadata": {},
   "outputs": [
    {
     "name": "stdout",
     "output_type": "stream",
     "text": [
      "30\n"
     ]
    }
   ],
   "source": [
    "a = 10\n",
    "b = 20\n",
    "print(a + b)"
   ]
  },
  {
   "cell_type": "code",
   "execution_count": 3,
   "id": "395d6c97",
   "metadata": {},
   "outputs": [
    {
     "name": "stdout",
     "output_type": "stream",
     "text": [
      "su = 10\n",
      "su = 5\n",
      "15\n"
     ]
    }
   ],
   "source": [
    "a = int(input('su = '))\n",
    "b = int(input('su = '))\n",
    "print(a + b)"
   ]
  },
  {
   "cell_type": "code",
   "execution_count": 4,
   "id": "1429f75c",
   "metadata": {},
   "outputs": [],
   "source": [
    "def adder(x, y):\n",
    "    return x + y"
   ]
  },
  {
   "cell_type": "code",
   "execution_count": 5,
   "id": "ad8aa5e2",
   "metadata": {},
   "outputs": [
    {
     "data": {
      "text/plain": [
       "30"
      ]
     },
     "execution_count": 5,
     "metadata": {},
     "output_type": "execute_result"
    }
   ],
   "source": [
    "# 호출 : Call By Name, Call By Value\n",
    "adder(10, 20)"
   ]
  },
  {
   "cell_type": "code",
   "execution_count": 6,
   "id": "d94d14c6",
   "metadata": {},
   "outputs": [],
   "source": [
    "def process(x, y, z):\n",
    "    pass"
   ]
  },
  {
   "cell_type": "code",
   "execution_count": 8,
   "id": "6073dfb6",
   "metadata": {},
   "outputs": [],
   "source": [
    "def test():\n",
    "    return 1, 2, 3, 4, 5         # (1, 2, 3, 4, 5)"
   ]
  },
  {
   "cell_type": "code",
   "execution_count": 9,
   "id": "af1a9ac5",
   "metadata": {},
   "outputs": [
    {
     "data": {
      "text/plain": [
       "(1, 2, 3, 4, 5)"
      ]
     },
     "execution_count": 9,
     "metadata": {},
     "output_type": "execute_result"
    }
   ],
   "source": [
    "test()"
   ]
  },
  {
   "cell_type": "markdown",
   "id": "43efdbe5",
   "metadata": {},
   "source": [
    "### 내장함수"
   ]
  },
  {
   "cell_type": "code",
   "execution_count": 10,
   "id": "c5a05125",
   "metadata": {},
   "outputs": [
    {
     "name": "stdout",
     "output_type": "stream",
     "text": [
      "3\n",
      "3\n"
     ]
    }
   ],
   "source": [
    "# 절대값\n",
    "print(abs(-3))\n",
    "print(abs(3))"
   ]
  },
  {
   "cell_type": "code",
   "execution_count": 11,
   "id": "b977b0f3",
   "metadata": {},
   "outputs": [
    {
     "name": "stdout",
     "output_type": "stream",
     "text": [
      "True\n",
      "False\n"
     ]
    }
   ],
   "source": [
    "# all() - 모든 값이 True인지 검사하는 함수 \n",
    "# 0과 1\n",
    "print(all([1, 2, 3]))\n",
    "print(all([1, 2, 3, 0]))"
   ]
  },
  {
   "cell_type": "code",
   "execution_count": 13,
   "id": "f7f953fe",
   "metadata": {},
   "outputs": [
    {
     "name": "stdout",
     "output_type": "stream",
     "text": [
      "True\n",
      "True\n"
     ]
    }
   ],
   "source": [
    "print(all([1, 2, 3]))\n",
    "print(all([1, 2, 3, 4]))"
   ]
  },
  {
   "cell_type": "code",
   "execution_count": 14,
   "id": "294653d8",
   "metadata": {},
   "outputs": [
    {
     "name": "stdout",
     "output_type": "stream",
     "text": [
      "True\n",
      "True\n",
      "False\n"
     ]
    }
   ],
   "source": [
    "# any() - 한 개라도 True이면 True\n",
    "print(any([1, 2, 3]))\n",
    "print(any([1, 2, 3, 0]))\n",
    "print(any([0, 0, 0, 0, 0]))"
   ]
  },
  {
   "cell_type": "code",
   "execution_count": 15,
   "id": "39a1725f",
   "metadata": {},
   "outputs": [
    {
     "name": "stdout",
     "output_type": "stream",
     "text": [
      "True\n"
     ]
    }
   ],
   "source": [
    "# 문자열일 경우 빈 값이면 False, 값이 있으면 True\n",
    "a = 'hello'\n",
    "\n",
    "if a:\n",
    "    print('True')\n",
    "else:\n",
    "    print('False')"
   ]
  },
  {
   "cell_type": "code",
   "execution_count": 16,
   "id": "29668f65",
   "metadata": {},
   "outputs": [
    {
     "name": "stdout",
     "output_type": "stream",
     "text": [
      "False\n"
     ]
    }
   ],
   "source": [
    "a = ''\n",
    "\n",
    "if a:\n",
    "    print('True')\n",
    "else:\n",
    "    print('False')"
   ]
  },
  {
   "cell_type": "code",
   "execution_count": 17,
   "id": "d31a9bb5",
   "metadata": {},
   "outputs": [
    {
     "name": "stdout",
     "output_type": "stream",
     "text": [
      "['__add__', '__class__', '__class_getitem__', '__contains__', '__delattr__', '__delitem__', '__dir__', '__doc__', '__eq__', '__format__', '__ge__', '__getattribute__', '__getitem__', '__gt__', '__hash__', '__iadd__', '__imul__', '__init__', '__init_subclass__', '__iter__', '__le__', '__len__', '__lt__', '__mul__', '__ne__', '__new__', '__reduce__', '__reduce_ex__', '__repr__', '__reversed__', '__rmul__', '__setattr__', '__setitem__', '__sizeof__', '__str__', '__subclasshook__', 'append', 'clear', 'copy', 'count', 'extend', 'index', 'insert', 'pop', 'remove', 'reverse', 'sort']\n"
     ]
    }
   ],
   "source": [
    "print(dir([1, 2, 3])) # 객체의 멤버 목록(변수나 함수)"
   ]
  },
  {
   "cell_type": "code",
   "execution_count": 18,
   "id": "5d8629d6",
   "metadata": {},
   "outputs": [
    {
     "name": "stdout",
     "output_type": "stream",
     "text": [
      "['__class__', '__class_getitem__', '__contains__', '__delattr__', '__delitem__', '__dir__', '__doc__', '__eq__', '__format__', '__ge__', '__getattribute__', '__getitem__', '__gt__', '__hash__', '__init__', '__init_subclass__', '__ior__', '__iter__', '__le__', '__len__', '__lt__', '__ne__', '__new__', '__or__', '__reduce__', '__reduce_ex__', '__repr__', '__reversed__', '__ror__', '__setattr__', '__setitem__', '__sizeof__', '__str__', '__subclasshook__', 'clear', 'copy', 'fromkeys', 'get', 'items', 'keys', 'pop', 'popitem', 'setdefault', 'update', 'values']\n"
     ]
    }
   ],
   "source": [
    "print(dir({'name':'홍길동'})) "
   ]
  },
  {
   "cell_type": "code",
   "execution_count": 19,
   "id": "4f4654e5",
   "metadata": {},
   "outputs": [
    {
     "name": "stdout",
     "output_type": "stream",
     "text": [
      "몫 : 2, 나머지 : 1\n"
     ]
    }
   ],
   "source": [
    "a = 7\n",
    "b = 3\n",
    "c = a // b # 정수 몫\n",
    "d = a % b # 나머지\n",
    "print('몫 : {}, 나머지 : {}'.format(c, d))"
   ]
  },
  {
   "cell_type": "code",
   "execution_count": 20,
   "id": "4128ca6d",
   "metadata": {},
   "outputs": [
    {
     "name": "stdout",
     "output_type": "stream",
     "text": [
      "(2, 1)\n",
      "(6.0, 0.09999999999999998)\n"
     ]
    }
   ],
   "source": [
    "print(divmod(7, 3)) # 몫과 나머지가 튜플 형식으로 리턴된다.\n",
    "print(divmod(1.3, 0.2))"
   ]
  },
  {
   "cell_type": "code",
   "execution_count": 21,
   "id": "4b3c7d1c",
   "metadata": {},
   "outputs": [
    {
     "name": "stdout",
     "output_type": "stream",
     "text": [
      "몫 : 2, 나머지 : 1\n"
     ]
    }
   ],
   "source": [
    "n1, n2 = divmod(7, 3)\n",
    "print('몫 : {}, 나머지 : {}'.format(n1, n2))"
   ]
  },
  {
   "cell_type": "code",
   "execution_count": 22,
   "id": "029691fb",
   "metadata": {},
   "outputs": [
    {
     "name": "stdout",
     "output_type": "stream",
     "text": [
      "<enumerate object at 0x0000020DC20E9040>\n"
     ]
    }
   ],
   "source": [
    "# 인덱스와 값을 리턴하는 함수 : enumerate()\n",
    "print(enumerate([10, 20, 30, 40, 50]))"
   ]
  },
  {
   "cell_type": "code",
   "execution_count": 23,
   "id": "ddfaa995",
   "metadata": {},
   "outputs": [
    {
     "name": "stdout",
     "output_type": "stream",
     "text": [
      "[(0, 10), (1, 20), (2, 30), (3, 40), (4, 50)]\n"
     ]
    }
   ],
   "source": [
    "print(list(enumerate([10, 20, 30, 40, 50])))"
   ]
  },
  {
   "cell_type": "code",
   "execution_count": 24,
   "id": "d5700af3",
   "metadata": {},
   "outputs": [
    {
     "name": "stdout",
     "output_type": "stream",
     "text": [
      "0 10\n",
      "1 20\n",
      "2 30\n",
      "3 40\n",
      "4 50\n"
     ]
    }
   ],
   "source": [
    "for index, value in enumerate([10, 20, 30, 40, 50]):\n",
    "    print(index, value)"
   ]
  },
  {
   "cell_type": "code",
   "execution_count": 25,
   "id": "b34e2fdd",
   "metadata": {},
   "outputs": [
    {
     "name": "stdout",
     "output_type": "stream",
     "text": [
      "number = 7\n",
      "14\n"
     ]
    }
   ],
   "source": [
    "# eval() : 문자열의 따옴표를 제거하고 실행하는 함수\n",
    "num = eval(input('number = '))\n",
    "\n",
    "print(num + 7)"
   ]
  },
  {
   "cell_type": "code",
   "execution_count": 28,
   "id": "86f187f2",
   "metadata": {},
   "outputs": [
    {
     "name": "stdout",
     "output_type": "stream",
     "text": [
      "(2, 1)\n"
     ]
    }
   ],
   "source": [
    "str = \"divmod(7, 3)\"\n",
    "\n",
    "print(eval(str))"
   ]
  },
  {
   "cell_type": "code",
   "execution_count": 29,
   "id": "3b7318b7",
   "metadata": {},
   "outputs": [
    {
     "name": "stdout",
     "output_type": "stream",
     "text": [
      "0xea\n"
     ]
    }
   ],
   "source": [
    "print(hex(234))"
   ]
  },
  {
   "cell_type": "code",
   "execution_count": 30,
   "id": "92c0dcd2",
   "metadata": {},
   "outputs": [
    {
     "data": {
      "text/plain": [
       "14.625"
      ]
     },
     "execution_count": 30,
     "metadata": {},
     "output_type": "execute_result"
    }
   ],
   "source": [
    "234/16"
   ]
  },
  {
   "cell_type": "code",
   "execution_count": 31,
   "id": "0522dfbe",
   "metadata": {},
   "outputs": [
    {
     "name": "stdout",
     "output_type": "stream",
     "text": [
      "0x3\n"
     ]
    }
   ],
   "source": [
    "print(hex(3))"
   ]
  },
  {
   "cell_type": "code",
   "execution_count": 32,
   "id": "d0cc95d2",
   "metadata": {},
   "outputs": [
    {
     "name": "stdout",
     "output_type": "stream",
     "text": [
      "2257996310896 2257996310896\n",
      "2257996310896\n"
     ]
    }
   ],
   "source": [
    "# id(객체) - 객체의 주소를 리턴하는 함수\n",
    "a = 3\n",
    "print(id(a), id(3))\n",
    "b = a\n",
    "print(id(b))"
   ]
  },
  {
   "cell_type": "code",
   "execution_count": 33,
   "id": "0f171ed5",
   "metadata": {},
   "outputs": [
    {
     "name": "stdout",
     "output_type": "stream",
     "text": [
      "t\n",
      "t\n"
     ]
    }
   ],
   "source": [
    "a = input()\n",
    "print(a)"
   ]
  },
  {
   "cell_type": "code",
   "execution_count": 34,
   "id": "1cd878e2",
   "metadata": {},
   "outputs": [
    {
     "name": "stdout",
     "output_type": "stream",
     "text": [
      "입력 = h\n",
      "h\n"
     ]
    }
   ],
   "source": [
    "b = input('입력 = ')\n",
    "print(b)"
   ]
  },
  {
   "cell_type": "code",
   "execution_count": 35,
   "id": "fb42b54a",
   "metadata": {},
   "outputs": [
    {
     "name": "stdout",
     "output_type": "stream",
     "text": [
      "3\n",
      "<class 'int'>\n",
      "3\n",
      "15\n",
      "255\n"
     ]
    }
   ],
   "source": [
    "a = int('3') # 문자열을 정수형으로 변환하는 함수\n",
    "print(a)\n",
    "print(type(a))\n",
    "\n",
    "b = int(3.4) # 실수형을 정수형으로 변환\n",
    "print(b)\n",
    "\n",
    "c = int('1111', 2) # 문자열을 2진수로 변환\n",
    "print(c)\n",
    "\n",
    "d = int('FF', 16)\n",
    "print(d)"
   ]
  },
  {
   "cell_type": "code",
   "execution_count": 36,
   "id": "e628ee11",
   "metadata": {},
   "outputs": [
    {
     "name": "stdout",
     "output_type": "stream",
     "text": [
      "['사과', '배', '수박', '바나나', '포도']\n"
     ]
    }
   ],
   "source": [
    "a = ['사과','배','수박','바나나','포도']\n",
    "print(a)"
   ]
  },
  {
   "cell_type": "code",
   "execution_count": 38,
   "id": "ed799de7",
   "metadata": {},
   "outputs": [
    {
     "name": "stdout",
     "output_type": "stream",
     "text": [
      "사과,배,수박,바나나,포도,\n"
     ]
    }
   ],
   "source": [
    "result = ''\n",
    "for i in a:\n",
    "    result += i+\",\"\n",
    "print(result)"
   ]
  },
  {
   "cell_type": "code",
   "execution_count": 39,
   "id": "f05b9519",
   "metadata": {},
   "outputs": [
    {
     "name": "stdout",
     "output_type": "stream",
     "text": [
      "사과,배,수박,바나나,포도\n",
      "사과/배/수박/바나나/포도\n",
      "사과-배-수박-바나나-포도\n",
      "사과\n",
      "배\n",
      "수박\n",
      "바나나\n",
      "포도\n"
     ]
    }
   ],
   "source": [
    "a = ['사과', '배', '수박', '바나나', '포도']\n",
    "print(','.join(a))\n",
    "print('/'.join(a))\n",
    "print('-'.join(a))\n",
    "print('\\n'.join(a))"
   ]
  },
  {
   "cell_type": "code",
   "execution_count": 40,
   "id": "17ce57da",
   "metadata": {},
   "outputs": [
    {
     "name": "stdout",
     "output_type": "stream",
     "text": [
      "6\n"
     ]
    }
   ],
   "source": [
    "# len() 요소의 갯수\n",
    "a = len('python')\n",
    "print(a)"
   ]
  },
  {
   "cell_type": "code",
   "execution_count": 42,
   "id": "ecbf527a",
   "metadata": {},
   "outputs": [
    {
     "name": "stdout",
     "output_type": "stream",
     "text": [
      "3\n"
     ]
    }
   ],
   "source": [
    "b = len([1, 2, 3])\n",
    "print(b)"
   ]
  },
  {
   "cell_type": "code",
   "execution_count": 43,
   "id": "61338104",
   "metadata": {},
   "outputs": [
    {
     "name": "stdout",
     "output_type": "stream",
     "text": [
      "2\n"
     ]
    }
   ],
   "source": [
    "c = len((1, 'a'))\n",
    "print(c)"
   ]
  },
  {
   "cell_type": "code",
   "execution_count": 44,
   "id": "70c76467",
   "metadata": {},
   "outputs": [
    {
     "name": "stdout",
     "output_type": "stream",
     "text": [
      "['p', 'y', 't', 'h', 'o', 'n']\n",
      "[1, 2, 3]\n"
     ]
    }
   ],
   "source": [
    "# list(), tuple()\n",
    "a = list('python') #문자열을 리스트로 변환\n",
    "print(a)\n",
    "b = list((1, 2, 3))\n",
    "print(b) #튜플을 리스트로 변환"
   ]
  },
  {
   "cell_type": "markdown",
   "id": "7590f300",
   "metadata": {},
   "source": [
    "### 사용자 정의 함수"
   ]
  },
  {
   "cell_type": "code",
   "execution_count": 45,
   "id": "c64314af",
   "metadata": {},
   "outputs": [],
   "source": [
    "def calc(x):\n",
    "    # print('x= ', x)\n",
    "    return x * 2"
   ]
  },
  {
   "cell_type": "code",
   "execution_count": 46,
   "id": "5ff638c5",
   "metadata": {},
   "outputs": [
    {
     "name": "stdout",
     "output_type": "stream",
     "text": [
      "x=  1\n",
      "x=  2\n",
      "x=  3\n",
      "x=  4\n",
      "[2, 4, 6, 8]\n"
     ]
    }
   ],
   "source": [
    "a = [calc(1), calc(2), calc(3), calc(4)]\n",
    "print(a)"
   ]
  },
  {
   "cell_type": "code",
   "execution_count": 48,
   "id": "697e2cd7",
   "metadata": {},
   "outputs": [
    {
     "name": "stdout",
     "output_type": "stream",
     "text": [
      "x=  1\n",
      "x=  2\n",
      "x=  3\n",
      "x=  4\n",
      "[2, 4, 6, 8]\n"
     ]
    }
   ],
   "source": [
    "a = [] # 비어있는 리스트 객체 생성\n",
    "\n",
    "for i in [1, 2, 3, 4]:\n",
    "    a.append(calc(i))\n",
    "print(a)"
   ]
  },
  {
   "cell_type": "code",
   "execution_count": 49,
   "id": "5c79ee4d",
   "metadata": {},
   "outputs": [
    {
     "name": "stdout",
     "output_type": "stream",
     "text": [
      "x=  1\n",
      "x=  2\n",
      "x=  3\n",
      "x=  4\n",
      "[2, 4, 6, 8]\n"
     ]
    }
   ],
   "source": [
    "# map(함수이름, 입력값리스트)\n",
    "a = list(map(calc, [1, 2, 3, 4]))\n",
    "print(a)"
   ]
  },
  {
   "cell_type": "code",
   "execution_count": 50,
   "id": "9a7512f9",
   "metadata": {},
   "outputs": [
    {
     "name": "stdout",
     "output_type": "stream",
     "text": [
      "이\n",
      "51060\n"
     ]
    }
   ],
   "source": [
    "c = '이'\n",
    "print(c)\n",
    "print(ord(c))   # ord(문자) : 문자코드"
   ]
  },
  {
   "cell_type": "code",
   "execution_count": 51,
   "id": "4f560281",
   "metadata": {},
   "outputs": [
    {
     "name": "stdout",
     "output_type": "stream",
     "text": [
      "p => 112\n",
      "y => 121\n",
      "t => 116\n",
      "h => 104\n",
      "o => 111\n",
      "n => 110\n"
     ]
    }
   ],
   "source": [
    "a = 'python'\n",
    "\n",
    "for i in a:\n",
    "    print('{0} => {1}'.format(i, ord(i)))"
   ]
  },
  {
   "cell_type": "code",
   "execution_count": 52,
   "id": "92f28752",
   "metadata": {},
   "outputs": [
    {
     "name": "stdout",
     "output_type": "stream",
     "text": [
      "3\n",
      "y\n"
     ]
    }
   ],
   "source": [
    "a = max([1, 2, 3])\n",
    "print(a)\n",
    "\n",
    "b = max('python')\n",
    "print(b)"
   ]
  },
  {
   "cell_type": "code",
   "execution_count": 53,
   "id": "ba8245f5",
   "metadata": {},
   "outputs": [
    {
     "name": "stdout",
     "output_type": "stream",
     "text": [
      "1\n",
      "h\n"
     ]
    }
   ],
   "source": [
    "a = min([1, 2, 3])\n",
    "print(a)\n",
    "\n",
    "b = min('python')\n",
    "print(b)"
   ]
  },
  {
   "cell_type": "code",
   "execution_count": 54,
   "id": "f24af706",
   "metadata": {},
   "outputs": [
    {
     "name": "stdout",
     "output_type": "stream",
     "text": [
      "16\n",
      "16\n"
     ]
    }
   ],
   "source": [
    "a = pow(2, 4)\n",
    "print(a)\n",
    "print(2 ** 4)"
   ]
  },
  {
   "cell_type": "code",
   "execution_count": 55,
   "id": "52f9b6dd",
   "metadata": {},
   "outputs": [],
   "source": [
    "# 호출방법 : Call by name(이름에 의한 호출), Call By Value(값에 의한 호출), Call By Reference(참조_주소에 의한 호출)\n",
    "\n",
    "## 함수선언\n",
    "def say():\n",
    "    a = '안녕하세요'\n",
    "    # print('안녕하세요')\n",
    "    return a"
   ]
  },
  {
   "cell_type": "code",
   "execution_count": 56,
   "id": "99cd9e01",
   "metadata": {},
   "outputs": [
    {
     "data": {
      "text/plain": [
       "'안녕하세요'"
      ]
     },
     "execution_count": 56,
     "metadata": {},
     "output_type": "execute_result"
    }
   ],
   "source": [
    "# 함수 호출\n",
    "say()"
   ]
  },
  {
   "cell_type": "code",
   "execution_count": 57,
   "id": "a25cd47c",
   "metadata": {},
   "outputs": [
    {
     "data": {
      "text/plain": [
       "'안녕하세요'"
      ]
     },
     "execution_count": 57,
     "metadata": {},
     "output_type": "execute_result"
    }
   ],
   "source": [
    "'안녕하세요'"
   ]
  },
  {
   "cell_type": "code",
   "execution_count": 58,
   "id": "f205ffcf",
   "metadata": {},
   "outputs": [],
   "source": [
    "a = say()"
   ]
  },
  {
   "cell_type": "code",
   "execution_count": 59,
   "id": "28b34aa8",
   "metadata": {},
   "outputs": [
    {
     "data": {
      "text/plain": [
       "'안녕하세요'"
      ]
     },
     "execution_count": 59,
     "metadata": {},
     "output_type": "execute_result"
    }
   ],
   "source": [
    "a"
   ]
  },
  {
   "cell_type": "code",
   "execution_count": 60,
   "id": "ab928250",
   "metadata": {},
   "outputs": [],
   "source": [
    "# 함수 선언   /Call By Value(값에 의한 호출)\n",
    "def hello(name):\n",
    "    string = 'Hello, {}'.format(name)\n",
    "    print(string)"
   ]
  },
  {
   "cell_type": "code",
   "execution_count": 61,
   "id": "ef0136b1",
   "metadata": {},
   "outputs": [
    {
     "name": "stdout",
     "output_type": "stream",
     "text": [
      "Hello, 홍길동\n"
     ]
    }
   ],
   "source": [
    "# 함수 호출\n",
    "hello('홍길동')"
   ]
  },
  {
   "cell_type": "code",
   "execution_count": 62,
   "id": "7eb2bc83",
   "metadata": {},
   "outputs": [],
   "source": [
    "# 함수 선언\n",
    "def hello(name):\n",
    "    string = 'Hello, {}'.format(name)\n",
    "    # print(string)\n",
    "    return string"
   ]
  },
  {
   "cell_type": "code",
   "execution_count": 63,
   "id": "b101b570",
   "metadata": {},
   "outputs": [
    {
     "name": "stdout",
     "output_type": "stream",
     "text": [
      "Hello, Lee\n"
     ]
    }
   ],
   "source": [
    "hi = hello('Lee')\n",
    "print(hi)"
   ]
  },
  {
   "cell_type": "code",
   "execution_count": 64,
   "id": "5af0c7ac",
   "metadata": {},
   "outputs": [],
   "source": [
    "# 함수 선언\n",
    "def hello(name):\n",
    "    #string = 'Hello, {}'.format(name)\n",
    "    # print(string)\n",
    "    # return string\n",
    "    return 'Hello, {}'.format(name)\n",
    "    "
   ]
  },
  {
   "cell_type": "code",
   "execution_count": 65,
   "id": "6effc87a",
   "metadata": {},
   "outputs": [
    {
     "data": {
      "text/plain": [
       "'Hello, 장보고'"
      ]
     },
     "execution_count": 65,
     "metadata": {},
     "output_type": "execute_result"
    }
   ],
   "source": [
    "hello('장보고')"
   ]
  },
  {
   "cell_type": "code",
   "execution_count": 66,
   "id": "2c609c1e",
   "metadata": {},
   "outputs": [],
   "source": [
    "def hello(name):\n",
    "    #string = 'Hello, {}'.format(name)\n",
    "    # print(string)\n",
    "    # return string\n",
    "    return 'Hello,' + name"
   ]
  },
  {
   "cell_type": "code",
   "execution_count": 67,
   "id": "9df87996",
   "metadata": {},
   "outputs": [
    {
     "data": {
      "text/plain": [
       "'Hello,이순신'"
      ]
     },
     "execution_count": 67,
     "metadata": {},
     "output_type": "execute_result"
    }
   ],
   "source": [
    "hello('이순신')"
   ]
  },
  {
   "cell_type": "code",
   "execution_count": 69,
   "id": "1ac4ff2f",
   "metadata": {},
   "outputs": [
    {
     "name": "stdout",
     "output_type": "stream",
     "text": [
      "tot =  15\n"
     ]
    }
   ],
   "source": [
    "a = [1, 2, 3, 4, 5] #Call By Reference(참조_주소에 의한 호출)\n",
    "\n",
    "# tot = tot +1 => tot += 1\n",
    "# tot = tot +2\n",
    "# tot = tot +3\n",
    "# tot = tot +4\n",
    "# tot = tot +5\n",
    "tot = 0\n",
    "for i in a :\n",
    "    tot += i \n",
    "    \n",
    "print('tot = ', tot)"
   ]
  },
  {
   "cell_type": "code",
   "execution_count": null,
   "id": "8ffa3fff",
   "metadata": {},
   "outputs": [],
   "source": [
    "def hap(data): \n",
    "    tot = 0\n",
    "    for i in data:\n",
    "        tot += i\n",
    "    \n",
    "    return tot"
   ]
  },
  {
   "cell_type": "code",
   "execution_count": null,
   "id": "aa539db6",
   "metadata": {},
   "outputs": [],
   "source": [
    "a = [1, 2, 3, 4, 5]\n",
    "\n",
    "tot = hap(a) # 함수 호출\n",
    "    \n",
    "print('tot = ', tot)"
   ]
  }
 ],
 "metadata": {
  "kernelspec": {
   "display_name": "Python 3 (ipykernel)",
   "language": "python",
   "name": "python3"
  },
  "language_info": {
   "codemirror_mode": {
    "name": "ipython",
    "version": 3
   },
   "file_extension": ".py",
   "mimetype": "text/x-python",
   "name": "python",
   "nbconvert_exporter": "python",
   "pygments_lexer": "ipython3",
   "version": "3.9.12"
  },
  "toc": {
   "base_numbering": 1,
   "nav_menu": {},
   "number_sections": true,
   "sideBar": true,
   "skip_h1_title": false,
   "title_cell": "Table of Contents",
   "title_sidebar": "Contents",
   "toc_cell": false,
   "toc_position": {},
   "toc_section_display": true,
   "toc_window_display": false
  }
 },
 "nbformat": 4,
 "nbformat_minor": 5
}

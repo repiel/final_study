{
 "cells": [
  {
   "cell_type": "code",
   "execution_count": 1,
   "id": "60ad142a",
   "metadata": {},
   "outputs": [
    {
     "name": "stdout",
     "output_type": "stream",
     "text": [
      "[1, 2, 3, 4, 5]\n",
      "<class 'list'>\n",
      "1\n",
      "2\n",
      "5\n",
      "5\n",
      "a=  [10, 2, 3, 4, 5]\n",
      "10\n",
      "2\n",
      "3\n",
      "4\n",
      "5\n",
      "10\n",
      "2\n",
      "3\n",
      "4\n",
      "5\n",
      "------------------------------------------------------\n",
      "--------------------\n"
     ]
    }
   ],
   "source": [
    "# 리스트 생성\n",
    "a = [1, 2, 3, 4, 5]\n",
    "print(a)\n",
    "# 자료형 확인\n",
    "print(type(a))\n",
    "# 개별요소를 참조 - 인덱스\n",
    "print(a[0]) # 첫번째 요소\n",
    "print(a[1])\n",
    "# 마지막요소\n",
    "print(a[4])\n",
    "print(a[-1])\n",
    "# 리스트 변경 가능\n",
    "a[0] = 10\n",
    "print('a= ', a)\n",
    "# 개별요소를 줄단위로 출력\n",
    "print(a[0])\n",
    "print(a[1])\n",
    "print(a[2])\n",
    "print(a[3])\n",
    "print(a[4])\n",
    "# 반복문은 for과 while 로 사용할 수 있다.\n",
    "# for 개별변수 in 집합변수(리스트) - 데이터의 반복 횟수가 명확할 때\n",
    "for i in a:\n",
    "    print(i)\n",
    "\n",
    "print(\"------------------------------------------------------\")\n",
    "print('-' * 20)\n",
    "\n",
    "# for i in a:\n",
    "#     print(a[i])   a[a[0]]"
   ]
  },
  {
   "cell_type": "code",
   "execution_count": 2,
   "id": "354e67ef",
   "metadata": {},
   "outputs": [
    {
     "name": "stdout",
     "output_type": "stream",
     "text": [
      "[1, 2, 3, ['a', 'b', 'c']]\n",
      "['a', 'b', 'c']\n",
      "a\n"
     ]
    }
   ],
   "source": [
    "# 중첩 리스트 - 이차원 리스트, 이차원 배열\n",
    "a = [1, 2, 3,['a','b','c']]\n",
    "print(a)\n",
    "print(a[3])\n",
    "print(a[3][0]) # 리스트[행][열]"
   ]
  },
  {
   "cell_type": "code",
   "execution_count": 3,
   "id": "fdff105e",
   "metadata": {},
   "outputs": [
    {
     "name": "stdout",
     "output_type": "stream",
     "text": [
      "x =  [10, 2, 3, 4, 5]\n",
      "y =  [10, 2, 3, 4, 5]\n"
     ]
    }
   ],
   "source": [
    "# 리스트를 저장할 때 값 자체가 아니라 값이 위치한 메모리의 주소를 저장한다.\n",
    "x = [1, 2, 3, 4, 5]\n",
    "# 객체복사\n",
    "y = x \n",
    "y[0] = 10\n",
    "print('x = ', x)\n",
    "print('y = ', y)"
   ]
  },
  {
   "cell_type": "code",
   "execution_count": 4,
   "id": "0f733edf",
   "metadata": {},
   "outputs": [
    {
     "name": "stdout",
     "output_type": "stream",
     "text": [
      "x =  [1, 2, 3, 4, 5]\n",
      "y =  [10, 2, 3, 4, 5]\n"
     ]
    }
   ],
   "source": [
    "x = [1, 2, 3, 4, 5]\n",
    "y = x[:] # slicing[start:stop]\n",
    "y[0] = 10\n",
    "print('x = ', x)\n",
    "print('y = ', y)"
   ]
  },
  {
   "cell_type": "code",
   "execution_count": 5,
   "id": "5b5bd15e",
   "metadata": {},
   "outputs": [
    {
     "name": "stdout",
     "output_type": "stream",
     "text": [
      "[1, 2]\n"
     ]
    }
   ],
   "source": [
    "x = [1, 2, 3, 4, 5]\n",
    "print(x[0:2]) "
   ]
  },
  {
   "cell_type": "code",
   "execution_count": 6,
   "id": "53a1952b",
   "metadata": {},
   "outputs": [
    {
     "name": "stdout",
     "output_type": "stream",
     "text": [
      "[1, 2, 3, 4, 5]\n"
     ]
    }
   ],
   "source": [
    "print(x[:])"
   ]
  },
  {
   "cell_type": "code",
   "execution_count": 7,
   "id": "93260824",
   "metadata": {},
   "outputs": [
    {
     "name": "stdout",
     "output_type": "stream",
     "text": [
      "[1, 2, 3]\n"
     ]
    }
   ],
   "source": [
    "print(x[:3])"
   ]
  },
  {
   "cell_type": "code",
   "execution_count": 8,
   "id": "a8536ea4",
   "metadata": {},
   "outputs": [
    {
     "name": "stdout",
     "output_type": "stream",
     "text": [
      "[2, 3, 4, 5]\n"
     ]
    }
   ],
   "source": [
    "print(x[1:])"
   ]
  },
  {
   "cell_type": "code",
   "execution_count": 20,
   "id": "6b008483",
   "metadata": {},
   "outputs": [
    {
     "name": "stdout",
     "output_type": "stream",
     "text": [
      "c =  [1, 2, 3, 5, 6, 7]\n",
      "d =  None\n"
     ]
    }
   ],
   "source": [
    "# 리스트 연산 : 더하기(+) 연산 \n",
    "a = [1, 2, 3]\n",
    "b = [5, 6, 7]\n",
    "c = a + b # extend(확장)의 의미, 리스트가 가로로 연결된다\n",
    "a.extend(b) # a = a + b . d = a = a + b(x)\n",
    "print('c = ', c)\n",
    "print('a = ', a)"
   ]
  },
  {
   "cell_type": "code",
   "execution_count": 13,
   "id": "a48cef5b",
   "metadata": {},
   "outputs": [
    {
     "name": "stdout",
     "output_type": "stream",
     "text": [
      "c =  [1, 2, 3, 5, 6, 7]\n",
      "d =  None\n"
     ]
    }
   ],
   "source": [
    "# a.extend(b) = a = a +b\n",
    "# 확장시 별도의 변수에 담을 수 없다. d = a.extend([5, 6, 7]) => 잘못된 것.\n",
    "print('c = ', c)\n",
    "print('d = ', d)"
   ]
  },
  {
   "cell_type": "code",
   "execution_count": 16,
   "id": "9c19d753",
   "metadata": {},
   "outputs": [
    {
     "data": {
      "text/plain": [
       "'hello python'"
      ]
     },
     "execution_count": 16,
     "metadata": {},
     "output_type": "execute_result"
    }
   ],
   "source": [
    "# 문자열도 시퀀스 자료형\n",
    "# 문자열 + 문자열\n",
    "'hello ' + 'python'"
   ]
  },
  {
   "cell_type": "code",
   "execution_count": 22,
   "id": "ed7c74bc",
   "metadata": {},
   "outputs": [
    {
     "name": "stdout",
     "output_type": "stream",
     "text": [
      "[1, 2, 3, 1, 2, 3, 1, 2, 3]\n"
     ]
    }
   ],
   "source": [
    "# 리스트 연산 : 곱셈(*), 반복, 형식: 리스트 * 반복횟수\n",
    "a = [1, 2, 3]\n",
    "b = a * 3\n",
    "print(b)"
   ]
  },
  {
   "cell_type": "code",
   "execution_count": 19,
   "id": "f8823d24",
   "metadata": {},
   "outputs": [
    {
     "data": {
      "text/plain": [
       "'hello hello hello '"
      ]
     },
     "execution_count": 19,
     "metadata": {},
     "output_type": "execute_result"
    }
   ],
   "source": [
    "'hello ' * 3"
   ]
  },
  {
   "cell_type": "code",
   "execution_count": 21,
   "id": "7eb684f1",
   "metadata": {},
   "outputs": [
    {
     "data": {
      "text/plain": [
       "[1, 2, 3, 5, 6, 7]"
      ]
     },
     "execution_count": 21,
     "metadata": {},
     "output_type": "execute_result"
    }
   ],
   "source": [
    "a"
   ]
  },
  {
   "cell_type": "code",
   "execution_count": 24,
   "id": "21998a2e",
   "metadata": {},
   "outputs": [
    {
     "data": {
      "text/plain": [
       "[1, 2, 3]"
      ]
     },
     "execution_count": 24,
     "metadata": {},
     "output_type": "execute_result"
    }
   ],
   "source": [
    "a"
   ]
  },
  {
   "cell_type": "code",
   "execution_count": 25,
   "id": "366abc52",
   "metadata": {},
   "outputs": [
    {
     "data": {
      "text/plain": [
       "[1, 'a', 'b', 'c', 3]"
      ]
     },
     "execution_count": 25,
     "metadata": {},
     "output_type": "execute_result"
    }
   ],
   "source": [
    "a[1:2] = ['a','b','c']\n",
    "a"
   ]
  },
  {
   "cell_type": "code",
   "execution_count": 26,
   "id": "120c4696",
   "metadata": {},
   "outputs": [
    {
     "data": {
      "text/plain": [
       "[1]"
      ]
     },
     "execution_count": 26,
     "metadata": {},
     "output_type": "execute_result"
    }
   ],
   "source": [
    "a = [1, 2, 3]\n",
    "a[1:3] = [] # 인덱스 1과 2번째 값을 삭제한다.\n",
    "a"
   ]
  },
  {
   "cell_type": "code",
   "execution_count": 28,
   "id": "ac53ecff",
   "metadata": {},
   "outputs": [
    {
     "data": {
      "text/plain": [
       "[1, 3]"
      ]
     },
     "execution_count": 28,
     "metadata": {},
     "output_type": "execute_result"
    }
   ],
   "source": [
    "a = [1, 2, 3]\n",
    "del a[1]\n",
    "a"
   ]
  },
  {
   "cell_type": "code",
   "execution_count": 29,
   "id": "5d869287",
   "metadata": {},
   "outputs": [
    {
     "name": "stdout",
     "output_type": "stream",
     "text": [
      "[1, 2, 3, 4]\n"
     ]
    }
   ],
   "source": [
    "a = [1, 4, 2, 3]\n",
    "a.sort() # 오름차순\n",
    "print(a)"
   ]
  },
  {
   "cell_type": "code",
   "execution_count": 31,
   "id": "2c931705",
   "metadata": {},
   "outputs": [
    {
     "data": {
      "text/plain": [
       "[4, 3, 2, 1]"
      ]
     },
     "execution_count": 31,
     "metadata": {},
     "output_type": "execute_result"
    }
   ],
   "source": [
    "a = [1, 4, 2, 3]  \n",
    "a.sort()\n",
    "a.reverse() # 뒤집기\n",
    "a"
   ]
  },
  {
   "cell_type": "code",
   "execution_count": 32,
   "id": "1ff9ed85",
   "metadata": {},
   "outputs": [
    {
     "data": {
      "text/plain": [
       "[4, 3, 2, 1]"
      ]
     },
     "execution_count": 32,
     "metadata": {},
     "output_type": "execute_result"
    }
   ],
   "source": [
    "a = [1, 4, 2, 3] \n",
    "a.sort(reverse = True)\n",
    "a"
   ]
  },
  {
   "cell_type": "code",
   "execution_count": 33,
   "id": "ace6ceb2",
   "metadata": {},
   "outputs": [
    {
     "data": {
      "text/plain": [
       "['a', 'b', 'c', 'd']"
      ]
     },
     "execution_count": 33,
     "metadata": {},
     "output_type": "execute_result"
    }
   ],
   "source": [
    "a = ['a', 'd', 'b', 'c'] # 사전순 = 알파벳순으로\n",
    "a.sort()\n",
    "a"
   ]
  },
  {
   "cell_type": "code",
   "execution_count": 34,
   "id": "45476636",
   "metadata": {},
   "outputs": [
    {
     "name": "stdout",
     "output_type": "stream",
     "text": [
      "2\n"
     ]
    }
   ],
   "source": [
    "a = [1, 2, 3, 4, 5]\n",
    "print(a.index(3)) # 3이라는 값이 몇 번째 위치에 있는가?"
   ]
  },
  {
   "cell_type": "code",
   "execution_count": 35,
   "id": "81d932e2",
   "metadata": {},
   "outputs": [
    {
     "ename": "ValueError",
     "evalue": "'h' is not in list",
     "output_type": "error",
     "traceback": [
      "\u001b[1;31m---------------------------------------------------------------------------\u001b[0m",
      "\u001b[1;31mValueError\u001b[0m                                Traceback (most recent call last)",
      "Input \u001b[1;32mIn [35]\u001b[0m, in \u001b[0;36m<cell line: 2>\u001b[1;34m()\u001b[0m\n\u001b[0;32m      1\u001b[0m b \u001b[38;5;241m=\u001b[39m [\u001b[38;5;124m'\u001b[39m\u001b[38;5;124ma\u001b[39m\u001b[38;5;124m'\u001b[39m,\u001b[38;5;124m'\u001b[39m\u001b[38;5;124mb\u001b[39m\u001b[38;5;124m'\u001b[39m,\u001b[38;5;124m'\u001b[39m\u001b[38;5;124mc\u001b[39m\u001b[38;5;124m'\u001b[39m]\n\u001b[1;32m----> 2\u001b[0m \u001b[38;5;28mprint\u001b[39m(\u001b[43mb\u001b[49m\u001b[38;5;241;43m.\u001b[39;49m\u001b[43mindex\u001b[49m\u001b[43m(\u001b[49m\u001b[38;5;124;43m'\u001b[39;49m\u001b[38;5;124;43mh\u001b[39;49m\u001b[38;5;124;43m'\u001b[39;49m\u001b[43m)\u001b[49m)\n",
      "\u001b[1;31mValueError\u001b[0m: 'h' is not in list"
     ]
    }
   ],
   "source": [
    "b = ['a','b','c']\n",
    "print(b.index('h')) #없는 데이터의 위치를 찾으면 에러발생"
   ]
  },
  {
   "cell_type": "code",
   "execution_count": 36,
   "id": "650efb90",
   "metadata": {},
   "outputs": [
    {
     "name": "stdout",
     "output_type": "stream",
     "text": [
      "[4, 1, 2, 3]\n"
     ]
    }
   ],
   "source": [
    "a = [1, 2, 3]\n",
    "a.insert(0, 4)\n",
    "print(a)"
   ]
  },
  {
   "cell_type": "code",
   "execution_count": 37,
   "id": "b3d445f6",
   "metadata": {},
   "outputs": [
    {
     "name": "stdout",
     "output_type": "stream",
     "text": [
      "[1, 2, 1, 2, 3]\n"
     ]
    }
   ],
   "source": [
    "a = [1, 2, 3, 1, 2, 3]\n",
    "# 값이 3인 요소 삭제(처음 나온 숫자 3 1개만 삭제) \n",
    "a.remove(3) # 인덱스 번호가 아니라 값으로 삭제한다.\n",
    "print(a)"
   ]
  },
  {
   "cell_type": "code",
   "execution_count": 38,
   "id": "3ca3d8ba",
   "metadata": {},
   "outputs": [
    {
     "data": {
      "text/plain": [
       "[2, 1, 2, 3]"
      ]
     },
     "execution_count": 38,
     "metadata": {},
     "output_type": "execute_result"
    }
   ],
   "source": [
    "del a[0]  # 인덱스로 삭제\n",
    "a"
   ]
  },
  {
   "cell_type": "code",
   "execution_count": 39,
   "id": "9d563554",
   "metadata": {},
   "outputs": [
    {
     "name": "stdout",
     "output_type": "stream",
     "text": [
      "[1, 2]\n",
      "3\n"
     ]
    }
   ],
   "source": [
    "a = [1, 2, 3]\n",
    "b = a.pop() # 리스트의 마지막 요소를 추출\n",
    "print(a)\n",
    "print(b)"
   ]
  },
  {
   "cell_type": "code",
   "execution_count": 40,
   "id": "8e375029",
   "metadata": {},
   "outputs": [
    {
     "name": "stdout",
     "output_type": "stream",
     "text": [
      "3\n"
     ]
    }
   ],
   "source": [
    "# 요소의 개수(건수)\n",
    "a = [1, 2, 3, 1, 2, 1]\n",
    "b = a.count(1) # 값이 1인 요소가 몇 개인지 계산하는 함수\n",
    "print(b)"
   ]
  },
  {
   "cell_type": "code",
   "execution_count": 41,
   "id": "92abcfdb",
   "metadata": {},
   "outputs": [
    {
     "name": "stdout",
     "output_type": "stream",
     "text": [
      "[1, 2, 3, 4, 5]\n"
     ]
    }
   ],
   "source": [
    "# 리스트의 확장\n",
    "a = [1, 2, 3]\n",
    "# 리스트1.extend(리스트2)  => 리스트1 확장\n",
    "a.extend([4, 5])\n",
    "print(a)"
   ]
  },
  {
   "cell_type": "code",
   "execution_count": 42,
   "id": "19523b78",
   "metadata": {},
   "outputs": [
    {
     "ename": "TypeError",
     "evalue": "'int' object is not iterable",
     "output_type": "error",
     "traceback": [
      "\u001b[1;31m---------------------------------------------------------------------------\u001b[0m",
      "\u001b[1;31mTypeError\u001b[0m                                 Traceback (most recent call last)",
      "Input \u001b[1;32mIn [42]\u001b[0m, in \u001b[0;36m<cell line: 1>\u001b[1;34m()\u001b[0m\n\u001b[1;32m----> 1\u001b[0m \u001b[43ma\u001b[49m\u001b[38;5;241;43m.\u001b[39;49m\u001b[43mextend\u001b[49m\u001b[43m(\u001b[49m\u001b[38;5;241;43m6\u001b[39;49m\u001b[43m)\u001b[49m  \u001b[38;5;66;03m# => 6은 하나의 개체요소이므로 리스트가 아니라 확장이 되지 않는다. 반드시 리스트를 담아야 한다.\u001b[39;00m\n\u001b[0;32m      2\u001b[0m \u001b[38;5;28mprint\u001b[39m(a)\n",
      "\u001b[1;31mTypeError\u001b[0m: 'int' object is not iterable"
     ]
    }
   ],
   "source": [
    "a.extend(6)  # => 6은 하나의 개체요소이므로 리스트가 아니라 확장이 되지 않는다. 반드시 리스트를 담아야 한다.\n",
    "print(a)"
   ]
  },
  {
   "cell_type": "code",
   "execution_count": 43,
   "id": "a35c0ce2",
   "metadata": {},
   "outputs": [
    {
     "name": "stdout",
     "output_type": "stream",
     "text": [
      "[1, 2, 3, 4, 5, 7, 8]\n"
     ]
    }
   ],
   "source": [
    "b = [7, 8]\n",
    "print(a + b)"
   ]
  },
  {
   "cell_type": "code",
   "execution_count": null,
   "id": "3c932d61",
   "metadata": {},
   "outputs": [],
   "source": [
    "# 값 in 리스트, 값 not in 리스트 => 결과는 True or False\n",
    "a = [1, 2, 3, 4, 5]\n",
    "result = 2 in a # 2가 a에 있으면 True, 없으면 False라고 뜬다.\n",
    "print(result)\n",
    "\n",
    "result = 2 not in a # 2가 a에 있으면 False, 없으면 True 라고 뜬다."
   ]
  },
  {
   "cell_type": "markdown",
   "id": "23f065c1",
   "metadata": {},
   "source": [
    "# 튜플(Tuple)"
   ]
  },
  {
   "cell_type": "code",
   "execution_count": 44,
   "id": "bf1f6357",
   "metadata": {},
   "outputs": [
    {
     "name": "stdout",
     "output_type": "stream",
     "text": [
      "(1, 2, 'a', 'b')\n",
      "<class 'tuple'>\n",
      "1\n",
      "b\n"
     ]
    },
    {
     "ename": "TypeError",
     "evalue": "'tuple' object does not support item assignment",
     "output_type": "error",
     "traceback": [
      "\u001b[1;31m---------------------------------------------------------------------------\u001b[0m",
      "\u001b[1;31mTypeError\u001b[0m                                 Traceback (most recent call last)",
      "Input \u001b[1;32mIn [44]\u001b[0m, in \u001b[0;36m<cell line: 6>\u001b[1;34m()\u001b[0m\n\u001b[0;32m      4\u001b[0m \u001b[38;5;28mprint\u001b[39m(t1[\u001b[38;5;241m0\u001b[39m])\n\u001b[0;32m      5\u001b[0m \u001b[38;5;28mprint\u001b[39m(t1[\u001b[38;5;241m-\u001b[39m\u001b[38;5;241m1\u001b[39m])\n\u001b[1;32m----> 6\u001b[0m t1[\u001b[38;5;241m0\u001b[39m] \u001b[38;5;241m=\u001b[39m \u001b[38;5;124m'\u001b[39m\u001b[38;5;124mc\u001b[39m\u001b[38;5;124m'\u001b[39m\n",
      "\u001b[1;31mTypeError\u001b[0m: 'tuple' object does not support item assignment"
     ]
    }
   ],
   "source": [
    "t1 = (1, 2, 'a', 'b')\n",
    "print(t1)\n",
    "print(type(t1))\n",
    "print(t1[0])\n",
    "print(t1[-1])\n",
    "t1[0] = 'c' # 튜플은 리스트와 다르게 안에 요소를 변경하는 것이 \"불가능\"하다. 에러가 발생한다."
   ]
  },
  {
   "cell_type": "code",
   "execution_count": 45,
   "id": "48b81588",
   "metadata": {},
   "outputs": [
    {
     "ename": "TypeError",
     "evalue": "'tuple' object doesn't support item deletion",
     "output_type": "error",
     "traceback": [
      "\u001b[1;31m---------------------------------------------------------------------------\u001b[0m",
      "\u001b[1;31mTypeError\u001b[0m                                 Traceback (most recent call last)",
      "Input \u001b[1;32mIn [45]\u001b[0m, in \u001b[0;36m<cell line: 1>\u001b[1;34m()\u001b[0m\n\u001b[1;32m----> 1\u001b[0m \u001b[38;5;28;01mdel\u001b[39;00m t1[\u001b[38;5;241m0\u001b[39m]\n",
      "\u001b[1;31mTypeError\u001b[0m: 'tuple' object doesn't support item deletion"
     ]
    }
   ],
   "source": [
    "del t1[0]"
   ]
  },
  {
   "cell_type": "code",
   "execution_count": 47,
   "id": "27516483",
   "metadata": {},
   "outputs": [
    {
     "name": "stdout",
     "output_type": "stream",
     "text": [
      "(2, 'a', 'b')\n",
      "(1, 2, 'a', 'b', 3, 4)\n",
      "t1 =  (1, 2, 'a', 'b', 3, 4)\n",
      "(1, 2, 'a', 'b', 3, 4, 1, 2, 'a', 'b', 3, 4, 1, 2, 'a', 'b', 3, 4)\n"
     ]
    }
   ],
   "source": [
    "t1 = (1, 2, 'a', 'b')\n",
    "print(t1[1:])\n",
    "t2 = (3, 4)\n",
    "print(t1 + t2)\n",
    "t1 = t1 + t2  # t1에 t2값이 추가되지 않고 t1이라는 새로운 튜플을 생성한다는 의미로 이해해야 한다.\n",
    "print('t1 = ', t1)\n",
    "print(t1 * 3)"
   ]
  },
  {
   "cell_type": "code",
   "execution_count": 49,
   "id": "efbc9d93",
   "metadata": {},
   "outputs": [
    {
     "name": "stdout",
     "output_type": "stream",
     "text": [
      "a =  20 b =  10\n"
     ]
    }
   ],
   "source": [
    "# 파이썬의 기본 자료형 튜플\n",
    "a = 10\n",
    "b = 20\n",
    "a, b = b, a\n",
    "print ('a = ', a, 'b = ', b) "
   ]
  },
  {
   "cell_type": "code",
   "execution_count": 50,
   "id": "b38df68f",
   "metadata": {},
   "outputs": [
    {
     "name": "stdout",
     "output_type": "stream",
     "text": [
      "a =  20 b =  10\n"
     ]
    }
   ],
   "source": [
    "a = 10\n",
    "b = 20\n",
    "a, b = (b, a)\n",
    "print ('a = ', a, 'b = ', b) "
   ]
  },
  {
   "cell_type": "code",
   "execution_count": 52,
   "id": "4fb0ad88",
   "metadata": {},
   "outputs": [
    {
     "name": "stdout",
     "output_type": "stream",
     "text": [
      "1 2 3\n",
      "2 1\n"
     ]
    }
   ],
   "source": [
    "# packing(패킹) : 여러 개의 값을 하나의 변수에 저장하는 것\n",
    "t1 = (1, 2, 3)\n",
    "\n",
    "# unpacking : 하나의 변수에 담은 값을 각각의 변수에 할당하는 것\n",
    "# 데이터의 개수와 변수의 개수는 반드시 일치해야 한다.\n",
    "n1, n2, n3 = t1\n",
    "\n",
    "# 출력형식이 포함된 문자열.format(값1, 값2, 값3)\n",
    "print('{0} {1} {2}'.format(n1, n2, n3))\n",
    "\n",
    "# 변수의 값을 교환\n",
    "n1, n2 = n2, n1\n",
    "print('{0} {1}'.format(n1, n2))"
   ]
  },
  {
   "cell_type": "code",
   "execution_count": 53,
   "id": "4d6ecc02",
   "metadata": {},
   "outputs": [
    {
     "name": "stdout",
     "output_type": "stream",
     "text": [
      "[1, 2, 3]\n",
      "('x', 'y', 'z')\n"
     ]
    }
   ],
   "source": [
    "# 형변환 : int(), float(), str()\n",
    "# 자료구조의 형변환 : list(), tuple()\n",
    "my_list = [1, 2, 3]\n",
    "my_tuple = ('x','y','z')\n",
    "print(my_list)\n",
    "print(my_tuple)"
   ]
  },
  {
   "cell_type": "code",
   "execution_count": 54,
   "id": "b3a9f824",
   "metadata": {},
   "outputs": [
    {
     "name": "stdout",
     "output_type": "stream",
     "text": [
      "(1, 2, 3)\n",
      "['x', 'y', 'z']\n"
     ]
    }
   ],
   "source": [
    "print(tuple(my_list))\n",
    "print(list(my_tuple))"
   ]
  },
  {
   "cell_type": "markdown",
   "id": "b4978f5b",
   "metadata": {},
   "source": [
    "# 딕셔너리 "
   ]
  },
  {
   "cell_type": "code",
   "execution_count": 55,
   "id": "f879a0f3",
   "metadata": {},
   "outputs": [
    {
     "name": "stdout",
     "output_type": "stream",
     "text": [
      "{1: 'a'}\n",
      "<class 'dict'>\n"
     ]
    }
   ],
   "source": [
    "# 딕셔너리{key.value, key.value, key.value} => key.value 라는 각 요소를 item이라 부른다.\n",
    "# key는 숫자인덱스보다 문자인덱스를 선호(권장)\n",
    "# key는 중복 불가능\n",
    "a = {1:'a'}\n",
    "print(a)\n",
    "print(type(a))"
   ]
  },
  {
   "cell_type": "code",
   "execution_count": 56,
   "id": "62a224c3",
   "metadata": {},
   "outputs": [
    {
     "name": "stdout",
     "output_type": "stream",
     "text": [
      "{1: 'a', 2: 'b'}\n"
     ]
    }
   ],
   "source": [
    "# 사전에 아이템(item) 추가하기\n",
    "a[2] = 'b' #a[2] 키(key), 'b' 는 값(value)이다.\n",
    "print(a)"
   ]
  },
  {
   "cell_type": "code",
   "execution_count": 57,
   "id": "b9d5fd2c",
   "metadata": {},
   "outputs": [
    {
     "name": "stdout",
     "output_type": "stream",
     "text": [
      "{'name': '홍길동', 'phone': '010-1234-5678', 'age': 23}\n"
     ]
    }
   ],
   "source": [
    "stu = {'name':'홍길동', 'phone':'010-1234-5678', 'age':23}\n",
    "print(stu)"
   ]
  },
  {
   "cell_type": "code",
   "execution_count": 59,
   "id": "694e7d7b",
   "metadata": {},
   "outputs": [
    {
     "name": "stdout",
     "output_type": "stream",
     "text": [
      "홍길동\n",
      "홍길동\n",
      "23\n",
      "23\n"
     ]
    }
   ],
   "source": [
    "# 키를 이용해서 값을 조회\n",
    "print(stu['name']) # 딕셔너리[key]\n",
    "print(stu.get('name')) # 딕셔너리.get(key)\n",
    "print(stu['age']) # 딕셔너리[key]\n",
    "print(stu.get('age')) # 딕셔너리.get(key)\n"
   ]
  },
  {
   "cell_type": "code",
   "execution_count": 61,
   "id": "cd8e8eff",
   "metadata": {},
   "outputs": [
    {
     "data": {
      "text/plain": [
       "dict_keys(['name', 'phone', 'age'])"
      ]
     },
     "execution_count": 61,
     "metadata": {},
     "output_type": "execute_result"
    }
   ],
   "source": [
    "# keys 조회\n",
    "stu.keys()"
   ]
  },
  {
   "cell_type": "code",
   "execution_count": 64,
   "id": "1b50f26b",
   "metadata": {},
   "outputs": [
    {
     "data": {
      "text/plain": [
       "dict_values(['홍길동', '010-1234-5678', 23])"
      ]
     },
     "execution_count": 64,
     "metadata": {},
     "output_type": "execute_result"
    }
   ],
   "source": [
    "# values 조희\n",
    "stu.values()"
   ]
  },
  {
   "cell_type": "code",
   "execution_count": 65,
   "id": "6c97e5ff",
   "metadata": {},
   "outputs": [
    {
     "data": {
      "text/plain": [
       "dict_items([('name', '홍길동'), ('phone', '010-1234-5678'), ('age', 23)])"
      ]
     },
     "execution_count": 65,
     "metadata": {},
     "output_type": "execute_result"
    }
   ],
   "source": [
    "# items\n",
    "stu.items()"
   ]
  },
  {
   "cell_type": "code",
   "execution_count": null,
   "id": "4ec29f47",
   "metadata": {},
   "outputs": [],
   "source": [
    "# for 개별변수 in 집합변수(key값)"
   ]
  },
  {
   "cell_type": "code",
   "execution_count": 66,
   "id": "6f8ae046",
   "metadata": {},
   "outputs": [
    {
     "name": "stdout",
     "output_type": "stream",
     "text": [
      "name ==> 홍길동\n",
      "phone ==> 010-1234-5678\n",
      "age ==> 23\n"
     ]
    }
   ],
   "source": [
    "for k in stu.keys(): # for k in ['name', 'phone', 'age'] \n",
    "    print(k,'==>', stu[k])"
   ]
  },
  {
   "cell_type": "code",
   "execution_count": 67,
   "id": "d94cab7c",
   "metadata": {},
   "outputs": [
    {
     "name": "stdout",
     "output_type": "stream",
     "text": [
      "['name', 'phone', 'age']\n"
     ]
    }
   ],
   "source": [
    "b = list(stu.keys())\n",
    "print(b)"
   ]
  },
  {
   "cell_type": "code",
   "execution_count": 69,
   "id": "8d694ed3",
   "metadata": {},
   "outputs": [
    {
     "name": "stdout",
     "output_type": "stream",
     "text": [
      "['홍길동', '010-1234-5678', 23]\n"
     ]
    }
   ],
   "source": [
    "c = list(stu.values())\n",
    "print(c)"
   ]
  },
  {
   "cell_type": "code",
   "execution_count": 70,
   "id": "20cafb6a",
   "metadata": {},
   "outputs": [
    {
     "name": "stdout",
     "output_type": "stream",
     "text": [
      "[('name', '홍길동'), ('phone', '010-1234-5678'), ('age', 23)]\n"
     ]
    }
   ],
   "source": [
    "d = list(stu.items())\n",
    "print(d)"
   ]
  },
  {
   "cell_type": "code",
   "execution_count": 71,
   "id": "931ec92a",
   "metadata": {},
   "outputs": [
    {
     "name": "stdout",
     "output_type": "stream",
     "text": [
      "<class 'list'>\n"
     ]
    }
   ],
   "source": [
    "print(type(d))"
   ]
  },
  {
   "cell_type": "code",
   "execution_count": 72,
   "id": "f652cf94",
   "metadata": {},
   "outputs": [
    {
     "name": "stdout",
     "output_type": "stream",
     "text": [
      "('name', '홍길동')\n"
     ]
    }
   ],
   "source": [
    "print(d[0])"
   ]
  },
  {
   "cell_type": "code",
   "execution_count": 73,
   "id": "82737c88",
   "metadata": {},
   "outputs": [
    {
     "name": "stdout",
     "output_type": "stream",
     "text": [
      "name ==> 홍길동\n",
      "phone ==> 010-1234-5678\n",
      "age ==> 23\n"
     ]
    }
   ],
   "source": [
    "for k, v in d: #..이해 불가능... 살ㄹ려우저어\n",
    "    print(k,'==>', v)"
   ]
  },
  {
   "cell_type": "code",
   "execution_count": 74,
   "id": "4ec299e1",
   "metadata": {},
   "outputs": [
    {
     "name": "stdout",
     "output_type": "stream",
     "text": [
      "{'name': '홍길동', 'phone': '010-1234-5678', 'age': 23, 'weight': 67.4}\n"
     ]
    }
   ],
   "source": [
    "# 새로운 item 추가\n",
    "stu['weight'] = 67.4\n",
    "print(stu)"
   ]
  },
  {
   "cell_type": "code",
   "execution_count": 75,
   "id": "f67fbd05",
   "metadata": {},
   "outputs": [
    {
     "data": {
      "text/plain": [
       "True"
      ]
     },
     "execution_count": 75,
     "metadata": {},
     "output_type": "execute_result"
    }
   ],
   "source": [
    "'weight' in stu"
   ]
  },
  {
   "cell_type": "markdown",
   "id": "89b2bdc7",
   "metadata": {},
   "source": [
    "# 집합(set)"
   ]
  },
  {
   "cell_type": "code",
   "execution_count": 76,
   "id": "3fdf5631",
   "metadata": {},
   "outputs": [
    {
     "data": {
      "text/plain": [
       "{1, 2, 3, 4, 5}"
      ]
     },
     "execution_count": 76,
     "metadata": {},
     "output_type": "execute_result"
    }
   ],
   "source": [
    "# 집합 자료형 : 중복값은 허용하지 않으며, 순서대로 저장되지 않는다.\n",
    "s1 = set([5, 4, 3, 2, 1, 1, 2, 3, 2, 3, 4, 5])\n",
    "s1"
   ]
  },
  {
   "cell_type": "code",
   "execution_count": 77,
   "id": "bb1853b6",
   "metadata": {},
   "outputs": [
    {
     "name": "stdout",
     "output_type": "stream",
     "text": [
      "교집합 :  {4, 5, 6}\n",
      "합집합 :  {1, 2, 3, 4, 5, 6, 7, 8, 9}\n",
      "차집합 :  {1, 2, 3}\n"
     ]
    }
   ],
   "source": [
    "s1 = set([1, 2, 3, 4, 5, 6])\n",
    "s2 = set([4, 5, 6, 7, 8, 9])\n",
    "\n",
    "# 교집합, &\n",
    "a = s1 & s2\n",
    "print('교집합 : ', a)\n",
    "\n",
    "# 합집합, |\n",
    "b = s1 | s2\n",
    "print('합집합 : ', b)\n",
    "\n",
    "# 차집합, -\n",
    "c = s1 - s2\n",
    "print('차집합 : ', c)"
   ]
  },
  {
   "cell_type": "code",
   "execution_count": 78,
   "id": "9713f88a",
   "metadata": {},
   "outputs": [
    {
     "name": "stdout",
     "output_type": "stream",
     "text": [
      "교집합 :  {4, 5, 6}\n",
      "합집합 :  {1, 2, 3, 4, 5, 6, 7, 8, 9}\n",
      "차집합 :  {1, 2, 3}\n"
     ]
    }
   ],
   "source": [
    "print('교집합 : ', s1.intersection(s2))\n",
    "print('합집합 : ', s1.union(s2))\n",
    "print('차집합 : ', s1.difference(s2))"
   ]
  },
  {
   "cell_type": "code",
   "execution_count": 79,
   "id": "24f4da5c",
   "metadata": {},
   "outputs": [
    {
     "name": "stdout",
     "output_type": "stream",
     "text": [
      "{1, 2, 3, 4}\n"
     ]
    },
    {
     "ename": "TypeError",
     "evalue": "set.add() takes exactly one argument (2 given)",
     "output_type": "error",
     "traceback": [
      "\u001b[1;31m---------------------------------------------------------------------------\u001b[0m",
      "\u001b[1;31mTypeError\u001b[0m                                 Traceback (most recent call last)",
      "Input \u001b[1;32mIn [79]\u001b[0m, in \u001b[0;36m<cell line: 5>\u001b[1;34m()\u001b[0m\n\u001b[0;32m      3\u001b[0m s1\u001b[38;5;241m.\u001b[39madd(\u001b[38;5;241m4\u001b[39m)\n\u001b[0;32m      4\u001b[0m \u001b[38;5;28mprint\u001b[39m(s1)\n\u001b[1;32m----> 5\u001b[0m \u001b[43ms1\u001b[49m\u001b[38;5;241;43m.\u001b[39;49m\u001b[43madd\u001b[49m\u001b[43m(\u001b[49m\u001b[38;5;241;43m4\u001b[39;49m\u001b[43m,\u001b[49m\u001b[43m \u001b[49m\u001b[38;5;241;43m5\u001b[39;49m\u001b[43m)\u001b[49m \u001b[38;5;66;03m# 5인 숫자 1개만 추가가 되고 , 에러가 발생할 수 있다.(여러개의 숫자를 동시에 추가 할 수 없다.)\u001b[39;00m\n\u001b[0;32m      6\u001b[0m \u001b[38;5;28mprint\u001b[39m(s1)\n",
      "\u001b[1;31mTypeError\u001b[0m: set.add() takes exactly one argument (2 given)"
     ]
    }
   ],
   "source": [
    "s1 = set([1, 2, 3]) \n",
    "# 요소 추가\n",
    "s1.add(4)\n",
    "print(s1)\n",
    "s1.add(4, 5) # 1개만 추가가 되고 , 에러가 발생할 수 있다.(여러개의 숫자(요소)를 동시에 추가 할 수 없다.)\n",
    "print(s1)"
   ]
  },
  {
   "cell_type": "code",
   "execution_count": 80,
   "id": "d1e5cdb2",
   "metadata": {},
   "outputs": [
    {
     "name": "stdout",
     "output_type": "stream",
     "text": [
      "{1, 2, 3, 4, 5}\n"
     ]
    }
   ],
   "source": [
    "s1.add(5)\n",
    "print(s1)"
   ]
  },
  {
   "cell_type": "code",
   "execution_count": 81,
   "id": "63811aa5",
   "metadata": {},
   "outputs": [
    {
     "name": "stdout",
     "output_type": "stream",
     "text": [
      "{1, 2, 3, 4, 5, 6}\n"
     ]
    }
   ],
   "source": [
    "s1 = set([1, 2, 3])\n",
    "s1.update([4, 5, 6])\n",
    "print(s1)"
   ]
  },
  {
   "cell_type": "code",
   "execution_count": 82,
   "id": "afa643f1",
   "metadata": {},
   "outputs": [],
   "source": [
    "# 업데이트는 리스트만 추가할 수 있다. 각 개체의 요소를 추가 할 수는 없다."
   ]
  },
  {
   "cell_type": "code",
   "execution_count": 83,
   "id": "1807749d",
   "metadata": {},
   "outputs": [
    {
     "name": "stdout",
     "output_type": "stream",
     "text": [
      "{1, 2, 3, 4, 5, 6, 7}\n"
     ]
    }
   ],
   "source": [
    "s1.update([7])\n",
    "print(s1)"
   ]
  },
  {
   "cell_type": "code",
   "execution_count": 84,
   "id": "bf8b88b1",
   "metadata": {},
   "outputs": [
    {
     "name": "stdout",
     "output_type": "stream",
     "text": [
      "{1, 3, 4, 5, 6, 7}\n"
     ]
    }
   ],
   "source": [
    "s1.remove(2) # 값을 제거\n",
    "print(s1)"
   ]
  },
  {
   "cell_type": "code",
   "execution_count": 85,
   "id": "9b04d2b5",
   "metadata": {},
   "outputs": [
    {
     "name": "stdout",
     "output_type": "stream",
     "text": [
      "{'a': 10}\n",
      "{10}\n"
     ]
    }
   ],
   "source": [
    "dic = {'a':10}\n",
    "sse = {10}\n",
    "print(dic)\n",
    "print(sse)"
   ]
  },
  {
   "cell_type": "code",
   "execution_count": 90,
   "id": "babb49b4",
   "metadata": {},
   "outputs": [
    {
     "name": "stdout",
     "output_type": "stream",
     "text": [
      "x 주소 :  1983697334848\n",
      "y 주소 :  1983697334848\n"
     ]
    }
   ],
   "source": [
    "x = [1,2,3,4,5]\n",
    "y = x\n",
    "print('x 주소 : ', id(x))\n",
    "print('y 주소 : ', id(y))"
   ]
  },
  {
   "cell_type": "code",
   "execution_count": 93,
   "id": "c610ded9",
   "metadata": {},
   "outputs": [
    {
     "name": "stdout",
     "output_type": "stream",
     "text": [
      "x 주소 :  1983582923344\n",
      "y 주소 :  1983582923664\n",
      "x 주소 :  1983582923664\n",
      "y 주소 :  1983582923344\n"
     ]
    }
   ],
   "source": [
    "x = 10\n",
    "y = 20\n",
    "print('x 주소 : ', id(x))\n",
    "print('y 주소 : ', id(y))\n",
    "x, y = y, x\n",
    "print('x 주소 : ', id(x))\n",
    "print('y 주소 : ', id(y))"
   ]
  },
  {
   "cell_type": "markdown",
   "id": "5dfeb532",
   "metadata": {},
   "source": [
    "# 날짜 자료형 "
   ]
  },
  {
   "cell_type": "code",
   "execution_count": 94,
   "id": "d1443abf",
   "metadata": {},
   "outputs": [],
   "source": [
    "# 날짜 관련 함수를 가지고 있는 모듈을 포함\n",
    "# import datetime 해당 모듈(datetime) 전체를 가져온다는 의미\n",
    "from datetime import date, time, datetime, timedelta"
   ]
  },
  {
   "cell_type": "code",
   "execution_count": 95,
   "id": "cc4a7969",
   "metadata": {},
   "outputs": [
    {
     "name": "stdout",
     "output_type": "stream",
     "text": [
      "today : 2022-09-01\n"
     ]
    }
   ],
   "source": [
    "# date 변수, today() - 오늘 날짜를 구하는 함수\n",
    "today = date.today()\n",
    "print('today : {}'. format(today))"
   ]
  },
  {
   "cell_type": "code",
   "execution_count": 96,
   "id": "6307f371",
   "metadata": {},
   "outputs": [
    {
     "name": "stdout",
     "output_type": "stream",
     "text": [
      "연도 : 2022\n",
      "월 : 9\n",
      "일 : 1\n"
     ]
    }
   ],
   "source": [
    "print('연도 : {}'. format(today.year))\n",
    "print('월 : {}'. format(today.month))\n",
    "print('일 : {}'. format(today.day))"
   ]
  },
  {
   "cell_type": "code",
   "execution_count": 98,
   "id": "d37b5a97",
   "metadata": {},
   "outputs": [
    {
     "name": "stdout",
     "output_type": "stream",
     "text": [
      "현재날짜와 시간 : 2022-09-01 14:19:40.648025\n"
     ]
    }
   ],
   "source": [
    "# 날짜 시간 구하기\n",
    "current_datetime = datetime.today()\n",
    "print('현재날짜와 시간 : {}'. format(current_datetime))"
   ]
  },
  {
   "cell_type": "code",
   "execution_count": 99,
   "id": "b033a8db",
   "metadata": {},
   "outputs": [
    {
     "name": "stdout",
     "output_type": "stream",
     "text": [
      "2022-09-01 14:24:50.862334\n",
      "<class 'datetime.datetime'>\n"
     ]
    }
   ],
   "source": [
    "# 형식화된 날짜 출력 : 서식(%)\n",
    "today = datetime.today()\n",
    "print(today)\n",
    "print(type(today))"
   ]
  },
  {
   "cell_type": "code",
   "execution_count": 104,
   "id": "1e4a6b25",
   "metadata": {},
   "outputs": [
    {
     "name": "stdout",
     "output_type": "stream",
     "text": [
      "2022-09-01 14:24:50\n",
      "<class 'str'>\n"
     ]
    }
   ],
   "source": [
    "# 날짜 자료형을 문자열로 형변환\n",
    "# %y - 년도, %m - 월, %M - 분, %H - 시간\n",
    "d = today.strftime('%Y-%m-%d %H:%M:%S')\n",
    "print(d)\n",
    "print(type(d))"
   ]
  },
  {
   "cell_type": "code",
   "execution_count": 105,
   "id": "00d6427b",
   "metadata": {},
   "outputs": [
    {
     "name": "stdout",
     "output_type": "stream",
     "text": [
      "2022-08-31 14:24:50.862334\n",
      "2022-08-25 14:24:50.862334\n",
      "2022-10-01 14:24:50.862334\n",
      "2022-09-01 06:24:50.862334\n"
     ]
    }
   ],
   "source": [
    "days = timedelta(days = -1)\n",
    "# 어제 날짜\n",
    "print(today + days)\n",
    "# 1주일 전\n",
    "days = timedelta(days = -7)\n",
    "print(today + days)\n",
    "# 30일 후\n",
    "days = timedelta(days = 30)\n",
    "print(today + days)\n",
    "# 8시간 전\n",
    "hours = timedelta(hours = -8)\n",
    "print(today + hours)\n"
   ]
  },
  {
   "cell_type": "markdown",
   "id": "8480ab52",
   "metadata": {},
   "source": [
    "# 리스트 내포(List Comprehension) "
   ]
  },
  {
   "cell_type": "code",
   "execution_count": 107,
   "id": "36910abb",
   "metadata": {},
   "outputs": [
    {
     "name": "stdout",
     "output_type": "stream",
     "text": [
      "[2, 4, 6, 8, 10]\n"
     ]
    }
   ],
   "source": [
    "# 비어있는 리스트 변수 생성\n",
    "a = [] # a = list()\n",
    "\n",
    "# for 개별변수 in 집합변수\n",
    "for i in range(1, 6): # [1, 2, 3, 4, 5] == range(1, 6)\n",
    "    a.append(i * 2)\n",
    "    \n",
    "print(a)"
   ]
  },
  {
   "cell_type": "code",
   "execution_count": 109,
   "id": "e64ce93d",
   "metadata": {},
   "outputs": [
    {
     "name": "stdout",
     "output_type": "stream",
     "text": [
      "[2, 4, 6, 8, 10]\n"
     ]
    }
   ],
   "source": [
    "# 출력값 - 실제 리스트에 담겨질 값\n",
    "a = [i * 2 for i in range(1,6)]\n",
    "print(a)"
   ]
  }
 ],
 "metadata": {
  "kernelspec": {
   "display_name": "Python 3 (ipykernel)",
   "language": "python",
   "name": "python3"
  },
  "language_info": {
   "codemirror_mode": {
    "name": "ipython",
    "version": 3
   },
   "file_extension": ".py",
   "mimetype": "text/x-python",
   "name": "python",
   "nbconvert_exporter": "python",
   "pygments_lexer": "ipython3",
   "version": "3.9.12"
  },
  "toc": {
   "base_numbering": 1,
   "nav_menu": {},
   "number_sections": true,
   "sideBar": true,
   "skip_h1_title": false,
   "title_cell": "Table of Contents",
   "title_sidebar": "Contents",
   "toc_cell": false,
   "toc_position": {
    "height": "calc(100% - 180px)",
    "left": "10px",
    "top": "150px",
    "width": "245.76px"
   },
   "toc_section_display": true,
   "toc_window_display": true
  }
 },
 "nbformat": 4,
 "nbformat_minor": 5
}

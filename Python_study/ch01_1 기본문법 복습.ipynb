{
 "cells": [
  {
   "cell_type": "markdown",
   "id": "c256387c",
   "metadata": {},
   "source": [
    "# 시작하기"
   ]
  },
  {
   "cell_type": "markdown",
   "id": "c3d196ec",
   "metadata": {},
   "source": [
    "## 문장과 표현식"
   ]
  },
  {
   "cell_type": "code",
   "execution_count": null,
   "id": "c94172c6",
   "metadata": {},
   "outputs": [],
   "source": [
    "# 표현식 : 값을 만들어 내는 코드 => 변수 = 상수(리터널)\n",
    "## 변수 = 상수 or 변수 or 수식 or 함수식\n",
    "# 문장 : 표현식이 하나 이상 모인 것\n",
    "## a = print('Hello World') <==> a = 'Hello World'\n",
    "# 프로그램 : 문장이 모인 것"
   ]
  },
  {
   "cell_type": "code",
   "execution_count": 9,
   "id": "8c587318",
   "metadata": {},
   "outputs": [
    {
     "name": "stdout",
     "output_type": "stream",
     "text": [
      "Hello World\n"
     ]
    }
   ],
   "source": [
    "a = print('Hello World')"
   ]
  },
  {
   "cell_type": "code",
   "execution_count": 10,
   "id": "7ec39653",
   "metadata": {},
   "outputs": [
    {
     "data": {
      "text/plain": [
       "'Hello World'"
      ]
     },
     "execution_count": 10,
     "metadata": {},
     "output_type": "execute_result"
    }
   ],
   "source": [
    "# 문자상수 or 문자리터널\n",
    "a = 'Hello World'\n",
    "a"
   ]
  },
  {
   "cell_type": "code",
   "execution_count": 11,
   "id": "99bba2e2",
   "metadata": {},
   "outputs": [
    {
     "data": {
      "text/plain": [
       "30"
      ]
     },
     "execution_count": 11,
     "metadata": {},
     "output_type": "execute_result"
    }
   ],
   "source": [
    "10 + 20 "
   ]
  },
  {
   "cell_type": "code",
   "execution_count": 12,
   "id": "c318ba88",
   "metadata": {},
   "outputs": [
    {
     "data": {
      "text/plain": [
       "30"
      ]
     },
     "execution_count": 12,
     "metadata": {},
     "output_type": "execute_result"
    }
   ],
   "source": [
    "b = 10 + 20\n",
    "b"
   ]
  },
  {
   "cell_type": "markdown",
   "id": "6f955a4b",
   "metadata": {},
   "source": [
    "## 키워드와 식별자 그리고 주석"
   ]
  },
  {
   "cell_type": "code",
   "execution_count": null,
   "id": "11a7110a",
   "metadata": {},
   "outputs": [],
   "source": [
    "# 키워드 : 특별한 의미가 부여된 단어, 예약어\n",
    "# 키워드에 목록을 추출 : kwlist 명령어\n",
    "\n",
    "# 외부 라이브러리(패키지, 모듈)를 프로그램에 포함시킬 때 \n",
    "# import => 현재 상태에서만 가능. 다시 접속 할 시 import 다시 적어서 실행해야 함\n",
    "import keyword\n",
    "print(keyword.kwlist)"
   ]
  },
  {
   "cell_type": "code",
   "execution_count": null,
   "id": "e178ac46",
   "metadata": {},
   "outputs": [],
   "source": [
    "# 식별자(identifier) == 사용자 정의 규칙 == 명명법\n",
    "## 프로그램 언어에서 이름을 붙일 때 사용하는 단어\n",
    "## 변수명 or 함수명 등 객체명....\n",
    "## 키워드 사용 불가\n",
    "## 영문자(대, 소문자), 숫자(0에서 9까지), _(언더바, 밑줄, 언더스코어) 만 허용\n",
    "## 시작은 반드시 영문자나 밑줄이 올 수 있다\n",
    "## 공백을 포함 불가\n",
    "## 의미 있는 단어를 사용하는 것을 권장\n",
    "## 캐멀 케이스 : 대문자로 시작 => 객체(클래스명)\n",
    "## 스네이크 케이스 : 소문자로 시작 \n",
    "kor_score = 100\n",
    "eng = 98\n",
    "math = 88"
   ]
  },
  {
   "cell_type": "code",
   "execution_count": null,
   "id": "990b6122",
   "metadata": {},
   "outputs": [],
   "source": [
    "# 주석(comment) : 프로그램 설명을 담는 구문으로 실행과는 상관없음\n",
    "print('Hello Python') # 문자열을 출력하라는 의미"
   ]
  },
  {
   "cell_type": "markdown",
   "id": "76c7d54a",
   "metadata": {},
   "source": [
    "## 연산자와 자료"
   ]
  },
  {
   "cell_type": "code",
   "execution_count": null,
   "id": "e4a7d1ed",
   "metadata": {},
   "outputs": [],
   "source": [
    "# 연산자(Operation) : 항과 항 사이에 있는 기호로 계산(수식)을 할 때 이용\n",
    "10 - 1"
   ]
  },
  {
   "cell_type": "code",
   "execution_count": 13,
   "id": "8c4c85a1",
   "metadata": {},
   "outputs": [],
   "source": [
    "a = 1 + 1"
   ]
  },
  {
   "cell_type": "code",
   "execution_count": 14,
   "id": "871929e5",
   "metadata": {},
   "outputs": [
    {
     "name": "stdout",
     "output_type": "stream",
     "text": [
      "2\n"
     ]
    }
   ],
   "source": [
    "print(a)"
   ]
  },
  {
   "cell_type": "code",
   "execution_count": 15,
   "id": "6569a988",
   "metadata": {},
   "outputs": [
    {
     "data": {
      "text/plain": [
       "2"
      ]
     },
     "execution_count": 15,
     "metadata": {},
     "output_type": "execute_result"
    }
   ],
   "source": [
    "a"
   ]
  },
  {
   "cell_type": "code",
   "execution_count": 16,
   "id": "b4281cf9",
   "metadata": {},
   "outputs": [
    {
     "data": {
      "text/plain": [
       "(10, 20, 30)"
      ]
     },
     "execution_count": 16,
     "metadata": {},
     "output_type": "execute_result"
    }
   ],
   "source": [
    "10, 20, 30"
   ]
  },
  {
   "cell_type": "code",
   "execution_count": 17,
   "id": "9ebfdc2c",
   "metadata": {},
   "outputs": [
    {
     "data": {
      "text/plain": [
       "30"
      ]
     },
     "execution_count": 17,
     "metadata": {},
     "output_type": "execute_result"
    }
   ],
   "source": [
    "b"
   ]
  },
  {
   "cell_type": "code",
   "execution_count": 18,
   "id": "22660b5b",
   "metadata": {},
   "outputs": [],
   "source": [
    "b = 10, 20, 30 # packing : 여러개의 값을 하나의 변수에 담는 것"
   ]
  },
  {
   "cell_type": "code",
   "execution_count": 19,
   "id": "582591e2",
   "metadata": {},
   "outputs": [
    {
     "data": {
      "text/plain": [
       "(10, 20, 30)"
      ]
     },
     "execution_count": 19,
     "metadata": {},
     "output_type": "execute_result"
    }
   ],
   "source": [
    "#tuple(튜플)\n",
    "b"
   ]
  },
  {
   "cell_type": "code",
   "execution_count": 20,
   "id": "b9d23194",
   "metadata": {},
   "outputs": [
    {
     "name": "stdout",
     "output_type": "stream",
     "text": [
      "10 20 30\n"
     ]
    }
   ],
   "source": [
    "x, y, z = b # unpacking : 하나로 묶인 자료를 각각의 변수에 대입\n",
    "print(x,y,z)"
   ]
  },
  {
   "cell_type": "code",
   "execution_count": 21,
   "id": "fea7812c",
   "metadata": {},
   "outputs": [
    {
     "name": "stdout",
     "output_type": "stream",
     "text": [
      "10 20\n"
     ]
    }
   ],
   "source": [
    "a = 10\n",
    "b = 20\n",
    "print(a, b)"
   ]
  },
  {
   "cell_type": "code",
   "execution_count": 22,
   "id": "862efda1",
   "metadata": {},
   "outputs": [
    {
     "name": "stdout",
     "output_type": "stream",
     "text": [
      "20 10\n"
     ]
    }
   ],
   "source": [
    "a, b =b, a\n",
    "print(a, b)"
   ]
  },
  {
   "cell_type": "markdown",
   "id": "37b29dd0",
   "metadata": {},
   "source": [
    "## 표준 출력 함수 print()"
   ]
  },
  {
   "cell_type": "code",
   "execution_count": 23,
   "id": "6fcf5905",
   "metadata": {},
   "outputs": [
    {
     "name": "stdout",
     "output_type": "stream",
     "text": [
      "today\n",
      "one two three\n"
     ]
    }
   ],
   "source": [
    "# 단순히 내용 출력 print('출력할 내용') or print(출력할 변수)\n",
    "# 여러개의 값을 출력 print('내용1', '내용2')\n",
    "print('today')\n",
    "print('one','two','three')"
   ]
  },
  {
   "cell_type": "code",
   "execution_count": 24,
   "id": "3412a612",
   "metadata": {},
   "outputs": [
    {
     "name": "stdout",
     "output_type": "stream",
     "text": [
      "20 10\n"
     ]
    }
   ],
   "source": [
    "print(a, b)"
   ]
  },
  {
   "cell_type": "markdown",
   "id": "78fdc047",
   "metadata": {},
   "source": [
    "## 자료형(기본자료형)과 상수 처리"
   ]
  },
  {
   "cell_type": "code",
   "execution_count": 25,
   "id": "ab8c31b3",
   "metadata": {},
   "outputs": [
    {
     "name": "stdout",
     "output_type": "stream",
     "text": [
      "<class 'str'>\n",
      "<class 'int'>\n"
     ]
    }
   ],
   "source": [
    "# 자료(data) : 가공이 되지 않은 or 처리가 되지 않은 값\n",
    "# 자료형(data type) : 파이썬 언어에서 제공하는 기본 자료형\n",
    "## 데이터의 크기, 형태를 규정해 놓은 예약어\n",
    "### 문자열(string) : \"\" or '' =>str\n",
    "### 숫자(number) - 정수형(int), 실수형(float)\n",
    "### 논리형(boolean) - True of False, 형 변환이 불가능\n",
    "# 자료형 확인 함수 : type()\n",
    "print(type('안녕하세요'))\n",
    "print(type(123))"
   ]
  },
  {
   "cell_type": "code",
   "execution_count": 26,
   "id": "80ce93df",
   "metadata": {},
   "outputs": [
    {
     "name": "stdout",
     "output_type": "stream",
     "text": [
      "# 하나만 출력한다,\n",
      "Hello Python Programming....!\n",
      "\n",
      "# 여러개 출력한다\n",
      "10 20 30 40 50\n",
      "안녕하세요 나는 정말 졸려요\n"
     ]
    }
   ],
   "source": [
    "# 문자열(string)\n",
    "print(\"# 하나만 출력한다,\")\n",
    "print(\"Hello Python Programming....!\")\n",
    "print() #개행의 의미 - 단순히 줄바꿈만 처리\n",
    "print('# 여러개 출력한다')\n",
    "print(10, 20, 30, 40, 50)\n",
    "print('안녕하세요', '나는', '정말', '졸려요')"
   ]
  },
  {
   "cell_type": "code",
   "execution_count": 27,
   "id": "463507c6",
   "metadata": {},
   "outputs": [
    {
     "name": "stdout",
     "output_type": "stream",
     "text": [
      "\"안녕하세요\"라고 말했습니다.\n"
     ]
    }
   ],
   "source": [
    "# \"안녕하세요\"라고 말했습니다.\n",
    "print('\"안녕하세요\"라고 말했습니다.')"
   ]
  },
  {
   "cell_type": "code",
   "execution_count": 28,
   "id": "8458e598",
   "metadata": {},
   "outputs": [
    {
     "name": "stdout",
     "output_type": "stream",
     "text": [
      "\"안녕하세요\"라고 말했습니다.\n"
     ]
    }
   ],
   "source": [
    "# 이스케이프 문자 - \\와 함께 조합해서 사용하는 특수한 문자\n",
    "## \\\" : 큰따옴표를 의미\n",
    "## \\' : 작은따옴표를 의미\n",
    "print(\"\\\"안녕하세요\\\"라고 말했습니다.\")"
   ]
  },
  {
   "cell_type": "code",
   "execution_count": 29,
   "id": "414ea960",
   "metadata": {},
   "outputs": [
    {
     "name": "stdout",
     "output_type": "stream",
     "text": [
      "이제는'배가 고플'시간이네요.\n"
     ]
    }
   ],
   "source": [
    "print('이제는\\'배가 고플\\'시간이네요.')"
   ]
  },
  {
   "cell_type": "code",
   "execution_count": 30,
   "id": "d6d90ae2",
   "metadata": {},
   "outputs": [
    {
     "name": "stdout",
     "output_type": "stream",
     "text": [
      "안녕하세요\n",
      "안녕하세요\n"
     ]
    }
   ],
   "source": [
    "## \\n : 줄바꿈 의미(개행)\n",
    "## \\t : top을 의미\n",
    "print(\"안녕하세요\\n안녕하세요\")"
   ]
  },
  {
   "cell_type": "code",
   "execution_count": 31,
   "id": "96cc6363",
   "metadata": {},
   "outputs": [
    {
     "name": "stdout",
     "output_type": "stream",
     "text": [
      "안녕하세요\t안녕하세요\n"
     ]
    }
   ],
   "source": [
    "print(\"안녕하세요\\t안녕하세요\")"
   ]
  },
  {
   "cell_type": "code",
   "execution_count": 32,
   "id": "abe60934",
   "metadata": {},
   "outputs": [
    {
     "name": "stdout",
     "output_type": "stream",
     "text": [
      "\\\n"
     ]
    }
   ],
   "source": [
    "## \\\\\n",
    "print(\"\\\\\")"
   ]
  },
  {
   "cell_type": "code",
   "execution_count": 33,
   "id": "ac546411",
   "metadata": {},
   "outputs": [
    {
     "data": {
      "text/plain": [
       "'\\n동해물과 백두산이 마르고 닳도록\\n하느님이 보우하사 우리나라 만세\\n무궁화 삼천리 화려강산 대한사람\\n대한으로 길이 보전하세'"
      ]
     },
     "execution_count": 33,
     "metadata": {},
     "output_type": "execute_result"
    }
   ],
   "source": [
    "\"\"\"\n",
    "동해물과 백두산이 마르고 닳도록\n",
    "하느님이 보우하사 우리나라 만세\n",
    "무궁화 삼천리 화려강산 대한사람\n",
    "대한으로 길이 보전하세\"\"\""
   ]
  },
  {
   "cell_type": "code",
   "execution_count": 34,
   "id": "9b889658",
   "metadata": {},
   "outputs": [
    {
     "data": {
      "text/plain": [
       "'\\n동해물과 백두산이 마르고 닳도록\\n하느님이 보우하사 우리나라 만세\\n무궁화 삼천리 화려강산 대한사람\\n대한으로 길이 보전하세\\n'"
      ]
     },
     "execution_count": 34,
     "metadata": {},
     "output_type": "execute_result"
    }
   ],
   "source": [
    "'''\n",
    "동해물과 백두산이 마르고 닳도록\n",
    "하느님이 보우하사 우리나라 만세\n",
    "무궁화 삼천리 화려강산 대한사람\n",
    "대한으로 길이 보전하세\n",
    "'''"
   ]
  },
  {
   "cell_type": "code",
   "execution_count": 35,
   "id": "cf6c60c1",
   "metadata": {},
   "outputs": [],
   "source": [
    "# 여러 줄 주석 처리 : 블럭처리 ctrl + /\n",
    "# 이것도 주석\n",
    "# 저것도 주석\n",
    "# 여기도 주석\n",
    "# 저기도 주석"
   ]
  },
  {
   "cell_type": "markdown",
   "id": "256ef156",
   "metadata": {},
   "source": [
    "#### 문자열 처리"
   ]
  },
  {
   "cell_type": "code",
   "execution_count": 36,
   "id": "4a760c1a",
   "metadata": {},
   "outputs": [
    {
     "data": {
      "text/plain": [
       "('문자열문자열2', '문자열30')"
      ]
     },
     "execution_count": 36,
     "metadata": {},
     "output_type": "execute_result"
    }
   ],
   "source": [
    "# 문자열 연결 연산자 : +, 연산방향이 좌에서 우로\n",
    "'문자열' + '문자열2', '문자열' + '30'"
   ]
  },
  {
   "cell_type": "code",
   "execution_count": 37,
   "id": "afb0eaf8",
   "metadata": {},
   "outputs": [
    {
     "data": {
      "text/plain": [
       "'문자열문자열문자열'"
      ]
     },
     "execution_count": 37,
     "metadata": {},
     "output_type": "execute_result"
    }
   ],
   "source": [
    "# 문자열 반복 연산자 : * 반복횟수\n",
    "'문자열' * 3"
   ]
  },
  {
   "cell_type": "code",
   "execution_count": 38,
   "id": "eac59b6c",
   "metadata": {},
   "outputs": [
    {
     "data": {
      "text/plain": [
       "'안녕하세요'"
      ]
     },
     "execution_count": 38,
     "metadata": {},
     "output_type": "execute_result"
    }
   ],
   "source": [
    "# 인덱싱 : 문자열의 특정 위치값 선택, [위치값]\n",
    "# 인덱스의 시작은 0부터\n",
    "a = '안녕하세요'\n",
    "a"
   ]
  },
  {
   "cell_type": "code",
   "execution_count": 39,
   "id": "b8f7ba85",
   "metadata": {},
   "outputs": [
    {
     "data": {
      "text/plain": [
       "'안'"
      ]
     },
     "execution_count": 39,
     "metadata": {},
     "output_type": "execute_result"
    }
   ],
   "source": [
    "a[0]"
   ]
  },
  {
   "cell_type": "code",
   "execution_count": 40,
   "id": "698393e3",
   "metadata": {},
   "outputs": [
    {
     "data": {
      "text/plain": [
       "'녕'"
      ]
     },
     "execution_count": 40,
     "metadata": {},
     "output_type": "execute_result"
    }
   ],
   "source": [
    "a[1]"
   ]
  },
  {
   "cell_type": "code",
   "execution_count": 41,
   "id": "debb665f",
   "metadata": {},
   "outputs": [
    {
     "data": {
      "text/plain": [
       "'하'"
      ]
     },
     "execution_count": 41,
     "metadata": {},
     "output_type": "execute_result"
    }
   ],
   "source": [
    "a[2]"
   ]
  },
  {
   "cell_type": "code",
   "execution_count": 42,
   "id": "a7608fb5",
   "metadata": {},
   "outputs": [
    {
     "data": {
      "text/plain": [
       "'세'"
      ]
     },
     "execution_count": 42,
     "metadata": {},
     "output_type": "execute_result"
    }
   ],
   "source": [
    "a[3]"
   ]
  },
  {
   "cell_type": "code",
   "execution_count": 43,
   "id": "00aa4a4e",
   "metadata": {},
   "outputs": [
    {
     "data": {
      "text/plain": [
       "'요'"
      ]
     },
     "execution_count": 43,
     "metadata": {},
     "output_type": "execute_result"
    }
   ],
   "source": [
    "a[4]"
   ]
  },
  {
   "cell_type": "code",
   "execution_count": 44,
   "id": "545129bb",
   "metadata": {},
   "outputs": [
    {
     "data": {
      "text/plain": [
       "'요'"
      ]
     },
     "execution_count": 44,
     "metadata": {},
     "output_type": "execute_result"
    }
   ],
   "source": [
    "a[-1]"
   ]
  },
  {
   "cell_type": "code",
   "execution_count": 45,
   "id": "b9f2ff97",
   "metadata": {},
   "outputs": [
    {
     "data": {
      "text/plain": [
       "'세'"
      ]
     },
     "execution_count": 45,
     "metadata": {},
     "output_type": "execute_result"
    }
   ],
   "source": [
    "a[-2]"
   ]
  },
  {
   "cell_type": "code",
   "execution_count": 46,
   "id": "d1582082",
   "metadata": {},
   "outputs": [
    {
     "data": {
      "text/plain": [
       "'하'"
      ]
     },
     "execution_count": 46,
     "metadata": {},
     "output_type": "execute_result"
    }
   ],
   "source": [
    "a[-3]"
   ]
  },
  {
   "cell_type": "code",
   "execution_count": 47,
   "id": "2cf3f11c",
   "metadata": {},
   "outputs": [
    {
     "data": {
      "text/plain": [
       "'녕'"
      ]
     },
     "execution_count": 47,
     "metadata": {},
     "output_type": "execute_result"
    }
   ],
   "source": [
    "a[-4]"
   ]
  },
  {
   "cell_type": "code",
   "execution_count": 48,
   "id": "85f678d3",
   "metadata": {},
   "outputs": [
    {
     "data": {
      "text/plain": [
       "'안'"
      ]
     },
     "execution_count": 48,
     "metadata": {},
     "output_type": "execute_result"
    }
   ],
   "source": [
    "a[-5]"
   ]
  },
  {
   "cell_type": "code",
   "execution_count": 49,
   "id": "90c68904",
   "metadata": {},
   "outputs": [
    {
     "data": {
      "text/plain": [
       "'안녕하세요'"
      ]
     },
     "execution_count": 49,
     "metadata": {},
     "output_type": "execute_result"
    }
   ],
   "source": [
    "# 문자열의 일부분(범위)를 선택 : 슬라이싱[start:end], end-1만큼 처리\n",
    "a[0:5]"
   ]
  },
  {
   "cell_type": "code",
   "execution_count": 50,
   "id": "669eaf65",
   "metadata": {},
   "outputs": [
    {
     "data": {
      "text/plain": [
       "'안녕하세요'"
      ]
     },
     "execution_count": 50,
     "metadata": {},
     "output_type": "execute_result"
    }
   ],
   "source": [
    "a[:]"
   ]
  },
  {
   "cell_type": "code",
   "execution_count": 51,
   "id": "7a9ef504",
   "metadata": {},
   "outputs": [
    {
     "data": {
      "text/plain": [
       "'녕하세'"
      ]
     },
     "execution_count": 51,
     "metadata": {},
     "output_type": "execute_result"
    }
   ],
   "source": [
    "a[1:4]"
   ]
  },
  {
   "cell_type": "code",
   "execution_count": 52,
   "id": "bdaa3ad1",
   "metadata": {},
   "outputs": [
    {
     "data": {
      "text/plain": [
       "'안녕하세'"
      ]
     },
     "execution_count": 52,
     "metadata": {},
     "output_type": "execute_result"
    }
   ],
   "source": [
    "a[:4]"
   ]
  },
  {
   "cell_type": "code",
   "execution_count": 53,
   "id": "e2b8fa67",
   "metadata": {},
   "outputs": [
    {
     "data": {
      "text/plain": [
       "'하세요'"
      ]
     },
     "execution_count": 53,
     "metadata": {},
     "output_type": "execute_result"
    }
   ],
   "source": [
    "a[2:]"
   ]
  },
  {
   "cell_type": "code",
   "execution_count": 54,
   "id": "f506eeed",
   "metadata": {},
   "outputs": [
    {
     "ename": "IndexError",
     "evalue": "string index out of range",
     "output_type": "error",
     "traceback": [
      "\u001b[1;31m---------------------------------------------------------------------------\u001b[0m",
      "\u001b[1;31mIndexError\u001b[0m                                Traceback (most recent call last)",
      "Input \u001b[1;32mIn [54]\u001b[0m, in \u001b[0;36m<cell line: 1>\u001b[1;34m()\u001b[0m\n\u001b[1;32m----> 1\u001b[0m \u001b[43ma\u001b[49m\u001b[43m[\u001b[49m\u001b[38;5;241;43m10\u001b[39;49m\u001b[43m]\u001b[49m\n",
      "\u001b[1;31mIndexError\u001b[0m: string index out of range"
     ]
    }
   ],
   "source": [
    "a[10]"
   ]
  },
  {
   "cell_type": "code",
   "execution_count": null,
   "id": "d631b265",
   "metadata": {},
   "outputs": [],
   "source": [
    "# len() 함수 : 문자열의 길이를 추출할 때 사용하는 함수\n",
    "print(len(a))"
   ]
  },
  {
   "cell_type": "markdown",
   "id": "109fe9ff",
   "metadata": {},
   "source": [
    "# 변수와 배정대입연산자"
   ]
  },
  {
   "cell_type": "code",
   "execution_count": 55,
   "id": "1c5eb191",
   "metadata": {},
   "outputs": [
    {
     "data": {
      "text/plain": [
       "3.14159265"
      ]
     },
     "execution_count": 55,
     "metadata": {},
     "output_type": "execute_result"
    }
   ],
   "source": [
    "# 변수(Variable) : 값을 저장하는 식별자, 기억공간\n",
    "pi = 3.14159265\n",
    "pi"
   ]
  },
  {
   "cell_type": "code",
   "execution_count": 56,
   "id": "35b54249",
   "metadata": {},
   "outputs": [
    {
     "data": {
      "text/plain": [
       "float"
      ]
     },
     "execution_count": 56,
     "metadata": {},
     "output_type": "execute_result"
    }
   ],
   "source": [
    "type(pi)"
   ]
  },
  {
   "cell_type": "code",
   "execution_count": 57,
   "id": "2712e2ca",
   "metadata": {},
   "outputs": [
    {
     "data": {
      "text/plain": [
       "3.14"
      ]
     },
     "execution_count": 57,
     "metadata": {},
     "output_type": "execute_result"
    }
   ],
   "source": [
    "pi = 3.14\n",
    "pi"
   ]
  },
  {
   "cell_type": "code",
   "execution_count": 58,
   "id": "befaeb9a",
   "metadata": {},
   "outputs": [
    {
     "data": {
      "text/plain": [
       "6.28"
      ]
     },
     "execution_count": 58,
     "metadata": {},
     "output_type": "execute_result"
    }
   ],
   "source": [
    "pi + pi"
   ]
  },
  {
   "cell_type": "code",
   "execution_count": 59,
   "id": "ab762ced",
   "metadata": {},
   "outputs": [
    {
     "data": {
      "text/plain": [
       "5.140000000000001"
      ]
     },
     "execution_count": 59,
     "metadata": {},
     "output_type": "execute_result"
    }
   ],
   "source": [
    "pi + 2"
   ]
  },
  {
   "cell_type": "code",
   "execution_count": 60,
   "id": "7449109e",
   "metadata": {},
   "outputs": [
    {
     "data": {
      "text/plain": [
       "6.28"
      ]
     },
     "execution_count": 60,
     "metadata": {},
     "output_type": "execute_result"
    }
   ],
   "source": [
    "pi * 2"
   ]
  },
  {
   "cell_type": "code",
   "execution_count": 61,
   "id": "eee1f419",
   "metadata": {},
   "outputs": [
    {
     "data": {
      "text/plain": [
       "1.57"
      ]
     },
     "execution_count": 61,
     "metadata": {},
     "output_type": "execute_result"
    }
   ],
   "source": [
    "pi / 2"
   ]
  },
  {
   "cell_type": "code",
   "execution_count": 62,
   "id": "19f972c2",
   "metadata": {},
   "outputs": [
    {
     "name": "stdout",
     "output_type": "stream",
     "text": [
      "원주율 =  3.141519265\n",
      "반지름 =  10\n",
      "원의 둘레 =  62.830385299999996\n",
      "원의 면적 =  314.1519265\n"
     ]
    }
   ],
   "source": [
    "# 원의 둘레와 면적을 계산하여 출력하는 프로그램\n",
    "# 변수의 선언과 할당 - 초기화 or 선언문(앞선 문장)\n",
    "pi = 3.141519265\n",
    "r = 10\n",
    "2* pi *r\n",
    "r*r*pi\n",
    "\n",
    "\n",
    "# 변수참조\n",
    "print('원주율 = ',pi)\n",
    "print('반지름 = ',r)\n",
    "print('원의 둘레 = ', 2*pi*r)\n",
    "print('원의 면적 = ', r*r*pi)\n"
   ]
  },
  {
   "cell_type": "code",
   "execution_count": 63,
   "id": "add3f4eb",
   "metadata": {},
   "outputs": [
    {
     "data": {
      "text/plain": [
       "3.141592653589793"
      ]
     },
     "execution_count": 63,
     "metadata": {},
     "output_type": "execute_result"
    }
   ],
   "source": [
    "import math\n",
    "math.pi"
   ]
  },
  {
   "cell_type": "code",
   "execution_count": 5,
   "id": "4a7e1ea8",
   "metadata": {},
   "outputs": [
    {
     "data": {
      "text/plain": [
       "10"
      ]
     },
     "execution_count": 5,
     "metadata": {},
     "output_type": "execute_result"
    }
   ],
   "source": [
    "# 배정대입연산자 : 대입연산자와 산술연산자가 결합되어있을 때, 좌변과 우변에 동일변수\n",
    "a = 0  #==> 초기화, 선언문\n",
    "#a = a +10\n",
    "a += 10 #+=, -=, *=, /=, %=, **=\n",
    "a"
   ]
  },
  {
   "cell_type": "code",
   "execution_count": 65,
   "id": "beec3742",
   "metadata": {},
   "outputs": [
    {
     "data": {
      "text/plain": [
       "'안녕하세요!'"
      ]
     },
     "execution_count": 65,
     "metadata": {},
     "output_type": "execute_result"
    }
   ],
   "source": [
    "string = '안녕하세요'\n",
    "#string = string + '!'\n",
    "string += '!'\n",
    "string"
   ]
  },
  {
   "cell_type": "code",
   "execution_count": 66,
   "id": "969f4802",
   "metadata": {},
   "outputs": [],
   "source": [
    "#string = string * 3\n",
    "string *= 3"
   ]
  },
  {
   "cell_type": "code",
   "execution_count": 67,
   "id": "b98e2266",
   "metadata": {},
   "outputs": [
    {
     "data": {
      "text/plain": [
       "'안녕하세요!안녕하세요!안녕하세요!'"
      ]
     },
     "execution_count": 67,
     "metadata": {},
     "output_type": "execute_result"
    }
   ],
   "source": [
    "string"
   ]
  },
  {
   "cell_type": "markdown",
   "id": "4f2a8572",
   "metadata": {},
   "source": [
    "# 표준 임출력 함수 : 콘솔 환경 입출력\n",
    "- 콘솔(console) : 키보드와 모니터 \n",
    "- 표준 입력 함수 : input()\n",
    "- 표준 출력 함수 : print()"
   ]
  },
  {
   "cell_type": "code",
   "execution_count": 68,
   "id": "ebabf8ca",
   "metadata": {},
   "outputs": [
    {
     "name": "stdout",
     "output_type": "stream",
     "text": [
      "인사말을 입력하세요 :뭘봐!\n"
     ]
    },
    {
     "data": {
      "text/plain": [
       "'뭘봐!'"
      ]
     },
     "execution_count": 68,
     "metadata": {},
     "output_type": "execute_result"
    }
   ],
   "source": [
    "input('인사말을 입력하세요 :')"
   ]
  },
  {
   "cell_type": "code",
   "execution_count": 69,
   "id": "391dd09f",
   "metadata": {},
   "outputs": [
    {
     "name": "stdout",
     "output_type": "stream",
     "text": [
      "Hello\n"
     ]
    }
   ],
   "source": [
    "print('Hello')"
   ]
  },
  {
   "cell_type": "code",
   "execution_count": 70,
   "id": "28428d14",
   "metadata": {},
   "outputs": [
    {
     "name": "stdout",
     "output_type": "stream",
     "text": [
      "인사말을 입력하세요 :꺼져\n"
     ]
    }
   ],
   "source": [
    "string = input('인사말을 입력하세요 :')"
   ]
  },
  {
   "cell_type": "code",
   "execution_count": 72,
   "id": "8566d4a2",
   "metadata": {},
   "outputs": [
    {
     "data": {
      "text/plain": [
       "'꺼져'"
      ]
     },
     "execution_count": 72,
     "metadata": {},
     "output_type": "execute_result"
    }
   ],
   "source": [
    "string #print(string)"
   ]
  },
  {
   "cell_type": "code",
   "execution_count": 73,
   "id": "4e73454a",
   "metadata": {},
   "outputs": [
    {
     "name": "stdout",
     "output_type": "stream",
     "text": [
      "숫자입력 = 12345\n"
     ]
    },
    {
     "data": {
      "text/plain": [
       "'12345'"
      ]
     },
     "execution_count": 73,
     "metadata": {},
     "output_type": "execute_result"
    }
   ],
   "source": [
    "# input() 함수를 통해 입력된 데이터는 문자열형으로 간주한다.\n",
    "number = input('숫자입력 = ')\n",
    "number"
   ]
  },
  {
   "cell_type": "code",
   "execution_count": 74,
   "id": "b73f2e21",
   "metadata": {},
   "outputs": [
    {
     "data": {
      "text/plain": [
       "str"
      ]
     },
     "execution_count": 74,
     "metadata": {},
     "output_type": "execute_result"
    }
   ],
   "source": [
    "type(number)"
   ]
  },
  {
   "cell_type": "code",
   "execution_count": 76,
   "id": "12705b4b",
   "metadata": {},
   "outputs": [
    {
     "name": "stdout",
     "output_type": "stream",
     "text": [
      "첫 번째 수 = 10\n",
      "두 번째 수 = 20\n",
      "더하기 :  30\n"
     ]
    }
   ],
   "source": [
    "# 두 개의 숫자를 입력받아 사칙연산을 출력하는 프로그램을 구현하시오.\n",
    "first = int(input('첫 번째 수 = '))\n",
    "second = int(input('두 번째 수 = '))\n",
    "            \n",
    "print('더하기 : ', first + second)"
   ]
  },
  {
   "cell_type": "markdown",
   "id": "7ea423c3",
   "metadata": {},
   "source": [
    "# 형변환 : casting\n",
    "- 자료형을 다른 자료형으로 바꾸는 기능\n",
    "- 논리형(1byte) : 형변환 불가능\n",
    "- 형의 크기: 정수형 < 실수형 < 문자형\n",
    "- 자동형변환(묵시적형변환, promotion) : 작은 데이터(자료형)를 큰 공간(자료형)에 담을 때\n",
    "- 강제형변환(명시적형변환, casting) : 큰 데이터(자료형)를 작은 공간(자료형)에 담을 때 => (데이터 손실이 일어남)\n",
    "- int() : 문자열을 정수형으로 변환, 실수형을 정수형으로 변환\n",
    "- float() : 문자열을 실수형으로 변환, 정수형을 실수형으로 변환\n",
    "- str() : 정수 또는 실수형을 문자형으로 변환\n"
   ]
  },
  {
   "cell_type": "code",
   "execution_count": 77,
   "id": "35a91347",
   "metadata": {},
   "outputs": [
    {
     "ename": "ValueError",
     "evalue": "invalid literal for int() with base 10: '안녕하세요'",
     "output_type": "error",
     "traceback": [
      "\u001b[1;31m---------------------------------------------------------------------------\u001b[0m",
      "\u001b[1;31mValueError\u001b[0m                                Traceback (most recent call last)",
      "Input \u001b[1;32mIn [77]\u001b[0m, in \u001b[0;36m<cell line: 1>\u001b[1;34m()\u001b[0m\n\u001b[1;32m----> 1\u001b[0m \u001b[38;5;28;43mint\u001b[39;49m\u001b[43m(\u001b[49m\u001b[38;5;124;43m'\u001b[39;49m\u001b[38;5;124;43m안녕하세요\u001b[39;49m\u001b[38;5;124;43m'\u001b[39;49m\u001b[43m)\u001b[49m\n",
      "\u001b[1;31mValueError\u001b[0m: invalid literal for int() with base 10: '안녕하세요'"
     ]
    }
   ],
   "source": [
    "int('안녕하세요')"
   ]
  },
  {
   "cell_type": "code",
   "execution_count": 78,
   "id": "6c1c173b",
   "metadata": {},
   "outputs": [
    {
     "data": {
      "text/plain": [
       "1987"
      ]
     },
     "execution_count": 78,
     "metadata": {},
     "output_type": "execute_result"
    }
   ],
   "source": [
    "int('1987')"
   ]
  },
  {
   "cell_type": "code",
   "execution_count": 79,
   "id": "ef02ab85",
   "metadata": {},
   "outputs": [
    {
     "ename": "ValueError",
     "evalue": "invalid literal for int() with base 10: '52.273'",
     "output_type": "error",
     "traceback": [
      "\u001b[1;31m---------------------------------------------------------------------------\u001b[0m",
      "\u001b[1;31mValueError\u001b[0m                                Traceback (most recent call last)",
      "Input \u001b[1;32mIn [79]\u001b[0m, in \u001b[0;36m<cell line: 1>\u001b[1;34m()\u001b[0m\n\u001b[1;32m----> 1\u001b[0m \u001b[38;5;28;43mint\u001b[39;49m\u001b[43m(\u001b[49m\u001b[38;5;124;43m'\u001b[39;49m\u001b[38;5;124;43m52.273\u001b[39;49m\u001b[38;5;124;43m'\u001b[39;49m\u001b[43m)\u001b[49m\n",
      "\u001b[1;31mValueError\u001b[0m: invalid literal for int() with base 10: '52.273'"
     ]
    }
   ],
   "source": [
    "int('52.273') #=> 따옴표만 사라지므로 실수가 되어서 정수형으로 바로 변환이 될 수 없다."
   ]
  },
  {
   "cell_type": "code",
   "execution_count": 80,
   "id": "e0026d32",
   "metadata": {},
   "outputs": [
    {
     "data": {
      "text/plain": [
       "52.273"
      ]
     },
     "execution_count": 80,
     "metadata": {},
     "output_type": "execute_result"
    }
   ],
   "source": [
    "float('52.273')"
   ]
  },
  {
   "cell_type": "code",
   "execution_count": 81,
   "id": "98bf55b9",
   "metadata": {},
   "outputs": [],
   "source": [
    "\n",
    "# 초를 입력받아 시, 분, 초로 출력되는 프로그램 구현\n",
    "## 1min = 60sec, 1hour = 60min = 60 * 60sec\n",
    "## 7000초 => 시간, 분 ,초"
   ]
  },
  {
   "cell_type": "code",
   "execution_count": 113,
   "id": "3727e107",
   "metadata": {},
   "outputs": [
    {
     "name": "stdout",
     "output_type": "stream",
     "text": [
      "몇 inch 입니까? : 6\n",
      "15.24 cm 입니다.\n"
     ]
    }
   ],
   "source": [
    "# 단위 변환 1inch = 2.54cm 단위를 cm 단위로 변환하는 프로그램 구현\n",
    "answer = input('몇 inch 입니까? : ')\n",
    "float(answer)* 2.54 \n",
    "print(float(answer) * 2.54 , 'cm 입니다.')"
   ]
  },
  {
   "cell_type": "code",
   "execution_count": null,
   "id": "06cca784",
   "metadata": {},
   "outputs": [],
   "source": [
    "#정답\n",
    "\n",
    "10inch = 10 * 2.54 =25.4\n",
    "a =input(\"inch = \")\n",
    "res = a * 2.54"
   ]
  },
  {
   "cell_type": "code",
   "execution_count": 131,
   "id": "6660eaca",
   "metadata": {},
   "outputs": [
    {
     "name": "stdout",
     "output_type": "stream",
     "text": [
      "몇 초 입니까? : 7000\n",
      "1 시간 56 분 0 초 입니다.\n"
     ]
    }
   ],
   "source": [
    "ans = input('몇 초 입니까? : ')\n",
    "H = int(ans) / (60*60)\n",
    "m = int(ans) % (60*60) /60\n",
    "s = (int(ans) % (60*60) /60) / 60\n",
    "print( int(H) , '시간', int(m),'분',int(s),'초 입니다.')\n",
    "# 수정할 방법을 찾아보자!! 정답이 아니야"
   ]
  },
  {
   "cell_type": "code",
   "execution_count": 140,
   "id": "73490f49",
   "metadata": {},
   "outputs": [
    {
     "name": "stdout",
     "output_type": "stream",
     "text": [
      "몇 초 입니까? : 7000\n",
      "1 시간 56 분 40 초 입니다.\n"
     ]
    }
   ],
   "source": [
    "# 좀 더 쉽게 다시 풀기\n",
    "ans = float(input('몇 초 입니까? : '))\n",
    "H = ans // (60*60)\n",
    "m = ans % (60*60) // 60\n",
    "s = ans % (60*60) %60\n",
    "print( int(H) , '시간', int(m),'분',int(s),'초 입니다.')"
   ]
  },
  {
   "cell_type": "code",
   "execution_count": 126,
   "id": "a6597569",
   "metadata": {},
   "outputs": [
    {
     "name": "stdout",
     "output_type": "stream",
     "text": [
      "초를 입력하세요 = 7000\n",
      "1.0 56.0 40.0\n"
     ]
    }
   ],
   "source": [
    "#정답\n",
    "\n",
    "cho = float(input('초를 입력하세요 = '))\n",
    "sigan = cho // 3600 # 시간\n",
    "bun = cho % 3600\n",
    "minute = bun // 60 # 분\n",
    "sec = bun % 60\n",
    "print(sigan,minute,sec)\n"
   ]
  },
  {
   "cell_type": "code",
   "execution_count": null,
   "id": "1a28c9b3",
   "metadata": {},
   "outputs": [],
   "source": [
    "시간 = 1:15:20\n",
    "초 = 시간 * 60 * 60 =3600\n",
    "      분 * 60 =900\n",
    "      3600 + 900 +20 = 4520초\n",
    "        \n",
    "#거꾸로\n",
    "4520초 => 4520//(60*60) =1\n",
    "          (4520 % (60*60))/60 =920\n",
    "          920//60 = 15\n",
    "          920 %60 = 20초"
   ]
  },
  {
   "cell_type": "code",
   "execution_count": 105,
   "id": "803347ae",
   "metadata": {},
   "outputs": [
    {
     "data": {
      "text/plain": [
       "116.66666666666667"
      ]
     },
     "execution_count": 105,
     "metadata": {},
     "output_type": "execute_result"
    }
   ],
   "source": [
    "7000/ 60"
   ]
  },
  {
   "cell_type": "code",
   "execution_count": null,
   "id": "4e9648c4",
   "metadata": {},
   "outputs": [],
   "source": [
    "# 변수 선언, 변수 할당, 변수 참조"
   ]
  },
  {
   "cell_type": "code",
   "execution_count": 132,
   "id": "97f6c337",
   "metadata": {},
   "outputs": [
    {
     "data": {
      "text/plain": [
       "3.141592653589793"
      ]
     },
     "execution_count": 132,
     "metadata": {},
     "output_type": "execute_result"
    }
   ],
   "source": [
    "#원의 반지름을 입력받아 원의 둘레와 면적을 구하는 프로그램을 작성하시오.\n",
    "## 원주율 = 3.14\n",
    "## 원의 둘레 = 2 * 원주율 * 반지름\n",
    "## 원의 면적 = 반지름 * 반지름 * 원주율\n",
    "import math\n",
    "math.pi"
   ]
  },
  {
   "cell_type": "code",
   "execution_count": 138,
   "id": "4555a4f4",
   "metadata": {},
   "outputs": [
    {
     "name": "stdout",
     "output_type": "stream",
     "text": [
      "원의 반지름을 입력하세요: 5\n",
      "원의 둘레 :  31.41592653589793 원의 면적 : 78.53981633974483\n"
     ]
    }
   ],
   "source": [
    "r = float(input('원의 반지름을 입력하세요: '))\n",
    "rounds = r * math.pi * 2\n",
    "M = r * r * math.pi\n",
    "print('원의 둘레 : ',rounds, '원의 면적 :',M )"
   ]
  },
  {
   "cell_type": "markdown",
   "id": "d431a7c4",
   "metadata": {},
   "source": [
    "# 표준 출력 함수와 서식"
   ]
  },
  {
   "cell_type": "code",
   "execution_count": 145,
   "id": "86f779c0",
   "metadata": {},
   "outputs": [
    {
     "name": "stdout",
     "output_type": "stream",
     "text": [
      "1, 2, 3\n",
      "4,5,6\n",
      "HelloPython\n",
      "1920x1080\n"
     ]
    }
   ],
   "source": [
    "print(1,2,3, sep = ', ')\n",
    "print(4,5,6, sep = ',')\n",
    "print('Hello','Python', sep = '')\n",
    "print(1920, 1080, sep = 'x')"
   ]
  },
  {
   "cell_type": "code",
   "execution_count": 147,
   "id": "f6af0e88",
   "metadata": {},
   "outputs": [
    {
     "name": "stdout",
     "output_type": "stream",
     "text": [
      "Help on method raw_input in module ipykernel.kernelbase:\n",
      "\n",
      "raw_input(prompt='') method of ipykernel.ipkernel.IPythonKernel instance\n",
      "    Forward raw_input to frontends\n",
      "    \n",
      "    Raises\n",
      "    ------\n",
      "    StdinNotImplementedError if active frontend doesn't support stdin.\n",
      "\n"
     ]
    }
   ],
   "source": [
    "# 도움말 : help()\n",
    "help(input)"
   ]
  },
  {
   "cell_type": "code",
   "execution_count": 152,
   "id": "42d13258",
   "metadata": {},
   "outputs": [
    {
     "name": "stdout",
     "output_type": "stream",
     "text": [
      "9\n",
      "x =  9\n",
      "x = 9\n",
      "x =  9 y =  11\n",
      "x = 9, y = 11\n"
     ]
    }
   ],
   "source": [
    "x = 9\n",
    "y = 11\n",
    "# 형식화된 문자열.format(출력할 값)\n",
    "print(x)\n",
    "print('x = ', x)\n",
    "print('x = {0}'.format(x))\n",
    "print('x = ',x,'y = ',y)\n",
    "print('x = {0}, y = {1}'.format(x,y))"
   ]
  },
  {
   "cell_type": "code",
   "execution_count": 155,
   "id": "eb9a655b",
   "metadata": {},
   "outputs": [
    {
     "name": "stdout",
     "output_type": "stream",
     "text": [
      "실수 1: 3.074\n",
      "실수 2: 7.3\n",
      "실수 3: 2.67\n",
      "실수 4:     2.6667\n"
     ]
    }
   ],
   "source": [
    "# 서식기호와 함께 : %s(문자열), %d(정수형), %f(실수형)\n",
    "print('실수 1: {0:.3f}'.format(8.3/2.7)) # 소수 이하 3자리까지\n",
    "xx = 2.5 + 4.8\n",
    "print('실수 2: {0:.1f}'.format(xx)) #xx의 값을 가지고 오되 소수 이하 1자리까지만 출력한다.\n",
    "r= 8 / float(3)\n",
    "print('실수 3: {0:.2f}'.format(r))\n",
    "# 전체자릿수도 지정\n",
    "print('실수 4: {0:10.4f}'.format(8.0/3))"
   ]
  },
  {
   "cell_type": "code",
   "execution_count": 156,
   "id": "4a098eab",
   "metadata": {},
   "outputs": [
    {
     "data": {
      "text/plain": [
       "'10'"
      ]
     },
     "execution_count": 156,
     "metadata": {},
     "output_type": "execute_result"
    }
   ],
   "source": [
    "# 문자열의 formate() 함수\n",
    "\"{}\".format(10)"
   ]
  },
  {
   "cell_type": "code",
   "execution_count": 157,
   "id": "e99bebac",
   "metadata": {},
   "outputs": [
    {
     "data": {
      "text/plain": [
       "'10 20'"
      ]
     },
     "execution_count": 157,
     "metadata": {},
     "output_type": "execute_result"
    }
   ],
   "source": [
    "'{} {}'.format(10,20)"
   ]
  },
  {
   "cell_type": "code",
   "execution_count": 158,
   "id": "1b22e538",
   "metadata": {},
   "outputs": [],
   "source": [
    "str = \"{}\".format(10) # 할당 - 메모리에 담는다"
   ]
  },
  {
   "cell_type": "code",
   "execution_count": 159,
   "id": "a5f6a8c3",
   "metadata": {},
   "outputs": [
    {
     "data": {
      "text/plain": [
       "'10'"
      ]
     },
     "execution_count": 159,
     "metadata": {},
     "output_type": "execute_result"
    }
   ],
   "source": [
    "str # 참조"
   ]
  },
  {
   "cell_type": "code",
   "execution_count": 177,
   "id": "f1fc9437",
   "metadata": {},
   "outputs": [],
   "source": [
    "aa = \"{0:d}\".format(10) # 정수형 "
   ]
  },
  {
   "cell_type": "code",
   "execution_count": 178,
   "id": "94c618ea",
   "metadata": {},
   "outputs": [
    {
     "data": {
      "text/plain": [
       "'10'"
      ]
     },
     "execution_count": 178,
     "metadata": {},
     "output_type": "execute_result"
    }
   ],
   "source": [
    "aa"
   ]
  },
  {
   "cell_type": "code",
   "execution_count": 165,
   "id": "b7161996",
   "metadata": {},
   "outputs": [
    {
     "data": {
      "text/plain": [
       "'   10'"
      ]
     },
     "execution_count": 165,
     "metadata": {},
     "output_type": "execute_result"
    }
   ],
   "source": [
    "aa = '{0:5d}'.format(10)\n",
    "aa"
   ]
  },
  {
   "cell_type": "code",
   "execution_count": 167,
   "id": "555d0d31",
   "metadata": {},
   "outputs": [
    {
     "data": {
      "text/plain": [
       "'12.345'"
      ]
     },
     "execution_count": 167,
     "metadata": {},
     "output_type": "execute_result"
    }
   ],
   "source": [
    "bb = '{}'.format(12.345)\n",
    "bb"
   ]
  },
  {
   "cell_type": "code",
   "execution_count": 168,
   "id": "4f876be8",
   "metadata": {},
   "outputs": [
    {
     "data": {
      "text/plain": [
       "'12.345000'"
      ]
     },
     "execution_count": 168,
     "metadata": {},
     "output_type": "execute_result"
    }
   ],
   "source": [
    "bb = '{:f}'.format(12.345)\n",
    "bb"
   ]
  },
  {
   "cell_type": "code",
   "execution_count": 169,
   "id": "a3b28ea1",
   "metadata": {},
   "outputs": [
    {
     "data": {
      "text/plain": [
       "'      12.345000'"
      ]
     },
     "execution_count": 169,
     "metadata": {},
     "output_type": "execute_result"
    }
   ],
   "source": [
    "bb = '{:15f}'.format(12.345)\n",
    "bb"
   ]
  },
  {
   "cell_type": "code",
   "execution_count": 170,
   "id": "6210212a",
   "metadata": {},
   "outputs": [
    {
     "data": {
      "text/plain": [
       "'     +12.345000'"
      ]
     },
     "execution_count": 170,
     "metadata": {},
     "output_type": "execute_result"
    }
   ],
   "source": [
    "bb = '{:+15f}'.format(12.345)\n",
    "bb"
   ]
  },
  {
   "cell_type": "code",
   "execution_count": 171,
   "id": "58628305",
   "metadata": {},
   "outputs": [
    {
     "data": {
      "text/plain": [
       "'+0000012.345000'"
      ]
     },
     "execution_count": 171,
     "metadata": {},
     "output_type": "execute_result"
    }
   ],
   "source": [
    "bb = '{:+015f}'.format(12.345)\n",
    "bb"
   ]
  },
  {
   "cell_type": "code",
   "execution_count": 172,
   "id": "cc75cf23",
   "metadata": {},
   "outputs": [
    {
     "data": {
      "text/plain": [
       "'         12.345'"
      ]
     },
     "execution_count": 172,
     "metadata": {},
     "output_type": "execute_result"
    }
   ],
   "source": [
    "bb = '{:15.3f}'.format(12.345)\n",
    "bb "
   ]
  },
  {
   "cell_type": "code",
   "execution_count": 173,
   "id": "95d4c8d6",
   "metadata": {},
   "outputs": [
    {
     "data": {
      "text/plain": [
       "'          12.35'"
      ]
     },
     "execution_count": 173,
     "metadata": {},
     "output_type": "execute_result"
    }
   ],
   "source": [
    "bb = '{:15.2f}'.format(12.345) # 반올림이 가능하다\n",
    "bb"
   ]
  },
  {
   "cell_type": "code",
   "execution_count": 174,
   "id": "fe63f027",
   "metadata": {},
   "outputs": [
    {
     "data": {
      "text/plain": [
       "'           12.3'"
      ]
     },
     "execution_count": 174,
     "metadata": {},
     "output_type": "execute_result"
    }
   ],
   "source": [
    "bb = '{:15.1f}'.format(12.345) # 반올림이 가능하다\n",
    "bb"
   ]
  },
  {
   "cell_type": "markdown",
   "id": "96471123",
   "metadata": {},
   "source": [
    "### 표준 출력 함수 : print('문자열 or 서식')\n",
    "- 서식(format) : 데이터의 자료형과 데이터의 자릿수를 지정하는 형식\n",
    "- 열거연산자(,) \n",
    "- sep 매개변수 : print('출력내용','출력내용',sep=' - '), 구분자\n",
    "- end = \"\\n\" \n",
    "- %(나머지연산자)를 이용해서 형식 및 위치 지정"
   ]
  },
  {
   "cell_type": "code",
   "execution_count": 179,
   "id": "d7ed30bc",
   "metadata": {},
   "outputs": [
    {
     "name": "stdout",
     "output_type": "stream",
     "text": [
      "출력내용 출력내용\n"
     ]
    }
   ],
   "source": [
    "print('출력내용', '출력내용')"
   ]
  },
  {
   "cell_type": "code",
   "execution_count": 180,
   "id": "58679840",
   "metadata": {},
   "outputs": [
    {
     "name": "stdout",
     "output_type": "stream",
     "text": [
      "출력내용\n",
      "출력내용\n"
     ]
    }
   ],
   "source": [
    "print('출력내용')\n",
    "print('출력내용')"
   ]
  },
  {
   "cell_type": "code",
   "execution_count": 181,
   "id": "91b1f34f",
   "metadata": {},
   "outputs": [
    {
     "name": "stdout",
     "output_type": "stream",
     "text": [
      "출력내용\n",
      "\n",
      "출력내용\n"
     ]
    }
   ],
   "source": [
    "print('출력내용')\n",
    "print()\n",
    "print('출력내용')"
   ]
  },
  {
   "cell_type": "code",
   "execution_count": 182,
   "id": "23d3c244",
   "metadata": {},
   "outputs": [
    {
     "name": "stdout",
     "output_type": "stream",
     "text": [
      "출력내용,출력내용\n"
     ]
    }
   ],
   "source": [
    "print('출력내용', '출력내용', sep = ',')"
   ]
  },
  {
   "cell_type": "code",
   "execution_count": 183,
   "id": "2d518c92",
   "metadata": {},
   "outputs": [
    {
     "name": "stdout",
     "output_type": "stream",
     "text": [
      "출력내용출력내용\n"
     ]
    }
   ],
   "source": [
    "print('출력내용', end = '')\n",
    "print('출력내용')"
   ]
  },
  {
   "cell_type": "code",
   "execution_count": 187,
   "id": "e008948d",
   "metadata": {},
   "outputs": [
    {
     "data": {
      "text/plain": [
       "'12.35 - 7'"
      ]
     },
     "execution_count": 187,
     "metadata": {},
     "output_type": "execute_result"
    }
   ],
   "source": [
    "# 형식지정문자열을 이용해서 출력 위치 지정 : \"\".format() \n",
    "# string.format()\n",
    "bb = '{0:.2f} - {1:.0f}'.format(12.345,7.25)\n",
    "bb"
   ]
  },
  {
   "cell_type": "code",
   "execution_count": 188,
   "id": "672b692c",
   "metadata": {},
   "outputs": [
    {
     "name": "stdout",
     "output_type": "stream",
     "text": [
      "홍길동 33 187.45\n"
     ]
    }
   ],
   "source": [
    "# %기호 : %s(문자열), %d(정수형), %f(실수형)\n",
    "name = '홍길동'\n",
    "age = 33\n",
    "height = 187.45\n",
    "\n",
    "print(name, age, height)"
   ]
  },
  {
   "cell_type": "code",
   "execution_count": 189,
   "id": "41c3faa5",
   "metadata": {},
   "outputs": [
    {
     "name": "stdout",
     "output_type": "stream",
     "text": [
      "나이 :  33 세\n"
     ]
    }
   ],
   "source": [
    "print('나이 : ',age,'세')"
   ]
  },
  {
   "cell_type": "code",
   "execution_count": 190,
   "id": "10eeab60",
   "metadata": {},
   "outputs": [
    {
     "name": "stdout",
     "output_type": "stream",
     "text": [
      "나이 :33세\n"
     ]
    }
   ],
   "source": [
    "print('나이 :{}세'.format(age))"
   ]
  },
  {
   "cell_type": "code",
   "execution_count": 192,
   "id": "55038db8",
   "metadata": {},
   "outputs": [
    {
     "name": "stdout",
     "output_type": "stream",
     "text": [
      "나이 : 33 세\n"
     ]
    }
   ],
   "source": [
    "print('나이 : %d 세' % age)"
   ]
  },
  {
   "cell_type": "code",
   "execution_count": 193,
   "id": "c961e3bc",
   "metadata": {},
   "outputs": [
    {
     "name": "stdout",
     "output_type": "stream",
     "text": [
      "홍길동\n"
     ]
    }
   ],
   "source": [
    "print(name)"
   ]
  },
  {
   "cell_type": "code",
   "execution_count": 194,
   "id": "4ce4d7a7",
   "metadata": {},
   "outputs": [
    {
     "name": "stdout",
     "output_type": "stream",
     "text": [
      "홍길동은 내 친구\n"
     ]
    }
   ],
   "source": [
    "print(name , '은 내 친구',sep = '')"
   ]
  },
  {
   "cell_type": "code",
   "execution_count": 195,
   "id": "8f82064a",
   "metadata": {},
   "outputs": [
    {
     "name": "stdout",
     "output_type": "stream",
     "text": [
      "홍길동은 내친구\n"
     ]
    }
   ],
   "source": [
    "print('{}은 내친구'.format(name))"
   ]
  },
  {
   "cell_type": "code",
   "execution_count": 196,
   "id": "5c1964ad",
   "metadata": {},
   "outputs": [
    {
     "name": "stdout",
     "output_type": "stream",
     "text": [
      "홍길동       은 내친구\n"
     ]
    }
   ],
   "source": [
    "print('{:10s}은 내친구'.format(name))"
   ]
  },
  {
   "cell_type": "code",
   "execution_count": 197,
   "id": "b1826506",
   "metadata": {},
   "outputs": [
    {
     "name": "stdout",
     "output_type": "stream",
     "text": [
      "홍길동은 내 친구\n"
     ]
    }
   ],
   "source": [
    "print('%s은 내 친구' % name)"
   ]
  },
  {
   "cell_type": "code",
   "execution_count": 198,
   "id": "689abf1f",
   "metadata": {},
   "outputs": [
    {
     "name": "stdout",
     "output_type": "stream",
     "text": [
      "당첨확률 98%입니다\n"
     ]
    }
   ],
   "source": [
    "rate = 98\n",
    "print('당첨확률 {}%입니다'.format(rate))"
   ]
  },
  {
   "cell_type": "code",
   "execution_count": 202,
   "id": "bc0aebef",
   "metadata": {},
   "outputs": [
    {
     "ename": "TypeError",
     "evalue": "can only concatenate str (not \"int\") to str",
     "output_type": "error",
     "traceback": [
      "\u001b[1;31m---------------------------------------------------------------------------\u001b[0m",
      "\u001b[1;31mTypeError\u001b[0m                                 Traceback (most recent call last)",
      "Input \u001b[1;32mIn [202]\u001b[0m, in \u001b[0;36m<cell line: 1>\u001b[1;34m()\u001b[0m\n\u001b[1;32m----> 1\u001b[0m \u001b[38;5;28mprint\u001b[39m(\u001b[38;5;124;43m'\u001b[39;49m\u001b[38;5;124;43m당첨확률 \u001b[39;49m\u001b[38;5;124;43m'\u001b[39;49m\u001b[43m \u001b[49m\u001b[38;5;241;43m+\u001b[39;49m\u001b[43m \u001b[49m\u001b[43mrate\u001b[49m \u001b[38;5;241m+\u001b[39m \u001b[38;5;124m'\u001b[39m\u001b[38;5;124m%\u001b[39m\u001b[38;5;124m입니다\u001b[39m\u001b[38;5;124m'\u001b[39m)\n",
      "\u001b[1;31mTypeError\u001b[0m: can only concatenate str (not \"int\") to str"
     ]
    }
   ],
   "source": [
    "print('당첨확률 ' + rate + '%입니다')"
   ]
  },
  {
   "cell_type": "code",
   "execution_count": 204,
   "id": "b660b291",
   "metadata": {},
   "outputs": [
    {
     "name": "stdout",
     "output_type": "stream",
     "text": [
      "당첨확률은 98%입니다.\n"
     ]
    }
   ],
   "source": [
    "print('당첨확률은 %d%%입니다.' % (rate))"
   ]
  },
  {
   "cell_type": "code",
   "execution_count": 205,
   "id": "d2469234",
   "metadata": {},
   "outputs": [
    {
     "name": "stdout",
     "output_type": "stream",
     "text": [
      "원주율 :       3.14\n"
     ]
    }
   ],
   "source": [
    "pi = 3.141592\n",
    "print('원주율 : %10.2f' % pi) #=> 전체 자리 10자리, 소수 2째자리 까지 나타내게끔 한다."
   ]
  },
  {
   "cell_type": "code",
   "execution_count": 206,
   "id": "6b0f74f8",
   "metadata": {},
   "outputs": [
    {
     "name": "stdout",
     "output_type": "stream",
     "text": [
      "원주율 : 3.14\n"
     ]
    }
   ],
   "source": [
    "print('원주율 : %.2f' % pi)"
   ]
  },
  {
   "cell_type": "code",
   "execution_count": null,
   "id": "ee0923cb",
   "metadata": {},
   "outputs": [],
   "source": []
  }
 ],
 "metadata": {
  "kernelspec": {
   "display_name": "Python 3 (ipykernel)",
   "language": "python",
   "name": "python3"
  },
  "language_info": {
   "codemirror_mode": {
    "name": "ipython",
    "version": 3
   },
   "file_extension": ".py",
   "mimetype": "text/x-python",
   "name": "python",
   "nbconvert_exporter": "python",
   "pygments_lexer": "ipython3",
   "version": "3.9.12"
  },
  "toc": {
   "base_numbering": 1,
   "nav_menu": {},
   "number_sections": true,
   "sideBar": true,
   "skip_h1_title": false,
   "title_cell": "Table of Contents",
   "title_sidebar": "Contents",
   "toc_cell": false,
   "toc_position": {},
   "toc_section_display": true,
   "toc_window_display": false
  }
 },
 "nbformat": 4,
 "nbformat_minor": 5
}

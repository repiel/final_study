{
 "cells": [
  {
   "cell_type": "markdown",
   "id": "435c838f",
   "metadata": {},
   "source": [
    "### 변수 - 자료형 - 자료구조(리스트,튜플,딕셔너리)\n",
    "### 변수의 유효범위: 지역변수와 전역변수\n",
    "### 제어문 : 조건문과 반복문\n",
    "### 함수 : 기능별로 묶어놓은 명령어 집합\n",
    "### 클래스 : 함수를 묶어놓는 것."
   ]
  },
  {
   "cell_type": "code",
   "execution_count": null,
   "id": "4a6f29ee",
   "metadata": {},
   "outputs": [],
   "source": [
    "a = 10 # 변수의 할당 or 초기화(처음값)"
   ]
  },
  {
   "cell_type": "code",
   "execution_count": null,
   "id": "d973cf67",
   "metadata": {},
   "outputs": [],
   "source": [
    "print(a) # 변수의 참조"
   ]
  },
  {
   "cell_type": "code",
   "execution_count": null,
   "id": "77959071",
   "metadata": {},
   "outputs": [],
   "source": [
    "a = 10\n",
    "b = 20\n",
    "c = 30\n",
    "\n",
    "\n",
    "print(a)\n",
    "print(b)\n",
    "print(c)"
   ]
  },
  {
   "cell_type": "code",
   "execution_count": null,
   "id": "c4a61667",
   "metadata": {},
   "outputs": [],
   "source": [
    "# List(리스트) : 배열(Array)을 확장한 개념으로 서로 다른 자료형을 묶어서 관리하는 자료구조\n",
    "x = [a, b, c]   # 비어있는 리스트 하나를 할당\n",
    "\n",
    "# x.append(a)\n",
    "# x.append(b)\n",
    "# x.append(c)\n",
    "\n",
    "print(x)"
   ]
  },
  {
   "cell_type": "code",
   "execution_count": null,
   "id": "23f01733",
   "metadata": {},
   "outputs": [],
   "source": [
    "x[0]"
   ]
  },
  {
   "cell_type": "code",
   "execution_count": null,
   "id": "729c5886",
   "metadata": {},
   "outputs": [],
   "source": [
    "y = (a, b, c)\n",
    "# packing VS unpacking\n",
    "y "
   ]
  },
  {
   "cell_type": "code",
   "execution_count": null,
   "id": "bece4cee",
   "metadata": {},
   "outputs": [],
   "source": [
    "z = a, b, c\n",
    "z"
   ]
  },
  {
   "cell_type": "code",
   "execution_count": null,
   "id": "69674454",
   "metadata": {},
   "outputs": [],
   "source": [
    "xx = {}\n",
    "print(type(xx))"
   ]
  },
  {
   "cell_type": "code",
   "execution_count": null,
   "id": "11550ad4",
   "metadata": {},
   "outputs": [],
   "source": [
    "yy = {10, 20, 30}\n",
    "print(type(yy))"
   ]
  },
  {
   "cell_type": "code",
   "execution_count": null,
   "id": "d7b6ed9e",
   "metadata": {},
   "outputs": [],
   "source": [
    "zz = dict()\n",
    "print(type(zz))"
   ]
  },
  {
   "cell_type": "code",
   "execution_count": null,
   "id": "15091dae",
   "metadata": {},
   "outputs": [],
   "source": [
    "aa = list()   # 리스트\n",
    "bb = tuple()  # 튜플\n",
    "cc = set()    # 집합\n",
    "dd = dict()   # 사전"
   ]
  },
  {
   "cell_type": "code",
   "execution_count": null,
   "id": "36ab761b",
   "metadata": {},
   "outputs": [],
   "source": [
    "x = 10    # 전역변수\n",
    "\n",
    "def aaa():\n",
    "    x = 1 # 지역변수\n",
    "    print('x = ', x) # 1\n",
    "    \n",
    "print('x = ', x) # 10\n",
    "\n",
    "def bbb():\n",
    "    y = 2 # 지역변수\n",
    "    print('x = ', x)\n",
    "    print('y = ', y)\n",
    "    \n",
    "print('y = ', y)"
   ]
  },
  {
   "cell_type": "code",
   "execution_count": null,
   "id": "159872b1",
   "metadata": {},
   "outputs": [],
   "source": [
    "k = [('aaa', 10, 12.5), ('bbb', 20, 30.7), ('ccc', 30, 18.9)]\n",
    "print(k)"
   ]
  },
  {
   "cell_type": "code",
   "execution_count": null,
   "id": "d646145d",
   "metadata": {},
   "outputs": [],
   "source": [
    "class AAA:\n",
    "    \n",
    "    \n",
    "    def __init__(self, name, no, jumsu):  # 생성자 메서드 - 객체가 생성될 때 호출되는 메서드\n",
    "        self.name = name\n",
    "        self.no = no\n",
    "        self.jumsu = jumsu\n",
    "        \n",
    "    def disp(self):\n",
    "        print(self.name, self.no, self.jumsu)\n",
    "        \n",
    "        \n",
    "    def getName(self):\n",
    "        return self.name\n",
    "    \n",
    "    def __del__(self): # 소멸자 메서드 - 생략가능\n",
    "        print('AAA 객체 소멸자 호출')\n",
    "        "
   ]
  },
  {
   "cell_type": "markdown",
   "id": "f6e2dba5",
   "metadata": {},
   "source": [
    "class ap:\n",
    " name 'aaa' \n",
    " no = 10 \n",
    " jumsu = 12.5\n",
    " \n",
    "     def disp(self):\n",
    "        print(self.name, self.no, self.jumsu)\n",
    "        \n",
    "        \n",
    "    def getName(self):\n",
    "        return self.name"
   ]
  },
  {
   "cell_type": "markdown",
   "id": "1ff00c71",
   "metadata": {},
   "source": [
    "class bp:\n",
    " name 'bbb' \n",
    " no = 20 \n",
    " jumsu = 30.7\n",
    " \n",
    "     def disp(self):\n",
    "        print(self.name, self.no, self.jumsu)\n",
    "        \n",
    "        \n",
    "    def getName(self):\n",
    "        return self.name"
   ]
  },
  {
   "cell_type": "code",
   "execution_count": null,
   "id": "de439d5a",
   "metadata": {},
   "outputs": [],
   "source": [
    "ap"
   ]
  },
  {
   "cell_type": "code",
   "execution_count": null,
   "id": "a467daf6",
   "metadata": {},
   "outputs": [],
   "source": [
    "ap.name\n",
    "ap.disp()"
   ]
  },
  {
   "cell_type": "code",
   "execution_count": null,
   "id": "c0f21495",
   "metadata": {},
   "outputs": [],
   "source": [
    "ap = AAA('aaa', 10, 12.5) # 인스턴스 객체. ap는 값이 아니라 주소를 가지고 있다.\n",
    "bp = AAA('bbb', 20, 30.7)\n",
    "cp = AAA('ccc', 30, 18.9)\n",
    "\n",
    "print(ap.disp())\n",
    "print(bp.disp())\n",
    "print(cp.disp())"
   ]
  },
  {
   "cell_type": "code",
   "execution_count": null,
   "id": "0a3cf590",
   "metadata": {},
   "outputs": [],
   "source": [
    "xxx = [ap, bp, cp]\n",
    "yyy = [AAA('aaa', 10, 12.5), AAA('bbb', 20, 30.7), AAA('ccc', 30, 18.9)]"
   ]
  },
  {
   "cell_type": "code",
   "execution_count": null,
   "id": "e0bdb527",
   "metadata": {},
   "outputs": [],
   "source": [
    "print(xxx)\n",
    "print(yyy)"
   ]
  },
  {
   "cell_type": "code",
   "execution_count": null,
   "id": "86cbba60",
   "metadata": {},
   "outputs": [],
   "source": [
    "print(xxx[0])"
   ]
  },
  {
   "cell_type": "code",
   "execution_count": null,
   "id": "d99607c7",
   "metadata": {},
   "outputs": [],
   "source": [
    "print(yyy[0].disp())\n",
    "print(yyy[1].disp())\n",
    "print(yyy[2].disp())  "
   ]
  },
  {
   "cell_type": "code",
   "execution_count": null,
   "id": "e1cb7447",
   "metadata": {},
   "outputs": [],
   "source": [
    "for i in range(3):\n",
    "    print(yyy[i].disp())"
   ]
  },
  {
   "cell_type": "code",
   "execution_count": null,
   "id": "a4d552ab",
   "metadata": {},
   "outputs": [],
   "source": [
    "xxx[1].name"
   ]
  },
  {
   "cell_type": "code",
   "execution_count": null,
   "id": "774e62a1",
   "metadata": {},
   "outputs": [],
   "source": [
    "xxx[1].getName()"
   ]
  },
  {
   "cell_type": "code",
   "execution_count": null,
   "id": "124783bd",
   "metadata": {},
   "outputs": [],
   "source": [
    "# 원을 객체로 하는 클래스 Circle을 구현하시오\n",
    "# 반지름을 입력받을 수 있도록 구현하시오.\n",
    "# 반지름을 출력할 수 있도록 구현하시오.\n",
    "# 원의 면적을 계산하여 출력할 수 있도록 구현하시오."
   ]
  },
  {
   "cell_type": "code",
   "execution_count": null,
   "id": "bb121460",
   "metadata": {},
   "outputs": [],
   "source": [
    "class Circle:\n",
    "    \n",
    "    def setRadius(self, radius):\n",
    "        self.radius = radius\n",
    "        \n",
    "    def getRadius(self):\n",
    "        return self.radius\n",
    "    \n",
    "    def getArea(self):\n",
    "        return self.radius * self.radius * 3.14 "
   ]
  },
  {
   "cell_type": "code",
   "execution_count": null,
   "id": "8c848e52",
   "metadata": {},
   "outputs": [],
   "source": [
    "# 인스턴스 객체 생성 : 생성자 메서드 호출, 디폴트(default) 생성자\n",
    "c1 = Circle()\n",
    "\n",
    "# 반지름 입력\n",
    "c1.setRadius(5)\n",
    "\n",
    "# 반지름 출력\n",
    "print(c1.getRadius())\n",
    "\n",
    "# 원의 면적 출력\n",
    "print(c1.getArea())"
   ]
  },
  {
   "cell_type": "code",
   "execution_count": null,
   "id": "5b13dec7",
   "metadata": {},
   "outputs": [],
   "source": [
    "c2 = Circle()\n",
    "\n",
    "radius = int(input('반지름 = '))\n",
    "c2.setRadius(radius)\n",
    "\n",
    "print(c2.getRadius())\n",
    "\n",
    "print(c2.getArea())"
   ]
  },
  {
   "cell_type": "code",
   "execution_count": null,
   "id": "e0e38cc7",
   "metadata": {},
   "outputs": [],
   "source": [
    "# 다섯 개의 반지름을 입력받아 원의 면적을 계산하되, 원의 면적이 100이상 200이하에 해당하는\n",
    "# 반지름이 출력되도록 프로그램을 구현하시오."
   ]
  },
  {
   "cell_type": "code",
   "execution_count": null,
   "id": "fa846c19",
   "metadata": {},
   "outputs": [],
   "source": [
    "# 다섯번 반복(for문), 원의 면적 100이상 200이하 (if문과 and??)"
   ]
  },
  {
   "cell_type": "code",
   "execution_count": null,
   "id": "5ec7d145",
   "metadata": {},
   "outputs": [],
   "source": [
    "class Circle:\n",
    "    \n",
    "    def setRadius(self, radius):\n",
    "        self.radius = radius\n",
    "        \n",
    "    def getRadius(self):\n",
    "        return self.radius\n",
    "    \n",
    "    def getArea(self):\n",
    "        return self.radius * self.radius * 3.14 "
   ]
  },
  {
   "cell_type": "code",
   "execution_count": null,
   "id": "08c9d230",
   "metadata": {},
   "outputs": [],
   "source": [
    "c = Circle()\n",
    "for i in range(5):\n",
    "    i = int(input('반지름 = '))\n",
    "    c.setRadius(i)\n",
    "    if c.getArea() >= 100 and c.getArea() <= 200:\n",
    "        print('반지름 = ',c.getRadius())\n",
    "    else:\n",
    "        print('범위에 맞지 않습니다.')\n",
    "    "
   ]
  },
  {
   "cell_type": "markdown",
   "id": "c8bf1342",
   "metadata": {},
   "source": [
    "##### 성적처리 프로그램"
   ]
  },
  {
   "cell_type": "code",
   "execution_count": null,
   "id": "2fa7a562",
   "metadata": {},
   "outputs": [],
   "source": [
    "# 한 명의 성적을 입력받아 총점과 평균을 출력하는 프로그램\n",
    "# 단, 평균은 소수점이하 둘째자리까지 표현할 것\n",
    "name = 'aaa'\n",
    "kor = 90\n",
    "eng = 87\n",
    "math = 72\n",
    "\n",
    "tot = kor + eng + math\n",
    "avg = tot / 3\n",
    "\n",
    "print('%s님의 총점은 %d이고, 평균은 %.2f입니다.' % (name, tot, avg))"
   ]
  },
  {
   "cell_type": "code",
   "execution_count": null,
   "id": "93037039",
   "metadata": {},
   "outputs": [],
   "source": [
    "name = input('name = ')\n",
    "kor = int(input(\"kor = \"))\n",
    "eng = int(input('eng = '))\n",
    "math = int(input('math = '))\n",
    "\n",
    "tot = kor + eng + math\n",
    "avg = tot / 3\n",
    "\n",
    "print('%s님의 총점은 %d이고, 평균은 %.2f입니다.' % (name, tot, avg))"
   ]
  },
  {
   "cell_type": "code",
   "execution_count": null,
   "id": "96f3cedf",
   "metadata": {},
   "outputs": [],
   "source": [
    "# 학점 : A학점, B학점, C학점, D학점, F학점으로 구분한다.\n",
    "# 평균이 90이상,.....\n",
    "\n",
    "name = input('name = ')\n",
    "kor = int(input(\"kor = \"))\n",
    "eng = int(input('eng = '))\n",
    "math = int(input('math = '))\n",
    "\n",
    "tot = kor + eng + math\n",
    "avg = tot / 3\n",
    "\n",
    "if avg > 90:\n",
    "    grade = 'A학점'\n",
    "elif avg > 80:\n",
    "    grade = 'B학점'\n",
    "elif avg > 70:\n",
    "    grade = 'C학점'\n",
    "elif avg > 60:\n",
    "    grade = 'D학점'\n",
    "else:\n",
    "    grade = 'F학점'\n",
    "\n",
    "    \n",
    "\n",
    "print('%s님의 총점은 %d이고, 평균은 %.2f이며 학점은 %s입니다.' % (name, tot, avg, grade))"
   ]
  },
  {
   "cell_type": "code",
   "execution_count": null,
   "id": "fb98bf92",
   "metadata": {},
   "outputs": [],
   "source": [
    "##해답\n",
    "### 3명의 학생에 대한 값을 담을 자료구조 리스트를 선언\n",
    "\n",
    "\n",
    "for i in range(3):\n",
    "    name = input('name = ')\n",
    "    kor = int(input(\"kor = \"))\n",
    "    eng = int(input('eng = '))\n",
    "    math = int(input('math = '))\n",
    "\n",
    "    tot = kor + eng + math\n",
    "    avg = tot / 3\n",
    "\n",
    "    if avg > 90:\n",
    "        grade = 'A학점'\n",
    "    elif avg > 80:\n",
    "        grade = 'B학점'\n",
    "    elif avg > 70:\n",
    "        grade = 'C학점'\n",
    "    elif avg > 60:\n",
    "        grade = 'D학점'\n",
    "    else:\n",
    "        grade = 'F학점'\n",
    "   \n",
    "    \n",
    "\n",
    "    print('%s님의 총점은 %d이고, 평균은 %.2f이며 학점은 %s입니다.' % (name, tot, avg, grade))"
   ]
  },
  {
   "cell_type": "code",
   "execution_count": 5,
   "id": "5897c4d4",
   "metadata": {},
   "outputs": [
    {
     "ename": "SyntaxError",
     "evalue": "unexpected EOF while parsing (2635007814.py, line 78)",
     "output_type": "error",
     "traceback": [
      "\u001b[1;36m  Input \u001b[1;32mIn [5]\u001b[1;36m\u001b[0m\n\u001b[1;33m    print('%s님의 총점은 %d이고, 평균은 %.2f이며 학점은 %s입니다.' % (students[i][0], students[i][1], students[i][2], students[i][3])\u001b[0m\n\u001b[1;37m                                                                                                                   ^\u001b[0m\n\u001b[1;31mSyntaxError\u001b[0m\u001b[1;31m:\u001b[0m unexpected EOF while parsing\n"
     ]
    }
   ],
   "source": [
    "# 세 명의 성적을 입력받아 출력하는 프로그램을 구현하시오\n",
    "students = []\n",
    "\n",
    "name = input('name = ')\n",
    "kor = int(input(\"kor = \"))\n",
    "eng = int(input('eng = '))\n",
    "math = int(input('math = '))\n",
    "\n",
    "\n",
    "\n",
    "name1 = input('name1 = ')\n",
    "kor1 = int(input(\"kor1 = \"))\n",
    "eng1 = int(input('eng1 = '))\n",
    "math1 = int(input('math1 = '))\n",
    "\n",
    "\n",
    "\n",
    "name2 = input('name2 = ')\n",
    "kor2 = int(input(\"kor2 = \"))\n",
    "eng2 = int(input('eng2 = '))\n",
    "math2 = int(input('math2 = '))\n",
    "\n",
    "tot = kor + eng + math\n",
    "tot1 = kor1 + eng1 + math1\n",
    "tot2 = kor2 + eng2 + math2\n",
    "\n",
    "avg = tot / 3\n",
    "avg1 = tot1 / 3\n",
    "avg2 = tot2 / 3\n",
    "\n",
    "\n",
    "\n",
    "if avg > 90:\n",
    "    grade = 'A학점'\n",
    "elif avg > 80:\n",
    "    grade = 'B학점'\n",
    "elif avg > 70:\n",
    "    grade = 'C학점'\n",
    "elif avg > 60:\n",
    "    grade = 'D학점'\n",
    "else:\n",
    "    grade = 'F학점'\n",
    "    \n",
    "#print('%s님의 총점은 %d이고, 평균은 %.2f이며 학점은 %s입니다.' % (name, tot, avg, grade))\n",
    "\n",
    "if avg1 > 90:\n",
    "    grade = 'A학점'\n",
    "elif avg1 > 80:\n",
    "    grade = 'B학점'\n",
    "elif avg1 > 70:\n",
    "    grade = 'C학점'\n",
    "elif avg1 > 60:\n",
    "    grade = 'D학점'\n",
    "else:\n",
    "    grade = 'F학점'\n",
    "#print('%s님의 총점은 %d이고, 평균은 %.2f이며 학점은 %s입니다.' % (name1, tot1, avg1, grade))\n",
    "    \n",
    "if avg2 > 90:\n",
    "    grade = 'A학점'\n",
    "elif avg2 > 80:\n",
    "    grade = 'B학점'\n",
    "elif avg2 > 70:\n",
    "    grade = 'C학점'\n",
    "elif avg2 > 60:\n",
    "    grade = 'D학점'\n",
    "else:\n",
    "    grade = 'F학점'\n",
    "    \n",
    "\n",
    "\n",
    "#print('%s님의 총점은 %d이고, 평균은 %.2f이며 학점은 %s입니다.' % (name2, tot2, avg2, grade))\n",
    "  \n",
    "\n",
    "student : [name, tot, avg, grade]\n",
    "students.append(student)    \n",
    "\n",
    "for i in range(3):\n",
    "    print('%s님의 총점은 %d이고, 평균은 %.2f이며 학점은 %s입니다.' % (students[i][0], students[i][1], students[i][2], students[i][3])"
   ]
  },
  {
   "cell_type": "code",
   "execution_count": 12,
   "id": "23c04ff2",
   "metadata": {},
   "outputs": [],
   "source": [
    "# 전체 학생에 대한 점수를 담을 리스트 선언\n",
    "\n",
    "students = list()\n",
    "\n",
    "class Student:\n",
    "    \n",
    "    def adder(self):\n",
    "        self.name = input('name = ')\n",
    "        self.kor = int(input(\"kor = \"))\n",
    "        self.eng = int(input('eng = '))\n",
    "        self.math = int(input('math = '))\n",
    "        \n",
    "    def compute(self):\n",
    "        self.tot = self.kor + self.eng + self.math\n",
    "        self.avg = self.tot / 3\n",
    "        \n",
    "        if self.avg > 90:\n",
    "            self.grade = 'A학점'\n",
    "        elif self.avg > 80:\n",
    "            self.grade = 'B학점'\n",
    "        elif self.avg > 70:\n",
    "            self.grade = 'C학점'\n",
    "        elif self.avg > 60:\n",
    "            self.grade = 'D학점'\n",
    "        else:\n",
    "            self.grade = 'F학점'\n",
    "            \n",
    "    def disp(self):\n",
    "        return '%s님의 총점은 %d이고, 평균은 %.2f이며 학점은 %s입니다.' % (\n",
    "               self.name, self.tot, self.avg, self.grade )\n",
    "\n"
   ]
  },
  {
   "cell_type": "code",
   "execution_count": 13,
   "id": "1f3460e5",
   "metadata": {},
   "outputs": [
    {
     "name": "stdout",
     "output_type": "stream",
     "text": [
      "name = 1\n",
      "kor = 1\n",
      "eng = 1\n",
      "math = 1\n",
      "name = 1\n",
      "kor = 1\n",
      "eng = 1\n",
      "math = \n"
     ]
    },
    {
     "ename": "ValueError",
     "evalue": "invalid literal for int() with base 10: ''",
     "output_type": "error",
     "traceback": [
      "\u001b[1;31m---------------------------------------------------------------------------\u001b[0m",
      "\u001b[1;31mValueError\u001b[0m                                Traceback (most recent call last)",
      "Input \u001b[1;32mIn [13]\u001b[0m, in \u001b[0;36m<cell line: 2>\u001b[1;34m()\u001b[0m\n\u001b[0;32m      2\u001b[0m \u001b[38;5;28;01mfor\u001b[39;00m i \u001b[38;5;129;01min\u001b[39;00m \u001b[38;5;28mrange\u001b[39m(\u001b[38;5;241m3\u001b[39m):\n\u001b[0;32m      3\u001b[0m     s \u001b[38;5;241m=\u001b[39m Student()\n\u001b[1;32m----> 4\u001b[0m     \u001b[43ms\u001b[49m\u001b[38;5;241;43m.\u001b[39;49m\u001b[43madder\u001b[49m\u001b[43m(\u001b[49m\u001b[43m)\u001b[49m\n\u001b[0;32m      5\u001b[0m     s\u001b[38;5;241m.\u001b[39mcompute()\n\u001b[0;32m      6\u001b[0m     students\u001b[38;5;241m.\u001b[39mappend(s)\n",
      "Input \u001b[1;32mIn [12]\u001b[0m, in \u001b[0;36mStudent.adder\u001b[1;34m(self)\u001b[0m\n\u001b[0;32m      9\u001b[0m \u001b[38;5;28mself\u001b[39m\u001b[38;5;241m.\u001b[39mkor \u001b[38;5;241m=\u001b[39m \u001b[38;5;28mint\u001b[39m(\u001b[38;5;28minput\u001b[39m(\u001b[38;5;124m\"\u001b[39m\u001b[38;5;124mkor = \u001b[39m\u001b[38;5;124m\"\u001b[39m))\n\u001b[0;32m     10\u001b[0m \u001b[38;5;28mself\u001b[39m\u001b[38;5;241m.\u001b[39meng \u001b[38;5;241m=\u001b[39m \u001b[38;5;28mint\u001b[39m(\u001b[38;5;28minput\u001b[39m(\u001b[38;5;124m'\u001b[39m\u001b[38;5;124meng = \u001b[39m\u001b[38;5;124m'\u001b[39m))\n\u001b[1;32m---> 11\u001b[0m \u001b[38;5;28mself\u001b[39m\u001b[38;5;241m.\u001b[39mmath \u001b[38;5;241m=\u001b[39m \u001b[38;5;28;43mint\u001b[39;49m\u001b[43m(\u001b[49m\u001b[38;5;28;43minput\u001b[39;49m\u001b[43m(\u001b[49m\u001b[38;5;124;43m'\u001b[39;49m\u001b[38;5;124;43mmath = \u001b[39;49m\u001b[38;5;124;43m'\u001b[39;49m\u001b[43m)\u001b[49m\u001b[43m)\u001b[49m\n",
      "\u001b[1;31mValueError\u001b[0m: invalid literal for int() with base 10: ''"
     ]
    }
   ],
   "source": [
    "# 3명의 점수를 입력받고 계산 후 객체를 리스트에 담는 작업\n",
    "for i in range(3):\n",
    "    s = Student()\n",
    "    s.adder()\n",
    "    s.compute()\n",
    "    students.append(s)\n",
    "    \n",
    "# 입력받은 학생의 결과를 출력\n",
    "for i in students:\n",
    "    print(i.disp())"
   ]
  },
  {
   "cell_type": "code",
   "execution_count": null,
   "id": "d9df3ff8",
   "metadata": {},
   "outputs": [],
   "source": []
  }
 ],
 "metadata": {
  "kernelspec": {
   "display_name": "Python 3 (ipykernel)",
   "language": "python",
   "name": "python3"
  },
  "language_info": {
   "codemirror_mode": {
    "name": "ipython",
    "version": 3
   },
   "file_extension": ".py",
   "mimetype": "text/x-python",
   "name": "python",
   "nbconvert_exporter": "python",
   "pygments_lexer": "ipython3",
   "version": "3.9.12"
  },
  "toc": {
   "base_numbering": 1,
   "nav_menu": {},
   "number_sections": true,
   "sideBar": true,
   "skip_h1_title": false,
   "title_cell": "Table of Contents",
   "title_sidebar": "Contents",
   "toc_cell": false,
   "toc_position": {},
   "toc_section_display": true,
   "toc_window_display": false
  }
 },
 "nbformat": 4,
 "nbformat_minor": 5
}

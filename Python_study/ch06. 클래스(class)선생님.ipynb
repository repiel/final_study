{
 "cells": [
  {
   "cell_type": "markdown",
   "id": "9d806597",
   "metadata": {},
   "source": [
    "### 객체 지향 프로그래밍(OOP, Object Oriented Programming)\n",
    "- 객체(Object)를 중심으로 프로그램을 구현하거나 생각하는 것\n",
    "- 클래스(class) 기반의 객체 지향 프로그래밍 언어는 클래스를 기반으로 객체를 만들고, 그 객체를 중심으로 프로그램을 구현한다."
   ]
  },
  {
   "cell_type": "markdown",
   "id": "25fd81c9",
   "metadata": {},
   "source": [
    "##### 1단계 : 학생정보를 받아 총점과 평균을 계산하여 출력하는 프로그램"
   ]
  },
  {
   "cell_type": "code",
   "execution_count": 1,
   "id": "42550328",
   "metadata": {
    "ExecuteTime": {
     "end_time": "2022-09-06T00:21:31.066051Z",
     "start_time": "2022-09-06T00:21:31.040951Z"
    }
   },
   "outputs": [
    {
     "name": "stdout",
     "output_type": "stream",
     "text": [
      "이름\t총점\t평균\n",
      "홍길동\t368\t92.0\n",
      "장보고\t376\t94.0\n",
      "유관순\t379\t94.75\n",
      "김유신\t362\t90.5\n",
      "이순신\t370\t92.5\n"
     ]
    }
   ],
   "source": [
    "# 학생들 정보를 담고 있는 리스트\n",
    "# 리스트에 요소는 사전(딕셔너리)을 사용\n",
    "students =[\n",
    "    {'name':'홍길동', 'kor':87, 'eng':88, 'math':98, 'sci':95},\n",
    "    {'name':'장보고', 'kor':92, 'eng':98, 'math':96, 'sci':90},\n",
    "    {'name':'유관순', 'kor':99, 'eng':92, 'math':99, 'sci':89},\n",
    "    {'name':'김유신', 'kor':95, 'eng':89, 'math':88, 'sci':90},\n",
    "    {'name':'이순신', 'kor':99, 'eng':80, 'math':92, 'sci':99}\n",
    "]\n",
    "\n",
    "# 구조체 => 클래스\n",
    "\n",
    "# 학생정보를 한명씩 반복해서 출력하는 로직\n",
    "print(\"이름\", \"총점\", \"평균\", sep=\"\\t\") # sep = \"\\t\" 구분자, end = \"\\n\"\n",
    "\n",
    "# for 개변변수 in 집합변수\n",
    "for student in students:\n",
    "    # student 의 자료형은 사전이다.\n",
    "    # 사전은 키를 이용해서 값을 조회한다.\n",
    "    score_sum = student['kor'] + student['eng'] + student['math'] + student['sci']\n",
    "    score_avg = score_sum / 4\n",
    "    \n",
    "    # 계산된 학생 한명의 정보를 출력\n",
    "    print(student['name'], score_sum, score_avg, sep=\"\\t\")"
   ]
  },
  {
   "cell_type": "markdown",
   "id": "915f3372",
   "metadata": {},
   "source": [
    "##### 2단계 : 함수(Function)로 구현\n",
    "- 함수 : 여러 명령이나 기능을 하나로 묶어서 관리하는 것, 명령어 집합(덩어리)"
   ]
  },
  {
   "cell_type": "code",
   "execution_count": 2,
   "id": "97143265",
   "metadata": {
    "ExecuteTime": {
     "end_time": "2022-09-06T00:30:55.280292Z",
     "start_time": "2022-09-06T00:30:55.264839Z"
    }
   },
   "outputs": [
    {
     "name": "stdout",
     "output_type": "stream",
     "text": [
      "이름\t총점\t평균\n",
      "홍길동\t368\t92.0\n",
      "장보고\t376\t94.0\n",
      "유관순\t379\t94.75\n",
      "김유신\t362\t90.5\n",
      "이순신\t370\t92.5\n"
     ]
    }
   ],
   "source": [
    "# 학생 한명에 대한 정보를 만드는 함수를 구현\n",
    "# 학생 정보를 입력받아 사전으로 변환하여 되돌려주는 역할을 수행하는 함수를 선언\n",
    "def create_student(name, kor, eng, math, sci):\n",
    "    return {\n",
    "        'name':name,\n",
    "        'kor':kor,\n",
    "        'eng':eng,\n",
    "        'math':math,\n",
    "        'sci':sci\n",
    "    }\n",
    "\n",
    "# 학생정보를 담은 리스트를 구현\n",
    "students = [\n",
    "    create_student('홍길동', 87, 88, 98, 95),\n",
    "    create_student('장보고', 92, 98, 96, 90),\n",
    "    create_student('유관순', 99, 92, 99, 89),\n",
    "    create_student('김유신', 95, 89, 88, 90),\n",
    "    create_student('이순신', 99, 80, 92, 99)\n",
    "]\n",
    "\n",
    "# 학생정보를 한명씩 반복해서 출력하는 로직\n",
    "print(\"이름\", \"총점\", \"평균\", sep=\"\\t\") # sep = \"\\t\" 구분자, end = \"\\n\"\n",
    "\n",
    "# for 개변변수 in 집합변수\n",
    "for student in students:\n",
    "    # 총점과 평균을 계산하는 로직\n",
    "    score_sum = student['kor'] + student['eng'] + student['math'] + student['sci']\n",
    "    score_avg = score_sum / 4\n",
    "    \n",
    "    # 계산된 학생 한명의 정보를 출력\n",
    "    print(student['name'], score_sum, score_avg, sep=\"\\t\")"
   ]
  },
  {
   "cell_type": "markdown",
   "id": "4d9a2bf8",
   "metadata": {},
   "source": [
    "##### 3단계 : 프로그램의 확장과 유지보수를 위해 기능별 함수 구현"
   ]
  },
  {
   "cell_type": "code",
   "execution_count": 3,
   "id": "b23b8e92",
   "metadata": {
    "ExecuteTime": {
     "end_time": "2022-09-06T00:45:36.729057Z",
     "start_time": "2022-09-06T00:45:36.711630Z"
    }
   },
   "outputs": [
    {
     "name": "stdout",
     "output_type": "stream",
     "text": [
      "이름\t총점\t평균\n",
      "홍길동\t368\t92.0\n",
      "장보고\t376\t94.0\n",
      "유관순\t379\t94.75\n",
      "김유신\t362\t90.5\n",
      "이순신\t370\t92.5\n"
     ]
    }
   ],
   "source": [
    "# 사전으로 변환하여 리턴하는 함수 : 학생정보를 입력받아\n",
    "def create_student(name, kor, eng, math, sci):\n",
    "    return {\n",
    "        'name':name,\n",
    "        'kor':kor,\n",
    "        'eng':eng,\n",
    "        'math':math,\n",
    "        'sci':sci\n",
    "    }\n",
    "\n",
    "# 학생정보를 담은 리스트를 구현\n",
    "students = [\n",
    "    create_student('홍길동', 87, 88, 98, 95),\n",
    "    create_student('장보고', 92, 98, 96, 90),\n",
    "    create_student('유관순', 99, 92, 99, 89),\n",
    "    create_student('김유신', 95, 89, 88, 90),\n",
    "    create_student('이순신', 99, 80, 92, 99)\n",
    "]\n",
    "\n",
    "# 학생 데이터를 처리하는 로직\n",
    "## 학생정보를 받아 총점을 반환하는 함수\n",
    "def student_getSum(student):\n",
    "    return student['kor'] + student['eng'] + student['math'] + student['sci']\n",
    "\n",
    "## 학생정보를 받아 평균을 반환하는 함수\n",
    "def student_getAvg(student):\n",
    "    return student_getSum(student) / 4\n",
    "    #return (student['kor'] + student['eng'] + student['math'] + student['sci']) / 4\n",
    "\n",
    "## 학생정보를 받아 출력하는 함수\n",
    "def student_getString(student):\n",
    "    return \"{}\\t{}\\t{}\".format(\n",
    "        student['name'], \n",
    "        student_getSum(student), \n",
    "        student_getAvg(student))\n",
    "\n",
    "# 학생정보 처리\n",
    "print(\"이름\", \"총점\", \"평균\", sep=\"\\t\") \n",
    "for student in students:\n",
    "    print(student_getString(student))"
   ]
  },
  {
   "cell_type": "code",
   "execution_count": 4,
   "id": "a93b27d3",
   "metadata": {},
   "outputs": [],
   "source": [
    "# 클래스 선언 : 오브젝트 객체\n",
    "class Student:\n",
    "    pass\n",
    "\n",
    "# 인스턴스 객체\n",
    "student = Student()\n",
    "\n",
    "# 학생정보를 담고 있는 리스트 선언\n",
    "students = [\n",
    "    Student(),\n",
    "    Student(),\n",
    "    Student(),\n",
    "    Student(),\n",
    "    Student(),\n",
    "    Student()\n",
    "]"
   ]
  },
  {
   "cell_type": "markdown",
   "id": "05991986",
   "metadata": {},
   "source": [
    "### 클래스(class) 기본"
   ]
  },
  {
   "cell_type": "code",
   "execution_count": 5,
   "id": "9bf1c887",
   "metadata": {
    "ExecuteTime": {
     "end_time": "2022-09-06T01:22:53.945112Z",
     "start_time": "2022-09-06T01:22:53.938231Z"
    }
   },
   "outputs": [],
   "source": [
    "# 객체를 프로그램에 표현하는 구조 - 클래스\n",
    "# 객체 : Object(오브젝트 객체, 붕어빵틀, 설계도) vs Instance(인스턴스 객체, 붕어빵, 제품)\n",
    "# 오브젝트 객체는 인스턴스 객체들의 공통된 속성과 행위를 이용하여 구현한다.\n",
    "# 소나타, 베르나, k9, 베라크루즈, 펠리세이드, 모닝, 아이오닉, 벤츠, 티고,......\n",
    "\n",
    "# 클래스 선언\n",
    "class Car:\n",
    "    ## Member Field : 프로퍼티스 = 변수, 공통된 특성(속성)\n",
    "    \n",
    "    ## Member Method : 함수, 행위나 동작\n",
    "    pass"
   ]
  },
  {
   "cell_type": "code",
   "execution_count": 6,
   "id": "29bfb7b2",
   "metadata": {
    "ExecuteTime": {
     "end_time": "2022-09-06T01:27:55.441869Z",
     "start_time": "2022-09-06T01:27:55.427692Z"
    }
   },
   "outputs": [],
   "source": [
    "# '사람'객체를 구현하는 클래스 선언\n",
    "class Person:\n",
    "    # 멤버 필드\n",
    "    \n",
    "    \n",
    "    # 멤버 메서드\n",
    "    def walk(self):  ## self = this, 자기 자신을 가르키는 키워드(객체 자기 자신의 주소)\n",
    "        print(\"사람이 걸어갑니다.\")\n",
    "        \n",
    "    def run(self):\n",
    "        print(\"사람이 달려갑니다.\")"
   ]
  },
  {
   "cell_type": "code",
   "execution_count": 8,
   "id": "824ed56f",
   "metadata": {
    "ExecuteTime": {
     "end_time": "2022-09-06T01:30:49.884549Z",
     "start_time": "2022-09-06T01:30:49.872337Z"
    }
   },
   "outputs": [
    {
     "name": "stdout",
     "output_type": "stream",
     "text": [
      "사람이 걸어갑니다.\n"
     ]
    }
   ],
   "source": [
    "# '사람' 클래스의 객체(Instance) 생성\n",
    "p1 = Person()\n",
    "\n",
    "# 인스턴스 객체를 이용해서 클래스의 멤버에 접근한다.\n",
    "## direct 연산자 : 객체명.멤버필드 or 객체명.멤버메서드\n",
    "p1.walk()"
   ]
  },
  {
   "cell_type": "code",
   "execution_count": 9,
   "id": "d56312a4",
   "metadata": {
    "ExecuteTime": {
     "end_time": "2022-09-06T01:31:05.531572Z",
     "start_time": "2022-09-06T01:31:05.527786Z"
    }
   },
   "outputs": [
    {
     "name": "stdout",
     "output_type": "stream",
     "text": [
      "사람이 달려갑니다.\n"
     ]
    }
   ],
   "source": [
    "p1.run()"
   ]
  },
  {
   "cell_type": "code",
   "execution_count": 10,
   "id": "8994a5cd",
   "metadata": {
    "ExecuteTime": {
     "end_time": "2022-09-06T01:33:29.894368Z",
     "start_time": "2022-09-06T01:33:29.880219Z"
    }
   },
   "outputs": [],
   "source": [
    "# '사람'객체를 구현하는 클래스 선언\n",
    "class Person:\n",
    "    # 멤버 필드\n",
    "    #name = \"\"\n",
    "    \n",
    "    # 멤버 메서드\n",
    "    def walk(self):  ## self = this, 자기 자신을 가르키는 키워드(객체 자기 자신의 주소)\n",
    "        print(self.name + \"이 걸어갑니다.\")\n",
    "        \n",
    "    def run(self):\n",
    "        print(self.name + \"이 달려갑니다.\")"
   ]
  },
  {
   "cell_type": "code",
   "execution_count": 11,
   "id": "aeb763af",
   "metadata": {
    "ExecuteTime": {
     "end_time": "2022-09-06T01:35:14.457720Z",
     "start_time": "2022-09-06T01:35:14.447648Z"
    }
   },
   "outputs": [
    {
     "name": "stdout",
     "output_type": "stream",
     "text": [
      "홍길동이 걸어갑니다.\n",
      "홍길동이 달려갑니다.\n"
     ]
    }
   ],
   "source": [
    "p1 = Person()\n",
    "\n",
    "# 인스턴스 객체를 이용해서 멤버 필드를 초기화하는 작업이 필요하다.\n",
    "p1.name = \"홍길동\"\n",
    "p1.walk()\n",
    "p1.run()"
   ]
  },
  {
   "cell_type": "code",
   "execution_count": 12,
   "id": "33852599",
   "metadata": {
    "ExecuteTime": {
     "end_time": "2022-09-06T01:36:14.187424Z",
     "start_time": "2022-09-06T01:36:14.174755Z"
    }
   },
   "outputs": [
    {
     "name": "stdout",
     "output_type": "stream",
     "text": [
      "유경민이 걸어갑니다.\n",
      "유경민이 달려갑니다.\n"
     ]
    }
   ],
   "source": [
    "p2 = Person()\n",
    "\n",
    "p2.name = \"유경민\"\n",
    "p2.walk()\n",
    "p2.run()"
   ]
  },
  {
   "cell_type": "code",
   "execution_count": 13,
   "id": "468dc343",
   "metadata": {
    "ExecuteTime": {
     "end_time": "2022-09-06T01:36:44.597305Z",
     "start_time": "2022-09-06T01:36:44.578158Z"
    }
   },
   "outputs": [
    {
     "name": "stdout",
     "output_type": "stream",
     "text": [
      "안정은이 걸어갑니다.\n",
      "안정은이 달려갑니다.\n"
     ]
    }
   ],
   "source": [
    "p3 = Person()\n",
    "\n",
    "p3.name = \"안정은\"\n",
    "p3.walk()\n",
    "p3.run()"
   ]
  },
  {
   "cell_type": "code",
   "execution_count": 14,
   "id": "9680b972",
   "metadata": {
    "ExecuteTime": {
     "end_time": "2022-09-06T01:39:17.262525Z",
     "start_time": "2022-09-06T01:39:17.247743Z"
    }
   },
   "outputs": [],
   "source": [
    "# '사람'객체를 구현하는 클래스 선언\n",
    "class Person:\n",
    "    # 멤버 필드\n",
    "    #name = \"\"\n",
    "    \n",
    "    # 멤버 메서드\n",
    "    def walk(self, speed):  ## self = this, 자기 자신을 가르키는 키워드(객체 자기 자신의 주소)\n",
    "        print(self.name + \"이가 \" + str(speed) + \"km/s의 속도로 걸어갑니다.\")\n",
    "        \n",
    "    def run(self, speed):\n",
    "        print(self.name + \"이가 \" + str(speed) + \"km/s의 속도로 달려갑니다.\")"
   ]
  },
  {
   "cell_type": "code",
   "execution_count": 15,
   "id": "ac20bfef",
   "metadata": {
    "ExecuteTime": {
     "end_time": "2022-09-06T01:40:26.236886Z",
     "start_time": "2022-09-06T01:40:26.233850Z"
    }
   },
   "outputs": [
    {
     "name": "stdout",
     "output_type": "stream",
     "text": [
      "장보고이가 10km/s의 속도로 걸어갑니다.\n",
      "장보고이가 25km/s의 속도로 달려갑니다.\n"
     ]
    }
   ],
   "source": [
    "p = Person()\n",
    "\n",
    "# 멤버 필드를 초기화\n",
    "p.name = \"장보고\"\n",
    "\n",
    "# 멤버 메서드 호출\n",
    "p.walk(10)\n",
    "p.run(25)"
   ]
  },
  {
   "cell_type": "code",
   "execution_count": 16,
   "id": "cf03943d",
   "metadata": {
    "ExecuteTime": {
     "end_time": "2022-09-06T01:41:26.659874Z",
     "start_time": "2022-09-06T01:41:26.649316Z"
    }
   },
   "outputs": [
    {
     "name": "stdout",
     "output_type": "stream",
     "text": [
      "임꺽정이가 5km/s의 속도로 걸어갑니다.\n",
      "임꺽정이가 15km/s의 속도로 달려갑니다.\n"
     ]
    }
   ],
   "source": [
    "p1 = Person()\n",
    "\n",
    "p1.name = \"임꺽정\"\n",
    "\n",
    "p1.walk(5)\n",
    "p1.run(15)"
   ]
  },
  {
   "cell_type": "code",
   "execution_count": 17,
   "id": "668ce605",
   "metadata": {
    "ExecuteTime": {
     "end_time": "2022-09-06T01:45:51.564507Z",
     "start_time": "2022-09-06T01:45:51.550438Z"
    }
   },
   "outputs": [],
   "source": [
    "# '사람'객체를 구현하는 클래스 선언\n",
    "class Person:\n",
    "    # 멤버 필드\n",
    "    #name = \"\"\n",
    "    \n",
    "    # 생성자 메서드 : 객체 생성시 멤버필드를 초기화할 목적으로 구현하는 메서드\n",
    "    def __init__(self, name):\n",
    "        self.name = name   # this.name = name\n",
    "    \n",
    "    # 멤버 메서드\n",
    "    def walk(self, speed):  ## self = this, 자기 자신을 가르키는 키워드(객체 자기 자신의 주소)\n",
    "        print(self.name + \"이가 \" + str(speed) + \"km/s의 속도로 걸어갑니다.\")\n",
    "        \n",
    "    def run(self, speed):\n",
    "        print(self.name + \"이가 \" + str(speed) + \"km/s의 속도로 달려갑니다.\")"
   ]
  },
  {
   "cell_type": "code",
   "execution_count": 18,
   "id": "66c978b8",
   "metadata": {
    "ExecuteTime": {
     "end_time": "2022-09-06T01:47:32.696773Z",
     "start_time": "2022-09-06T01:47:32.681314Z"
    }
   },
   "outputs": [
    {
     "name": "stdout",
     "output_type": "stream",
     "text": [
      "이순신이가 5km/s의 속도로 걸어갑니다.\n",
      "이순신이가 10km/s의 속도로 달려갑니다.\n"
     ]
    }
   ],
   "source": [
    "# 인스턴스 객체 생성시 생성자 메서드가 자동으로 호출된다.\n",
    "p1 = Person(\"이순신\")\n",
    "\n",
    "p1.walk(5)\n",
    "p1.run(10)"
   ]
  },
  {
   "cell_type": "code",
   "execution_count": 19,
   "id": "fbcbbc76",
   "metadata": {
    "ExecuteTime": {
     "end_time": "2022-09-06T01:48:59.792641Z",
     "start_time": "2022-09-06T01:48:59.397861Z"
    }
   },
   "outputs": [
    {
     "ename": "TypeError",
     "evalue": "__init__() missing 1 required positional argument: 'name'",
     "output_type": "error",
     "traceback": [
      "\u001b[1;31m---------------------------------------------------------------------------\u001b[0m",
      "\u001b[1;31mTypeError\u001b[0m                                 Traceback (most recent call last)",
      "Input \u001b[1;32mIn [19]\u001b[0m, in \u001b[0;36m<cell line: 1>\u001b[1;34m()\u001b[0m\n\u001b[1;32m----> 1\u001b[0m p2 \u001b[38;5;241m=\u001b[39m \u001b[43mPerson\u001b[49m\u001b[43m(\u001b[49m\u001b[43m)\u001b[49m\n\u001b[0;32m      3\u001b[0m p2\u001b[38;5;241m.\u001b[39mwalk(\u001b[38;5;241m3\u001b[39m)\n\u001b[0;32m      4\u001b[0m p2\u001b[38;5;241m.\u001b[39mrun(\u001b[38;5;241m8\u001b[39m)\n",
      "\u001b[1;31mTypeError\u001b[0m: __init__() missing 1 required positional argument: 'name'"
     ]
    }
   ],
   "source": [
    "p2 = Person()\n",
    "\n",
    "p2.walk(3)\n",
    "p2.run(8)"
   ]
  },
  {
   "cell_type": "code",
   "execution_count": 20,
   "id": "61e46211",
   "metadata": {},
   "outputs": [],
   "source": [
    "# 생성자 메서드를 기술하지 않을 때 default 생성자가 호출되는 것으로  간주한다.\n",
    "# default 생성자는 매개변수를 가지고 있지 않은 생성자를 뜻한다. Person()"
   ]
  },
  {
   "cell_type": "code",
   "execution_count": 21,
   "id": "48b101ec",
   "metadata": {
    "ExecuteTime": {
     "end_time": "2022-09-06T01:54:26.899724Z",
     "start_time": "2022-09-06T01:54:26.889085Z"
    }
   },
   "outputs": [],
   "source": [
    "class Person:\n",
    "    # 멤버 필드\n",
    "    \n",
    "    # 생성자 메서드 : 객체 생성시 자동으로 호출되는 메서드\n",
    "    \n",
    "    # 멤버 메서드\n",
    "    def disp(self):\n",
    "        print(\"이름 : \" + self.name)\n",
    "        print(\"나이 : \" + str(self.age))\n",
    "        print(\"신장 : \" + str(self.height))\n",
    "    \n",
    "    # 소멸자 메서드 : 객체 소멸시 자동으로 호출되는 메서드, 생략해서 사용"
   ]
  },
  {
   "cell_type": "code",
   "execution_count": 22,
   "id": "434ecc1f",
   "metadata": {
    "ExecuteTime": {
     "end_time": "2022-09-06T01:57:16.338253Z",
     "start_time": "2022-09-06T01:57:16.334204Z"
    }
   },
   "outputs": [
    {
     "name": "stdout",
     "output_type": "stream",
     "text": [
      "이름 : 홍길동\n",
      "나이 : 30\n",
      "신장 : 170.8\n"
     ]
    }
   ],
   "source": [
    "# Person 클래스의 인스턴스 객체 생성\n",
    "p1 = Person()  # default 생성자 : 생성자가 없을 경우 생략된 것으로 간주한다.\n",
    "\n",
    "# 멤버 필드를 초기화 하는 작업을 수행한다.\n",
    "p1.name = \"홍길동\"\n",
    "p1.age = 30\n",
    "p1.height = 170.8\n",
    "\n",
    "p1.disp()"
   ]
  },
  {
   "cell_type": "code",
   "execution_count": 23,
   "id": "1d0257de",
   "metadata": {
    "ExecuteTime": {
     "end_time": "2022-09-06T01:58:52.909881Z",
     "start_time": "2022-09-06T01:58:52.890961Z"
    }
   },
   "outputs": [
    {
     "name": "stdout",
     "output_type": "stream",
     "text": [
      "이름 : 장보고\n",
      "나이 : 25\n",
      "신장 : 180\n"
     ]
    }
   ],
   "source": [
    "p2 = Person()\n",
    "p2.name = \"장보고\"\n",
    "p2.age = 25\n",
    "p2.height = 180\n",
    "p2.disp()"
   ]
  },
  {
   "cell_type": "code",
   "execution_count": 24,
   "id": "ad4ab7d7",
   "metadata": {
    "ExecuteTime": {
     "end_time": "2022-09-06T02:01:19.520240Z",
     "start_time": "2022-09-06T02:01:19.515471Z"
    }
   },
   "outputs": [],
   "source": [
    "class Person:\n",
    "    # 멤버 필드\n",
    "    \n",
    "    # 생성자 메서드 : 객체 생성시 자동으로 호출되는 메서드\n",
    "    def __init__(self, name, age, height):\n",
    "        self.name = name\n",
    "        self.age = age\n",
    "        self.height = height\n",
    "    \n",
    "    # 멤버 메서드\n",
    "    def disp(self):\n",
    "        print(\"이름 : \" + self.name)\n",
    "        print(\"나이 : \" + str(self.age))\n",
    "        print(\"신장 : \" + str(self.height))\n",
    "    \n",
    "    # 소멸자 메서드 : 객체 소멸시 자동으로 호출되는 메서드, 생략해서 사용"
   ]
  },
  {
   "cell_type": "code",
   "execution_count": 25,
   "id": "1064cfe8",
   "metadata": {
    "ExecuteTime": {
     "end_time": "2022-09-06T02:02:05.704814Z",
     "start_time": "2022-09-06T02:02:05.685235Z"
    }
   },
   "outputs": [
    {
     "name": "stdout",
     "output_type": "stream",
     "text": [
      "이름 : 이순신\n",
      "나이 : 40\n",
      "신장 : 180.5\n"
     ]
    }
   ],
   "source": [
    "# 생성자 메서드의 형태에 맞게 객체를 생성해야 한다.\n",
    "p3 = Person(\"이순신\", 40, 180.5)\n",
    "p3.disp()"
   ]
  },
  {
   "cell_type": "code",
   "execution_count": 26,
   "id": "e6d09062",
   "metadata": {
    "ExecuteTime": {
     "end_time": "2022-09-06T02:23:23.318947Z",
     "start_time": "2022-09-06T02:23:23.300549Z"
    }
   },
   "outputs": [],
   "source": [
    "class Person:\n",
    "    # 멤버 필드 = 프로퍼티스(클래스 변수, 공유 목적의 변수)\n",
    "    name = \"강감찬\"\n",
    "    age = 20\n",
    "    height = 180.5\n",
    "    \n",
    "    # 멤버 메서드 = 함수(Function = Method)\n",
    "    def show(self):\n",
    "        ## self.변수명 : 인스턴스 변수(개별적인 값)\n",
    "        print(\"이름 : \" + self.name, end = \" \")\n",
    "        print(\"나이 : \" + str(self.age), end = \" \")\n",
    "        print(\"신장 : \" + str(self.height))\n",
    "        \n",
    "        ## 클래스명.변수명 : 클래스 변수(공통적인 값)\n",
    "        print(\"이름 : \" + Person.name, end = \" \")\n",
    "        print(\"나이 : \" + str(Person.age), end = \" \")\n",
    "        print(\"신장 : \" + str(Person.height))"
   ]
  },
  {
   "cell_type": "code",
   "execution_count": 27,
   "id": "045de02d",
   "metadata": {
    "ExecuteTime": {
     "end_time": "2022-09-06T02:25:44.363997Z",
     "start_time": "2022-09-06T02:25:44.344878Z"
    }
   },
   "outputs": [
    {
     "name": "stdout",
     "output_type": "stream",
     "text": [
      "이름 : 김철수 나이 : 21 신장 : 177.7\n",
      "이름 : 강감찬 나이 : 20 신장 : 180.5\n"
     ]
    }
   ],
   "source": [
    "p4 = Person()\n",
    "p4.name = \"김철수\"\n",
    "p4.age = 21\n",
    "p4.height = 177.7\n",
    "\n",
    "p4.show()"
   ]
  },
  {
   "cell_type": "code",
   "execution_count": 28,
   "id": "bd2b2730",
   "metadata": {
    "ExecuteTime": {
     "end_time": "2022-09-06T02:26:44.554269Z",
     "start_time": "2022-09-06T02:26:44.537366Z"
    }
   },
   "outputs": [
    {
     "name": "stdout",
     "output_type": "stream",
     "text": [
      "이름 : 강감찬 나이 : 20 신장 : 180.5\n",
      "이름 : 강감찬 나이 : 20 신장 : 180.5\n"
     ]
    }
   ],
   "source": [
    "p5 = Person()\n",
    "p5.show()"
   ]
  },
  {
   "cell_type": "code",
   "execution_count": 29,
   "id": "72489add",
   "metadata": {
    "ExecuteTime": {
     "end_time": "2022-09-06T02:30:05.924241Z",
     "start_time": "2022-09-06T02:30:05.918185Z"
    }
   },
   "outputs": [
    {
     "name": "stdout",
     "output_type": "stream",
     "text": [
      "1 2 3\n"
     ]
    }
   ],
   "source": [
    "# default Parameter : 매개변수의 초기화\n",
    "def aaa(x = 10, y = 20, z = 30):\n",
    "    print(x, y, z)\n",
    "    \n",
    "aaa(1, 2, 3)"
   ]
  },
  {
   "cell_type": "code",
   "execution_count": 30,
   "id": "123fd9c2",
   "metadata": {
    "ExecuteTime": {
     "end_time": "2022-09-06T02:30:16.208803Z",
     "start_time": "2022-09-06T02:30:16.201731Z"
    }
   },
   "outputs": [
    {
     "name": "stdout",
     "output_type": "stream",
     "text": [
      "1 2 30\n"
     ]
    }
   ],
   "source": [
    "aaa(1, 2)  # x = 1, y = 2, z = 30"
   ]
  },
  {
   "cell_type": "code",
   "execution_count": 31,
   "id": "10a49f79",
   "metadata": {
    "ExecuteTime": {
     "end_time": "2022-09-06T02:30:18.287236Z",
     "start_time": "2022-09-06T02:30:18.281166Z"
    }
   },
   "outputs": [
    {
     "name": "stdout",
     "output_type": "stream",
     "text": [
      "1 20 30\n"
     ]
    }
   ],
   "source": [
    "aaa(1) # x = 1, y = 20, z = 30"
   ]
  },
  {
   "cell_type": "code",
   "execution_count": 32,
   "id": "9eddb95d",
   "metadata": {
    "ExecuteTime": {
     "end_time": "2022-09-06T02:30:25.526509Z",
     "start_time": "2022-09-06T02:30:25.512415Z"
    }
   },
   "outputs": [
    {
     "name": "stdout",
     "output_type": "stream",
     "text": [
      "10 20 30\n"
     ]
    }
   ],
   "source": [
    "aaa()"
   ]
  },
  {
   "cell_type": "code",
   "execution_count": 33,
   "id": "cc514689",
   "metadata": {
    "ExecuteTime": {
     "end_time": "2022-09-06T02:33:38.704560Z",
     "start_time": "2022-09-06T02:33:38.685768Z"
    }
   },
   "outputs": [],
   "source": [
    "# 회원 객체 클래스 선언\n",
    "class Member:\n",
    "    def info(self):\n",
    "        print(\"아이디 : \" + self.userid, end =\" \")\n",
    "        print(\"비밀번호 : \" + self.pwd, end = \" \")\n",
    "        print(\"이름 : \" + self.name, end = \" \")\n",
    "        print(\"나이 : \" + str(self.age))"
   ]
  },
  {
   "cell_type": "code",
   "execution_count": 34,
   "id": "c1e9fc9e",
   "metadata": {
    "ExecuteTime": {
     "end_time": "2022-09-06T02:34:46.205667Z",
     "start_time": "2022-09-06T02:34:46.170500Z"
    }
   },
   "outputs": [
    {
     "ename": "AttributeError",
     "evalue": "'Member' object has no attribute 'userid'",
     "output_type": "error",
     "traceback": [
      "\u001b[1;31m---------------------------------------------------------------------------\u001b[0m",
      "\u001b[1;31mAttributeError\u001b[0m                            Traceback (most recent call last)",
      "Input \u001b[1;32mIn [34]\u001b[0m, in \u001b[0;36m<cell line: 5>\u001b[1;34m()\u001b[0m\n\u001b[0;32m      2\u001b[0m m1 \u001b[38;5;241m=\u001b[39m Member()  \u001b[38;5;66;03m# 객체 생성시 default 생성자가 호출된다.\u001b[39;00m\n\u001b[0;32m      4\u001b[0m \u001b[38;5;66;03m# 인스턴스 변수에 멤버 필드에 초기화를 하지 않으면 에러가 발생한다.\u001b[39;00m\n\u001b[1;32m----> 5\u001b[0m \u001b[43mm1\u001b[49m\u001b[38;5;241;43m.\u001b[39;49m\u001b[43minfo\u001b[49m\u001b[43m(\u001b[49m\u001b[43m)\u001b[49m\n",
      "Input \u001b[1;32mIn [33]\u001b[0m, in \u001b[0;36mMember.info\u001b[1;34m(self)\u001b[0m\n\u001b[0;32m      3\u001b[0m \u001b[38;5;28;01mdef\u001b[39;00m \u001b[38;5;21minfo\u001b[39m(\u001b[38;5;28mself\u001b[39m):\n\u001b[1;32m----> 4\u001b[0m     \u001b[38;5;28mprint\u001b[39m(\u001b[38;5;124m\"\u001b[39m\u001b[38;5;124m아이디 : \u001b[39m\u001b[38;5;124m\"\u001b[39m \u001b[38;5;241m+\u001b[39m \u001b[38;5;28;43mself\u001b[39;49m\u001b[38;5;241;43m.\u001b[39;49m\u001b[43muserid\u001b[49m, end \u001b[38;5;241m=\u001b[39m\u001b[38;5;124m\"\u001b[39m\u001b[38;5;124m \u001b[39m\u001b[38;5;124m\"\u001b[39m)\n\u001b[0;32m      5\u001b[0m     \u001b[38;5;28mprint\u001b[39m(\u001b[38;5;124m\"\u001b[39m\u001b[38;5;124m비밀번호 : \u001b[39m\u001b[38;5;124m\"\u001b[39m \u001b[38;5;241m+\u001b[39m \u001b[38;5;28mself\u001b[39m\u001b[38;5;241m.\u001b[39mpwd, end \u001b[38;5;241m=\u001b[39m \u001b[38;5;124m\"\u001b[39m\u001b[38;5;124m \u001b[39m\u001b[38;5;124m\"\u001b[39m)\n\u001b[0;32m      6\u001b[0m     \u001b[38;5;28mprint\u001b[39m(\u001b[38;5;124m\"\u001b[39m\u001b[38;5;124m이름 : \u001b[39m\u001b[38;5;124m\"\u001b[39m \u001b[38;5;241m+\u001b[39m \u001b[38;5;28mself\u001b[39m\u001b[38;5;241m.\u001b[39mname, end \u001b[38;5;241m=\u001b[39m \u001b[38;5;124m\"\u001b[39m\u001b[38;5;124m \u001b[39m\u001b[38;5;124m\"\u001b[39m)\n",
      "\u001b[1;31mAttributeError\u001b[0m: 'Member' object has no attribute 'userid'"
     ]
    }
   ],
   "source": [
    "# 회원 인스턴스 객체 생성\n",
    "m1 = Member()  # 객체 생성시 default 생성자가 호출된다.\n",
    "\n",
    "# 인스턴스 변수에 멤버 필드에 초기화를 하지 않으면 에러가 발생한다.\n",
    "m1.info()"
   ]
  },
  {
   "cell_type": "code",
   "execution_count": 35,
   "id": "95a8922c",
   "metadata": {
    "ExecuteTime": {
     "end_time": "2022-09-06T02:36:33.172644Z",
     "start_time": "2022-09-06T02:36:33.162564Z"
    }
   },
   "outputs": [
    {
     "name": "stdout",
     "output_type": "stream",
     "text": [
      "아이디 : kim 비밀번호 : 1234 이름 : 김길동 나이 : 20\n"
     ]
    }
   ],
   "source": [
    "m2 = Member()\n",
    "\n",
    "m2.userid = \"kim\"\n",
    "m2.pwd = \"1234\"\n",
    "m2.name = \"김길동\"\n",
    "m2.age = 20\n",
    "\n",
    "m2.info()"
   ]
  },
  {
   "cell_type": "code",
   "execution_count": 36,
   "id": "ee605811",
   "metadata": {
    "ExecuteTime": {
     "end_time": "2022-09-06T02:39:23.680681Z",
     "start_time": "2022-09-06T02:39:23.668610Z"
    }
   },
   "outputs": [],
   "source": [
    "# 회원 객체 클래스 선언\n",
    "class Member:\n",
    "    # 생성자 메서드 : 객체 생성시 멤버 필드를 초기화할 목적으로 구현되는 메서드\n",
    "    def __init__(self, userid, pwd, name, age):\n",
    "        self.userid = userid\n",
    "        self.pwd = pwd\n",
    "        self.name = name\n",
    "        self.age = age\n",
    "        \n",
    "    def info(self):\n",
    "        print(\"아이디 : \" + self.userid, end =\" \")\n",
    "        print(\"비밀번호 : \" + self.pwd, end = \" \")\n",
    "        print(\"이름 : \" + self.name, end = \" \")\n",
    "        print(\"나이 : \" + str(self.age))"
   ]
  },
  {
   "cell_type": "code",
   "execution_count": 37,
   "id": "3333bff9",
   "metadata": {
    "ExecuteTime": {
     "end_time": "2022-09-06T02:41:01.505274Z",
     "start_time": "2022-09-06T02:41:01.486646Z"
    }
   },
   "outputs": [
    {
     "name": "stdout",
     "output_type": "stream",
     "text": [
      "아이디 : aaa 비밀번호 : 1234 이름 : 장보고 나이 : 35\n"
     ]
    }
   ],
   "source": [
    "# 생성자가 없을 경우 default 생성자가 생략된 것으로 간주한다.\n",
    "# 만약 생성자 메서드를 기술했을 경우 해당 생성자 메서드를 이용하여 객체를 생성해야 한다.\n",
    "m3 = Member(\"aaa\", \"1234\", \"장보고\", 35)\n",
    "\n",
    "m3.info()"
   ]
  },
  {
   "cell_type": "code",
   "execution_count": 38,
   "id": "15a18109",
   "metadata": {
    "ExecuteTime": {
     "end_time": "2022-09-06T02:43:36.953788Z",
     "start_time": "2022-09-06T02:43:36.948593Z"
    }
   },
   "outputs": [],
   "source": [
    "# 회원 객체 클래스 선언\n",
    "class Member:\n",
    "    # 생성자 메서드 : 객체 생성시 멤버 필드를 초기화할 목적으로 구현되는 메서드\n",
    "    def __init__(self, userid = \"\", pwd = \"\", name = \"\", age = 0):\n",
    "        self.userid = userid\n",
    "        self.pwd = pwd\n",
    "        self.name = name\n",
    "        self.age = age\n",
    "        \n",
    "    def info(self):\n",
    "        print(\"아이디 : \" + self.userid, end =\" \")\n",
    "        print(\"비밀번호 : \" + self.pwd, end = \" \")\n",
    "        print(\"이름 : \" + self.name, end = \" \")\n",
    "        print(\"나이 : \" + str(self.age))"
   ]
  },
  {
   "cell_type": "code",
   "execution_count": 39,
   "id": "2731f852",
   "metadata": {
    "ExecuteTime": {
     "end_time": "2022-09-06T02:43:03.291305Z",
     "start_time": "2022-09-06T02:43:03.283678Z"
    }
   },
   "outputs": [
    {
     "name": "stdout",
     "output_type": "stream",
     "text": [
      "아이디 : kim 비밀번호 : 1234 이름 :  나이 : 0\n"
     ]
    }
   ],
   "source": [
    "m5 = Member(\"kim\", \"1234\")\n",
    "m5.info()"
   ]
  },
  {
   "cell_type": "code",
   "execution_count": 40,
   "id": "a243c9fc",
   "metadata": {
    "ExecuteTime": {
     "end_time": "2022-09-06T02:44:08.946264Z",
     "start_time": "2022-09-06T02:44:08.937201Z"
    }
   },
   "outputs": [
    {
     "name": "stdout",
     "output_type": "stream",
     "text": [
      "아이디 : bbb 비밀번호 : 1234 이름 : 강아지 나이 : 3\n"
     ]
    }
   ],
   "source": [
    "m6 = Member(\"bbb\", \"1234\", \"강아지\", 3)\n",
    "m6.info()"
   ]
  },
  {
   "cell_type": "code",
   "execution_count": 41,
   "id": "76f10023",
   "metadata": {
    "ExecuteTime": {
     "end_time": "2022-09-06T02:44:35.870262Z",
     "start_time": "2022-09-06T02:44:35.853648Z"
    }
   },
   "outputs": [
    {
     "name": "stdout",
     "output_type": "stream",
     "text": [
      "아이디 : ccc 비밀번호 : 1234 이름 : 우리집 나이 : 0\n"
     ]
    }
   ],
   "source": [
    "m7 = Member(\"ccc\", \"1234\", \"우리집\")\n",
    "m7.info()"
   ]
  },
  {
   "cell_type": "code",
   "execution_count": 42,
   "id": "20501f74",
   "metadata": {
    "ExecuteTime": {
     "end_time": "2022-09-06T02:44:54.626524Z",
     "start_time": "2022-09-06T02:44:54.608863Z"
    }
   },
   "outputs": [
    {
     "name": "stdout",
     "output_type": "stream",
     "text": [
      "아이디 : ddd 비밀번호 : 1234 이름 :  나이 : 0\n"
     ]
    }
   ],
   "source": [
    "m8 = Member(\"ddd\", \"1234\")\n",
    "m8.info()"
   ]
  },
  {
   "cell_type": "code",
   "execution_count": 43,
   "id": "a14017f3",
   "metadata": {
    "ExecuteTime": {
     "end_time": "2022-09-06T02:45:13.661256Z",
     "start_time": "2022-09-06T02:45:13.648175Z"
    }
   },
   "outputs": [
    {
     "name": "stdout",
     "output_type": "stream",
     "text": [
      "아이디 :  비밀번호 :  이름 :  나이 : 0\n"
     ]
    }
   ],
   "source": [
    "m9 = Member()\n",
    "m9.info()"
   ]
  },
  {
   "cell_type": "code",
   "execution_count": 44,
   "id": "e47c737e",
   "metadata": {
    "ExecuteTime": {
     "end_time": "2022-09-06T02:49:35.208795Z",
     "start_time": "2022-09-06T02:49:35.198710Z"
    }
   },
   "outputs": [
    {
     "name": "stdout",
     "output_type": "stream",
     "text": [
      "아이디 : kkk 비밀번호 : 1234 이름 :  나이 : 15\n"
     ]
    }
   ],
   "source": [
    "m10 = Member(\"kkk\", \"1234\", \"\", 15)\n",
    "m10.info()"
   ]
  },
  {
   "cell_type": "markdown",
   "id": "ba5a6045",
   "metadata": {},
   "source": [
    "##### 4단계 - 학생 성적관리 객체"
   ]
  },
  {
   "cell_type": "code",
   "execution_count": 45,
   "id": "13917046",
   "metadata": {
    "ExecuteTime": {
     "end_time": "2022-09-06T02:59:11.322005Z",
     "start_time": "2022-09-06T02:59:11.313906Z"
    }
   },
   "outputs": [],
   "source": [
    "# 클래스 선언\n",
    "class Student:\n",
    "    # 멤버 필드\n",
    "    \n",
    "    # 생성자 메서드\n",
    "    def __init__(self, name, kor, eng, math, sci):\n",
    "        self.name = name\n",
    "        self.kor = kor\n",
    "        self.eng = eng\n",
    "        self.math = math\n",
    "        self.sci = sci\n",
    "    \n",
    "    # 멤버 메서드\n",
    "    ## 총점을 계산하여 반환하는 함수\n",
    "    def get_sum(self):\n",
    "        return self.kor + self.eng + self.math + self.sci\n",
    "    \n",
    "    ## 평균을 계산하여 반환하는 함수\n",
    "    def get_avg(self):\n",
    "        return self.get_sum() / 4\n",
    "    \n",
    "    ## 출력 하는 함수\n",
    "    def to_string(self):\n",
    "        return \"{}\\t{}\\t{}\".format(self.name, self.get_sum(), self.get_avg())\n",
    "    \n",
    "    # 소멸자 메서드\n",
    "    "
   ]
  },
  {
   "cell_type": "code",
   "execution_count": 46,
   "id": "cbc2177b",
   "metadata": {
    "ExecuteTime": {
     "end_time": "2022-09-06T02:57:46.203901Z",
     "start_time": "2022-09-06T02:57:46.189088Z"
    }
   },
   "outputs": [
    {
     "ename": "TypeError",
     "evalue": "__init__() missing 5 required positional arguments: 'name', 'kor', 'eng', 'math', and 'sci'",
     "output_type": "error",
     "traceback": [
      "\u001b[1;31m---------------------------------------------------------------------------\u001b[0m",
      "\u001b[1;31mTypeError\u001b[0m                                 Traceback (most recent call last)",
      "Input \u001b[1;32mIn [46]\u001b[0m, in \u001b[0;36m<cell line: 2>\u001b[1;34m()\u001b[0m\n\u001b[0;32m      1\u001b[0m \u001b[38;5;66;03m# 인스턴스 객체 생성\u001b[39;00m\n\u001b[1;32m----> 2\u001b[0m s1 \u001b[38;5;241m=\u001b[39m \u001b[43mStudent\u001b[49m\u001b[43m(\u001b[49m\u001b[43m)\u001b[49m\n\u001b[0;32m      3\u001b[0m s1\u001b[38;5;241m.\u001b[39mname \u001b[38;5;241m=\u001b[39m \u001b[38;5;124m\"\u001b[39m\u001b[38;5;124m홍길동\u001b[39m\u001b[38;5;124m\"\u001b[39m\n\u001b[0;32m      4\u001b[0m s1\u001b[38;5;241m.\u001b[39mkor \u001b[38;5;241m=\u001b[39m \u001b[38;5;241m88\u001b[39m\n",
      "\u001b[1;31mTypeError\u001b[0m: __init__() missing 5 required positional arguments: 'name', 'kor', 'eng', 'math', and 'sci'"
     ]
    }
   ],
   "source": [
    "# 인스턴스 객체 생성\n",
    "s1 = Student()\n",
    "s1.name = \"홍길동\"\n",
    "s1.kor = 88\n",
    "s1.eng = 92\n",
    "s1.math = 90\n",
    "s1.sci = 99\n",
    "\n",
    "print(s1.to_string())"
   ]
  },
  {
   "cell_type": "code",
   "execution_count": 47,
   "id": "17f9d8d1",
   "metadata": {
    "ExecuteTime": {
     "end_time": "2022-09-06T02:59:55.265378Z",
     "start_time": "2022-09-06T02:59:55.249000Z"
    }
   },
   "outputs": [
    {
     "name": "stdout",
     "output_type": "stream",
     "text": [
      "장보고\t368\t92.0\n"
     ]
    }
   ],
   "source": [
    "s2 = Student(\"장보고\", 87, 98, 88, 95)\n",
    "print(s2.to_string())"
   ]
  },
  {
   "cell_type": "code",
   "execution_count": 48,
   "id": "23d28ab1",
   "metadata": {
    "ExecuteTime": {
     "end_time": "2022-09-06T03:02:30.306302Z",
     "start_time": "2022-09-06T03:02:30.293082Z"
    }
   },
   "outputs": [
    {
     "name": "stdout",
     "output_type": "stream",
     "text": [
      "aaa\t356\t89.0\n",
      "bbb\t366\t91.5\n",
      "ccc\t332\t83.0\n",
      "ddd\t350\t87.5\n",
      "eee\t349\t87.25\n"
     ]
    }
   ],
   "source": [
    "s1 = Student(\"aaa\", 88, 97, 95, 76)\n",
    "s2 = Student(\"bbb\", 98, 87, 95, 86)\n",
    "s3 = Student(\"ccc\", 99, 87, 77, 69)\n",
    "s4 = Student(\"ddd\", 79, 88, 93, 90)\n",
    "s5 = Student(\"eee\", 80, 90, 99, 80)\n",
    "\n",
    "print(s1.to_string())\n",
    "print(s2.to_string())\n",
    "print(s3.to_string())\n",
    "print(s4.to_string())\n",
    "print(s5.to_string())"
   ]
  },
  {
   "cell_type": "code",
   "execution_count": 49,
   "id": "992c6d4d",
   "metadata": {
    "ExecuteTime": {
     "end_time": "2022-09-06T03:04:54.202378Z",
     "start_time": "2022-09-06T03:04:54.183727Z"
    }
   },
   "outputs": [
    {
     "name": "stdout",
     "output_type": "stream",
     "text": [
      "aaa\t356\t89.0\n",
      "bbb\t366\t91.5\n",
      "ccc\t332\t83.0\n",
      "ddd\t350\t87.5\n",
      "eee\t349\t87.25\n"
     ]
    }
   ],
   "source": [
    "# 학생 정보를 가지고 있는 리스트 생성\n",
    "students = [\n",
    "    Student(\"aaa\", 88, 97, 95, 76),\n",
    "    Student(\"bbb\", 98, 87, 95, 86),\n",
    "    Student(\"ccc\", 99, 87, 77, 69),\n",
    "    Student(\"ddd\", 79, 88, 93, 90),\n",
    "    Student(\"eee\", 80, 90, 99, 80)\n",
    "]\n",
    "\n",
    "print(students[0].to_string())\n",
    "print(students[1].to_string())\n",
    "print(students[2].to_string())\n",
    "print(students[3].to_string())\n",
    "print(students[4].to_string())"
   ]
  },
  {
   "cell_type": "code",
   "execution_count": 50,
   "id": "366fbe07",
   "metadata": {
    "ExecuteTime": {
     "end_time": "2022-09-06T03:06:34.388522Z",
     "start_time": "2022-09-06T03:06:34.368949Z"
    }
   },
   "outputs": [
    {
     "name": "stdout",
     "output_type": "stream",
     "text": [
      "이름\t총점\t평균\n",
      "홍길동\t356\t89.0\n",
      "장보고\t366\t91.5\n",
      "이수신\t332\t83.0\n",
      "강감찬\t350\t87.5\n",
      "김유신\t349\t87.25\n"
     ]
    }
   ],
   "source": [
    "# 학생 정보를 가지고 있는 리스트 생성\n",
    "students = [\n",
    "    Student(\"홍길동\", 88, 97, 95, 76),\n",
    "    Student(\"장보고\", 98, 87, 95, 86),\n",
    "    Student(\"이수신\", 99, 87, 77, 69),\n",
    "    Student(\"강감찬\", 79, 88, 93, 90),\n",
    "    Student(\"김유신\", 80, 90, 99, 80)\n",
    "]\n",
    "\n",
    "print(\"이름\", \"총점\", \"평균\", sep = \"\\t\")\n",
    "for student in students:\n",
    "    print(student.to_string())"
   ]
  },
  {
   "cell_type": "code",
   "execution_count": 52,
   "id": "bf85ff6c",
   "metadata": {
    "ExecuteTime": {
     "end_time": "2022-09-06T03:07:23.811682Z",
     "start_time": "2022-09-06T03:07:23.802369Z"
    }
   },
   "outputs": [
    {
     "name": "stdout",
     "output_type": "stream",
     "text": [
      "이름\t총점\t평균\n",
      "홍길동\t356\t89.0\n",
      "장보고\t366\t91.5\n",
      "이수신\t332\t83.0\n",
      "강감찬\t350\t87.5\n",
      "김유신\t349\t87.25\n",
      "임꺽정\t300\t75.0\n",
      "임꺽정\t300\t75.0\n"
     ]
    }
   ],
   "source": [
    "students.append(Student(\"임꺽정\", 80, 90, 70, 60))\n",
    "\n",
    "print(\"이름\", \"총점\", \"평균\", sep = \"\\t\")\n",
    "for student in students:\n",
    "    print(student.to_string())"
   ]
  },
  {
   "cell_type": "markdown",
   "id": "75aa7c8c",
   "metadata": {},
   "source": [
    "##### 클래스를 사용하는 이유"
   ]
  },
  {
   "cell_type": "code",
   "execution_count": 53,
   "id": "7d91a1d0",
   "metadata": {
    "ExecuteTime": {
     "end_time": "2022-09-06T03:31:10.852593Z",
     "start_time": "2022-09-06T03:31:10.837983Z"
    }
   },
   "outputs": [
    {
     "name": "stdout",
     "output_type": "stream",
     "text": [
      "[['Messi', 'MF', 10], ['Ramos', 'DF', 4], ['Ronaldo', 'CF', 7], ['Park', 'WF', 13], ['Buffon', 'GK', 1]]\n"
     ]
    }
   ],
   "source": [
    "# 데이터\n",
    "names = ['Messi', 'Ramos', 'Ronaldo', 'Park', 'Buffon']\n",
    "positions = ['MF', 'DF', 'CF', 'WF', 'GK']\n",
    "numbers = [10, 4, 7, 13, 1]\n",
    "\n",
    "# 이차원 리스트\n",
    "players = [[name, position, number] for name, \n",
    "           position, number in zip(names, positions, numbers)]\n",
    "\n",
    "print(players)"
   ]
  },
  {
   "cell_type": "code",
   "execution_count": 54,
   "id": "dca664df",
   "metadata": {
    "ExecuteTime": {
     "end_time": "2022-09-06T03:31:27.887936Z",
     "start_time": "2022-09-06T03:31:27.877343Z"
    }
   },
   "outputs": [
    {
     "name": "stdout",
     "output_type": "stream",
     "text": [
      "['Messi', 'MF', 10]\n"
     ]
    }
   ],
   "source": [
    "print(players[0])"
   ]
  },
  {
   "cell_type": "code",
   "execution_count": 55,
   "id": "92109625",
   "metadata": {
    "ExecuteTime": {
     "end_time": "2022-09-06T03:36:30.042676Z",
     "start_time": "2022-09-06T03:36:30.029613Z"
    }
   },
   "outputs": [],
   "source": [
    "class SoccerPlayer:\n",
    "    \n",
    "    def __init__(self, name, position, number):\n",
    "        self.name = name\n",
    "        self.position = position\n",
    "        self.number = number\n",
    "    \n",
    "    def disp(self):\n",
    "        print(\"이름 : \", self.name)\n",
    "        print(\"포지션 : \", self.position)\n",
    "        print(\"백넘버 : \", self.number)"
   ]
  },
  {
   "cell_type": "code",
   "execution_count": 56,
   "id": "08b71cdf",
   "metadata": {
    "ExecuteTime": {
     "end_time": "2022-09-06T03:36:47.586429Z",
     "start_time": "2022-09-06T03:36:47.571753Z"
    }
   },
   "outputs": [
    {
     "name": "stdout",
     "output_type": "stream",
     "text": [
      "이름 :  박지성\n",
      "포지션 :  MF\n",
      "백넘버 :  13\n"
     ]
    }
   ],
   "source": [
    "p1 = SoccerPlayer(\"박지성\", \"MF\", 13)\n",
    "# p1.name = \"박지성\"\n",
    "# p1.position = \"MF\"\n",
    "# p1.number = 13\n",
    "\n",
    "p1.disp()"
   ]
  },
  {
   "cell_type": "markdown",
   "id": "1f65f2fe",
   "metadata": {},
   "source": [
    "### 자동차 관리 프로그램\n",
    "1. 요구사항 명세서\n",
    "  - 자동차는 식별할 이름과 속도, 연료량을 관리한다.\n",
    "  - 자동차의 속도는 최대 200을 넘지 못하게 구현한다.\n",
    "  - 자동차가 가속시 연료에 10을 소모하도록 구현한다.\n",
    "  - 자동차의 연료가 없으면 가속이 불가능하도록 구현한다.\n",
    "  - 현재 자동차의 상태를 확인할 수 있도록 구현한다.\n",
    "  - 기능별 함수로 구현해서 처리한다."
   ]
  },
  {
   "cell_type": "code",
   "execution_count": 57,
   "id": "d5c3f00a",
   "metadata": {
    "ExecuteTime": {
     "end_time": "2022-09-06T03:56:00.883049Z",
     "start_time": "2022-09-06T03:56:00.875988Z"
    }
   },
   "outputs": [],
   "source": [
    "class Car:\n",
    "    # 멤버 필드\n",
    "#     name = \"\"\n",
    "#     speed = 0\n",
    "#     gas = 0\n",
    "    \n",
    "    # 생성자 메서드 - 멤버 필드를 초기화 시켜주는 역할을 하는 메서드\n",
    "    def __init__(self, name, speed, gas):\n",
    "        self.name = name\n",
    "        self.speed = speed\n",
    "        self.gas = gas\n",
    "    \n",
    "    # 멤버 메서드\n",
    "    def carAccel(self): # 가속패달을 한 번 밟았을 때의 행위를 기술한다.\n",
    "        # 연료가 없으면 가속 불가능, 가속패달을 밟을 때마다 연료는 10씩 감소\n",
    "        # 가속도 10씩 속도가 증가한다. 이때 최고속도인 200을 넘을 수 없다.\n",
    "        if self.gas >= 10: # 연료가 있느냐?\n",
    "            \n",
    "            if self.speed + 10 > 200:  # 속도가 증가할때 최고속도를 넘느냐?\n",
    "                self.speed = 200  # 최고속도는 200을 넘을 수 없다.\n",
    "            else:    \n",
    "                self.speed = self.speed + 10\n",
    "                self.gas = self.gas - 10\n",
    "            \n",
    "        else:\n",
    "            print(\"연료가 부족합니다.\")\n",
    "            return  # 제어권만 호출된 곳으로 돌려준다. 생략가능하다.\n",
    "    \n",
    "    def carBreak(self):\n",
    "        # 연료의 소모는 없다.\n",
    "        # 자동차의 속도가 10 감소한다.\n",
    "        # 자동차의 속도값이 음수일 수 없다.\n",
    "        if self.speed < 10:\n",
    "            self.speed = 0\n",
    "        else:\n",
    "            self.speed = self.speed - 10\n",
    "    \n",
    "    def carState(self):\n",
    "        print(\"차종 : \", self.name)\n",
    "        print(\"속도 : \", self.speed)\n",
    "        print(\"연료량 : \", self.gas)"
   ]
  },
  {
   "cell_type": "code",
   "execution_count": 58,
   "id": "3e0ee0cc",
   "metadata": {
    "ExecuteTime": {
     "end_time": "2022-09-06T03:44:08.285967Z",
     "start_time": "2022-09-06T03:44:08.257911Z"
    }
   },
   "outputs": [
    {
     "ename": "TypeError",
     "evalue": "__init__() missing 3 required positional arguments: 'name', 'speed', and 'gas'",
     "output_type": "error",
     "traceback": [
      "\u001b[1;31m---------------------------------------------------------------------------\u001b[0m",
      "\u001b[1;31mTypeError\u001b[0m                                 Traceback (most recent call last)",
      "Input \u001b[1;32mIn [58]\u001b[0m, in \u001b[0;36m<cell line: 1>\u001b[1;34m()\u001b[0m\n\u001b[1;32m----> 1\u001b[0m c1 \u001b[38;5;241m=\u001b[39m \u001b[43mCar\u001b[49m\u001b[43m(\u001b[49m\u001b[43m)\u001b[49m\n\u001b[0;32m      3\u001b[0m c1\u001b[38;5;241m.\u001b[39mcarState()\n",
      "\u001b[1;31mTypeError\u001b[0m: __init__() missing 3 required positional arguments: 'name', 'speed', and 'gas'"
     ]
    }
   ],
   "source": [
    "c1 = Car()\n",
    "\n",
    "c1.carState()"
   ]
  },
  {
   "cell_type": "code",
   "execution_count": 59,
   "id": "2ec74dea",
   "metadata": {
    "ExecuteTime": {
     "end_time": "2022-09-06T03:44:23.516123Z",
     "start_time": "2022-09-06T03:44:23.489821Z"
    }
   },
   "outputs": [
    {
     "ename": "TypeError",
     "evalue": "__init__() missing 3 required positional arguments: 'name', 'speed', and 'gas'",
     "output_type": "error",
     "traceback": [
      "\u001b[1;31m---------------------------------------------------------------------------\u001b[0m",
      "\u001b[1;31mTypeError\u001b[0m                                 Traceback (most recent call last)",
      "Input \u001b[1;32mIn [59]\u001b[0m, in \u001b[0;36m<cell line: 1>\u001b[1;34m()\u001b[0m\n\u001b[1;32m----> 1\u001b[0m c2 \u001b[38;5;241m=\u001b[39m \u001b[43mCar\u001b[49m\u001b[43m(\u001b[49m\u001b[43m)\u001b[49m\n\u001b[0;32m      2\u001b[0m c2\u001b[38;5;241m.\u001b[39mname \u001b[38;5;241m=\u001b[39m \u001b[38;5;124m\"\u001b[39m\u001b[38;5;124msonata\u001b[39m\u001b[38;5;124m\"\u001b[39m\n\u001b[0;32m      3\u001b[0m c2\u001b[38;5;241m.\u001b[39mspeed \u001b[38;5;241m=\u001b[39m \u001b[38;5;241m0\u001b[39m\n",
      "\u001b[1;31mTypeError\u001b[0m: __init__() missing 3 required positional arguments: 'name', 'speed', and 'gas'"
     ]
    }
   ],
   "source": [
    "c2 = Car()\n",
    "c2.name = \"sonata\"\n",
    "c2.speed = 0\n",
    "c2.gas = 90\n",
    "c2.carState()"
   ]
  },
  {
   "cell_type": "code",
   "execution_count": 60,
   "id": "49a2f660",
   "metadata": {
    "ExecuteTime": {
     "end_time": "2022-09-06T03:44:47.288107Z",
     "start_time": "2022-09-06T03:44:47.278533Z"
    }
   },
   "outputs": [
    {
     "name": "stdout",
     "output_type": "stream",
     "text": [
      "차종 :  Morning\n",
      "속도 :  0\n",
      "연료량 :  100\n"
     ]
    }
   ],
   "source": [
    "c3 = Car(\"Morning\", 0, 100)\n",
    "c3.carState()"
   ]
  },
  {
   "cell_type": "code",
   "execution_count": 61,
   "id": "258e2496",
   "metadata": {
    "ExecuteTime": {
     "end_time": "2022-09-06T03:57:07.777597Z",
     "start_time": "2022-09-06T03:57:07.759340Z"
    }
   },
   "outputs": [
    {
     "name": "stdout",
     "output_type": "stream",
     "text": [
      "차종 :  tico\n",
      "속도 :  0\n",
      "연료량 :  70\n"
     ]
    }
   ],
   "source": [
    "# 자동차 객체의 인스턴스 생성\n",
    "tico = Car(\"tico\", 0, 70)\n",
    "\n",
    "# 자동차의 현재 상태 출력\n",
    "tico.carState()"
   ]
  },
  {
   "cell_type": "code",
   "execution_count": 62,
   "id": "07861caf",
   "metadata": {
    "ExecuteTime": {
     "end_time": "2022-09-06T03:58:51.712840Z",
     "start_time": "2022-09-06T03:58:51.696177Z"
    }
   },
   "outputs": [
    {
     "name": "stdout",
     "output_type": "stream",
     "text": [
      "차종 :  tico\n",
      "속도 :  10\n",
      "연료량 :  60\n"
     ]
    }
   ],
   "source": [
    "# 가속패달을 밟는 행위\n",
    "tico.carAccel()  # 속도 +10, 연료 -10\n",
    "tico.carState()"
   ]
  },
  {
   "cell_type": "code",
   "execution_count": 63,
   "id": "9ce9434c",
   "metadata": {
    "ExecuteTime": {
     "end_time": "2022-09-06T03:59:51.221480Z",
     "start_time": "2022-09-06T03:59:51.215395Z"
    }
   },
   "outputs": [
    {
     "name": "stdout",
     "output_type": "stream",
     "text": [
      "차종 :  tico\n",
      "속도 :  0\n",
      "연료량 :  60\n"
     ]
    }
   ],
   "source": [
    "# 브레이크 패달을 밟는 행위\n",
    "tico.carBreak() # 속도 -10\n",
    "tico.carState()"
   ]
  },
  {
   "cell_type": "markdown",
   "id": "e2e37afd",
   "metadata": {},
   "source": [
    "### 노트북 프로그램\n",
    "- 노트(note)를 정리하는 프로그램이다.\n",
    "- 사용자는 노트에 컨텐츠를 적을 수 있다.\n",
    "- 노트는 노트북(notebook)에 삽입된다.\n",
    "- 노트북은 타이틀(title)을 갖는다.\n",
    "- 노트북은 노트가 삽입될 때 페이지를 생성하며, 최대 300페이지까지 저장할 수 있다.\n",
    "- 300페이지를 넘기면 노트를 더는 삽입하지 못한다."
   ]
  },
  {
   "cell_type": "code",
   "execution_count": null,
   "id": "bb28eb04",
   "metadata": {},
   "outputs": [],
   "source": [
    "# Notebook class \n",
    "## 멤버 필드 : title, page_number, notes\n",
    "## 멤버 메서드 : add_note, remove_note, get_number_of_pages\n",
    "\n",
    "# Note class \n",
    "## 멤버 필드 : contents\n",
    "## 멤버 메서드 : wirte_content, remove_all"
   ]
  },
  {
   "cell_type": "code",
   "execution_count": 2,
   "id": "93641b3a",
   "metadata": {},
   "outputs": [],
   "source": [
    "class Note(object):\n",
    "    \n",
    "    def __init__(self, contents = None):\n",
    "        self.contents = contents\n",
    "        \n",
    "    def remove_all(self):\n",
    "        self.contents = \"\"\n",
    "        \n",
    "    def get_contents(self):\n",
    "        return self.contents\n",
    "    \n",
    "    def write_contents(self, contents):\n",
    "        self.contents = contents\n",
    "        "
   ]
  },
  {
   "cell_type": "code",
   "execution_count": 4,
   "id": "1942b75a",
   "metadata": {},
   "outputs": [],
   "source": [
    "class NoteBook(object):\n",
    "    \n",
    "    def __init__(self, title):\n",
    "        self.title = title   # 타이틀(제목)\n",
    "        self.page_number = 1 # 페이지수 : 현재 노트북에 총 몇장의 노트가 있는지 기록\n",
    "        self.notes = {}      # 노트 자체를 저장하기 위한 기억공간\n",
    "    \n",
    "    # 새로운 노트를 삽입하는 행위를 기술하는 메서드\n",
    "    def add_note(self, note, page = 0): \n",
    "        #매개변수로 추가할 note를 받고, page가 300이 넘어가면 안되기 때문에 page = 0 으로 잡았다     \n",
    "        if self.page_number < 300: # 페이지넘버가 300 이하면 새로운 노트 추가 기능\n",
    "            if page == 0:\n",
    "                self.notes[self.page_number] = note\n",
    "                self.page_number += 1\n",
    "            else: \n",
    "                self.notes = {page:note}\n",
    "                self.page_number += 1\n",
    "        else:\n",
    "            print('페이지가 모두 채워졌다.')\n",
    "            \n",
    "    def remove_note(self, page_number):\n",
    "        if page_number in self.notes.keys():\n",
    "            return self.notes.pop(page_number)\n",
    "        else:\n",
    "            print('해당 페이지는 존재하지 않습니다.')\n",
    "    \n",
    "    def get_number_of_pages(self):\n",
    "        return len(self.notes.keys())"
   ]
  },
  {
   "cell_type": "code",
   "execution_count": null,
   "id": "57ebe2bc",
   "metadata": {},
   "outputs": [],
   "source": []
  },
  {
   "cell_type": "markdown",
   "id": "25665816",
   "metadata": {},
   "source": [
    "##### 클래스 실습예제"
   ]
  },
  {
   "cell_type": "code",
   "execution_count": 64,
   "id": "79c4b719",
   "metadata": {
    "ExecuteTime": {
     "end_time": "2022-09-06T05:21:54.918728Z",
     "start_time": "2022-09-06T05:21:54.906651Z"
    }
   },
   "outputs": [],
   "source": [
    "# 원을 객체로 갖는 클래스 구현\n",
    "class Circle:\n",
    "    # 멤버 필드\n",
    "    # r = 0\n",
    "    \n",
    "    # 생성자 메서드 : 객체가 생성될 때 자동으로 호출되는 함수\n",
    "    ## 멤버 필드를 초기화하는 역할\n",
    "#     def __init__(self, r):  # Circle(r)와 같은 의미\n",
    "#         self.r = r\n",
    "        \n",
    "    ## 객체 생성시 가장 처음 수행할 작업을 기술할 때\n",
    "    def __init__(self):   # Circle()에 매핑\n",
    "        self.r = int(input(\"반지름 = \"))\n",
    "        \n",
    "    # 멤버 메서드 : set~, get~\n",
    "    ## 단순히 반지름을 출력하는 메서드\n",
    "    def getRadius(self):\n",
    "        # print(\"r = \", self.r)\n",
    "        return self.r\n",
    "    \n",
    "    ## 사용자가 입력한 반지름을 받아서 멤버 필드에 대입하는 메서드\n",
    "    def setRadius(self, r):\n",
    "        self.r = r\n",
    "        \n",
    "    ## 원의 면적을 계산하여 반환하는 메서드\n",
    "    def getArea(self):\n",
    "        return self.r * self.r * 3.14\n",
    "    \n",
    "    # 소멸자 메서드\n"
   ]
  },
  {
   "cell_type": "code",
   "execution_count": 65,
   "id": "ac8bba20",
   "metadata": {
    "ExecuteTime": {
     "end_time": "2022-09-06T05:14:23.809776Z",
     "start_time": "2022-09-06T05:14:23.798742Z"
    }
   },
   "outputs": [
    {
     "name": "stdout",
     "output_type": "stream",
     "text": [
      "반지름 = 5\n",
      "반지름 =  5\n"
     ]
    }
   ],
   "source": [
    "# 원 객체에 접근하는 인스턴스 객체 생성\n",
    "donut = Circle()\n",
    "\n",
    "# 멤버 필드를 초기화하는 작업\n",
    "# donut.r = 5\n",
    "donut.setRadius(5)\n",
    "\n",
    "# 반지름 출력하는 메서드 호출\n",
    "print(\"반지름 = \", donut.getRadius())"
   ]
  },
  {
   "cell_type": "code",
   "execution_count": 66,
   "id": "306166ea",
   "metadata": {
    "ExecuteTime": {
     "end_time": "2022-09-06T05:17:49.190016Z",
     "start_time": "2022-09-06T05:17:49.173963Z"
    }
   },
   "outputs": [
    {
     "ename": "TypeError",
     "evalue": "__init__() takes 1 positional argument but 2 were given",
     "output_type": "error",
     "traceback": [
      "\u001b[1;31m---------------------------------------------------------------------------\u001b[0m",
      "\u001b[1;31mTypeError\u001b[0m                                 Traceback (most recent call last)",
      "Input \u001b[1;32mIn [66]\u001b[0m, in \u001b[0;36m<cell line: 4>\u001b[1;34m()\u001b[0m\n\u001b[0;32m      1\u001b[0m \u001b[38;5;66;03m# 인스턴스 객체는 생성자를 이용하여 생성한다.\u001b[39;00m\n\u001b[0;32m      2\u001b[0m \u001b[38;5;66;03m# 생성자가 존재하지 않을 경우 default 생성자가 생략된 것으로 간주한다.\u001b[39;00m\n\u001b[0;32m      3\u001b[0m \u001b[38;5;66;03m# default 생성자 : 매개변수를 가지고 있지 않은 생성자 Circle()\u001b[39;00m\n\u001b[1;32m----> 4\u001b[0m a \u001b[38;5;241m=\u001b[39m \u001b[43mCircle\u001b[49m\u001b[43m(\u001b[49m\u001b[38;5;241;43m1\u001b[39;49m\u001b[43m)\u001b[49m\n\u001b[0;32m      5\u001b[0m \u001b[38;5;28mprint\u001b[39m(\u001b[38;5;124m\"\u001b[39m\u001b[38;5;124m반지름 = \u001b[39m\u001b[38;5;124m\"\u001b[39m, a\u001b[38;5;241m.\u001b[39mgetRadius())\n",
      "\u001b[1;31mTypeError\u001b[0m: __init__() takes 1 positional argument but 2 were given"
     ]
    }
   ],
   "source": [
    "\n",
    "# 생성자가 존재하지 않을 경우 default 생성자가 생략된 것으로 간주한다.\n",
    "# default 생성자 : 매개변수를 가지고 있지 않은 생성자 Circle()\n",
    "a = Circle(1)\n",
    "print(\"반지름 = \", a.getRadius())"
   ]
  },
  {
   "cell_type": "code",
   "execution_count": 67,
   "id": "74331a24",
   "metadata": {
    "ExecuteTime": {
     "end_time": "2022-09-06T05:19:43.095423Z",
     "start_time": "2022-09-06T05:19:36.032863Z"
    }
   },
   "outputs": [
    {
     "name": "stdout",
     "output_type": "stream",
     "text": [
      "반지름 = 5\n"
     ]
    },
    {
     "ename": "TypeError",
     "evalue": "__init__() takes 1 positional argument but 2 were given",
     "output_type": "error",
     "traceback": [
      "\u001b[1;31m---------------------------------------------------------------------------\u001b[0m",
      "\u001b[1;31mTypeError\u001b[0m                                 Traceback (most recent call last)",
      "Input \u001b[1;32mIn [67]\u001b[0m, in \u001b[0;36m<cell line: 4>\u001b[1;34m()\u001b[0m\n\u001b[0;32m      1\u001b[0m \u001b[38;5;66;03m# 사용자로부터 반지름을 입력받아 객체를 생성할 수 있다.\u001b[39;00m\n\u001b[0;32m      2\u001b[0m radius \u001b[38;5;241m=\u001b[39m \u001b[38;5;28mint\u001b[39m(\u001b[38;5;28minput\u001b[39m(\u001b[38;5;124m\"\u001b[39m\u001b[38;5;124m반지름 = \u001b[39m\u001b[38;5;124m\"\u001b[39m))\n\u001b[1;32m----> 4\u001b[0m b \u001b[38;5;241m=\u001b[39m \u001b[43mCircle\u001b[49m\u001b[43m(\u001b[49m\u001b[43mradius\u001b[49m\u001b[43m)\u001b[49m\n\u001b[0;32m      5\u001b[0m \u001b[38;5;28mprint\u001b[39m(\u001b[38;5;124m\"\u001b[39m\u001b[38;5;124m반지름 = \u001b[39m\u001b[38;5;124m\"\u001b[39m, b\u001b[38;5;241m.\u001b[39mgetRadius())\n",
      "\u001b[1;31mTypeError\u001b[0m: __init__() takes 1 positional argument but 2 were given"
     ]
    }
   ],
   "source": [
    "# 사용자로부터 반지름을 입력받아 객체를 생성할 수 있다.\n",
    "radius = int(input(\"반지름 = \"))\n",
    "\n",
    "b = Circle(radius)\n",
    "print(\"반지름 = \", b.getRadius())"
   ]
  },
  {
   "cell_type": "code",
   "execution_count": 68,
   "id": "9c56c4f3",
   "metadata": {
    "ExecuteTime": {
     "end_time": "2022-09-06T05:23:45.237176Z",
     "start_time": "2022-09-06T05:23:33.814545Z"
    }
   },
   "outputs": [
    {
     "name": "stdout",
     "output_type": "stream",
     "text": [
      "반지름 = 5\n",
      "원의 면적 =  78.5\n"
     ]
    }
   ],
   "source": [
    "ap = Circle()  \n",
    "\n",
    "print(\"원의 면적 = \", ap.getArea())"
   ]
  },
  {
   "cell_type": "code",
   "execution_count": 69,
   "id": "95b41ff7",
   "metadata": {
    "ExecuteTime": {
     "end_time": "2022-09-06T05:32:30.506598Z",
     "start_time": "2022-09-06T05:32:30.489632Z"
    }
   },
   "outputs": [],
   "source": [
    "# 평면위의 한 점을 객체로 갖고 있는 클래스 선언\n",
    "class Point:\n",
    "    # 멤버 필드\n",
    "    xpos = 0\n",
    "    ypos = 0\n",
    "    \n",
    "    # 생성자 메서드\n",
    "    \n",
    "    # 멤버 메서드\n",
    "    def disp(self):\n",
    "        print(\"점(x, y) = ({0}, {1})\".format(self.xpos, self.ypos))\n",
    "        \n",
    "    ## 좌표값을 변경하는 메서드\n",
    "    def setX(self, x):\n",
    "        self.xpos = x\n",
    "        \n",
    "    def setY(self, y):\n",
    "        self.ypos = y\n",
    "    \n",
    "    # 소멸자 메서드"
   ]
  },
  {
   "cell_type": "code",
   "execution_count": 70,
   "id": "35bc5ced",
   "metadata": {
    "ExecuteTime": {
     "end_time": "2022-09-06T05:28:03.512905Z",
     "start_time": "2022-09-06T05:28:03.504821Z"
    }
   },
   "outputs": [
    {
     "name": "stdout",
     "output_type": "stream",
     "text": [
      "점(x, y) = (0, 0)\n"
     ]
    }
   ],
   "source": [
    "ap = Point()  # default 생성자에 의해 객체 생성\n",
    "ap.disp()"
   ]
  },
  {
   "cell_type": "code",
   "execution_count": 71,
   "id": "232ce5d7",
   "metadata": {
    "ExecuteTime": {
     "end_time": "2022-09-06T05:29:03.221944Z",
     "start_time": "2022-09-06T05:29:03.208334Z"
    }
   },
   "outputs": [
    {
     "name": "stdout",
     "output_type": "stream",
     "text": [
      "점(x, y) = (10, 20)\n"
     ]
    }
   ],
   "source": [
    "# 멤버 필드에 새로운 값을 대입\n",
    "ap.xpos = 10\n",
    "ap.ypos = 20\n",
    "ap.disp()"
   ]
  },
  {
   "cell_type": "code",
   "execution_count": 72,
   "id": "097be3a2",
   "metadata": {
    "ExecuteTime": {
     "end_time": "2022-09-06T05:32:34.024615Z",
     "start_time": "2022-09-06T05:32:34.013535Z"
    }
   },
   "outputs": [
    {
     "name": "stdout",
     "output_type": "stream",
     "text": [
      "점(x, y) = (5, 10)\n"
     ]
    }
   ],
   "source": [
    "# 함수를 이용하여 멤버 필드 초기화\n",
    "ap = Point()\n",
    "\n",
    "ap.setX(5)\n",
    "ap.setY(10)\n",
    "ap.disp()"
   ]
  },
  {
   "cell_type": "code",
   "execution_count": 73,
   "id": "916ce972",
   "metadata": {
    "ExecuteTime": {
     "end_time": "2022-09-06T05:39:31.590545Z",
     "start_time": "2022-09-06T05:39:31.575465Z"
    }
   },
   "outputs": [],
   "source": [
    "# 사각형을 객체로 하는 클래스 선언\n",
    "class Rect:\n",
    "    # 멤버 필드\n",
    "    garo = 0\n",
    "    sero = 0\n",
    "    \n",
    "    # 생성자 메서드\n",
    "    \n",
    "    # 멤버 메서드\n",
    "    def disp(self):\n",
    "        print(\"가로 = {0}, 세로 = {1}\".format(self.garo, self.sero))\n",
    "        \n",
    "    def getArea(self):\n",
    "        return self.garo * self.sero\n",
    "    \n",
    "    ## 정사각형인지 판별하는 함수\n",
    "    def check(self):\n",
    "        if self.garo == self.sero:\n",
    "            return True\n",
    "        else:\n",
    "            return False\n",
    "    \n",
    "    # 소멸자 메서드\n",
    "    "
   ]
  },
  {
   "cell_type": "code",
   "execution_count": 74,
   "id": "3a13972e",
   "metadata": {
    "ExecuteTime": {
     "end_time": "2022-09-06T05:37:26.843858Z",
     "start_time": "2022-09-06T05:37:26.837793Z"
    }
   },
   "outputs": [
    {
     "name": "stdout",
     "output_type": "stream",
     "text": [
      "가로 = 0, 세로 = 0\n"
     ]
    }
   ],
   "source": [
    "# default 생성자를 통해 만들어진 객체\n",
    "a = Rect()  # 가로 = 0, 세로 = 0\n",
    "a.disp()"
   ]
  },
  {
   "cell_type": "code",
   "execution_count": 75,
   "id": "112a56c5",
   "metadata": {
    "ExecuteTime": {
     "end_time": "2022-09-06T05:37:51.254652Z",
     "start_time": "2022-09-06T05:37:51.239492Z"
    }
   },
   "outputs": [
    {
     "name": "stdout",
     "output_type": "stream",
     "text": [
      "가로 = 3, 세로 = 5\n"
     ]
    }
   ],
   "source": [
    "a.garo = 3\n",
    "a.sero = 5\n",
    "a.disp()"
   ]
  },
  {
   "cell_type": "code",
   "execution_count": 76,
   "id": "4026ae4c",
   "metadata": {
    "ExecuteTime": {
     "end_time": "2022-09-06T05:40:51.895170Z",
     "start_time": "2022-09-06T05:40:51.885067Z"
    }
   },
   "outputs": [
    {
     "name": "stdout",
     "output_type": "stream",
     "text": [
      "정사각형이 아닙니다.\n"
     ]
    }
   ],
   "source": [
    "b = Rect()\n",
    "\n",
    "b.garo = 7\n",
    "b.sero = 9\n",
    "\n",
    "if b.check():\n",
    "    print(\"정사각형입니다.\")\n",
    "else:\n",
    "    print(\"정사각형이 아닙니다.\")\n"
   ]
  },
  {
   "cell_type": "markdown",
   "id": "ff183e09",
   "metadata": {},
   "source": [
    "##### 도형 생성하는 프로그램"
   ]
  },
  {
   "cell_type": "code",
   "execution_count": 79,
   "id": "996850ca",
   "metadata": {
    "ExecuteTime": {
     "end_time": "2022-09-06T06:05:17.299404Z",
     "start_time": "2022-09-06T06:04:26.452578Z"
    }
   },
   "outputs": [
    {
     "name": "stdout",
     "output_type": "stream",
     "text": [
      "[1]점  [2]원  [3]사각형 [4]종료 = 3\n",
      "가로 = 0, 세로 = 0\n",
      "[1]점  [2]원  [3]사각형 [4]종료 = 2\n",
      "반지름 = 5\n"
     ]
    },
    {
     "ename": "AttributeError",
     "evalue": "'Circle' object has no attribute 'disp'",
     "output_type": "error",
     "traceback": [
      "\u001b[1;31m---------------------------------------------------------------------------\u001b[0m",
      "\u001b[1;31mAttributeError\u001b[0m                            Traceback (most recent call last)",
      "Input \u001b[1;32mIn [79]\u001b[0m, in \u001b[0;36m<cell line: 8>\u001b[1;34m()\u001b[0m\n\u001b[0;32m     13\u001b[0m \u001b[38;5;28;01melif\u001b[39;00m menu \u001b[38;5;241m==\u001b[39m \u001b[38;5;241m2\u001b[39m:\n\u001b[0;32m     14\u001b[0m     b \u001b[38;5;241m=\u001b[39m Circle()\n\u001b[1;32m---> 15\u001b[0m     \u001b[43mb\u001b[49m\u001b[38;5;241;43m.\u001b[39;49m\u001b[43mdisp\u001b[49m()\n\u001b[0;32m     16\u001b[0m \u001b[38;5;28;01melif\u001b[39;00m menu \u001b[38;5;241m==\u001b[39m \u001b[38;5;241m3\u001b[39m:\n\u001b[0;32m     17\u001b[0m     c \u001b[38;5;241m=\u001b[39m Rect()\n",
      "\u001b[1;31mAttributeError\u001b[0m: 'Circle' object has no attribute 'disp'"
     ]
    }
   ],
   "source": [
    "# 사용자로 부터 원하는 도형을 입력받도록 구현한다.\n",
    "# 사용자가 선택한 도형에 맞는 값을 할당하고 출력한다.\n",
    "# 언제든 프로그램은 종료될 수 있도록 구현한다.\n",
    "\n",
    "while True:\n",
    "    # 화면에 출력되는 메뉴\n",
    "    #print(\"[1]점  [2]원  [3]사각형 [4]종료 = \", end = ' ')\n",
    "    menu = int(input(\"[1]점  [2]원  [3]사각형 [4]종료 = \"))\n",
    "    \n",
    "    if menu == 1:\n",
    "        a = Point()\n",
    "        a.disp()\n",
    "    elif menu == 2:\n",
    "        b = Circle()\n",
    "        b.disp()\n",
    "    elif menu == 3:\n",
    "        c = Rect()\n",
    "        c.disp()\n",
    "    elif menu == 4:\n",
    "        print(\"프로그램을 종료합니다.\")\n",
    "        break\n",
    "    else:\n",
    "        print(\"선택이 올바르지 않습니다.\")    \n",
    "    "
   ]
  },
  {
   "cell_type": "code",
   "execution_count": 80,
   "id": "284bff4c",
   "metadata": {
    "ExecuteTime": {
     "end_time": "2022-09-06T05:46:45.782242Z",
     "start_time": "2022-09-06T05:46:45.778097Z"
    }
   },
   "outputs": [],
   "source": [
    "class Point:\n",
    "    \n",
    "    def __init__(self):  # Point()\n",
    "        self.x = int(input(\"x = \"))\n",
    "        self.y = int(input(\"y = \"))\n",
    "        \n",
    "    def disp(self):\n",
    "        print(\"점(x, y) = ({0}, {1})\".format(self.x, self.y))"
   ]
  },
  {
   "cell_type": "code",
   "execution_count": 81,
   "id": "1aa7921e",
   "metadata": {
    "ExecuteTime": {
     "end_time": "2022-09-06T05:48:18.693460Z",
     "start_time": "2022-09-06T05:48:18.677950Z"
    }
   },
   "outputs": [],
   "source": [
    "class Circle:\n",
    "    \n",
    "    def __init__(self):  # Circle()\n",
    "        self.x = int(input(\"x = \"))\n",
    "        self.y = int(input(\"y = \"))\n",
    "        self.r = int(input(\"r = \"))\n",
    "        \n",
    "    def disp(self):\n",
    "        print(\"점(x, y) = ({0}, {1})\".format(self.x, self.y))\n",
    "        print(\"반지름(r) = \", self.r)"
   ]
  },
  {
   "cell_type": "code",
   "execution_count": 82,
   "id": "81d787da",
   "metadata": {
    "ExecuteTime": {
     "end_time": "2022-09-06T05:49:59.937269Z",
     "start_time": "2022-09-06T05:49:59.931161Z"
    }
   },
   "outputs": [],
   "source": [
    "class Rect:\n",
    "    \n",
    "    def __init__(self):  # Rect()\n",
    "        self.x = int(input(\"x = \"))\n",
    "        self.y = int(input(\"y = \"))\n",
    "        self.h = int(input(\"h = \"))\n",
    "        self.w = int(input(\"w = \"))\n",
    "        \n",
    "    def disp(self):\n",
    "        print(\"점(x, y) = ({0}, {1})\".format(self.x, self.y))\n",
    "        print(\"높이(h) = {0}, 너비(w) = {1})\".format(self.h, self.w))"
   ]
  },
  {
   "cell_type": "markdown",
   "id": "e24cddad",
   "metadata": {},
   "source": [
    "### 상속(Inheritance)"
   ]
  },
  {
   "cell_type": "code",
   "execution_count": 83,
   "id": "69e67bbf",
   "metadata": {
    "ExecuteTime": {
     "end_time": "2022-09-06T06:12:24.687418Z",
     "start_time": "2022-09-06T06:12:24.676093Z"
    }
   },
   "outputs": [],
   "source": [
    "# 상속 : 클래스로부터 멤버를 물려받아서 다시 기술하지 않고 재사용하는 것\n",
    "# 부모클래스 or 상위클래스 or 기반클래스\n",
    "# 자녀클래스 or 하위클래스 or 파생클래스\n",
    "# 기본형 class 클래스명:\n",
    "# 상속 class 자녀클래스(부모클래스):\n",
    "# Person : 이름, 나이, 키\n",
    "# PersonInfo : 이름, 나이, 키, 체중, 시력"
   ]
  },
  {
   "cell_type": "code",
   "execution_count": 84,
   "id": "69e1b55a",
   "metadata": {
    "ExecuteTime": {
     "end_time": "2022-09-06T06:14:46.432332Z",
     "start_time": "2022-09-06T06:14:46.426277Z"
    }
   },
   "outputs": [],
   "source": [
    "# 상위클래스(부모클래스, 기반클래스)\n",
    "class Person:  \n",
    "    \n",
    "    def __init__(self, name, age, height):\n",
    "        self.name = name\n",
    "        self.age = age\n",
    "        self.height = height\n",
    "        \n",
    "    def disp(self):\n",
    "        print(\"이름 : \" + self.name, end = \" \")\n",
    "        print(\"나이 : \" + str(self.age), end = \" \")\n",
    "        print(\"신장 : \" + str(self.height), end = \" \")"
   ]
  },
  {
   "cell_type": "code",
   "execution_count": 85,
   "id": "fc9e34d5",
   "metadata": {
    "ExecuteTime": {
     "end_time": "2022-09-06T06:17:09.380466Z",
     "start_time": "2022-09-06T06:17:09.374008Z"
    }
   },
   "outputs": [],
   "source": [
    "# 하위클래스(자녀클래스, 파생클래스)\n",
    "class PersonInfo(Person):\n",
    "    \n",
    "    def disp(self): # 오버라이딩(재정의)\n",
    "        print(\"체중 : \" + str(self.weight), end = \" \")\n",
    "        print(\"시력(좌) : \" + str(self.left_eye), end = \" \")\n",
    "        print(\"시력(우) : \" + str(self.right_eye), end = \" \")"
   ]
  },
  {
   "cell_type": "code",
   "execution_count": 86,
   "id": "eb358698",
   "metadata": {
    "ExecuteTime": {
     "end_time": "2022-09-06T06:21:15.929577Z",
     "start_time": "2022-09-06T06:21:15.923497Z"
    }
   },
   "outputs": [
    {
     "name": "stdout",
     "output_type": "stream",
     "text": [
      "체중 : 71.5 시력(좌) : 1.5 시력(우) : 1.5 "
     ]
    }
   ],
   "source": [
    "# 자녀클래스는 반드시 상속받은 부모 클래스의 멤버를 초기화해야 한다.\n",
    "p1 = PersonInfo(\"홍길동\", 20, 180.5)\n",
    "p1.weight = 71.5\n",
    "p1.left_eye = 1.5\n",
    "p1.right_eye = 1.5\n",
    "p1.disp()"
   ]
  },
  {
   "cell_type": "code",
   "execution_count": 87,
   "id": "370c0fe9",
   "metadata": {
    "ExecuteTime": {
     "end_time": "2022-09-06T06:27:49.379459Z",
     "start_time": "2022-09-06T06:27:49.370379Z"
    }
   },
   "outputs": [],
   "source": [
    "# 하위클래스(자녀클래스, 파생클래스)\n",
    "class PersonInfo(Person):\n",
    "    \n",
    "    def __init__(self, name, age, height, weight, left_eye, right_eye):\n",
    "        # 부모 멤버의 생성자 호출\n",
    "        Person.__init__(self, name, age, height)\n",
    "        self.weight = weight\n",
    "        self.left_eye = left_eye\n",
    "        self.right_eye = right_eye\n",
    "    \n",
    "    def disp(self): # 오버라이딩(재정의)\n",
    "        # 부모클래스의 멤버 메서드 호출\n",
    "        Person.disp(self)\n",
    "        print(\"체중 : \" + str(self.weight), end = \" \")\n",
    "        print(\"시력(좌) : \" + str(self.left_eye), end = \" \")\n",
    "        print(\"시력(우) : \" + str(self.right_eye), end = \" \")"
   ]
  },
  {
   "cell_type": "code",
   "execution_count": 88,
   "id": "8662f4c1",
   "metadata": {
    "ExecuteTime": {
     "end_time": "2022-09-06T06:27:51.753399Z",
     "start_time": "2022-09-06T06:27:51.736794Z"
    }
   },
   "outputs": [
    {
     "name": "stdout",
     "output_type": "stream",
     "text": [
      "이름 : 홍길동 나이 : 33 신장 : 180.7 체중 : 71.5 시력(좌) : 1.0 시력(우) : 1.0 "
     ]
    }
   ],
   "source": [
    "p1 = PersonInfo(\"홍길동\", 33, 180.7, 71.5, 1.0, 1.0)\n",
    "p1.disp()"
   ]
  },
  {
   "cell_type": "markdown",
   "id": "f0d6a177",
   "metadata": {},
   "source": [
    "### 친구관리 프로그램"
   ]
  },
  {
   "cell_type": "code",
   "execution_count": 89,
   "id": "72ce6dc4",
   "metadata": {},
   "outputs": [],
   "source": [
    "# 중학교 : 이름, 연락처\n",
    "# 고등학교 : 이름, 연락처, 주소\n",
    "# 대학교 : 이름, 연락처, 전공\n",
    "# 사회인 : 이름, 연락처, 회사명, 직책"
   ]
  },
  {
   "cell_type": "code",
   "execution_count": 90,
   "id": "dd5b8f0c",
   "metadata": {
    "ExecuteTime": {
     "end_time": "2022-09-06T06:34:17.446059Z",
     "start_time": "2022-09-06T06:34:17.427416Z"
    }
   },
   "outputs": [],
   "source": [
    "class Middle:\n",
    "    # 멤버 필드\n",
    "    name = \"\"\n",
    "    phone = \"\"\n",
    "    \n",
    "    # 생성자 메서드\n",
    "    def __init__(self, name, phone):\n",
    "        self.name = name\n",
    "        self.phone = phone\n",
    "        \n",
    "    # 멤버 메서드\n",
    "    def disp(self):\n",
    "        print(\"이름 : \", self.name)\n",
    "        print(\"연락처 : \", self.phone)"
   ]
  },
  {
   "cell_type": "code",
   "execution_count": 91,
   "id": "5149ff51",
   "metadata": {
    "ExecuteTime": {
     "end_time": "2022-09-06T06:38:04.828209Z",
     "start_time": "2022-09-06T06:38:04.824161Z"
    }
   },
   "outputs": [
    {
     "name": "stdout",
     "output_type": "stream",
     "text": [
      "이름 :  aaa\n",
      "연락처 :  010-1111-2222\n",
      "이름 :  bbb\n",
      "연락처 :  010-2222-3333\n",
      "이름 :  ccc\n",
      "연락처 :  010-3333-4444\n"
     ]
    }
   ],
   "source": [
    "m1 = Middle(\"aaa\", \"010-1111-2222\")\n",
    "m2 = Middle(\"bbb\", \"010-2222-3333\")\n",
    "m3 = Middle(\"ccc\", \"010-3333-4444\")\n",
    "\n",
    "m1.disp()\n",
    "m2.disp()\n",
    "m3.disp()"
   ]
  },
  {
   "cell_type": "code",
   "execution_count": 92,
   "id": "d0678121",
   "metadata": {
    "ExecuteTime": {
     "end_time": "2022-09-06T06:39:48.989737Z",
     "start_time": "2022-09-06T06:39:48.976643Z"
    }
   },
   "outputs": [
    {
     "name": "stdout",
     "output_type": "stream",
     "text": [
      "이름 :  aaa\n",
      "연락처 :  010-1111-2222\n",
      "이름 :  bbb\n",
      "연락처 :  010-2222-3333\n",
      "이름 :  ccc\n",
      "연락처 :  010-3333-4444\n"
     ]
    }
   ],
   "source": [
    "friends = [\n",
    "           Middle(\"aaa\", \"010-1111-2222\"),\n",
    "           Middle(\"bbb\", \"010-2222-3333\"),\n",
    "           Middle(\"ccc\", \"010-3333-4444\")\n",
    "]\n",
    "# friends.append(m1)\n",
    "# friends.append(m2)\n",
    "# friends.append(m3)\n",
    "\n",
    "# friends[0].disp()\n",
    "# friends[1].disp()\n",
    "# friends[2].disp()\n",
    "\n",
    "for friend in friends:\n",
    "    friend.disp()"
   ]
  },
  {
   "cell_type": "code",
   "execution_count": 93,
   "id": "fcc21fd3",
   "metadata": {
    "ExecuteTime": {
     "end_time": "2022-09-06T06:33:21.351606Z",
     "start_time": "2022-09-06T06:33:21.335210Z"
    }
   },
   "outputs": [],
   "source": [
    "class High(Middle):\n",
    "    # 멤버 필드\n",
    "    address = \"\"\n",
    "    \n",
    "    # 생성자 메서드\n",
    "    def __init__(self, name, phone, address):\n",
    "        Middle.__init__(self, name, phone)\n",
    "        self.address = address\n",
    "        \n",
    "    # 멤버 메서드\n",
    "    def disp(self): \n",
    "        Middle.disp(self)\n",
    "        print(\"주소 : \", self.address)"
   ]
  },
  {
   "cell_type": "code",
   "execution_count": 94,
   "id": "f3e2adb2",
   "metadata": {},
   "outputs": [],
   "source": [
    "h1 = High(\"kim\", \"010-9999-9999\", \"부산시\")\n",
    "h2 = High(\"park\", \"010-8888-8888\", \"대전시\")"
   ]
  },
  {
   "cell_type": "code",
   "execution_count": 95,
   "id": "7661724e",
   "metadata": {
    "ExecuteTime": {
     "end_time": "2022-09-06T06:31:02.280112Z",
     "start_time": "2022-09-06T06:31:02.264965Z"
    }
   },
   "outputs": [],
   "source": [
    "class Univ(Middle):\n",
    "    # 멤버필드\n",
    "#     name = \"\"\n",
    "#     phone = \"\"\n",
    "    major = \"\"\n",
    "    \n",
    "    pass"
   ]
  },
  {
   "cell_type": "code",
   "execution_count": 96,
   "id": "38e728a0",
   "metadata": {
    "ExecuteTime": {
     "end_time": "2022-09-06T06:31:11.651732Z",
     "start_time": "2022-09-06T06:31:11.646478Z"
    }
   },
   "outputs": [],
   "source": [
    "class Soc:\n",
    "    pass"
   ]
  },
  {
   "cell_type": "markdown",
   "id": "f66fc76a",
   "metadata": {},
   "source": [
    "### 급여관리 프로그램 구현\n",
    "\n",
    "- A라는 회사가 창업을 하면서 채용한 모든 직원을 정규직으로 관리하는 프로그램을 구현하려고 한다.\n",
    "- 직원에 대한 정보는 이름, 급여를 기반으로 관리한다.\n",
    "- 새로운 직원을 등록할 수 있고, 매달 지급되는 직원의 급여를 출력할 수 있고, 모든 직원의 정보 출력"
   ]
  },
  {
   "cell_type": "code",
   "execution_count": 97,
   "id": "b231bee1",
   "metadata": {
    "ExecuteTime": {
     "end_time": "2022-09-06T08:08:21.602231Z",
     "start_time": "2022-09-06T08:08:21.595153Z"
    }
   },
   "outputs": [],
   "source": [
    "# 최상위 부모 클래스 객체\n",
    "class Employee:\n",
    "    # 멤버 필드\n",
    "#     name = \"\"   \n",
    "    \n",
    "    # 생성자 메서드\n",
    "    def __init__(self, name):\n",
    "        self.name = name       \n",
    "    \n",
    "    # 멤버 메서드\n",
    "    def getPay(self):\n",
    "        return self.salary\n",
    "    \n",
    "    def disp(self):\n",
    "        print(\"이름 : \" + self.name, end = \" \")\n",
    "       \n",
    "    # 소멸자 메서드"
   ]
  },
  {
   "cell_type": "code",
   "execution_count": 98,
   "id": "5a6dc353",
   "metadata": {
    "ExecuteTime": {
     "end_time": "2022-09-06T08:08:26.056849Z",
     "start_time": "2022-09-06T08:08:26.046641Z"
    }
   },
   "outputs": [],
   "source": [
    "# 정규직 직원을 관리하는 객체\n",
    "class Permanent(Employee):\n",
    "    # 멤버 필드\n",
    "#     name = \"\"\n",
    "#     salary = 0\n",
    "    \n",
    "    # 생성자 메서드\n",
    "    ## 상속받은 자녀객체는 반드시 부모객체의 멤버를 초기화시켜줄 의무가 있다.\n",
    "    def __init__(self, name, salary): # 직원을 등록하는 역할을 수행하는 메서드\n",
    "        Employee.__init__(self, name) # 부모 생성자 호출\n",
    "        self.salary = salary\n",
    "    \n",
    "    # 멤버 메서드\n",
    "    def addEmployee(self, name, salary): # 직원을 등록하는 역할을 수행하는 메서드\n",
    "        self.name = name\n",
    "        self.salary = salary\n",
    "        \n",
    "    def getPay(self): # 한 명의 직원의 급여를 반환하는 함수\n",
    "        return self.salary\n",
    "    \n",
    "    def disp(self):\n",
    "#         print(\"이름 : \", self.name, end = \" \")         \n",
    "        Employee.disp(self) # 부모메서드 호출\n",
    "        print(\"급여 : \" + str(self.getPay()))"
   ]
  },
  {
   "cell_type": "code",
   "execution_count": 99,
   "id": "a73d04fe",
   "metadata": {
    "ExecuteTime": {
     "end_time": "2022-09-06T08:09:44.362148Z",
     "start_time": "2022-09-06T08:09:44.346260Z"
    }
   },
   "outputs": [],
   "source": [
    "# 영업직 직원을 관리하는 객체 선언\n",
    "class Sales(Permanent):\n",
    "    # 멤버 필드\n",
    "#     name = \"\"\n",
    "#     salary = 0\n",
    "#     bonus = 0\n",
    "#     rate = 0 \n",
    "    \n",
    "    # 생성자 메서드\n",
    "    def __init__(self, name, salary, bonus, rate):\n",
    "        Permanent.__init__(self, name, salary)\n",
    "        self.bonus = bonus\n",
    "        self.rate = rate\n",
    "        \n",
    "    def getPay(self):\n",
    "        return Permanent.getPay(self) + (self.bonus * self.rate)\n",
    "    \n",
    "    def disp(self):\n",
    "        Permanent.disp(self)\n",
    "        print(\"판매실적 : \" + str(self.bonus))\n",
    "        print(\"보너스율 : \" + str(self.rate))"
   ]
  },
  {
   "cell_type": "code",
   "execution_count": 100,
   "id": "450ff13d",
   "metadata": {
    "ExecuteTime": {
     "end_time": "2022-09-06T07:15:29.817982Z",
     "start_time": "2022-09-06T07:15:29.807920Z"
    }
   },
   "outputs": [
    {
     "ename": "NameError",
     "evalue": "name 'Manager' is not defined",
     "output_type": "error",
     "traceback": [
      "\u001b[1;31m---------------------------------------------------------------------------\u001b[0m",
      "\u001b[1;31mNameError\u001b[0m                                 Traceback (most recent call last)",
      "Input \u001b[1;32mIn [100]\u001b[0m, in \u001b[0;36m<cell line: 5>\u001b[1;34m()\u001b[0m\n\u001b[0;32m      2\u001b[0m employees \u001b[38;5;241m=\u001b[39m []\n\u001b[0;32m      4\u001b[0m \u001b[38;5;66;03m# 새로운 직원을 등록하는 작업\u001b[39;00m\n\u001b[1;32m----> 5\u001b[0m e1 \u001b[38;5;241m=\u001b[39m \u001b[43mManager\u001b[49m(\u001b[38;5;124m\"\u001b[39m\u001b[38;5;124maaa\u001b[39m\u001b[38;5;124m\"\u001b[39m, \u001b[38;5;241m1000\u001b[39m)\n\u001b[0;32m      6\u001b[0m \u001b[38;5;66;03m#e1.addEmployee(\"aaa\", 1000)\u001b[39;00m\n\u001b[0;32m      7\u001b[0m employees\u001b[38;5;241m.\u001b[39mappend(e1)\n",
      "\u001b[1;31mNameError\u001b[0m: name 'Manager' is not defined"
     ]
    }
   ],
   "source": [
    "# 전체 직원 정보를 담고 있는 리스트 생성\n",
    "employees = []\n",
    "\n",
    "# 새로운 직원을 등록하는 작업\n",
    "e1 = Manager(\"aaa\", 1000)\n",
    "#e1.addEmployee(\"aaa\", 1000)\n",
    "employees.append(e1)"
   ]
  },
  {
   "cell_type": "code",
   "execution_count": 101,
   "id": "692bafc3",
   "metadata": {
    "ExecuteTime": {
     "end_time": "2022-09-06T07:15:32.934872Z",
     "start_time": "2022-09-06T07:15:32.929632Z"
    }
   },
   "outputs": [
    {
     "ename": "IndexError",
     "evalue": "list index out of range",
     "output_type": "error",
     "traceback": [
      "\u001b[1;31m---------------------------------------------------------------------------\u001b[0m",
      "\u001b[1;31mIndexError\u001b[0m                                Traceback (most recent call last)",
      "Input \u001b[1;32mIn [101]\u001b[0m, in \u001b[0;36m<cell line: 1>\u001b[1;34m()\u001b[0m\n\u001b[1;32m----> 1\u001b[0m \u001b[38;5;28mprint\u001b[39m(\u001b[43memployees\u001b[49m\u001b[43m[\u001b[49m\u001b[38;5;241;43m0\u001b[39;49m\u001b[43m]\u001b[49m\u001b[38;5;241m.\u001b[39mdisp())\n",
      "\u001b[1;31mIndexError\u001b[0m: list index out of range"
     ]
    }
   ],
   "source": [
    "print(employees[0].disp())"
   ]
  },
  {
   "cell_type": "code",
   "execution_count": 102,
   "id": "b4c5f896",
   "metadata": {
    "ExecuteTime": {
     "end_time": "2022-09-06T08:13:04.834648Z",
     "start_time": "2022-09-06T08:12:27.226739Z"
    }
   },
   "outputs": [
    {
     "name": "stdout",
     "output_type": "stream",
     "text": [
      "== 직원관리 프로그램 ==\n",
      "1. 직원등록\n",
      "2. 직원정보 출력\n",
      "3. 총 급여액 출력\n",
      "4. 프로그램 종료\n",
      "menu = 5\n",
      "메뉴의 선택이 올바르지 않습니다.\n",
      "== 직원관리 프로그램 ==\n",
      "1. 직원등록\n",
      "2. 직원정보 출력\n",
      "3. 총 급여액 출력\n",
      "4. 프로그램 종료\n",
      "menu = 2\n",
      "\n",
      "== 전체 직원정보 출력 ==\n",
      "직원정보 출력이 완료되었습니다.\n",
      "== 직원관리 프로그램 ==\n",
      "1. 직원등록\n",
      "2. 직원정보 출력\n",
      "3. 총 급여액 출력\n",
      "4. 프로그램 종료\n",
      "menu = 4\n",
      "프로그램을 종료합니다.\n"
     ]
    }
   ],
   "source": [
    "# 직원전체 정보를 저장할 객체\n",
    "empList = []\n",
    "\n",
    "while True:\n",
    "    print(\"== 직원관리 프로그램 ==\")\n",
    "    print(\"1. 직원등록\")\n",
    "    print(\"2. 직원정보 출력\")\n",
    "    print(\"3. 총 급여액 출력\")\n",
    "    print(\"4. 프로그램 종료\")\n",
    "    \n",
    "    menu = int(input(\"menu = \"))\n",
    "    \n",
    "    if menu == 1:\n",
    "        ch = int(input(\"[1]정규직 [2]영업직 = \"))\n",
    "        if ch == 1:\n",
    "            name = input(\"이름 = \")\n",
    "            pay = int(input(\"기본급 = \"))        \n",
    "            emp = Permanent(name, pay)\n",
    "        elif ch == 2:\n",
    "            name = input(\"이름 = \")\n",
    "            pay = int(input(\"기본급 = \"))   \n",
    "            bonus = int(input(\"판매실적 = \"))\n",
    "            rate = int(input(\"보너스율 = \"))   \n",
    "            emp = Sales(name, pay, bonus, rate)\n",
    "          \n",
    "        empList.append(emp)\n",
    "        print(\"직원등록이 완료되었습니다.\")\n",
    "    elif menu == 2:\n",
    "        print(\"\\n== 전체 직원정보 출력 ==\")\n",
    "        for emp in empList:\n",
    "            emp.disp()\n",
    "            \n",
    "        print(\"직원정보 출력이 완료되었습니다.\")\n",
    "    elif menu == 3:\n",
    "        print(\"\\n== 지급되는 직원급여의 총합 ==\")\n",
    "        tot = 0\n",
    "        for emp in empList:\n",
    "            tot += emp.getPay()\n",
    "        print(\"총 급여액 : \", tot)\n",
    "    elif menu == 4:\n",
    "        print(\"프로그램을 종료합니다.\")\n",
    "        break\n",
    "    else:\n",
    "        print(\"메뉴의 선택이 올바르지 않습니다.\")"
   ]
  },
  {
   "cell_type": "code",
   "execution_count": null,
   "id": "fb562d83",
   "metadata": {},
   "outputs": [],
   "source": []
  }
 ],
 "metadata": {
  "kernelspec": {
   "display_name": "Python 3 (ipykernel)",
   "language": "python",
   "name": "python3"
  },
  "language_info": {
   "codemirror_mode": {
    "name": "ipython",
    "version": 3
   },
   "file_extension": ".py",
   "mimetype": "text/x-python",
   "name": "python",
   "nbconvert_exporter": "python",
   "pygments_lexer": "ipython3",
   "version": "3.9.12"
  },
  "toc": {
   "base_numbering": 1,
   "nav_menu": {},
   "number_sections": true,
   "sideBar": true,
   "skip_h1_title": false,
   "title_cell": "Table of Contents",
   "title_sidebar": "Contents",
   "toc_cell": false,
   "toc_position": {},
   "toc_section_display": true,
   "toc_window_display": false
  }
 },
 "nbformat": 4,
 "nbformat_minor": 5
}

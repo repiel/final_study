{
 "cells": [
  {
   "cell_type": "markdown",
   "id": "3c3a20c8",
   "metadata": {},
   "source": [
    "### 객체 지향 프로그래밍(OOP,Object Oriented Programming)\n",
    "- 객체(Object)를 중심으로 프로그램을 구현하거나 생각하는 것\n",
    "- 클래스(class) 기반의 객체 지향 프로그래밍 언어는 클래스 기반으로 객체를 만들고, 그 객체를 중심으로 프로그램을 구현한다."
   ]
  },
  {
   "cell_type": "code",
   "execution_count": 9,
   "id": "5bd27352",
   "metadata": {},
   "outputs": [
    {
     "name": "stdout",
     "output_type": "stream",
     "text": [
      "이름\t총점\t평균\n",
      "홍길동\t368\t92.0\n",
      "장보고\t376\t94.0\n",
      "유관순\t379\t94.75\n",
      "김유신\t362\t90.5\n",
      "이순신\t370\t92.5\n"
     ]
    }
   ],
   "source": [
    "# 학생 정보를 담고 있는 리스트\n",
    "students = [\n",
    "    {'name':'홍길동', 'kor':87, 'eng':88, 'math':98, 'sci':95},\n",
    "    {'name':'장보고', 'kor':92, 'eng':98, 'math':96, 'sci':90},\n",
    "    {'name':'유관순', 'kor':99, 'eng':92, 'math':99, 'sci':89},\n",
    "    {'name':'김유신', 'kor':95, 'eng':89, 'math':88, 'sci':90},\n",
    "    {'name':'이순신', 'kor':99, 'eng':80, 'math':92, 'sci':99}\n",
    "]\n",
    "\n",
    "# 구조체 => 클래스\n",
    "\n",
    "# 학생정보를 한명씩 반복해서 출력하는 로직\n",
    "print('이름',\"총점\",'평균',sep='\\t') # sep = \"\\t\" 구분자, end = \"\\n\"\n",
    "\n",
    "# for 개변변수 in 집합변수\n",
    "for student in students:\n",
    "    #student 의 자료형은 사전이다.\n",
    "    # 사전은 key를 이용해서 값을 조회한다.\n",
    "    score_sum = student['kor'] + student['eng'] + student['math'] + student['sci'] \n",
    "    score_avg = score_sum / 4\n",
    "    \n",
    "    # 계산된 학생 한 명의 정보를 출력\n",
    "    print(student['name'], score_sum, score_avg, sep ='\\t')"
   ]
  },
  {
   "cell_type": "code",
   "execution_count": 10,
   "id": "9827b997",
   "metadata": {},
   "outputs": [
    {
     "ename": "SyntaxError",
     "evalue": "invalid syntax (2486784013.py, line 9)",
     "output_type": "error",
     "traceback": [
      "\u001b[1;36m  Input \u001b[1;32mIn [10]\u001b[1;36m\u001b[0m\n\u001b[1;33m    'sci':sci\u001b[0m\n\u001b[1;37m    ^\u001b[0m\n\u001b[1;31mSyntaxError\u001b[0m\u001b[1;31m:\u001b[0m invalid syntax\n"
     ]
    }
   ],
   "source": [
    "# 학생 한명에 대한 정보를 만드는 함수를 구현\n",
    "# 학생 정보를 입력받아 사전으로 변환하여 되돌려주는 역할을 수행하는 함수를 선언\n",
    "def create_student(name, kor, eng, math, sci):\n",
    "    return{\n",
    "        'name':name,\n",
    "        'kor':kor,\n",
    "        'eng':eng,\n",
    "        'math':math\n",
    "        'sci':sci\n",
    "    }\n",
    "\n",
    "# 학생정보를 담은 리스트를 구현\n",
    "students = [\n",
    "    create_student('홍길동', 87, 88, 98, 95),\n",
    "    create_student('장보고', 92, 98, 96, 90),\n",
    "    create_student('유관순', 99, 92, 99, 89),\n",
    "    create_student('김유신', 95, 89, 88, 90),\n",
    "    create_student('이순신', 99, 80, 92, 99),\n",
    "]\n",
    "\n"
   ]
  },
  {
   "cell_type": "code",
   "execution_count": 11,
   "id": "db64fb54",
   "metadata": {},
   "outputs": [],
   "source": [
    "class Person:\n",
    "    # 멤버 필드 = 프로퍼티스(클래스 변수, 공유 목적의 변수)\n",
    "    name = '강감찬'\n",
    "    age = 20\n",
    "    height = 180.5 # ==>Person으로 적용됨\n",
    "    \n",
    "    # 멤버 메서드 = 함수(Function = Method)\n",
    "    def show(self):\n",
    "        ## self.변수명 : 인스턴스 변수(개별적인 값)\n",
    "        print('이름 : ' + self.name, end = ' ')\n",
    "        print('나이 : ' + str(self.age), end = ' ')\n",
    "        print('신장 : ' + str(self.height))\n",
    "        \n",
    "        \n",
    "        \n",
    "        ## 클래스명, 변수명 : 클래스 변수(공통적인 값)\n",
    "        print('이름 : ' + Person.name, end = ' ')\n",
    "        print('나이 : ' + str(Person.age), end = ' ')\n",
    "        print('신장 : ' + str(Person.height))"
   ]
  },
  {
   "cell_type": "code",
   "execution_count": 12,
   "id": "7cde31c0",
   "metadata": {},
   "outputs": [
    {
     "name": "stdout",
     "output_type": "stream",
     "text": [
      "이름 : 김철수 나이 : 21 신장 : 177.7\n",
      "이름 : 강감찬 나이 : 20 신장 : 180.5\n"
     ]
    }
   ],
   "source": [
    "p4 = Person()\n",
    "p4.name = '김철수'\n",
    "p4.age = 21\n",
    "p4.height = 177.7 #===> self로 적용됨\n",
    "\n",
    "p4.show()"
   ]
  },
  {
   "cell_type": "code",
   "execution_count": 13,
   "id": "7a606a1b",
   "metadata": {},
   "outputs": [
    {
     "name": "stdout",
     "output_type": "stream",
     "text": [
      "이름 : 강감찬 나이 : 20 신장 : 180.5\n",
      "이름 : 강감찬 나이 : 20 신장 : 180.5\n"
     ]
    }
   ],
   "source": [
    "p5 = Person()\n",
    "p5.show()"
   ]
  },
  {
   "cell_type": "code",
   "execution_count": 14,
   "id": "f857c653",
   "metadata": {},
   "outputs": [
    {
     "name": "stdout",
     "output_type": "stream",
     "text": [
      "1 2 3\n"
     ]
    }
   ],
   "source": [
    "# default Parameter : 매개변수의 초기화\n",
    "def aaa(x, y, z):\n",
    "    print(x, y, z)\n",
    "    \n",
    "aaa(1, 2, 3)"
   ]
  },
  {
   "cell_type": "code",
   "execution_count": 15,
   "id": "567fff09",
   "metadata": {},
   "outputs": [
    {
     "name": "stdout",
     "output_type": "stream",
     "text": [
      "1 2 30\n"
     ]
    }
   ],
   "source": [
    "def aaa(x, y, z = 30): # 뒤의 값에서 부터 숫자를 입력해야 함\n",
    "    print(x, y, z)\n",
    "    \n",
    "aaa(1, 2)"
   ]
  },
  {
   "cell_type": "code",
   "execution_count": 19,
   "id": "76b25531",
   "metadata": {},
   "outputs": [
    {
     "name": "stdout",
     "output_type": "stream",
     "text": [
      "1 20 30\n"
     ]
    }
   ],
   "source": [
    "def aaa(x = 10, y = 20, z = 30):\n",
    "    print(x, y, z)\n",
    "    \n",
    "aaa(1)"
   ]
  },
  {
   "cell_type": "code",
   "execution_count": 21,
   "id": "68f6c198",
   "metadata": {},
   "outputs": [
    {
     "name": "stdout",
     "output_type": "stream",
     "text": [
      "1 2 30\n"
     ]
    }
   ],
   "source": [
    "aaa(1,2)"
   ]
  },
  {
   "cell_type": "code",
   "execution_count": 22,
   "id": "16c3914e",
   "metadata": {},
   "outputs": [
    {
     "name": "stdout",
     "output_type": "stream",
     "text": [
      "1 20 30\n"
     ]
    }
   ],
   "source": [
    "aaa(1)"
   ]
  },
  {
   "cell_type": "code",
   "execution_count": 23,
   "id": "f0396f50",
   "metadata": {},
   "outputs": [
    {
     "name": "stdout",
     "output_type": "stream",
     "text": [
      "10 20 30\n"
     ]
    }
   ],
   "source": [
    "aaa()"
   ]
  },
  {
   "cell_type": "code",
   "execution_count": 24,
   "id": "8a195418",
   "metadata": {},
   "outputs": [],
   "source": [
    "# 회원 객체 클래스 선언\n",
    "class Member:\n",
    "    def info(self):\n",
    "        print('아이디 : ' + self.userid, end = ' ')\n",
    "        print('비밀번호 : ' + self.pwd, end = ' ')\n",
    "        print('이름 : ' + self.name, end = ' ')\n",
    "        print('나이 : ' + str(self.age))\n",
    "        \n",
    "        "
   ]
  },
  {
   "cell_type": "code",
   "execution_count": 26,
   "id": "f2f4ed05",
   "metadata": {},
   "outputs": [
    {
     "ename": "AttributeError",
     "evalue": "'Member' object has no attribute 'userid'",
     "output_type": "error",
     "traceback": [
      "\u001b[1;31m---------------------------------------------------------------------------\u001b[0m",
      "\u001b[1;31mAttributeError\u001b[0m                            Traceback (most recent call last)",
      "Input \u001b[1;32mIn [26]\u001b[0m, in \u001b[0;36m<cell line: 5>\u001b[1;34m()\u001b[0m\n\u001b[0;32m      2\u001b[0m m1 \u001b[38;5;241m=\u001b[39m Member() \u001b[38;5;66;03m# 객체 생성시 default 생성자가 호출된다.\u001b[39;00m\n\u001b[0;32m      4\u001b[0m \u001b[38;5;66;03m# 인스턴스 변수에 멤버 필드에 초기화를 하지 않으면 에러가 발생한다.\u001b[39;00m\n\u001b[1;32m----> 5\u001b[0m \u001b[43mm1\u001b[49m\u001b[38;5;241;43m.\u001b[39;49m\u001b[43minfo\u001b[49m\u001b[43m(\u001b[49m\u001b[43m)\u001b[49m\n",
      "Input \u001b[1;32mIn [24]\u001b[0m, in \u001b[0;36mMember.info\u001b[1;34m(self)\u001b[0m\n\u001b[0;32m      2\u001b[0m \u001b[38;5;28;01mdef\u001b[39;00m \u001b[38;5;21minfo\u001b[39m(\u001b[38;5;28mself\u001b[39m):\n\u001b[1;32m----> 3\u001b[0m     \u001b[38;5;28mprint\u001b[39m(\u001b[38;5;124m'\u001b[39m\u001b[38;5;124m아이디 : \u001b[39m\u001b[38;5;124m'\u001b[39m \u001b[38;5;241m+\u001b[39m \u001b[38;5;28;43mself\u001b[39;49m\u001b[38;5;241;43m.\u001b[39;49m\u001b[43muserid\u001b[49m, end \u001b[38;5;241m=\u001b[39m \u001b[38;5;124m'\u001b[39m\u001b[38;5;124m \u001b[39m\u001b[38;5;124m'\u001b[39m)\n\u001b[0;32m      4\u001b[0m     \u001b[38;5;28mprint\u001b[39m(\u001b[38;5;124m'\u001b[39m\u001b[38;5;124m비밀번호 : \u001b[39m\u001b[38;5;124m'\u001b[39m \u001b[38;5;241m+\u001b[39m \u001b[38;5;28mself\u001b[39m\u001b[38;5;241m.\u001b[39mpwd, end \u001b[38;5;241m=\u001b[39m \u001b[38;5;124m'\u001b[39m\u001b[38;5;124m \u001b[39m\u001b[38;5;124m'\u001b[39m)\n\u001b[0;32m      5\u001b[0m     \u001b[38;5;28mprint\u001b[39m(\u001b[38;5;124m'\u001b[39m\u001b[38;5;124m이름 : \u001b[39m\u001b[38;5;124m'\u001b[39m \u001b[38;5;241m+\u001b[39m \u001b[38;5;28mself\u001b[39m\u001b[38;5;241m.\u001b[39mname, end \u001b[38;5;241m=\u001b[39m \u001b[38;5;124m'\u001b[39m\u001b[38;5;124m \u001b[39m\u001b[38;5;124m'\u001b[39m)\n",
      "\u001b[1;31mAttributeError\u001b[0m: 'Member' object has no attribute 'userid'"
     ]
    }
   ],
   "source": [
    "# 회원 인스턴스 객체 생성\n",
    "m1 = Member() # 객체 생성시 default 생성자가 호출된다.\n",
    "\n",
    "# 인스턴스 변수에 멤버 필드에 초기화를 하지 않으면 에러가 발생한다.\n",
    "m1.info()"
   ]
  },
  {
   "cell_type": "code",
   "execution_count": 27,
   "id": "e142d85a",
   "metadata": {},
   "outputs": [
    {
     "name": "stdout",
     "output_type": "stream",
     "text": [
      "아이디 : kim 비밀번호 : 1234 이름 : 김길동 나이 : 20\n"
     ]
    }
   ],
   "source": [
    "m2 = Member()\n",
    "\n",
    "m2.userid = 'kim'\n",
    "m2.pwd = '1234'\n",
    "m2.name = '김길동'\n",
    "m2.age = 20\n",
    "\n",
    "m2.info()"
   ]
  },
  {
   "cell_type": "code",
   "execution_count": 32,
   "id": "92c22d63",
   "metadata": {},
   "outputs": [],
   "source": [
    "class Member:\n",
    "   # 생성자 메서드 : 객체 생성시 멤버 필드를 초기화할 목적으로 구현되는 메서드\n",
    "    def __init__(self, userid, pwd, name, age):\n",
    "        self.userid = userid\n",
    "        self.pwd = pwd\n",
    "        self.name = name\n",
    "        self.age = age\n",
    "        \n",
    "    def info(self):\n",
    "        print('아이디 : ' + self.userid, end = ' ')\n",
    "        print('비밀번호 : ' + self.pwd, end = ' ')\n",
    "        print('이름 : ' + self.name, end = ' ')\n",
    "        print('나이 : ' + str(self.age))\n",
    "        "
   ]
  },
  {
   "cell_type": "code",
   "execution_count": 33,
   "id": "45ab6297",
   "metadata": {},
   "outputs": [
    {
     "name": "stdout",
     "output_type": "stream",
     "text": [
      "아이디 : aaa 비밀번호 : 1234 이름 : 장보고 나이 : 35\n"
     ]
    }
   ],
   "source": [
    "# 생성자가 없을 경우 default 생성자가 생략된 것으로 간주한다.\n",
    "# 만약 생성자 메서드를 기술했을 경우 해당 생성자 메서드를 이용하여 객체를 생성해야 한다.\n",
    "m3 = Member('aaa','1234','장보고',35)\n",
    "\n",
    "m3.info()"
   ]
  },
  {
   "cell_type": "code",
   "execution_count": 38,
   "id": "acde1a68",
   "metadata": {},
   "outputs": [],
   "source": [
    "class Member:\n",
    "   # 생성자 메서드 : 객체 생성시 멤버 필드를 초기화할 목적으로 구현되는 메서드\n",
    "    def __init__(self, userid = '', pwd = '', name = '', age = 0):\n",
    "        self.userid = userid\n",
    "        self.pwd = pwd\n",
    "        self.name = name\n",
    "        self.age = age\n",
    "        \n",
    "    def info(self):\n",
    "        print('아이디 : ' + self.userid, end = ' ')\n",
    "        print('비밀번호 : ' + self.pwd, end = ' ')\n",
    "        print('이름 : ' + self.name, end = ' ')\n",
    "        print('나이 : ' + str(self.age))"
   ]
  },
  {
   "cell_type": "code",
   "execution_count": 39,
   "id": "3d9239b3",
   "metadata": {},
   "outputs": [
    {
     "name": "stdout",
     "output_type": "stream",
     "text": [
      "아이디 : kim 비밀번호 : 1234 이름 :  나이 : 0\n"
     ]
    }
   ],
   "source": [
    "m5 = Member('kim','1234')\n",
    "m5.info()"
   ]
  },
  {
   "cell_type": "code",
   "execution_count": 40,
   "id": "b173bbaf",
   "metadata": {},
   "outputs": [
    {
     "name": "stdout",
     "output_type": "stream",
     "text": [
      "아이디 : bbb 비밀번호 : 1234 이름 : 강아지 나이 : 3\n"
     ]
    }
   ],
   "source": [
    "m6 = Member('bbb', '1234', '강아지', 3)\n",
    "m6.info()"
   ]
  },
  {
   "cell_type": "code",
   "execution_count": 41,
   "id": "cd48d571",
   "metadata": {},
   "outputs": [
    {
     "name": "stdout",
     "output_type": "stream",
     "text": [
      "아이디 : ccc 비밀번호 : 1234 이름 : 우리집 나이 : 0\n"
     ]
    }
   ],
   "source": [
    "m7 = Member('ccc', '1234','우리집')\n",
    "m7.info()"
   ]
  },
  {
   "cell_type": "code",
   "execution_count": 42,
   "id": "830bc983",
   "metadata": {},
   "outputs": [
    {
     "name": "stdout",
     "output_type": "stream",
     "text": [
      "아이디 : ddd 비밀번호 : 1234 이름 :  나이 : 0\n"
     ]
    }
   ],
   "source": [
    "m8 = Member('ddd', '1234')\n",
    "m8.info()"
   ]
  },
  {
   "cell_type": "code",
   "execution_count": 43,
   "id": "7cd751e5",
   "metadata": {},
   "outputs": [
    {
     "name": "stdout",
     "output_type": "stream",
     "text": [
      "아이디 :  비밀번호 :  이름 :  나이 : 0\n"
     ]
    }
   ],
   "source": [
    "m9 = Member()\n",
    "m9.info()"
   ]
  },
  {
   "cell_type": "markdown",
   "id": "b7f30862",
   "metadata": {},
   "source": [
    "##### 4단계 - 학생성적관리 객체"
   ]
  },
  {
   "cell_type": "code",
   "execution_count": 44,
   "id": "dbba25f4",
   "metadata": {},
   "outputs": [],
   "source": [
    "# 클래스 선언\n",
    "class student:\n",
    "    # 멤버 필드\n",
    "    \n",
    "    # 생성자 메서드\n",
    "    \n",
    "    # 멤버 메서드\n",
    "    ## 총점을 계산하여 반환하는 함수\n",
    "    def get_sum(self):\n",
    "        return self.kor + self\n",
    "    \n",
    "    \n",
    "    # 소멸자 메서드"
   ]
  },
  {
   "cell_type": "markdown",
   "id": "7bff571e",
   "metadata": {},
   "source": [
    "##### 클래스를 사용하는 이유"
   ]
  },
  {
   "cell_type": "code",
   "execution_count": 51,
   "id": "8ec401a3",
   "metadata": {},
   "outputs": [
    {
     "name": "stdout",
     "output_type": "stream",
     "text": [
      "Messi MF 10\n"
     ]
    }
   ],
   "source": [
    "# 데이터\n",
    "names = ['Messi', 'Romos', 'Ronaldo', 'Park', 'Buffon']\n",
    "positions = ['MF', 'DF', 'CF', 'WF', 'GK']\n",
    "numbers = [10, 4, 7, 13, 1]\n",
    "\n",
    "print(names[0],positions[0],numbers[0])\n",
    "\n",
    "# 이차원 리스트\n",
    "players = [[name, position, number] for name, \n",
    "            position, number in zip(names, positions, numbers)]"
   ]
  },
  {
   "cell_type": "code",
   "execution_count": 52,
   "id": "8bde092a",
   "metadata": {},
   "outputs": [
    {
     "name": "stdout",
     "output_type": "stream",
     "text": [
      "['Messi', 'MF', 10]\n"
     ]
    }
   ],
   "source": [
    "print(players[0])"
   ]
  },
  {
   "cell_type": "code",
   "execution_count": 56,
   "id": "c9f14ffc",
   "metadata": {},
   "outputs": [],
   "source": [
    "class SoccerPlayer:\n",
    "    \n",
    "    def __init__(self, name, position, number):\n",
    "        self.name = name\n",
    "        self.position = position\n",
    "        self.number = number\n",
    "    \n",
    "    def disp(self):\n",
    "        print('이름 : ', self.name)\n",
    "        print('포지션 : ', self.position)\n",
    "        print('백넘버 : ', self.number)"
   ]
  },
  {
   "cell_type": "code",
   "execution_count": 57,
   "id": "be96698a",
   "metadata": {},
   "outputs": [
    {
     "name": "stdout",
     "output_type": "stream",
     "text": [
      "이름 :  박지성\n",
      "포지션 :  MF\n",
      "백넘버 :  13\n"
     ]
    }
   ],
   "source": [
    "p1 = SoccerPlayer('박지성','MF',13)\n",
    "# p1.name = '박지성'\n",
    "# p1.position = 'MF'\n",
    "# p1.number = 13\n",
    "\n",
    "p1.disp()"
   ]
  },
  {
   "cell_type": "markdown",
   "id": "6e1cfbb4",
   "metadata": {},
   "source": [
    "### 자동차 관리 프로그램\n",
    "1. 요구사항 명세서\n",
    "  - 자동차는 식별할 이름과 속도, 연료량을 관리한다.\n",
    "  - 자동차의 속도는 최대 200을 넘지 못하게 구현한다.\n",
    "  - 자동차가 가속시 연료에 10을 소모하도록 구현한다.\n",
    "  - 자동차의 연료가 없으면 가속이 불가능하도록 구현한다.\n",
    "  - 현재 자동차의 상태를 확인할 수 있도록 구현한다.\n",
    "  - 기능별 함수로 구현해서 처리한다."
   ]
  },
  {
   "cell_type": "code",
   "execution_count": 72,
   "id": "d2c6cd64",
   "metadata": {},
   "outputs": [],
   "source": [
    "class Car:\n",
    "    # 멤버 필드\n",
    "#     name = ''\n",
    "#     speed = 0\n",
    "#     gas = 0\n",
    "    \n",
    "    # 생성자 메서드 - 멤버 필드를 초기화 시켜주는 역할을 하는 메서드\n",
    "    def __init__(self, name, speed, gas):\n",
    "        self.name = name\n",
    "        self.speed = speed\n",
    "        self.gas = gas\n",
    "    \n",
    "    #멤버 메서드\n",
    "    def carAccel(self): # 가속페달을 한 번 밟았을 때의 행위를 기술한다.\n",
    "        # 연료가 없으면 가속 불가능, 가속페달을 밟을 때마다 연료는 10씩 감수\n",
    "        # 가속도 10씩 속도가 증가한다. 이때 최고속도인 200을 넘을 수 없다.\n",
    "        \n",
    "        if self.gas >= 10: #연료가 있는가?\n",
    "            if self.speed + 10 > 200: # 속도가 증가할 때 최고속도를 넘는가?\n",
    "                self.speed = 200 # 최고속도는 200을 넘을 수 없다.\n",
    "            else:\n",
    "                self.speed = self.speed + 10 \n",
    "                self.gas = self.gas - 10\n",
    "        else:\n",
    "            print('연료가 부족합니다.')\n",
    "            return # 제어권만 호출된 곳으로 돌려준다. 생략가능하다.\n",
    "    \n",
    "    def carBreak(self):\n",
    "        # 연료의 소모는 없다.\n",
    "        # 자동차의 속도가 10 감소한다.\n",
    "        # 자동차의 속도값이 음수일 수 없다.\n",
    "        if self.speed < 10:\n",
    "            self.speed = 0\n",
    "        else:\n",
    "            self.speed = self.speed - 10\n",
    "    \n",
    "    def carState(self):\n",
    "        print('차종 : ', self.name)\n",
    "        print('속도 : ', self.speed)\n",
    "        print('연료량 : ', self.gas)\n",
    "    "
   ]
  },
  {
   "cell_type": "code",
   "execution_count": 73,
   "id": "81a61cc7",
   "metadata": {},
   "outputs": [
    {
     "name": "stdout",
     "output_type": "stream",
     "text": [
      "차종 :  tico\n",
      "속도 :  0\n",
      "연료량 :  70\n"
     ]
    }
   ],
   "source": [
    "# 자동차 객체의 인스턴스 생성\n",
    "tico = Car('tico', 0, 70)\n",
    "\n",
    "# 자동차의 현재 상태 출력\n",
    "tico.carState()"
   ]
  },
  {
   "cell_type": "code",
   "execution_count": 74,
   "id": "21b380c5",
   "metadata": {},
   "outputs": [
    {
     "name": "stdout",
     "output_type": "stream",
     "text": [
      "차종 :  tico\n",
      "속도 :  10\n",
      "연료량 :  60\n"
     ]
    }
   ],
   "source": [
    "# 가속페달을 밟는 행위\n",
    "tico.carAccel() # 속도 + 10, 연료 - 10\n",
    "tico.carState()"
   ]
  },
  {
   "cell_type": "code",
   "execution_count": 75,
   "id": "47cabdd2",
   "metadata": {},
   "outputs": [
    {
     "ename": "TypeError",
     "evalue": "__init__() missing 3 required positional arguments: 'name', 'speed', and 'gas'",
     "output_type": "error",
     "traceback": [
      "\u001b[1;31m---------------------------------------------------------------------------\u001b[0m",
      "\u001b[1;31mTypeError\u001b[0m                                 Traceback (most recent call last)",
      "Input \u001b[1;32mIn [75]\u001b[0m, in \u001b[0;36m<cell line: 1>\u001b[1;34m()\u001b[0m\n\u001b[1;32m----> 1\u001b[0m c1 \u001b[38;5;241m=\u001b[39m \u001b[43mCar\u001b[49m\u001b[43m(\u001b[49m\u001b[43m)\u001b[49m\n\u001b[0;32m      3\u001b[0m c1\u001b[38;5;241m.\u001b[39mcarState()\n",
      "\u001b[1;31mTypeError\u001b[0m: __init__() missing 3 required positional arguments: 'name', 'speed', and 'gas'"
     ]
    }
   ],
   "source": [
    "c1 = Car()\n",
    "\n",
    "c1.carState()"
   ]
  },
  {
   "cell_type": "code",
   "execution_count": 67,
   "id": "ecde0c29",
   "metadata": {},
   "outputs": [
    {
     "ename": "TypeError",
     "evalue": "__init__() missing 3 required positional arguments: 'name', 'speed', and 'gas'",
     "output_type": "error",
     "traceback": [
      "\u001b[1;31m---------------------------------------------------------------------------\u001b[0m",
      "\u001b[1;31mTypeError\u001b[0m                                 Traceback (most recent call last)",
      "Input \u001b[1;32mIn [67]\u001b[0m, in \u001b[0;36m<cell line: 1>\u001b[1;34m()\u001b[0m\n\u001b[1;32m----> 1\u001b[0m c2 \u001b[38;5;241m=\u001b[39m \u001b[43mCar\u001b[49m\u001b[43m(\u001b[49m\u001b[43m)\u001b[49m\n\u001b[0;32m      2\u001b[0m c2\u001b[38;5;241m.\u001b[39mname \u001b[38;5;241m=\u001b[39m \u001b[38;5;124m'\u001b[39m\u001b[38;5;124msonata\u001b[39m\u001b[38;5;124m'\u001b[39m\n\u001b[0;32m      3\u001b[0m c2\u001b[38;5;241m.\u001b[39mspeed \u001b[38;5;241m=\u001b[39m \u001b[38;5;241m0\u001b[39m\n",
      "\u001b[1;31mTypeError\u001b[0m: __init__() missing 3 required positional arguments: 'name', 'speed', and 'gas'"
     ]
    }
   ],
   "source": [
    "c2 = Car()\n",
    "c2.name = 'sonata'\n",
    "c2.speed = 0\n",
    "c2.gas = 90\n",
    "c2.carState()"
   ]
  },
  {
   "cell_type": "code",
   "execution_count": 68,
   "id": "76b97d1b",
   "metadata": {},
   "outputs": [
    {
     "name": "stdout",
     "output_type": "stream",
     "text": [
      "차종 :  Moring\n",
      "속도 :  0\n",
      "연료량 :  100\n"
     ]
    }
   ],
   "source": [
    "c3 = Car('Moring', 0, 100)\n",
    "c3.carState()"
   ]
  },
  {
   "cell_type": "markdown",
   "id": "fa68195a",
   "metadata": {},
   "source": [
    "### 노트북 프로그램"
   ]
  },
  {
   "cell_type": "markdown",
   "id": "fbd811e8",
   "metadata": {},
   "source": [
    "##### 클래스 실습예제"
   ]
  },
  {
   "cell_type": "code",
   "execution_count": 81,
   "id": "a730d1fc",
   "metadata": {},
   "outputs": [],
   "source": [
    "# 원을 객체로 갖는 클래스 구현\n",
    "class Circle:\n",
    "    # 멤버 필드\n",
    "    # r = 0\n",
    "    \n",
    "    # 생성자 메서드 : 객체가 생성될 때 자동으로 호출되는 함수\n",
    "    ## 멤버 필드를 초기화하는 역할\n",
    "    def __init__(self, r):\n",
    "        self.r = r\n",
    "        \n",
    "    ## 객체 생성시 가장 처음 수행할 작업을 기술할 때\n",
    "    \n",
    "    # 멤버 메서드: set~, get~\n",
    "    ## 단순히 반지름을 출력하는 메서드\n",
    "    def getRadius(self):\n",
    "        # print('r = ', self, r)\n",
    "        return self, r\n",
    "    \n",
    "    ## 사용자가 입력한 반지름을 받아서 멤버 필드에 대입하는 메서드\n",
    "    def setRadius(self, r):\n",
    "        self.r = r\n",
    "        \n",
    "    ## 원의 면적을 계산하여 반환하는 메서드\n",
    "    def getArea(self):\n",
    "        return self.r * self.r * 3.14\n",
    "    \n",
    "    # 소멸자 메서드\n",
    "    "
   ]
  },
  {
   "cell_type": "code",
   "execution_count": 83,
   "id": "fe77917b",
   "metadata": {},
   "outputs": [
    {
     "ename": "NameError",
     "evalue": "name 'r' is not defined",
     "output_type": "error",
     "traceback": [
      "\u001b[1;31m---------------------------------------------------------------------------\u001b[0m",
      "\u001b[1;31mNameError\u001b[0m                                 Traceback (most recent call last)",
      "Input \u001b[1;32mIn [83]\u001b[0m, in \u001b[0;36m<cell line: 9>\u001b[1;34m()\u001b[0m\n\u001b[0;32m      6\u001b[0m donut\u001b[38;5;241m.\u001b[39msetRadius\n\u001b[0;32m      8\u001b[0m \u001b[38;5;66;03m# 반지름 출력하는 메서드 호출\u001b[39;00m\n\u001b[1;32m----> 9\u001b[0m \u001b[38;5;28mprint\u001b[39m(\u001b[38;5;124m'\u001b[39m\u001b[38;5;124m반지름 = \u001b[39m\u001b[38;5;124m'\u001b[39m, \u001b[43mdonut\u001b[49m\u001b[38;5;241;43m.\u001b[39;49m\u001b[43mgetRadius\u001b[49m\u001b[43m(\u001b[49m\u001b[43m)\u001b[49m)\n",
      "Input \u001b[1;32mIn [81]\u001b[0m, in \u001b[0;36mCircle.getRadius\u001b[1;34m(self)\u001b[0m\n\u001b[0;32m     15\u001b[0m \u001b[38;5;28;01mdef\u001b[39;00m \u001b[38;5;21mgetRadius\u001b[39m(\u001b[38;5;28mself\u001b[39m):\n\u001b[0;32m     16\u001b[0m     \u001b[38;5;66;03m# print('r = ', self, r)\u001b[39;00m\n\u001b[1;32m---> 17\u001b[0m     \u001b[38;5;28;01mreturn\u001b[39;00m \u001b[38;5;28mself\u001b[39m, \u001b[43mr\u001b[49m\n",
      "\u001b[1;31mNameError\u001b[0m: name 'r' is not defined"
     ]
    }
   ],
   "source": [
    "# 원 객체에 접근하는 인스턴스 객체 생성\n",
    "donut = Circle()\n",
    "\n",
    "# 멤버 필드를 초기화하는 작업\n",
    "donut.r = 5\n",
    "donut.setRadius\n",
    "\n",
    "# 반지름 출력하는 메서드 호출\n",
    "print('반지름 = ', donut.getRadius())"
   ]
  },
  {
   "cell_type": "code",
   "execution_count": 84,
   "id": "7a158844",
   "metadata": {},
   "outputs": [
    {
     "ename": "NameError",
     "evalue": "name 'r' is not defined",
     "output_type": "error",
     "traceback": [
      "\u001b[1;31m---------------------------------------------------------------------------\u001b[0m",
      "\u001b[1;31mNameError\u001b[0m                                 Traceback (most recent call last)",
      "Input \u001b[1;32mIn [84]\u001b[0m, in \u001b[0;36m<cell line: 5>\u001b[1;34m()\u001b[0m\n\u001b[0;32m      1\u001b[0m \u001b[38;5;66;03m# 인스턴스 객체는 생성자를 이용하여 생성한다.\u001b[39;00m\n\u001b[0;32m      2\u001b[0m \u001b[38;5;66;03m# 생성자가 존재하지 않을 경우 default 생성자가 생략된 것으로 간주한다.\u001b[39;00m\n\u001b[0;32m      3\u001b[0m \u001b[38;5;66;03m# default 생성자 : 매개변수를 가지고 있지 않은 생성자 Circle()\u001b[39;00m\n\u001b[0;32m      4\u001b[0m a \u001b[38;5;241m=\u001b[39m Circle(\u001b[38;5;241m1\u001b[39m)\n\u001b[1;32m----> 5\u001b[0m \u001b[38;5;28mprint\u001b[39m(\u001b[38;5;124m'\u001b[39m\u001b[38;5;124m반지름 = \u001b[39m\u001b[38;5;124m'\u001b[39m, \u001b[43ma\u001b[49m\u001b[38;5;241;43m.\u001b[39;49m\u001b[43mgetRadius\u001b[49m\u001b[43m(\u001b[49m\u001b[43m)\u001b[49m)\n",
      "Input \u001b[1;32mIn [81]\u001b[0m, in \u001b[0;36mCircle.getRadius\u001b[1;34m(self)\u001b[0m\n\u001b[0;32m     15\u001b[0m \u001b[38;5;28;01mdef\u001b[39;00m \u001b[38;5;21mgetRadius\u001b[39m(\u001b[38;5;28mself\u001b[39m):\n\u001b[0;32m     16\u001b[0m     \u001b[38;5;66;03m# print('r = ', self, r)\u001b[39;00m\n\u001b[1;32m---> 17\u001b[0m     \u001b[38;5;28;01mreturn\u001b[39;00m \u001b[38;5;28mself\u001b[39m, \u001b[43mr\u001b[49m\n",
      "\u001b[1;31mNameError\u001b[0m: name 'r' is not defined"
     ]
    }
   ],
   "source": [
    "# 인스턴스 객체는 생성자를 이용하여 생성한다.\n",
    "# 생성자가 존재하지 않을 경우 default 생성자가 생략된 것으로 간주한다.\n",
    "# default 생성자 : 매개변수를 가지고 있지 않은 생성자 Circle()\n",
    "a = Circle(1)\n",
    "print('반지름 = ', a.getRadius())"
   ]
  },
  {
   "cell_type": "markdown",
   "id": "4608e318",
   "metadata": {},
   "source": [
    "##### 도형 생성하는 프로그램"
   ]
  },
  {
   "cell_type": "code",
   "execution_count": 1,
   "id": "bc512cf2",
   "metadata": {},
   "outputs": [
    {
     "name": "stdout",
     "output_type": "stream",
     "text": [
      "[1]점   [2]원   [3]사각형   [4]종료 = 4\n",
      "[1]점   [2]원   [3]사각형   [4]종료 = [4]\n"
     ]
    },
    {
     "ename": "ValueError",
     "evalue": "invalid literal for int() with base 10: '[4]'",
     "output_type": "error",
     "traceback": [
      "\u001b[1;31m---------------------------------------------------------------------------\u001b[0m",
      "\u001b[1;31mValueError\u001b[0m                                Traceback (most recent call last)",
      "Input \u001b[1;32mIn [1]\u001b[0m, in \u001b[0;36m<cell line: 8>\u001b[1;34m()\u001b[0m\n\u001b[0;32m      1\u001b[0m \u001b[38;5;66;03m# 사용자로 부터 원하는 도형을 입력받도록 구현한다.\u001b[39;00m\n\u001b[0;32m      2\u001b[0m \u001b[38;5;66;03m# 사용자가 선택한 도형에 맞는 값을 할당하고 출력한다.\u001b[39;00m\n\u001b[0;32m      3\u001b[0m \u001b[38;5;66;03m# 언제든 프로그램은 종료될 수 있도록 구현한다.\u001b[39;00m\n\u001b[0;32m      5\u001b[0m \u001b[38;5;28;01mwhile\u001b[39;00m \u001b[38;5;28;01mTrue\u001b[39;00m:\n\u001b[0;32m      6\u001b[0m     \u001b[38;5;66;03m# 화면에 출력되는 메뉴\u001b[39;00m\n\u001b[0;32m      7\u001b[0m     \u001b[38;5;66;03m#print('[1]점   [2]원   [3]사각형   [4]종료 = ', end = ' ')\u001b[39;00m\n\u001b[1;32m----> 8\u001b[0m     menu \u001b[38;5;241m=\u001b[39m \u001b[38;5;28;43mint\u001b[39;49m\u001b[43m(\u001b[49m\u001b[38;5;28;43minput\u001b[39;49m\u001b[43m(\u001b[49m\u001b[38;5;124;43m'\u001b[39;49m\u001b[38;5;124;43m[1]점   [2]원   [3]사각형   [4]종료 = \u001b[39;49m\u001b[38;5;124;43m'\u001b[39;49m\u001b[43m)\u001b[49m\u001b[43m)\u001b[49m\n",
      "\u001b[1;31mValueError\u001b[0m: invalid literal for int() with base 10: '[4]'"
     ]
    }
   ],
   "source": [
    "# 사용자로 부터 원하는 도형을 입력받도록 구현한다.\n",
    "# 사용자가 선택한 도형에 맞는 값을 할당하고 출력한다.\n",
    "# 언제든 프로그램은 종료될 수 있도록 구현한다.\n",
    "\n",
    "while True:\n",
    "    # 화면에 출력되는 메뉴\n",
    "    #print('[1]점   [2]원   [3]사각형   [4]종료 = ', end = ' ')\n",
    "    menu = int(input('[1]점   [2]원   [3]사각형   [4]종료 = '))"
   ]
  },
  {
   "cell_type": "code",
   "execution_count": null,
   "id": "b464ffdf",
   "metadata": {},
   "outputs": [],
   "source": [
    "class Point:\n",
    "    \n",
    "    def __init__(self):\n",
    "        self.x = int(input('x = '))\n",
    "        self.y = int(input('y = '))\n",
    "        \n",
    "    def disp(self):\n",
    "        print('점(x, y) = ({0}, {1})').format(self.x, self.y)\n",
    "        print('반지름(r) = ',self.r)"
   ]
  }
 ],
 "metadata": {
  "kernelspec": {
   "display_name": "Python 3 (ipykernel)",
   "language": "python",
   "name": "python3"
  },
  "language_info": {
   "codemirror_mode": {
    "name": "ipython",
    "version": 3
   },
   "file_extension": ".py",
   "mimetype": "text/x-python",
   "name": "python",
   "nbconvert_exporter": "python",
   "pygments_lexer": "ipython3",
   "version": "3.9.12"
  },
  "toc": {
   "base_numbering": 1,
   "nav_menu": {},
   "number_sections": true,
   "sideBar": true,
   "skip_h1_title": false,
   "title_cell": "Table of Contents",
   "title_sidebar": "Contents",
   "toc_cell": false,
   "toc_position": {},
   "toc_section_display": true,
   "toc_window_display": false
  }
 },
 "nbformat": 4,
 "nbformat_minor": 5
}

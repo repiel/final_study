{
 "cells": [
  {
   "cell_type": "markdown",
   "id": "d203fcea",
   "metadata": {},
   "source": [
    "# Python 3 Program\n",
    "\n",
    "##  변수 - 자료구조(리스트, 튜플,집합,★사전★)  - 함수\n",
    "\n",
    "##  자료 - 기본자료형(논리형, 정수형, 실수형, 문자형,복소수형)\n",
    "- 논리형은 형변환 불가\n",
    "- 정수형, 실수형은 숫자형\n",
    "- 문자형: 하나의 글자도 문자 (다른 언어는 문자형과 문자열로 구분함)\n",
    "\n",
    "## 제어문: 흐름, 순서를 제어할 목적을 사용 (조건문, 반복문, 기타제어문)\n",
    "- if/ if~elif/ if ~else문\n",
    "- for문/ while문\n",
    "- continue/ break\n",
    "\n",
    "\n",
    "\n",
    "\n",
    "\n",
    "\n"
   ]
  },
  {
   "cell_type": "markdown",
   "id": "b4057442",
   "metadata": {},
   "source": [
    "# 자료"
   ]
  },
  {
   "cell_type": "markdown",
   "id": "73e807d7",
   "metadata": {},
   "source": [
    "## 문자열 자료형"
   ]
  },
  {
   "cell_type": "markdown",
   "id": "1aac85b6",
   "metadata": {},
   "source": [
    "### 문자열(string) 자료형 : 하나의 문자 또는 그 이상의 문자를 묶어놓은 자료형\n",
    "### 큰 따옴표 (\"\") 또는 작은 따옴표 ('') \n",
    "### 여러 줄의 문자열을 처리할 때는 큰 따옴표나 작은 따옴표가 3개 있다 (\"\"\" ~ \"\"\" or '''~''')."
   ]
  },
  {
   "cell_type": "code",
   "execution_count": 2,
   "id": "7d177e67",
   "metadata": {},
   "outputs": [
    {
     "data": {
      "text/plain": [
       "'Hello, World'"
      ]
     },
     "execution_count": 2,
     "metadata": {},
     "output_type": "execute_result"
    }
   ],
   "source": [
    "\"Hello, World\" # \"\" 안에 담긴거 뜻: 문자열, 계산기 기능을 포함하는 거라 print 안써도 출력됨. 그렇지만, print써주자"
   ]
  },
  {
   "cell_type": "code",
   "execution_count": 3,
   "id": "08c061ad",
   "metadata": {},
   "outputs": [
    {
     "data": {
      "text/plain": [
       "9"
      ]
     },
     "execution_count": 3,
     "metadata": {},
     "output_type": "execute_result"
    }
   ],
   "source": [
    "4+5"
   ]
  },
  {
   "cell_type": "code",
   "execution_count": 5,
   "id": "794c721a",
   "metadata": {},
   "outputs": [
    {
     "name": "stdout",
     "output_type": "stream",
     "text": [
      "Python is fun\n"
     ]
    }
   ],
   "source": [
    "print(\"Python is fun\")"
   ]
  },
  {
   "cell_type": "code",
   "execution_count": 8,
   "id": "a8adefc6",
   "metadata": {},
   "outputs": [
    {
     "data": {
      "text/plain": [
       "'룰루랄라라,\\n오하이오 올라 꼬모 딸레딸레뿌우~'"
      ]
     },
     "execution_count": 8,
     "metadata": {},
     "output_type": "execute_result"
    }
   ],
   "source": [
    "\"\"\"룰루랄라라,\n",
    "오하이오 올라 꼬모 딸레딸레뿌우~\"\"\"  # \\n : 개행문자"
   ]
  },
  {
   "cell_type": "code",
   "execution_count": 9,
   "id": "827a782f",
   "metadata": {},
   "outputs": [
    {
     "name": "stdout",
     "output_type": "stream",
     "text": [
      "룰루랄라라,\n",
      "오하이오 올라 꼬모 딸레딸레뿌우~\n"
     ]
    }
   ],
   "source": [
    "print(\"\"\"룰루랄라라,\n",
    "오하이오 올라 꼬모 딸레딸레뿌우~\"\"\") "
   ]
  },
  {
   "cell_type": "code",
   "execution_count": 10,
   "id": "ad4966b2",
   "metadata": {},
   "outputs": [
    {
     "ename": "SyntaxError",
     "evalue": "invalid syntax (3748956772.py, line 1)",
     "output_type": "error",
     "traceback": [
      "\u001b[1;36m  Input \u001b[1;32mIn [10]\u001b[1;36m\u001b[0m\n\u001b[1;33m    print(\"life is short, you need \"Python\"\")  # 검은 글자로 변경된건 출력되지 않는다는 뜻 -> 오류발생\u001b[0m\n\u001b[1;37m                                    ^\u001b[0m\n\u001b[1;31mSyntaxError\u001b[0m\u001b[1;31m:\u001b[0m invalid syntax\n"
     ]
    }
   ],
   "source": [
    "print(\"life is short, you need \"Python\"\")  # 검은 글자로 변경된건 출력되지 않는다는 뜻 -> 오류발생 \n",
    "                                           # 전체가 \"\"로 묶여있으면 안은''로 묶는다. 즉, 반복사용 불가능"
   ]
  },
  {
   "cell_type": "code",
   "execution_count": 11,
   "id": "916bc034",
   "metadata": {},
   "outputs": [
    {
     "name": "stdout",
     "output_type": "stream",
     "text": [
      "life is short, you need 'Python'\n"
     ]
    }
   ],
   "source": [
    "print(\"life is short, you need 'Python'\")"
   ]
  },
  {
   "cell_type": "code",
   "execution_count": 12,
   "id": "0f5adc51",
   "metadata": {},
   "outputs": [
    {
     "name": "stdout",
     "output_type": "stream",
     "text": [
      "life is short, you need \"Python\"\n"
     ]
    }
   ],
   "source": [
    "print(\"life is short, you need \\\"Python\\\"\") # 동일한 따옴표를 한 줄에 쓰고 싶다면 escape 사용"
   ]
  },
  {
   "cell_type": "markdown",
   "id": "346ac808",
   "metadata": {},
   "source": [
    "### ESCAPE 문자\n",
    "- \\ (￦) \n",
    "- \\n (new line) : 개행\n",
    "- \\t (tap key) : 일정 간격 띄어라"
   ]
  },
  {
   "cell_type": "markdown",
   "id": "e373720f",
   "metadata": {},
   "source": [
    "###  문자열 연산\n",
    "- +(더하기) : 연결, \n",
    "- *(곱하기) : 반복, 곱할 값은 정수형을 사용해야함"
   ]
  },
  {
   "cell_type": "code",
   "execution_count": 15,
   "id": "d22592cc",
   "metadata": {},
   "outputs": [
    {
     "name": "stdout",
     "output_type": "stream",
     "text": [
      "hellopython\n",
      "pythonpythonpython\n"
     ]
    }
   ],
   "source": [
    "a = \"hello\"\n",
    "b = \"python\"\n",
    "print( a + b )\n",
    "print( b * 3 ) # 응용해서 많이 사용"
   ]
  },
  {
   "cell_type": "code",
   "execution_count": 22,
   "id": "1fd31a73",
   "metadata": {},
   "outputs": [
    {
     "name": "stdout",
     "output_type": "stream",
     "text": [
      "==============================\n",
      "life is short, you need python\n",
      "==============================\n"
     ]
    }
   ],
   "source": [
    "print(\"=\" * 30) # 이런식으로 곱하기 연산문이 많이 쓰임\n",
    "print(\"life is short, you need python\")\n",
    "print(\"=\" * 30)"
   ]
  },
  {
   "cell_type": "markdown",
   "id": "c9540340",
   "metadata": {},
   "source": [
    "### 문자열 길이: len()함수, length"
   ]
  },
  {
   "cell_type": "code",
   "execution_count": 23,
   "id": "2e772c1b",
   "metadata": {},
   "outputs": [
    {
     "name": "stdout",
     "output_type": "stream",
     "text": [
      "30\n"
     ]
    }
   ],
   "source": [
    "p = \"life is short, you need python\" # 공백과 특수문자 다 문자임, 키보드에서 입력되는 값들은 다 문자\n",
    "print(len(p))"
   ]
  },
  {
   "cell_type": "markdown",
   "id": "3b5e3215",
   "metadata": {},
   "source": [
    "### 인덱싱과 슬라이싱\n",
    "- 특정 위치의 값을 추출하는 것\n",
    "- []안에는 기본적으로 인덱스가 옴 \n",
    "- 인덱스는 위치를 나타냄\n",
    "- [index], [start: end], [start:end:step]  step -1 하면 역순"
   ]
  },
  {
   "cell_type": "code",
   "execution_count": 48,
   "id": "aa43aabe",
   "metadata": {},
   "outputs": [
    {
     "name": "stdout",
     "output_type": "stream",
     "text": [
      "l\n",
      "n\n",
      "e\n",
      "is too short, you need python\n",
      "life\n",
      "life\n",
      "life is too short, you need python\n",
      "life is too short, you need python\n",
      "\n",
      "2022\n",
      "20220902\n",
      "<class 'str'>\n",
      "남자\n"
     ]
    }
   ],
   "source": [
    "a = \"life is too short, you need python\"\n",
    "# sequence자료형 : list, tuple, range, 문자\n",
    "print(a[0]) # 인덱스의 시작은 0부터 시작함\n",
    "print(a[-1]) # reverse 인덱스 : 뒤에서 부터 읽어오는 것\n",
    "print(a[3]) # 4번째 문자를 나타냄 \n",
    "\n",
    "# 슬라이싱\n",
    "print(a[5:]) \n",
    "print(a[0:4])\n",
    "print(a[:4]) # 시작값 생략 가능 : 처음부터 end까지 추출해오라는 것\n",
    "print(a[:])\n",
    "print(a[0:]) # 마지막 인덱스 생략시 끝까지 \n",
    "print()\n",
    "\n",
    "\n",
    "jumin = \"220902-1234567\" # 문자열\n",
    "\n",
    "# 출생년도\n",
    "print(\"20\" + jumin[:2])\n",
    "print(\"20\" + jumin[:6])\n",
    "\n",
    "# 성별 : 1800- 0(짝수)과 9(홀수), 1900 - 1(홀수)과 2(짝수), 2000 - 3(홀수) 과 4(짝수), 홀수 : 남, 짝수 : 여\n",
    "print(type(jumin[7])) # 데이터 타입을 먼저 알아야함 , 문자열에서 가져왔으니까\n",
    "if int(jumin[7]) % 2 == 0 : \n",
    "    print(\"여자\")\n",
    "else:\n",
    "    print(\"남자\")\n",
    "    \n",
    "# 출생지역\n"
   ]
  },
  {
   "cell_type": "code",
   "execution_count": 49,
   "id": "1b8f12e2",
   "metadata": {},
   "outputs": [
    {
     "name": "stdout",
     "output_type": "stream",
     "text": [
      "True\n",
      "False\n"
     ]
    },
    {
     "name": "stderr",
     "output_type": "stream",
     "text": [
      "<>:6: SyntaxWarning: \"is\" with a literal. Did you mean \"==\"?\n",
      "<>:10: SyntaxWarning: \"is\" with a literal. Did you mean \"==\"?\n",
      "<>:6: SyntaxWarning: \"is\" with a literal. Did you mean \"==\"?\n",
      "<>:10: SyntaxWarning: \"is\" with a literal. Did you mean \"==\"?\n",
      "C:\\Users\\admin\\AppData\\Local\\Temp\\ipykernel_6864\\2412616762.py:6: SyntaxWarning: \"is\" with a literal. Did you mean \"==\"?\n",
      "  print(a is -5)\n",
      "C:\\Users\\admin\\AppData\\Local\\Temp\\ipykernel_6864\\2412616762.py:10: SyntaxWarning: \"is\" with a literal. Did you mean \"==\"?\n",
      "  print(a is -6)\n"
     ]
    }
   ],
   "source": [
    "# 파이썬의 메모리 관리 방식\n",
    "# -5 ~ 256까지는 이미 메모리에 저장되어서 시작된다.\n",
    "# == : 값 비교, is : 주소 비교\n",
    "a = -5\n",
    "# print(a == -5)\n",
    "print(a is -5)\n",
    "\n",
    "a = -6\n",
    "# print(a == -6)\n",
    "print(a is -6)"
   ]
  },
  {
   "cell_type": "code",
   "execution_count": 51,
   "id": "d9239dec",
   "metadata": {},
   "outputs": [
    {
     "name": "stdout",
     "output_type": "stream",
     "text": [
      "hello\n",
      "None\n"
     ]
    }
   ],
   "source": [
    "a = print(\"hello\")\n",
    "print(a)"
   ]
  },
  {
   "cell_type": "markdown",
   "id": "b92b9e54",
   "metadata": {},
   "source": [
    "### 리스트 자료형\n",
    "- 시퀀스 자료형\n",
    "- []\n",
    "- 다양한 자료형도 담을 수 있다"
   ]
  },
  {
   "cell_type": "code",
   "execution_count": 53,
   "id": "88098650",
   "metadata": {},
   "outputs": [
    {
     "data": {
      "text/plain": [
       "[1, 'a', 3.14, 'korea', True, -10]"
      ]
     },
     "execution_count": 53,
     "metadata": {},
     "output_type": "execute_result"
    }
   ],
   "source": [
    "a = [1,'a',3.14,'korea',True, 10-20]  # 식은 계산해서 나타남\n",
    "a"
   ]
  },
  {
   "cell_type": "code",
   "execution_count": 55,
   "id": "2af9abc5",
   "metadata": {},
   "outputs": [
    {
     "name": "stdout",
     "output_type": "stream",
     "text": [
      "<class 'list'>\n",
      "<class 'int'>\n"
     ]
    }
   ],
   "source": [
    "print(type(a))\n",
    "print(type(a[0]))"
   ]
  },
  {
   "cell_type": "code",
   "execution_count": 56,
   "id": "aafea4cc",
   "metadata": {},
   "outputs": [
    {
     "name": "stdout",
     "output_type": "stream",
     "text": [
      "<class 'list'>\n",
      "<class 'list'>\n"
     ]
    }
   ],
   "source": [
    "b = [] # 빈 리스트\n",
    "c = list() # 어떤 자료형을 list 시켜라 # tuple(): 튜플로 형변환시키는 자료형\n",
    "print(type(b))\n",
    "print(type(c))"
   ]
  },
  {
   "cell_type": "code",
   "execution_count": 88,
   "id": "b2be4445",
   "metadata": {},
   "outputs": [
    {
     "data": {
      "text/plain": [
       "[1, 2, 3, ['a', 'v', 'd', 's'], 5, 6, (7, 80)]"
      ]
     },
     "execution_count": 88,
     "metadata": {},
     "output_type": "execute_result"
    }
   ],
   "source": [
    "x = [1,2,3,['a','v','d','s'],5,6,(7,80)] # 리스트 안에 튜플, 리스트 담을 수 있음\n",
    "x"
   ]
  },
  {
   "cell_type": "code",
   "execution_count": 65,
   "id": "58310ab2",
   "metadata": {},
   "outputs": [
    {
     "name": "stdout",
     "output_type": "stream",
     "text": [
      "1\n",
      "[1, 2, 3, ['a', 'v', 'd', 's'], 5, 6, (7, 80)]\n",
      "(7, 80)\n",
      "['a', 'v', 'd', 's']\n",
      "a\n",
      "['a', 'v']\n"
     ]
    }
   ],
   "source": [
    "print(x[0])\n",
    "print(x[:])\n",
    "print(x[-1])\n",
    "print(x[3])\n",
    "print(x[3][0]) # 리스트 안에 리스트의 값을 읽어올 수 있다\n",
    "print(x[3][0:2]) # 이차원 배열 # [행, 열]"
   ]
  },
  {
   "cell_type": "code",
   "execution_count": 81,
   "id": "ae4338d6",
   "metadata": {},
   "outputs": [
    {
     "name": "stdout",
     "output_type": "stream",
     "text": [
      "v d\n",
      "['v', 'd']\n"
     ]
    }
   ],
   "source": [
    "print(x[3][1],x[3][2]) # 리스트 자료형이 아님 \n",
    "print([x[3][1], x[3][2]]) # 리스트로 변경이 안되는 이유가 공백이 나와서 "
   ]
  },
  {
   "cell_type": "code",
   "execution_count": 82,
   "id": "2e2b424d",
   "metadata": {},
   "outputs": [
    {
     "data": {
      "text/plain": [
       "[1, 2, 3, 4, 5, 6]"
      ]
     },
     "execution_count": 82,
     "metadata": {},
     "output_type": "execute_result"
    }
   ],
   "source": [
    "a = [1,2,3]\n",
    "b = [4,5,6]\n",
    "a+b"
   ]
  },
  {
   "cell_type": "code",
   "execution_count": 83,
   "id": "720b6715",
   "metadata": {},
   "outputs": [
    {
     "data": {
      "text/plain": [
       "[5, 7, 9]"
      ]
     },
     "execution_count": 83,
     "metadata": {},
     "output_type": "execute_result"
    }
   ],
   "source": [
    "[a[0]+b[0],a[1]+b[1],a[2]+b[2]]"
   ]
  },
  {
   "cell_type": "code",
   "execution_count": 84,
   "id": "436047cc",
   "metadata": {},
   "outputs": [
    {
     "name": "stdout",
     "output_type": "stream",
     "text": [
      "[5, 7, 9]\n"
     ]
    }
   ],
   "source": [
    "x =[]\n",
    "for i in range(3): # 0,1,2 => 인덱스 주소 넘버\n",
    "    imsi = a[i] + b[i]\n",
    "    x.append(imsi)\n",
    "print(x)\n",
    "    "
   ]
  },
  {
   "cell_type": "code",
   "execution_count": 85,
   "id": "172e72d7",
   "metadata": {},
   "outputs": [],
   "source": [
    "# 리스트 안의 튜플의 한 요소를 바꿀 순 없지만 리스트 안의 튜플 전체는 리스트의 요소에 해당하기에 수정이 가능하다"
   ]
  },
  {
   "cell_type": "code",
   "execution_count": 87,
   "id": "39531c03",
   "metadata": {},
   "outputs": [
    {
     "name": "stdout",
     "output_type": "stream",
     "text": [
      "[5, 7, ['a', 'b']]\n"
     ]
    }
   ],
   "source": [
    "x[-1] = ['a','b']\n",
    "print(x) # 리스트의 요소를 변경한 것"
   ]
  },
  {
   "cell_type": "code",
   "execution_count": 90,
   "id": "bf643053",
   "metadata": {},
   "outputs": [
    {
     "ename": "TypeError",
     "evalue": "'tuple' object does not support item assignment",
     "output_type": "error",
     "traceback": [
      "\u001b[1;31m---------------------------------------------------------------------------\u001b[0m",
      "\u001b[1;31mTypeError\u001b[0m                                 Traceback (most recent call last)",
      "Input \u001b[1;32mIn [90]\u001b[0m, in \u001b[0;36m<cell line: 2>\u001b[1;34m()\u001b[0m\n\u001b[0;32m      1\u001b[0m x\u001b[38;5;241m=\u001b[39m [\u001b[38;5;241m1\u001b[39m,\u001b[38;5;241m2\u001b[39m,(\u001b[38;5;241m3\u001b[39m,\u001b[38;5;241m5\u001b[39m)]\n\u001b[1;32m----> 2\u001b[0m x[\u001b[38;5;241m2\u001b[39m][\u001b[38;5;241m0\u001b[39m]\u001b[38;5;241m=\u001b[39m\u001b[38;5;241m5\u001b[39m\n\u001b[0;32m      3\u001b[0m \u001b[38;5;28mprint\u001b[39m(x)\n",
      "\u001b[1;31mTypeError\u001b[0m: 'tuple' object does not support item assignment"
     ]
    }
   ],
   "source": [
    "x= [1,2,(3,5)]\n",
    "x[2][0]=5\n",
    "print(x) # 튜플의 요소는 변경 불가"
   ]
  },
  {
   "cell_type": "code",
   "execution_count": 93,
   "id": "498fe07b",
   "metadata": {},
   "outputs": [
    {
     "name": "stdout",
     "output_type": "stream",
     "text": [
      "(1, 2, [1, 2, 5])\n",
      "<class 'tuple'>\n",
      "(1, 2, ['k', 2, 5])\n"
     ]
    }
   ],
   "source": [
    "y = (1,2,[1,2,5])\n",
    "print(y)\n",
    "print(type(y))\n",
    "y[2][0]='k'\n",
    "print(y) # 리스트라서 변경이 가능하다"
   ]
  },
  {
   "cell_type": "markdown",
   "id": "e233fb0f",
   "metadata": {},
   "source": [
    "### 리스트 관련 함수 (리스트객체명. 함수())\n",
    "- 리스트에 마지막 요소에 추가 .append()\n",
    "- 원하는 위치에 요소 추가 : .insert(index,data)\n",
    "- 리스트 정렬 .sort() 기본 : 오름차순, sort(reverse=True) : 내림차순\n",
    "- 리스트를 뒤집기 reverse()\n",
    "- 리스트 해당 요소의 인덱스 index(data) # data가 어느 위치에 있는지 반환\n",
    "- 리스트 요소 삭제 : del 리스트명[인덱스], .remove(data) 왼쪽에서 첫번째만 제거된다, .clear()\n",
    "- 리스트의 마지막 요소 추출 : .pop()\n",
    "- 리스트의 요소의 개수 : 리스트명.count(data) data가 몇 개 있냐 ~~ \n",
    "- 리스트의 확장 : 리스트.extend(리스트 자료형만 올 수 있다) 🚨변수 필요 없음!!!!!"
   ]
  },
  {
   "cell_type": "markdown",
   "id": "25d78d6c",
   "metadata": {},
   "source": [
    "### 튜플자료형\n",
    "- 시퀀스 자료형\n",
    "- 변경 불가\n",
    "- ()\n",
    "- 요소가 하나일 땐 ,가 필요"
   ]
  },
  {
   "cell_type": "code",
   "execution_count": 101,
   "id": "8b73ff34",
   "metadata": {},
   "outputs": [
    {
     "name": "stdout",
     "output_type": "stream",
     "text": [
      "()\n",
      "(1,)\n",
      "(1, 2, 3)\n",
      "[1]\n",
      "(1, 2, 3, ['a', 'b'], (1, 5, 8))\n"
     ]
    }
   ],
   "source": [
    "t1 = ()\n",
    "t2 = (1,) # 하나의 데이터만 담을 때는 ,를 마지막에 붙여줘야 튜플이 안풀림\n",
    "t3 = (1,2,3)\n",
    "t4 = [1]\n",
    "print(t1)\n",
    "print(t2)\n",
    "print(t3)\n",
    "print(t4)\n",
    "t5 = (1,2,3,['a','b'],(1,5,8))\n",
    "print(t5)"
   ]
  },
  {
   "cell_type": "code",
   "execution_count": 103,
   "id": "5e981b2f",
   "metadata": {},
   "outputs": [
    {
     "name": "stdout",
     "output_type": "stream",
     "text": [
      "['a', 'b']\n",
      "<class 'list'>\n"
     ]
    }
   ],
   "source": [
    "print(t5[3])\n",
    "print(type(t5[3]))"
   ]
  },
  {
   "cell_type": "code",
   "execution_count": 105,
   "id": "e6f6c9a9",
   "metadata": {},
   "outputs": [
    {
     "ename": "IndexError",
     "evalue": "list assignment index out of range",
     "output_type": "error",
     "traceback": [
      "\u001b[1;31m---------------------------------------------------------------------------\u001b[0m",
      "\u001b[1;31mIndexError\u001b[0m                                Traceback (most recent call last)",
      "Input \u001b[1;32mIn [105]\u001b[0m, in \u001b[0;36m<cell line: 1>\u001b[1;34m()\u001b[0m\n\u001b[1;32m----> 1\u001b[0m t4[\u001b[38;5;241m3\u001b[39m] \u001b[38;5;241m=\u001b[39m \u001b[38;5;241m4\u001b[39m\n",
      "\u001b[1;31mIndexError\u001b[0m: list assignment index out of range"
     ]
    }
   ],
   "source": [
    "t4[3] = 4 # 튜플의 요소는 변경할 수 없기 때문에 변경 불가, 하나하나의 리스트요소로 바꿀려고 하면 가능"
   ]
  },
  {
   "cell_type": "code",
   "execution_count": 106,
   "id": "85e5871f",
   "metadata": {},
   "outputs": [
    {
     "name": "stdout",
     "output_type": "stream",
     "text": [
      "(1, 2, 3, ['me', 'b'], (1, 5, 8))\n"
     ]
    }
   ],
   "source": [
    "t5[3][0] = 'me'\n",
    "print(t5)"
   ]
  },
  {
   "cell_type": "code",
   "execution_count": 107,
   "id": "2b411719",
   "metadata": {},
   "outputs": [
    {
     "name": "stdout",
     "output_type": "stream",
     "text": [
      "(1, 2)\n"
     ]
    }
   ],
   "source": [
    "print(t5[:2])"
   ]
  },
  {
   "cell_type": "code",
   "execution_count": 109,
   "id": "f775fb49",
   "metadata": {},
   "outputs": [
    {
     "name": "stdout",
     "output_type": "stream",
     "text": [
      "(1, 2, 'a', 'b', 3, 4)\n",
      "t1 =  (1, 2, 'a', 'b')\n",
      "t2 =  (3, 4)\n"
     ]
    }
   ],
   "source": [
    "t1 = (1,2,'a','b')\n",
    "t2 = (3,4)\n",
    "print(t1 + t2)\n",
    "print(\"t1 = \",t1)\n",
    "print(\"t2 = \",t2) # 확장의 개념으로 변경이 된것, t1과 t2는 변경되지 않음"
   ]
  },
  {
   "cell_type": "code",
   "execution_count": 111,
   "id": "07db8309",
   "metadata": {},
   "outputs": [
    {
     "name": "stdout",
     "output_type": "stream",
     "text": [
      "(1, 2, 'a', 'b', 3, 4, 3, 4)\n"
     ]
    }
   ],
   "source": [
    "t1 = t1 + t2 # 변경의 의미 말고 새로운 튜플이 생성이 된 것이라 봐야한다.\n",
    "print(t1)"
   ]
  },
  {
   "cell_type": "code",
   "execution_count": 112,
   "id": "89b8350c",
   "metadata": {},
   "outputs": [
    {
     "name": "stdout",
     "output_type": "stream",
     "text": [
      "(3, 4, 3, 4)\n"
     ]
    }
   ],
   "source": [
    "print(t2 * 2)"
   ]
  },
  {
   "cell_type": "code",
   "execution_count": 113,
   "id": "01cd2eba",
   "metadata": {},
   "outputs": [
    {
     "name": "stdout",
     "output_type": "stream",
     "text": [
      "8\n"
     ]
    }
   ],
   "source": [
    "print(len(t1)) # t1 = t1 + t2 의 값의 개수를 묻는 것"
   ]
  },
  {
   "cell_type": "code",
   "execution_count": 114,
   "id": "4d3c0012",
   "metadata": {},
   "outputs": [],
   "source": [
    "# 파이썬에서 별도의 자료를 설정하지 않으면 튜플로 봄"
   ]
  },
  {
   "cell_type": "code",
   "execution_count": 115,
   "id": "9db31446",
   "metadata": {},
   "outputs": [
    {
     "ename": "AttributeError",
     "evalue": "'tuple' object has no attribute 'pop'",
     "output_type": "error",
     "traceback": [
      "\u001b[1;31m---------------------------------------------------------------------------\u001b[0m",
      "\u001b[1;31mAttributeError\u001b[0m                            Traceback (most recent call last)",
      "Input \u001b[1;32mIn [115]\u001b[0m, in \u001b[0;36m<cell line: 1>\u001b[1;34m()\u001b[0m\n\u001b[1;32m----> 1\u001b[0m \u001b[43mt1\u001b[49m\u001b[38;5;241;43m.\u001b[39;49m\u001b[43mpop\u001b[49m()\n\u001b[0;32m      2\u001b[0m t1\n",
      "\u001b[1;31mAttributeError\u001b[0m: 'tuple' object has no attribute 'pop'"
     ]
    }
   ],
   "source": [
    "t1.pop()\n",
    "t1 # 변경의 의미가 되기에 튜플에서 팝형식 안됨"
   ]
  },
  {
   "cell_type": "markdown",
   "id": "8aef28fd",
   "metadata": {},
   "source": [
    "### 딕셔너리, 사전 \n",
    "- 키 : 값 = 아이템\n",
    "- {}\n",
    "- 인덱스가 없고 순서의 의미도 없다.\n",
    "- 키를 통해 데이터를 읽어온다 (키 중복 불가, 값은 중복 가능)\n",
    "- 사전. keys() 임의의 순서 (리스트에 담김)\n",
    "- 사전. values() 임의의 순서 (리스트에 담김)\n",
    "- 사전. items() 임의의 순서 (튜플 타입에 담김)\n",
    "- keys, values, items 가 반환하는 자료형 => 리스트"
   ]
  },
  {
   "cell_type": "code",
   "execution_count": 116,
   "id": "bf4ccde3",
   "metadata": {},
   "outputs": [],
   "source": [
    "dic = {} # 빈집합\n",
    "dic = {'a' :1} # 이젠 집합이 됨\n",
    "s = {} # 집합도 중괄호 씀, 빈집합\n",
    "l = []\n",
    "t = ()\n"
   ]
  },
  {
   "cell_type": "code",
   "execution_count": 118,
   "id": "74934699",
   "metadata": {},
   "outputs": [
    {
     "data": {
      "text/plain": [
       "{1, 2, 3}"
      ]
     },
     "execution_count": 118,
     "metadata": {},
     "output_type": "execute_result"
    }
   ],
   "source": [
    "dic = {'a':1}\n",
    "s = {1,2,3,1,2} # 집합은 중복이 안된다\n",
    "l = []\n",
    "t = ()\n",
    "s"
   ]
  },
  {
   "cell_type": "code",
   "execution_count": 125,
   "id": "926f6d29",
   "metadata": {},
   "outputs": [
    {
     "name": "stdout",
     "output_type": "stream",
     "text": [
      "{'name': 'aaa', 'phone': '123-456-789'}\n",
      "<class 'dict'>\n"
     ]
    }
   ],
   "source": [
    "dic = {'name' : 'aaa', 'phone':'123-456-789'}\n",
    "print(dic)\n",
    "print(type(dic))"
   ]
  },
  {
   "cell_type": "code",
   "execution_count": 126,
   "id": "f1efb944",
   "metadata": {},
   "outputs": [
    {
     "name": "stdout",
     "output_type": "stream",
     "text": [
      "aaa\n",
      "{'name': 'aaa', 'phone': '123-456-789', 'age': 33}\n"
     ]
    }
   ],
   "source": [
    "# [조건식] , index, : , 조건식 - 조건식이 참인 것만 대상으로 작업\n",
    "print(dic['name'])\n",
    "\n",
    "# 사전[key]\n",
    "dic['age'] = 33\n",
    "print(dic)"
   ]
  },
  {
   "cell_type": "code",
   "execution_count": 127,
   "id": "2a61e8d0",
   "metadata": {},
   "outputs": [
    {
     "ename": "KeyError",
     "evalue": "0",
     "output_type": "error",
     "traceback": [
      "\u001b[1;31m---------------------------------------------------------------------------\u001b[0m",
      "\u001b[1;31mKeyError\u001b[0m                                  Traceback (most recent call last)",
      "Input \u001b[1;32mIn [127]\u001b[0m, in \u001b[0;36m<cell line: 1>\u001b[1;34m()\u001b[0m\n\u001b[1;32m----> 1\u001b[0m \u001b[43mdic\u001b[49m\u001b[43m[\u001b[49m\u001b[38;5;241;43m0\u001b[39;49m\u001b[43m]\u001b[49m\n",
      "\u001b[1;31mKeyError\u001b[0m: 0"
     ]
    }
   ],
   "source": [
    "dic[0]"
   ]
  },
  {
   "cell_type": "code",
   "execution_count": 128,
   "id": "d6786a7d",
   "metadata": {},
   "outputs": [
    {
     "name": "stdout",
     "output_type": "stream",
     "text": [
      "{'name': 'aaa', 'phone': '123-456-789', 'age': 33, 3: [1, 2, 3]}\n"
     ]
    }
   ],
   "source": [
    "dic[3] = [1,2,3]\n",
    "print(dic)"
   ]
  },
  {
   "cell_type": "code",
   "execution_count": 130,
   "id": "cdf99160",
   "metadata": {},
   "outputs": [
    {
     "ename": "KeyError",
     "evalue": "3",
     "output_type": "error",
     "traceback": [
      "\u001b[1;31m---------------------------------------------------------------------------\u001b[0m",
      "\u001b[1;31mKeyError\u001b[0m                                  Traceback (most recent call last)",
      "Input \u001b[1;32mIn [130]\u001b[0m, in \u001b[0;36m<cell line: 1>\u001b[1;34m()\u001b[0m\n\u001b[1;32m----> 1\u001b[0m \u001b[38;5;28;01mdel\u001b[39;00m dic[\u001b[38;5;241m3\u001b[39m]\n\u001b[0;32m      2\u001b[0m \u001b[38;5;28mprint\u001b[39m(dic)\n",
      "\u001b[1;31mKeyError\u001b[0m: 3"
     ]
    }
   ],
   "source": [
    "del dic[3]\n",
    "print(dic)"
   ]
  },
  {
   "cell_type": "code",
   "execution_count": 131,
   "id": "79ee0a54",
   "metadata": {},
   "outputs": [
    {
     "name": "stdout",
     "output_type": "stream",
     "text": [
      "{'name': 'aaa', 'phone': '123-456-789', 'age': 33}\n"
     ]
    }
   ],
   "source": [
    "print(dic)"
   ]
  },
  {
   "cell_type": "code",
   "execution_count": 135,
   "id": "4698ca98",
   "metadata": {},
   "outputs": [
    {
     "name": "stdout",
     "output_type": "stream",
     "text": [
      "{'id': [111, 222, 333, 444, 555], 'name': ['aaa', 'bbb', 'ccc', 'ddd', 'eee'], 'kor': [88, 92, 74, 100, 93], 'eng': [90, 87, 74, 88, 93], 'math': [80, 70, 90, 50, 60]}\n"
     ]
    }
   ],
   "source": [
    "student = {'id': [111,222,333,444,555],\n",
    "          'name': ['aaa','bbb','ccc','ddd','eee'],\n",
    "          'kor': [88,92,74,100,93],\n",
    "          'eng' : [90,87,74,88,93],\n",
    "          'math': [80,70,90,50,60]}\n",
    "print(student)"
   ]
  },
  {
   "cell_type": "code",
   "execution_count": 136,
   "id": "db6b4ae1",
   "metadata": {},
   "outputs": [
    {
     "name": "stdout",
     "output_type": "stream",
     "text": [
      "[111, 222, 333, 444, 555]\n"
     ]
    }
   ],
   "source": [
    "print(student['id'])"
   ]
  },
  {
   "cell_type": "code",
   "execution_count": 143,
   "id": "5b63ebba",
   "metadata": {},
   "outputs": [
    {
     "name": "stdout",
     "output_type": "stream",
     "text": [
      "dict_keys(['id', 'name', 'kor', 'eng', 'math'])\n"
     ]
    }
   ],
   "source": [
    "print(student.keys())"
   ]
  },
  {
   "cell_type": "code",
   "execution_count": 139,
   "id": "84c8c8fe",
   "metadata": {},
   "outputs": [
    {
     "name": "stdout",
     "output_type": "stream",
     "text": [
      "dict_values([[111, 222, 333, 444, 555], ['aaa', 'bbb', 'ccc', 'ddd', 'eee'], [88, 92, 74, 100, 93], [90, 87, 74, 88, 93], [80, 70, 90, 50, 60]])\n"
     ]
    }
   ],
   "source": [
    "print(student.values())"
   ]
  },
  {
   "cell_type": "code",
   "execution_count": 140,
   "id": "2edad1a9",
   "metadata": {},
   "outputs": [
    {
     "name": "stdout",
     "output_type": "stream",
     "text": [
      "dict_items([('id', [111, 222, 333, 444, 555]), ('name', ['aaa', 'bbb', 'ccc', 'ddd', 'eee']), ('kor', [88, 92, 74, 100, 93]), ('eng', [90, 87, 74, 88, 93]), ('math', [80, 70, 90, 50, 60])])\n"
     ]
    }
   ],
   "source": [
    "print(student.items())"
   ]
  },
  {
   "cell_type": "code",
   "execution_count": 141,
   "id": "f187e1b9",
   "metadata": {},
   "outputs": [
    {
     "name": "stdout",
     "output_type": "stream",
     "text": [
      "[[1, 2, 3], [4, 5, 6]]\n"
     ]
    }
   ],
   "source": [
    "a = [[1,2,3],[4,5,6]] # 2차원 리스트\n",
    "print(a)"
   ]
  },
  {
   "cell_type": "code",
   "execution_count": 144,
   "id": "483fb139",
   "metadata": {},
   "outputs": [
    {
     "name": "stdout",
     "output_type": "stream",
     "text": [
      "id\n",
      "name\n",
      "kor\n",
      "eng\n",
      "math\n"
     ]
    }
   ],
   "source": [
    "for key in student.keys() :\n",
    "    print(key) 🌝🌬🌀🌈☂🌠"
   ]
  },
  {
   "cell_type": "code",
   "execution_count": 145,
   "id": "9c88954f",
   "metadata": {},
   "outputs": [],
   "source": [
    "student.clear()"
   ]
  },
  {
   "cell_type": "code",
   "execution_count": 147,
   "id": "59dc3595",
   "metadata": {},
   "outputs": [
    {
     "name": "stdout",
     "output_type": "stream",
     "text": [
      "{}\n"
     ]
    }
   ],
   "source": [
    "print(student)"
   ]
  },
  {
   "cell_type": "code",
   "execution_count": 148,
   "id": "f6b4f6ea",
   "metadata": {},
   "outputs": [
    {
     "name": "stdout",
     "output_type": "stream",
     "text": [
      "{'name': 'aaa', 'phone': '123-456-789', 'age': 33}\n"
     ]
    }
   ],
   "source": [
    "dic = {'name' : 'aaa', 'phone':'123-456-789'}\n",
    "dic['age'] = 33\n",
    "print(dic)"
   ]
  },
  {
   "cell_type": "code",
   "execution_count": 149,
   "id": "1752d5fb",
   "metadata": {},
   "outputs": [
    {
     "name": "stdout",
     "output_type": "stream",
     "text": [
      "aaa\n"
     ]
    }
   ],
   "source": [
    "print(dic['name'])"
   ]
  },
  {
   "cell_type": "code",
   "execution_count": 150,
   "id": "a6c2b99a",
   "metadata": {},
   "outputs": [
    {
     "name": "stdout",
     "output_type": "stream",
     "text": [
      "aaa\n"
     ]
    }
   ],
   "source": [
    "print(dic.get('name')) # name 이라는 키가 가진 값을 얻어오는 함수 get()"
   ]
  },
  {
   "cell_type": "markdown",
   "id": "13b899c7",
   "metadata": {},
   "source": [
    "### 집합\n",
    "- 중복이 불가능\n",
    "- 순서가 없다\n",
    "- {}\n",
    "- s = set([1,2,3,4,5]) \n",
    "- 개별적 요소로 접근 불가\n",
    "- 값을 집어넣을 순 있지만 순서가 없기에 뒤에 붙임"
   ]
  },
  {
   "cell_type": "code",
   "execution_count": 151,
   "id": "5c9d83b6",
   "metadata": {},
   "outputs": [
    {
     "name": "stdout",
     "output_type": "stream",
     "text": [
      "{1, 2, 3, 4, 5}\n"
     ]
    }
   ],
   "source": [
    "s = set([1,2,3,4,5]) \n",
    "print(s)"
   ]
  },
  {
   "cell_type": "code",
   "execution_count": 156,
   "id": "1af872e0",
   "metadata": {},
   "outputs": [
    {
     "name": "stdout",
     "output_type": "stream",
     "text": [
      "{'l', 'h', 'e', 'o'}\n"
     ]
    }
   ],
   "source": [
    "s2 = set('hello')\n",
    "print(s2)"
   ]
  },
  {
   "cell_type": "code",
   "execution_count": 157,
   "id": "27bc9f1d",
   "metadata": {},
   "outputs": [
    {
     "name": "stdout",
     "output_type": "stream",
     "text": [
      "[1, 2, 3, 4, 5]\n"
     ]
    }
   ],
   "source": [
    "a = list(s)\n",
    "print(a)"
   ]
  },
  {
   "cell_type": "code",
   "execution_count": 160,
   "id": "ce25bdb4",
   "metadata": {},
   "outputs": [
    {
     "name": "stdout",
     "output_type": "stream",
     "text": [
      "(1, 2, 3, 4, 5)\n"
     ]
    }
   ],
   "source": [
    "b = tuple(s)\n",
    "print(b)"
   ]
  },
  {
   "cell_type": "markdown",
   "id": "5106c5a9",
   "metadata": {},
   "source": [
    "### 집합과 관련 함수\n",
    "- add : 1 개 요소 추가"
   ]
  },
  {
   "cell_type": "code",
   "execution_count": 163,
   "id": "92080198",
   "metadata": {},
   "outputs": [
    {
     "name": "stdout",
     "output_type": "stream",
     "text": [
      "{1, 2, 3, 4, 5, 6}\n",
      "{1, 2, 3, 4, 5, 6}\n",
      "{1, 2, 3, 4, 5, 6}\n"
     ]
    }
   ],
   "source": [
    "print(s)\n",
    "s.add(6) # 1개의 값만 추가할 수 있음\n",
    "print(s)\n",
    "s.add(5)\n",
    "print(s)"
   ]
  },
  {
   "cell_type": "code",
   "execution_count": 164,
   "id": "c94e9b88",
   "metadata": {},
   "outputs": [
    {
     "name": "stdout",
     "output_type": "stream",
     "text": [
      "{1, 2, 3}\n"
     ]
    }
   ],
   "source": [
    "# 여러개의 값을 추가할 때 쓰는 함수 : update(리스트,튜플자료형) --> 집합자료형은 다 됨\n",
    "s1 = set([1,2,3])\n",
    "print(s1)"
   ]
  },
  {
   "cell_type": "code",
   "execution_count": 165,
   "id": "76cf8083",
   "metadata": {},
   "outputs": [
    {
     "name": "stdout",
     "output_type": "stream",
     "text": [
      "{1, 2, 3, 4}\n"
     ]
    }
   ],
   "source": [
    "s1.update([4])\n",
    "print(s1)"
   ]
  },
  {
   "cell_type": "code",
   "execution_count": 166,
   "id": "9696329c",
   "metadata": {},
   "outputs": [
    {
     "name": "stdout",
     "output_type": "stream",
     "text": [
      "{1, 2, 3, 4, 's', 50, 90}\n"
     ]
    }
   ],
   "source": [
    "s1.update([90,50,'s'])\n",
    "print(s1)"
   ]
  },
  {
   "cell_type": "code",
   "execution_count": 167,
   "id": "f71ec347",
   "metadata": {},
   "outputs": [
    {
     "name": "stdout",
     "output_type": "stream",
     "text": [
      "{96, 1, 2, 3, 4, '57', 's', 50, 88, 90}\n"
     ]
    }
   ],
   "source": [
    "s1.update((88,96,'57'))\n",
    "print(s1)"
   ]
  },
  {
   "cell_type": "code",
   "execution_count": 168,
   "id": "198bc11e",
   "metadata": {},
   "outputs": [
    {
     "name": "stdout",
     "output_type": "stream",
     "text": [
      "{96, 1, 2, 3, 4, '57', 'p', 'd', 'i', 'm', 'n', 'r', 's', 50, 'a', 88, 90, 'e'}\n"
     ]
    }
   ],
   "source": [
    "s1.update(\"spiderman\")\n",
    "print(s1)"
   ]
  },
  {
   "cell_type": "code",
   "execution_count": 169,
   "id": "cf8f86e2",
   "metadata": {},
   "outputs": [
    {
     "name": "stdout",
     "output_type": "stream",
     "text": [
      "{96, 1, 2, 3, 4, '57', 'd', 'i', 'm', 'n', 'r', 's', 50, 'a', 88, 90, 'e'}\n"
     ]
    }
   ],
   "source": [
    "# 특정 값을 제거하는 함수 remove(값)\n",
    "s1.remove('p')\n",
    "print(s1)"
   ]
  },
  {
   "cell_type": "code",
   "execution_count": 2,
   "id": "a4476527",
   "metadata": {},
   "outputs": [
    {
     "name": "stdout",
     "output_type": "stream",
     "text": [
      "#\n",
      "\n",
      "###\n",
      "\n",
      "# # # # # \n",
      "#####\n",
      "#####\n",
      "#####\n",
      "#####\n",
      "#####\n",
      "\n",
      "\n",
      "#\n",
      "##\n",
      "###\n",
      "####\n",
      "#####\n",
      "\n"
     ]
    },
    {
     "ename": "IndexError",
     "evalue": "Replacement index 4 out of range for positional args tuple",
     "output_type": "error",
     "traceback": [
      "\u001b[1;31m---------------------------------------------------------------------------\u001b[0m",
      "\u001b[1;31mIndexError\u001b[0m                                Traceback (most recent call last)",
      "Input \u001b[1;32mIn [2]\u001b[0m, in \u001b[0;36m<cell line: 21>\u001b[1;34m()\u001b[0m\n\u001b[0;32m     19\u001b[0m \u001b[38;5;28mprint\u001b[39m()\n\u001b[0;32m     21\u001b[0m \u001b[38;5;28;01mfor\u001b[39;00m i \u001b[38;5;129;01min\u001b[39;00m \u001b[38;5;28mrange\u001b[39m(\u001b[38;5;241m6\u001b[39m) :\n\u001b[1;32m---> 22\u001b[0m     \u001b[38;5;28mprint\u001b[39m(\u001b[38;5;124;43m\"\u001b[39;49m\u001b[38;5;132;43;01m{4:f}\u001b[39;49;00m\u001b[38;5;124;43m\"\u001b[39;49m\u001b[38;5;241;43m.\u001b[39;49m\u001b[43mformat\u001b[49m\u001b[43m(\u001b[49m\u001b[38;5;124;43m\"\u001b[39;49m\u001b[38;5;124;43m#\u001b[39;49m\u001b[38;5;124;43m\"\u001b[39;49m\u001b[38;5;241;43m*\u001b[39;49m\u001b[43mi\u001b[49m\u001b[43m)\u001b[49m\u001b[38;5;241m.\u001b[39msort(reverse\u001b[38;5;241m=\u001b[39m\u001b[38;5;28;01mTrue\u001b[39;00m))\n",
      "\u001b[1;31mIndexError\u001b[0m: Replacement index 4 out of range for positional args tuple"
     ]
    }
   ],
   "source": [
    "print(\"#\")\n",
    "print()\n",
    "print(\"#\"*3)\n",
    "print()\n",
    "\n",
    "for i in range(5): # 0,1,2,3,4\n",
    "    print(\"#\",end=\" \")\n",
    "\n",
    "print()\n",
    "\n",
    "for i in range(5): # 0,1,2,3,4\n",
    "    print(\"#\"*5)\n",
    "    \n",
    "print ()\n",
    "\n",
    "for i in range(6) :\n",
    "    print(\"#\"*i)\n",
    "    \n",
    "print()\n",
    "\n",
    "for i in range(6) :\n",
    "    print(\"{4:f}\".format(\"#\"*i).sort(reverse=True))"
   ]
  },
  {
   "cell_type": "code",
   "execution_count": 40,
   "id": "ba1f9249",
   "metadata": {},
   "outputs": [
    {
     "name": "stdout",
     "output_type": "stream",
     "text": [
      "    #\n",
      "   ##\n",
      "  ###\n",
      " ####\n",
      "#####\n"
     ]
    }
   ],
   "source": [
    "n = 0\n",
    "for i in range(4,-1,-1):\n",
    "    n = n + 1\n",
    "    print(\" \" * i + \"#\" * n)"
   ]
  },
  {
   "cell_type": "code",
   "execution_count": null,
   "id": "a48df2fc",
   "metadata": {},
   "outputs": [],
   "source": [
    "for i in range(6:1:-1)"
   ]
  },
  {
   "cell_type": "code",
   "execution_count": null,
   "id": "a10127f5",
   "metadata": {},
   "outputs": [],
   "source": [
    "#####\n",
    "####\n",
    "###\n",
    "##\n",
    "#"
   ]
  },
  {
   "cell_type": "markdown",
   "id": "79ed1dcd",
   "metadata": {},
   "source": [
    "### 제어문\n",
    "\n",
    "- 조건문 : 단순 if/ if~else문/ elif문 => 선택문\n",
    "- 조건식 : True, False 로 판정이 되는 식 (비교 == 관계, 논리연산자)"
   ]
  },
  {
   "cell_type": "code",
   "execution_count": 205,
   "id": "83cf32f5",
   "metadata": {},
   "outputs": [
    {
     "name": "stdout",
     "output_type": "stream",
     "text": [
      "걸어가자\n"
     ]
    }
   ],
   "source": [
    "money = True\n",
    "\n",
    "if \"\" :\n",
    "    print(\"택시 타고 집가자\")\n",
    "else:\n",
    "    print(\"걸어가자\")"
   ]
  },
  {
   "cell_type": "markdown",
   "id": "b87700c4",
   "metadata": {},
   "source": [
    "### 계산기 프로그램"
   ]
  },
  {
   "cell_type": "code",
   "execution_count": 46,
   "id": "a5ce2091",
   "metadata": {},
   "outputs": [
    {
     "name": "stdout",
     "output_type": "stream",
     "text": [
      "정수1 = 5\n",
      "연산자 : +,-,*,/ 중 택 1 : +\n",
      "정수2 = 3\n",
      "5 + 3 = 8\n"
     ]
    }
   ],
   "source": [
    "# 두 개의 정수와 하나의 연산자를 입력받아 연산을 수행한 후 결과를 출력하는 프로그램을 구현하시오 😣😏🙄🤬🤠🤓👻☠👾\n",
    "\n",
    "a1 = int(input(\"정수1 = \"))\n",
    "yeon =input(\"연산자 : +,-,*,/ 중 택 1 : \")\n",
    "check = True\n",
    "while check:\n",
    "    a2 = int(input(\"정수2 = \"))\n",
    "    if yeon != '/' or a2 != 0:\n",
    "        check = False\n",
    "\n",
    "res = 0\n",
    "if yeon == '+':\n",
    "    res = a1 + a2\n",
    "elif yeon == '-':\n",
    "    res = a1 - a2\n",
    "elif yeon == '*':\n",
    "    res = a1 * a2\n",
    "else:\n",
    "    res = a1 / a2\n",
    "\n",
    "print(\"{0} {1} {2} = {3}\".format(a1, yeon, a2, res))\n",
    "    "
   ]
  },
  {
   "cell_type": "markdown",
   "id": "16cdde3a",
   "metadata": {},
   "source": [
    "### UP/DOWN 게임"
   ]
  },
  {
   "cell_type": "code",
   "execution_count": 2,
   "id": "4991e7d8",
   "metadata": {},
   "outputs": [
    {
     "name": "stdout",
     "output_type": "stream",
     "text": [
      "47\n",
      "랜덤숫자 입력하시오(1~100) : 5\n",
      "UP\n",
      "랜덤숫자 입력하시오(1~100) : 47\n",
      "정답 :  47 = 47\n"
     ]
    }
   ],
   "source": [
    "# 1에서 100사이의 숫자 하나를 랜덤으로 발생한 후 사용자가 입력한 숫자와 비교하여 그 결과를 출력하는 프로그램\n",
    "import random\n",
    "\n",
    "# 난수 생성 함수 : random.randint(1,100) - 하나의 정수 난수 (1~100) 생성\n",
    "check = random.randint(1,100)\n",
    "print(check)\n",
    "a = int(input(\"랜덤숫자 입력하시오(1~100) : \"))\n",
    "\n",
    "while (a != check) : # a not in  check 같지 않다면 계속 반복해라\n",
    "    if a > check:\n",
    "        print(\"DOWN\")\n",
    "    else :\n",
    "        print(\"UP\")\n",
    "    a = int(input(\"랜덤숫자 입력하시오(1~100) : \"))\n",
    "else :\n",
    "    print(\"정답 : \", a, \"=\", check)"
   ]
  },
  {
   "cell_type": "code",
   "execution_count": 3,
   "id": "313817b6",
   "metadata": {},
   "outputs": [
    {
     "name": "stdout",
     "output_type": "stream",
     "text": [
      "32\n",
      "랜덤숫자 입력하시오 : 8\n",
      "UP\n",
      "랜덤숫자 입력하시오 : 9\n",
      "UP\n",
      "랜덤숫자 입력하시오 : 80\n",
      "DOWN\n",
      "랜덤숫자 입력하시오 : 32\n"
     ]
    }
   ],
   "source": [
    "# 1에서 100사이의 숫자 하나를 랜덤으로 발생한 후 사용자가 입력한 숫자와 비교하여 그 결과를 출력하는 프로그램\n",
    "import random\n",
    "\n",
    "# 난수 생성 함수 : random.randint(1,100) - 하나의 정수 난수 (1~100) 생성\n",
    "check = random.randint(1,100)\n",
    "print(check)\n",
    "while True:\n",
    "    a = int(input(\"랜덤숫자 입력하시오 : \"))\n",
    "    \n",
    "    if a > check:\n",
    "        print(\"DOWN\")\n",
    "    elif a < check :\n",
    "        print(\"UP\") \n",
    "    else:\n",
    "        break\n",
    "        "
   ]
  },
  {
   "cell_type": "markdown",
   "id": "65948533",
   "metadata": {},
   "source": [
    "### 사다리꼴의 넓이를 구하는 프로그램을 구현하시오."
   ]
  },
  {
   "cell_type": "code",
   "execution_count": 6,
   "id": "f55d4c06",
   "metadata": {},
   "outputs": [
    {
     "name": "stdout",
     "output_type": "stream",
     "text": [
      "윗변 = 3\n",
      "밑변 = 4\n",
      "높이 = 7\n",
      "사다리꼴의 넓이 =  24.5\n"
     ]
    }
   ],
   "source": [
    "# 윗변, 아랫변, 높이 \n",
    "#  [(윗변 + 아랫변) × 높이 ÷ 2]\n",
    "u = int(input(\"윗변 = \")) ## 윗변을 입력받는다\n",
    "b = int(input(\"밑변 = \")) ## 아랫변을 입력받는다\n",
    "h = int(input(\"높이 = \")) ## 높이를 입력받는다\n",
    "r = (u + b) / 2 * h  ## 넓이를 계산하여 결과를 저장하는 변수에 담는다\n",
    "## 넓이의 결과를 출력한다\n",
    "print(\"사다리꼴의 넓이 = \", r)\n",
    "\n",
    "\n"
   ]
  },
  {
   "cell_type": "markdown",
   "id": "422cdd31",
   "metadata": {},
   "source": [
    "### 멀티프로그램 "
   ]
  },
  {
   "cell_type": "code",
   "execution_count": 7,
   "id": "bc562ef3",
   "metadata": {},
   "outputs": [],
   "source": [
    "# 1. 최대값 2. 수나열 3. 사칙연산 4. 프로그램 종료 5. 메뉴\n",
    "# 최대값 : 두 개의 정수를 입력받아 큰 수를 출력하는 프로그램\n",
    "# 수나열 : 세 개의 정수를 입력받아 큰 순서대로 나열하여 출력하는 프로그램\n",
    "# 사칙연산 : 두 개의 정수와 하나의 연산자를 입력받아 계산결과를 출력하는 프로그램"
   ]
  },
  {
   "cell_type": "code",
   "execution_count": null,
   "id": "c79bdf14",
   "metadata": {},
   "outputs": [
    {
     "name": "stdout",
     "output_type": "stream",
     "text": [
      "==== main menu ====\n",
      "1. 최대값 구하기\n",
      "2. 수나열 구하기\n",
      "3. 계산기 프로그램\n",
      "4. 프로그램 종료\n",
      "===================\n",
      "menu = 9\n",
      "너 바보지?~~!\n",
      "==== main menu ====\n",
      "1. 최대값 구하기\n",
      "2. 수나열 구하기\n",
      "3. 계산기 프로그램\n",
      "4. 프로그램 종료\n",
      "===================\n"
     ]
    }
   ],
   "source": [
    "while True : \n",
    "    \n",
    "    print(\"==== main menu ====\")\n",
    "    print(\"1. 최대값 구하기\")\n",
    "    print(\"2. 수나열 구하기\")\n",
    "    print(\"3. 계산기 프로그램\")\n",
    "    print(\"4. 프로그램 종료\")\n",
    "    print(\"===================\")\n",
    "    menu = int(input(\"menu = \"))\n",
    "    \n",
    "    if menu == 4:\n",
    "        break\n",
    "    elif menu == 1 :\n",
    "        pass\n",
    "    elif menu == 2 :\n",
    "        pass\n",
    "    elif menu == 3 :\n",
    "        pass\n",
    "    else :\n",
    "        print(\"너 바보지?~~!\")\n",
    "        "
   ]
  },
  {
   "cell_type": "markdown",
   "id": "78b2cbdf",
   "metadata": {},
   "source": [
    "### 함수(function)\n",
    "1. 함수의 정의 : 관련된 기능이나 명령어를 묶음\n",
    "   - 필요할 때 호출해서 사용\n",
    "   - 유지보수 수월\n",
    "   - 가독성이 좋다\n",
    "   \n",
    "2. 함수의 구조(구성) : .def(=define) 선언문 \n",
    "   .def 함수의 이름(매개변수): <br>\n",
    "       문장1 <br>\n",
    "       문장2 <br>\n",
    "        |    <br>\n",
    "       return 하나의 값 or 수식 or 자료형\n",
    "       \n",
    "\n",
    "3. 함수의 호출 방법\n",
    "    - 이름에 의한 호출 call by name  - 매개변수가 없는 함수\n",
    "    - 값에 의한 호출 call by value\n",
    "    - 주소에 의한 호출 call by reference \n",
    "      (값과 주소를 묶어서 생각 매개변수가 없으면 값에 의한 호출)\n",
    "      \n",
    "4. 함수의 기본 형식\n",
    "    - def aaa():\n",
    "      => 매개변수 없고, 리턴값 없는 경우) 함수의 이름만 가지고 호출 가능\n",
    "      => 매개변수 없고, 리턴값 있는 경우\n",
    "      => 매개변수 있고, 리턴값 없는 경우\n",
    "      => 매개변수 있고, 리턴값 있는 경우\n",
    "      \n",
    "   "
   ]
  },
  {
   "cell_type": "code",
   "execution_count": 22,
   "id": "e2d2bdcc",
   "metadata": {},
   "outputs": [],
   "source": [
    "# 매개변수, 리턴값 없는 함수\n",
    "def aaa() : \n",
    "    print(\"hi\")\n",
    "    print(\"뭘봐\")\n",
    "# 함수를 선언만 한 것 "
   ]
  },
  {
   "cell_type": "code",
   "execution_count": 23,
   "id": "a2f5a557",
   "metadata": {},
   "outputs": [],
   "source": [
    "# 매개변수 없고, 리턴값만 있는 경우\n",
    "def bbb() :\n",
    "    return \"hi\""
   ]
  },
  {
   "cell_type": "code",
   "execution_count": 24,
   "id": "57dc5d86",
   "metadata": {},
   "outputs": [],
   "source": [
    "# 매개변수 있고, 리턴값 없는 경우\n",
    "def ccc(a):\n",
    "    print(a)"
   ]
  },
  {
   "cell_type": "code",
   "execution_count": 25,
   "id": "d626f6fd",
   "metadata": {},
   "outputs": [],
   "source": [
    "def ddd(a,b,c):\n",
    "    print(a+b+c)"
   ]
  },
  {
   "cell_type": "code",
   "execution_count": 26,
   "id": "86864fd4",
   "metadata": {},
   "outputs": [],
   "source": [
    "# 매개변수가 있고 리턴값도 있는 경우\n",
    "def eee(a,b) :\n",
    "    c = a+b\n",
    "    return c"
   ]
  },
  {
   "cell_type": "code",
   "execution_count": 27,
   "id": "015269fd",
   "metadata": {},
   "outputs": [
    {
     "name": "stdout",
     "output_type": "stream",
     "text": [
      "프로그램 시작\n",
      "여러가지 작업\n",
      "hi\n",
      "뭘봐\n",
      "프로그램 종료\n"
     ]
    }
   ],
   "source": [
    "# 함수 호출\n",
    "print(\"프로그램 시작\")\n",
    "print(\"여러가지 작업\")\n",
    "aaa() \n",
    "print(\"프로그램 종료\")\n"
   ]
  },
  {
   "cell_type": "code",
   "execution_count": 28,
   "id": "f037bde0",
   "metadata": {},
   "outputs": [
    {
     "name": "stdout",
     "output_type": "stream",
     "text": [
      "프로그램 시작\n",
      "여러가지 작업\n",
      "hi\n"
     ]
    },
    {
     "ename": "NameError",
     "evalue": "name 'string' is not defined",
     "output_type": "error",
     "traceback": [
      "\u001b[1;31m---------------------------------------------------------------------------\u001b[0m",
      "\u001b[1;31mNameError\u001b[0m                                 Traceback (most recent call last)",
      "Input \u001b[1;32mIn [28]\u001b[0m, in \u001b[0;36m<cell line: 5>\u001b[1;34m()\u001b[0m\n\u001b[0;32m      3\u001b[0m \u001b[38;5;28mprint\u001b[39m(\u001b[38;5;124m\"\u001b[39m\u001b[38;5;124m여러가지 작업\u001b[39m\u001b[38;5;124m\"\u001b[39m)\n\u001b[0;32m      4\u001b[0m \u001b[38;5;28mprint\u001b[39m(bbb()) \n\u001b[1;32m----> 5\u001b[0m \u001b[38;5;28mprint\u001b[39m(\u001b[43mstring\u001b[49m)\n\u001b[0;32m      6\u001b[0m \u001b[38;5;28mprint\u001b[39m(\u001b[38;5;124m\"\u001b[39m\u001b[38;5;124m프로그램 종료\u001b[39m\u001b[38;5;124m\"\u001b[39m)\n",
      "\u001b[1;31mNameError\u001b[0m: name 'string' is not defined"
     ]
    }
   ],
   "source": [
    "# 함수 호출 😴🥱😫😫😪😪\n",
    "print(\"프로그램 시작\")\n",
    "print(\"여러가지 작업\")\n",
    "print(bbb()) \n",
    "print(string)\n",
    "print(\"프로그램 종료\")"
   ]
  },
  {
   "cell_type": "code",
   "execution_count": 32,
   "id": "48a328d8",
   "metadata": {},
   "outputs": [
    {
     "name": "stdout",
     "output_type": "stream",
     "text": [
      "프로그램 시작\n",
      "여러가지 작업\n",
      "3\n",
      "3\n",
      "프로그램 종료\n"
     ]
    }
   ],
   "source": [
    "# 함수 호출\n",
    "print(\"프로그램 시작\")\n",
    "print(\"여러가지 작업\")\n",
    "print(eee(1,2))\n",
    "x=eee(1,2)\n",
    "print(x)\n",
    "print(\"프로그램 종료\")"
   ]
  },
  {
   "cell_type": "code",
   "execution_count": 8,
   "id": "c57027f3",
   "metadata": {},
   "outputs": [],
   "source": [
    "# default parameter : 초기 파라미터\n",
    "## 함수의 매개변수에 초기값을 담아서 처리하는 기능\n",
    "def ppp(a=10,b=20,c=30):\n",
    "    print(a,b,c)"
   ]
  },
  {
   "cell_type": "code",
   "execution_count": 9,
   "id": "b78da7ac",
   "metadata": {},
   "outputs": [
    {
     "name": "stdout",
     "output_type": "stream",
     "text": [
      "10 20 30\n"
     ]
    }
   ],
   "source": [
    "ppp()"
   ]
  },
  {
   "cell_type": "code",
   "execution_count": 10,
   "id": "a9a1397b",
   "metadata": {},
   "outputs": [
    {
     "name": "stdout",
     "output_type": "stream",
     "text": [
      "100 20 30\n"
     ]
    }
   ],
   "source": [
    "ppp(100)"
   ]
  },
  {
   "cell_type": "code",
   "execution_count": 11,
   "id": "7d5c1277",
   "metadata": {},
   "outputs": [
    {
     "name": "stdout",
     "output_type": "stream",
     "text": [
      "100 200 30\n"
     ]
    }
   ],
   "source": [
    "ppp(100,200,)"
   ]
  },
  {
   "cell_type": "code",
   "execution_count": 12,
   "id": "e4c76c49",
   "metadata": {},
   "outputs": [
    {
     "name": "stdout",
     "output_type": "stream",
     "text": [
      "100 200 300\n"
     ]
    }
   ],
   "source": [
    "ppp(100,200,300)"
   ]
  },
  {
   "cell_type": "code",
   "execution_count": 13,
   "id": "d5eb4577",
   "metadata": {},
   "outputs": [],
   "source": [
    "def kkk(a,b, c=3):\n",
    "    print(a,b,c)\n",
    "    "
   ]
  },
  {
   "cell_type": "code",
   "execution_count": 14,
   "id": "31a1fc6f",
   "metadata": {},
   "outputs": [
    {
     "ename": "TypeError",
     "evalue": "kkk() missing 2 required positional arguments: 'a' and 'b'",
     "output_type": "error",
     "traceback": [
      "\u001b[1;31m---------------------------------------------------------------------------\u001b[0m",
      "\u001b[1;31mTypeError\u001b[0m                                 Traceback (most recent call last)",
      "Input \u001b[1;32mIn [14]\u001b[0m, in \u001b[0;36m<cell line: 1>\u001b[1;34m()\u001b[0m\n\u001b[1;32m----> 1\u001b[0m \u001b[43mkkk\u001b[49m\u001b[43m(\u001b[49m\u001b[43m)\u001b[49m\n",
      "\u001b[1;31mTypeError\u001b[0m: kkk() missing 2 required positional arguments: 'a' and 'b'"
     ]
    }
   ],
   "source": [
    "kkk()"
   ]
  },
  {
   "cell_type": "code",
   "execution_count": 15,
   "id": "c101c224",
   "metadata": {},
   "outputs": [
    {
     "ename": "TypeError",
     "evalue": "kkk() missing 1 required positional argument: 'b'",
     "output_type": "error",
     "traceback": [
      "\u001b[1;31m---------------------------------------------------------------------------\u001b[0m",
      "\u001b[1;31mTypeError\u001b[0m                                 Traceback (most recent call last)",
      "Input \u001b[1;32mIn [15]\u001b[0m, in \u001b[0;36m<cell line: 1>\u001b[1;34m()\u001b[0m\n\u001b[1;32m----> 1\u001b[0m \u001b[43mkkk\u001b[49m\u001b[43m(\u001b[49m\u001b[38;5;241;43m10\u001b[39;49m\u001b[43m)\u001b[49m\n",
      "\u001b[1;31mTypeError\u001b[0m: kkk() missing 1 required positional argument: 'b'"
     ]
    }
   ],
   "source": [
    "kkk(10)"
   ]
  },
  {
   "cell_type": "code",
   "execution_count": 16,
   "id": "ec9d5051",
   "metadata": {},
   "outputs": [
    {
     "name": "stdout",
     "output_type": "stream",
     "text": [
      "10 20 3\n"
     ]
    }
   ],
   "source": [
    "kkk(10,20)"
   ]
  },
  {
   "cell_type": "code",
   "execution_count": 17,
   "id": "5b5328f2",
   "metadata": {},
   "outputs": [
    {
     "name": "stdout",
     "output_type": "stream",
     "text": [
      "20 50 60\n"
     ]
    }
   ],
   "source": [
    "kkk(20,50,60)"
   ]
  },
  {
   "cell_type": "code",
   "execution_count": 18,
   "id": "6384c654",
   "metadata": {},
   "outputs": [
    {
     "ename": "SyntaxError",
     "evalue": "non-default argument follows default argument (2218505622.py, line 1)",
     "output_type": "error",
     "traceback": [
      "\u001b[1;36m  Input \u001b[1;32mIn [18]\u001b[1;36m\u001b[0m\n\u001b[1;33m    def jjj(a,b=2,c):\u001b[0m\n\u001b[1;37m                   ^\u001b[0m\n\u001b[1;31mSyntaxError\u001b[0m\u001b[1;31m:\u001b[0m non-default argument follows default argument\n"
     ]
    }
   ],
   "source": [
    "def jjj(a,b=2,c):\n",
    "    print(a,b,c)\n",
    "# 초기값은 뒤에서부터 채워줘야함 그래서 a,b에 값주면 에러\n",
    "# 함수에 값을 담을 때는 앞부터 채워짐   "
   ]
  },
  {
   "cell_type": "markdown",
   "id": "e556e369",
   "metadata": {},
   "source": [
    "### 가변길이 매개변수"
   ]
  },
  {
   "cell_type": "code",
   "execution_count": 53,
   "id": "8331d11b",
   "metadata": {},
   "outputs": [],
   "source": [
    "def add(a,b):\n",
    "    return a+b"
   ]
  },
  {
   "cell_type": "code",
   "execution_count": 54,
   "id": "9eec799b",
   "metadata": {},
   "outputs": [],
   "source": [
    "def add(a,b,c):\n",
    "    return(a,b,c)"
   ]
  },
  {
   "cell_type": "code",
   "execution_count": 55,
   "id": "1192d6b8",
   "metadata": {},
   "outputs": [
    {
     "ename": "TypeError",
     "evalue": "add() missing 1 required positional argument: 'c'",
     "output_type": "error",
     "traceback": [
      "\u001b[1;31m---------------------------------------------------------------------------\u001b[0m",
      "\u001b[1;31mTypeError\u001b[0m                                 Traceback (most recent call last)",
      "Input \u001b[1;32mIn [55]\u001b[0m, in \u001b[0;36m<cell line: 1>\u001b[1;34m()\u001b[0m\n\u001b[1;32m----> 1\u001b[0m \u001b[43madd\u001b[49m\u001b[43m(\u001b[49m\u001b[38;5;241;43m10\u001b[39;49m\u001b[43m,\u001b[49m\u001b[38;5;241;43m20\u001b[39;49m\u001b[43m)\u001b[49m\n",
      "\u001b[1;31mTypeError\u001b[0m: add() missing 1 required positional argument: 'c'"
     ]
    }
   ],
   "source": [
    "add(10,20)"
   ]
  },
  {
   "cell_type": "code",
   "execution_count": 56,
   "id": "f4553132",
   "metadata": {},
   "outputs": [
    {
     "data": {
      "text/plain": [
       "(10, 20, 30)"
      ]
     },
     "execution_count": 56,
     "metadata": {},
     "output_type": "execute_result"
    }
   ],
   "source": [
    "add(10,20,30)"
   ]
  },
  {
   "cell_type": "markdown",
   "id": "58eab745",
   "metadata": {},
   "source": [
    "### 가변길이 매개변수\n",
    " - 개수에 상관없이 데이터를 처리하고자 할때 함수의 매개변수 앞에 * 붙인다"
   ]
  },
  {
   "cell_type": "code",
   "execution_count": 57,
   "id": "9162817c",
   "metadata": {},
   "outputs": [],
   "source": [
    "def add_res(*args):\n",
    "    res=0\n",
    "    for i in args:\n",
    "        res += i\n",
    "    return res   "
   ]
  },
  {
   "cell_type": "code",
   "execution_count": 58,
   "id": "58ffd5e1",
   "metadata": {},
   "outputs": [
    {
     "name": "stdout",
     "output_type": "stream",
     "text": [
      "45\n"
     ]
    }
   ],
   "source": [
    "a = add_res(1,2,3,4,5,6,7,8,9)\n",
    "print(a)"
   ]
  },
  {
   "cell_type": "code",
   "execution_count": 63,
   "id": "129cd98f",
   "metadata": {},
   "outputs": [],
   "source": [
    "def calc(ch,*ar):\n",
    "    if ch == \"add\" :\n",
    "        res = 0\n",
    "        for i in ar:\n",
    "            res += i\n",
    "    elif ch == \"mul\" :\n",
    "        res = 1 \n",
    "        for i in ar:\n",
    "            res *= i\n",
    "    return res # 내보내기 "
   ]
  },
  {
   "cell_type": "code",
   "execution_count": 65,
   "id": "b20663c2",
   "metadata": {},
   "outputs": [
    {
     "data": {
      "text/plain": [
       "21"
      ]
     },
     "execution_count": 65,
     "metadata": {},
     "output_type": "execute_result"
    }
   ],
   "source": [
    "a = calc(\"add\",1,5,3,4,8)\n",
    "a"
   ]
  },
  {
   "cell_type": "code",
   "execution_count": 66,
   "id": "ec178142",
   "metadata": {},
   "outputs": [
    {
     "data": {
      "text/plain": [
       "20"
      ]
     },
     "execution_count": 66,
     "metadata": {},
     "output_type": "execute_result"
    }
   ],
   "source": [
    "d = calc(\"mul\",1,5,4)\n",
    "d"
   ]
  },
  {
   "cell_type": "code",
   "execution_count": null,
   "id": "1a9b7208",
   "metadata": {},
   "outputs": [],
   "source": []
  }
 ],
 "metadata": {
  "kernelspec": {
   "display_name": "Python 3 (ipykernel)",
   "language": "python",
   "name": "python3"
  },
  "language_info": {
   "codemirror_mode": {
    "name": "ipython",
    "version": 3
   },
   "file_extension": ".py",
   "mimetype": "text/x-python",
   "name": "python",
   "nbconvert_exporter": "python",
   "pygments_lexer": "ipython3",
   "version": "3.9.12"
  },
  "toc": {
   "base_numbering": 1,
   "nav_menu": {},
   "number_sections": true,
   "sideBar": true,
   "skip_h1_title": false,
   "title_cell": "Table of Contents",
   "title_sidebar": "Contents",
   "toc_cell": false,
   "toc_position": {
    "height": "calc(100% - 180px)",
    "left": "10px",
    "top": "150px",
    "width": "245.76px"
   },
   "toc_section_display": true,
   "toc_window_display": true
  }
 },
 "nbformat": 4,
 "nbformat_minor": 5
}

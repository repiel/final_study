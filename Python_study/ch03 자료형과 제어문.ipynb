{
 "cells": [
  {
   "cell_type": "markdown",
   "id": "b8482566",
   "metadata": {},
   "source": [
    "# 자료구조\n",
    "- 데이터를 저장하는 기억공간을 효율적으로 사용할 수 있도록 도와주는 기능\n",
    "- 기억공간을 효율적으로 사용한다는 것은 낭비를 최소화하고 처리속도를 빠르게\n",
    "- 파이썬에서 제공하는 자료구조 : 리스트, 튜플, 세트, 딕셔너리, 타임프레임"
   ]
  },
  {
   "cell_type": "markdown",
   "id": "0211810c",
   "metadata": {},
   "source": [
    "## 리스트(List)\n",
    "- 임의의 객체를 순서대로 저장하는 자료형(시퀀스_sequence 자료형)\n",
    "- 각 데이터의 값이 담겨지는 위치를 인덱스(index)라고 부른다.\n",
    "- 인덱스는 0부터 시작된다.\n",
    "- 변경 가능\n",
    "- 대괄호[] 를 사용하여 데이터를 표현한다."
   ]
  },
  {
   "cell_type": "code",
   "execution_count": 3,
   "id": "11fcee02",
   "metadata": {},
   "outputs": [
    {
     "data": {
      "text/plain": [
       "[10, 20, 30, 40, 50]"
      ]
     },
     "execution_count": 3,
     "metadata": {},
     "output_type": "execute_result"
    }
   ],
   "source": [
    "# 리스트(list) : 하나의 변수에 여러 값을 할당하는 자료구조, 자료형\n",
    "# 시퀀스 자료형 : 순서대로 데이터를 저장하는 자료형(리스트, 문자열, 튜플)\n",
    "a = [10, 20, 30, 40, 50]\n",
    "a"
   ]
  },
  {
   "cell_type": "code",
   "execution_count": 4,
   "id": "69d2e7e6",
   "metadata": {},
   "outputs": [
    {
     "name": "stdout",
     "output_type": "stream",
     "text": [
      "<class 'list'>\n"
     ]
    }
   ],
   "source": [
    "# 자료형을 확인하는 함수\n",
    "print(type(a))"
   ]
  },
  {
   "cell_type": "code",
   "execution_count": 5,
   "id": "da6b1531",
   "metadata": {},
   "outputs": [
    {
     "data": {
      "text/plain": [
       "['red', 'blue', 'green']"
      ]
     },
     "execution_count": 5,
     "metadata": {},
     "output_type": "execute_result"
    }
   ],
   "source": [
    "b = ['red', 'blue', 'green']\n",
    "b"
   ]
  },
  {
   "cell_type": "code",
   "execution_count": 6,
   "id": "b050aca7",
   "metadata": {},
   "outputs": [
    {
     "data": {
      "text/plain": [
       "'red'"
      ]
     },
     "execution_count": 6,
     "metadata": {},
     "output_type": "execute_result"
    }
   ],
   "source": [
    "# 인덱스(index) : 데이터의 위치\n",
    "b[0]"
   ]
  },
  {
   "cell_type": "code",
   "execution_count": 7,
   "id": "cde8e674",
   "metadata": {},
   "outputs": [
    {
     "data": {
      "text/plain": [
       "'green'"
      ]
     },
     "execution_count": 7,
     "metadata": {},
     "output_type": "execute_result"
    }
   ],
   "source": [
    "b[-1]"
   ]
  },
  {
   "cell_type": "code",
   "execution_count": 8,
   "id": "d9e6441a",
   "metadata": {},
   "outputs": [
    {
     "data": {
      "text/plain": [
       "[1, 2, 3, ['a', 'b', 'c']]"
      ]
     },
     "execution_count": 8,
     "metadata": {},
     "output_type": "execute_result"
    }
   ],
   "source": [
    "# 중첩 리스트 : 리스트 안에 또 다른 리스트를 담는 것\n",
    "x = [1, 2, 3,['a', 'b', 'c']]\n",
    "x"
   ]
  },
  {
   "cell_type": "code",
   "execution_count": 9,
   "id": "4a849386",
   "metadata": {},
   "outputs": [
    {
     "data": {
      "text/plain": [
       "['a', 'b', 'c']"
      ]
     },
     "execution_count": 9,
     "metadata": {},
     "output_type": "execute_result"
    }
   ],
   "source": [
    "x[3]"
   ]
  },
  {
   "cell_type": "code",
   "execution_count": 10,
   "id": "1d62f673",
   "metadata": {},
   "outputs": [
    {
     "data": {
      "text/plain": [
       "'a'"
      ]
     },
     "execution_count": 10,
     "metadata": {},
     "output_type": "execute_result"
    }
   ],
   "source": [
    "x[3][0]"
   ]
  },
  {
   "cell_type": "code",
   "execution_count": 11,
   "id": "c99de8c7",
   "metadata": {},
   "outputs": [
    {
     "data": {
      "text/plain": [
       "'c'"
      ]
     },
     "execution_count": 11,
     "metadata": {},
     "output_type": "execute_result"
    }
   ],
   "source": [
    "x[3][2]"
   ]
  },
  {
   "cell_type": "code",
   "execution_count": 12,
   "id": "6da8bdc3",
   "metadata": {},
   "outputs": [
    {
     "data": {
      "text/plain": [
       "'c'"
      ]
     },
     "execution_count": 12,
     "metadata": {},
     "output_type": "execute_result"
    }
   ],
   "source": [
    "x[-1][-1]"
   ]
  },
  {
   "cell_type": "code",
   "execution_count": 13,
   "id": "14fbc565",
   "metadata": {},
   "outputs": [
    {
     "data": {
      "text/plain": [
       "[1, 2, 3, 4, 5]"
      ]
     },
     "execution_count": 13,
     "metadata": {},
     "output_type": "execute_result"
    }
   ],
   "source": [
    "y = [1, 2, 3, 4, 5]\n",
    "y "
   ]
  },
  {
   "cell_type": "code",
   "execution_count": 14,
   "id": "f780526b",
   "metadata": {},
   "outputs": [
    {
     "data": {
      "text/plain": [
       "[10, 2, 3, 4, 5]"
      ]
     },
     "execution_count": 14,
     "metadata": {},
     "output_type": "execute_result"
    }
   ],
   "source": [
    "# 변수 = 값\n",
    "y[0] = 10\n",
    "y"
   ]
  },
  {
   "cell_type": "code",
   "execution_count": 15,
   "id": "779ffb91",
   "metadata": {},
   "outputs": [
    {
     "data": {
      "text/plain": [
       "[1, 2, 3, 4, 5]"
      ]
     },
     "execution_count": 15,
     "metadata": {},
     "output_type": "execute_result"
    }
   ],
   "source": [
    "# 슬라이싱(slising) : 리스트에 범위지정을 통해 데이터를 추출, start(처음 위치):end( 끝 위치 -1)\n",
    "# 파이썬은 마지막데이터를 포함하지 않는다. end-1번째 까지만 추출\n",
    "x = [1, 2, 3, 4, 5]\n",
    "x"
   ]
  },
  {
   "cell_type": "code",
   "execution_count": 16,
   "id": "25ade5d1",
   "metadata": {},
   "outputs": [
    {
     "data": {
      "text/plain": [
       "[1, 2, 3, 4, 5]"
      ]
     },
     "execution_count": 16,
     "metadata": {},
     "output_type": "execute_result"
    }
   ],
   "source": [
    "x[0:5]"
   ]
  },
  {
   "cell_type": "code",
   "execution_count": 17,
   "id": "e30b902d",
   "metadata": {},
   "outputs": [
    {
     "data": {
      "text/plain": [
       "[1, 2, 3, 4, 5]"
      ]
     },
     "execution_count": 17,
     "metadata": {},
     "output_type": "execute_result"
    }
   ],
   "source": [
    "x[:5]"
   ]
  },
  {
   "cell_type": "code",
   "execution_count": 18,
   "id": "1a90247b",
   "metadata": {},
   "outputs": [
    {
     "data": {
      "text/plain": [
       "[1, 2, 3, 4, 5]"
      ]
     },
     "execution_count": 18,
     "metadata": {},
     "output_type": "execute_result"
    }
   ],
   "source": [
    "x[0:]"
   ]
  },
  {
   "cell_type": "code",
   "execution_count": 19,
   "id": "d4e34b07",
   "metadata": {},
   "outputs": [
    {
     "data": {
      "text/plain": [
       "[1, 2, 3, 4, 5]"
      ]
     },
     "execution_count": 19,
     "metadata": {},
     "output_type": "execute_result"
    }
   ],
   "source": [
    "x[:]"
   ]
  },
  {
   "cell_type": "code",
   "execution_count": 20,
   "id": "4a62b58d",
   "metadata": {},
   "outputs": [],
   "source": [
    "cities = ['서울', '부산', '인천', '대구', '대전', '광주', '울산', '수원']"
   ]
  },
  {
   "cell_type": "code",
   "execution_count": 21,
   "id": "de29e151",
   "metadata": {},
   "outputs": [
    {
     "name": "stdout",
     "output_type": "stream",
     "text": [
      "['서울', '부산', '인천', '대구', '대전', '광주', '울산', '수원']\n",
      "['서울', '부산', '인천', '대구', '대전', '광주', '울산', '수원']\n",
      "['서울', '부산', '인천', '대구', '대전', '광주', '울산', '수원']\n",
      "['서울', '부산', '인천', '대구', '대전', '광주', '울산', '수원']\n",
      "['서울', '부산', '인천', '대구', '대전', '광주', '울산', '수원']\n"
     ]
    }
   ],
   "source": [
    "# 변수명[인덱스]\n",
    "# 변수명[시작인덱스 : 마지막인덱스], 마지막인덱스 -1 까지만 추출\n",
    "print(cities)\n",
    "print(cities[0:8])\n",
    "print(cities[0:])\n",
    "print(cities[:8])\n",
    "print(cities[:])"
   ]
  },
  {
   "cell_type": "code",
   "execution_count": 22,
   "id": "2da85a81",
   "metadata": {},
   "outputs": [
    {
     "data": {
      "text/plain": [
       "['서울', '부산', '인천', '대구', '대전', '광주', '울산', '수원']"
      ]
     },
     "execution_count": 22,
     "metadata": {},
     "output_type": "execute_result"
    }
   ],
   "source": [
    "cities[-8:]"
   ]
  },
  {
   "cell_type": "code",
   "execution_count": 23,
   "id": "640b00fe",
   "metadata": {},
   "outputs": [
    {
     "data": {
      "text/plain": [
       "['서울', '인천', '대전', '울산']"
      ]
     },
     "execution_count": 23,
     "metadata": {},
     "output_type": "execute_result"
    }
   ],
   "source": [
    "# 증가값(step) \n",
    "# 변수명[시작인덱스: 마지막인덱스: 증감값]\n",
    "cities[::2]"
   ]
  },
  {
   "cell_type": "code",
   "execution_count": 24,
   "id": "84fcf0a2",
   "metadata": {},
   "outputs": [
    {
     "data": {
      "text/plain": [
       "['수원', '울산', '광주', '대전', '대구', '인천', '부산', '서울']"
      ]
     },
     "execution_count": 24,
     "metadata": {},
     "output_type": "execute_result"
    }
   ],
   "source": [
    "cities[::-1] # 역으로 슬라이싱"
   ]
  },
  {
   "cell_type": "code",
   "execution_count": 25,
   "id": "74def068",
   "metadata": {},
   "outputs": [
    {
     "name": "stdout",
     "output_type": "stream",
     "text": [
      "a =  [1, 2, 3, 4, 5]\n",
      "b =  [1, 2, 3, 4, 5]\n"
     ]
    }
   ],
   "source": [
    "# 깊은 복사와 얕은 복사\n",
    "a = [1, 2, 3, 4, 5]\n",
    "b = a    # 개체복사\n",
    "print('a = ', a)\n",
    "print('b = ', b)"
   ]
  },
  {
   "cell_type": "code",
   "execution_count": 26,
   "id": "f3dcdfa2",
   "metadata": {},
   "outputs": [
    {
     "name": "stdout",
     "output_type": "stream",
     "text": [
      "a =  [10, 2, 3, 4, 5]\n",
      "b =  [10, 2, 3, 4, 5]\n"
     ]
    }
   ],
   "source": [
    "a[0] = 10\n",
    "print('a = ', a)\n",
    "print('b = ', b)"
   ]
  },
  {
   "cell_type": "code",
   "execution_count": 27,
   "id": "c2e3f139",
   "metadata": {},
   "outputs": [
    {
     "name": "stdout",
     "output_type": "stream",
     "text": [
      "2851011040384\n",
      "2851011040384\n"
     ]
    }
   ],
   "source": [
    "# 자료형의 주소를 읽어오는 함수 : id()\n",
    "print(id(a))\n",
    "print(id(b))"
   ]
  },
  {
   "cell_type": "code",
   "execution_count": 28,
   "id": "ce3db432",
   "metadata": {},
   "outputs": [
    {
     "name": "stdout",
     "output_type": "stream",
     "text": [
      "a =  [1, 2, 3, 4, 5]\n",
      "b =  [1, 2, 3, 4, 5]\n"
     ]
    }
   ],
   "source": [
    "a = [1, 2, 3, 4, 5]\n",
    "b = a[:]\n",
    "print('a = ', a)\n",
    "print('b = ', b)"
   ]
  },
  {
   "cell_type": "code",
   "execution_count": 29,
   "id": "0f9e2d7f",
   "metadata": {},
   "outputs": [
    {
     "name": "stdout",
     "output_type": "stream",
     "text": [
      "a =  [10, 2, 3, 4, 5]\n",
      "b =  [1, 2, 3, 4, 5]\n"
     ]
    }
   ],
   "source": [
    "a[0] = 10\n",
    "print('a = ', a)\n",
    "print('b = ', b)"
   ]
  },
  {
   "cell_type": "code",
   "execution_count": 30,
   "id": "97f072ad",
   "metadata": {},
   "outputs": [
    {
     "name": "stdout",
     "output_type": "stream",
     "text": [
      "2851027776768\n",
      "2851027732544\n"
     ]
    }
   ],
   "source": [
    "print(id(a))\n",
    "print(id(b))"
   ]
  },
  {
   "cell_type": "markdown",
   "id": "cf8d71ac",
   "metadata": {},
   "source": [
    "### 리스트의 연산"
   ]
  },
  {
   "cell_type": "code",
   "execution_count": 31,
   "id": "9da315cf",
   "metadata": {},
   "outputs": [
    {
     "data": {
      "text/plain": [
       "[1, 2, 3, 4, 5, 6]"
      ]
     },
     "execution_count": 31,
     "metadata": {},
     "output_type": "execute_result"
    }
   ],
   "source": [
    "# 덧셈연산\n",
    "x = [1, 2, 3]\n",
    "y = [4, 5, 6]\n",
    "a = x + y # extend(확장)\n",
    "a"
   ]
  },
  {
   "cell_type": "code",
   "execution_count": 32,
   "id": "b079c1cc",
   "metadata": {},
   "outputs": [
    {
     "name": "stdout",
     "output_type": "stream",
     "text": [
      "['red', 'blue', 'green', 'orange', 'black', 'white']\n",
      "3\n"
     ]
    }
   ],
   "source": [
    "xx = ['red', 'blue', 'green']\n",
    "yy = ['orange', 'black', 'white']\n",
    "print(xx + yy)\n",
    "print(len(xx))"
   ]
  },
  {
   "cell_type": "code",
   "execution_count": 33,
   "id": "2d0d300d",
   "metadata": {},
   "outputs": [
    {
     "data": {
      "text/plain": [
       "['red', 'blue', 'green', 'red', 'blue', 'green', 'red', 'blue', 'green']"
      ]
     },
     "execution_count": 33,
     "metadata": {},
     "output_type": "execute_result"
    }
   ],
   "source": [
    "# 리스트 곱셈\n",
    "xx * 3"
   ]
  },
  {
   "cell_type": "code",
   "execution_count": 34,
   "id": "f637143d",
   "metadata": {},
   "outputs": [
    {
     "name": "stdout",
     "output_type": "stream",
     "text": [
      "3\n",
      "hellopython\n"
     ]
    },
    {
     "ename": "TypeError",
     "evalue": "unsupported operand type(s) for +: 'int' and 'str'",
     "output_type": "error",
     "traceback": [
      "\u001b[1;31m---------------------------------------------------------------------------\u001b[0m",
      "\u001b[1;31mTypeError\u001b[0m                                 Traceback (most recent call last)",
      "Input \u001b[1;32mIn [34]\u001b[0m, in \u001b[0;36m<cell line: 4>\u001b[1;34m()\u001b[0m\n\u001b[0;32m      2\u001b[0m \u001b[38;5;28mprint\u001b[39m(a[\u001b[38;5;241m2\u001b[39m])\n\u001b[0;32m      3\u001b[0m \u001b[38;5;28mprint\u001b[39m(\u001b[38;5;124m'\u001b[39m\u001b[38;5;124mhello\u001b[39m\u001b[38;5;124m'\u001b[39m \u001b[38;5;241m+\u001b[39m \u001b[38;5;124m'\u001b[39m\u001b[38;5;124mpython\u001b[39m\u001b[38;5;124m'\u001b[39m)\n\u001b[1;32m----> 4\u001b[0m \u001b[38;5;28mprint\u001b[39m(\u001b[43ma\u001b[49m\u001b[43m[\u001b[49m\u001b[38;5;241;43m2\u001b[39;49m\u001b[43m]\u001b[49m\u001b[43m \u001b[49m\u001b[38;5;241;43m+\u001b[39;49m\u001b[43m \u001b[49m\u001b[38;5;124;43m\"\u001b[39;49m\u001b[38;5;124;43mhi\u001b[39;49m\u001b[38;5;124;43m\"\u001b[39;49m)\n",
      "\u001b[1;31mTypeError\u001b[0m: unsupported operand type(s) for +: 'int' and 'str'"
     ]
    }
   ],
   "source": [
    "a = [1, 2, 3]\n",
    "print(a[2])\n",
    "print('hello' + 'python')\n",
    "print(a[2] + \"hi\")"
   ]
  },
  {
   "cell_type": "code",
   "execution_count": null,
   "id": "a6ed0201",
   "metadata": {},
   "outputs": [],
   "source": [
    "type(a[2])"
   ]
  },
  {
   "cell_type": "code",
   "execution_count": null,
   "id": "5e451e4a",
   "metadata": {},
   "outputs": [],
   "source": [
    "type(a)"
   ]
  },
  {
   "cell_type": "code",
   "execution_count": 35,
   "id": "e83f8a0a",
   "metadata": {},
   "outputs": [
    {
     "name": "stdout",
     "output_type": "stream",
     "text": [
      "3hi\n"
     ]
    }
   ],
   "source": [
    "print(str(a[2]) + \"hi\")"
   ]
  },
  {
   "cell_type": "code",
   "execution_count": 36,
   "id": "6f5f5f40",
   "metadata": {},
   "outputs": [
    {
     "data": {
      "text/plain": [
       "['red', 'blue', 'green', 'orange', 'black', 'white']"
      ]
     },
     "execution_count": 36,
     "metadata": {},
     "output_type": "execute_result"
    }
   ],
   "source": [
    "# in 연산 : 포함여부, 포함할 경우: True, 포함되지 않을 경우 : False\n",
    "color = ['red', 'blue', 'green', 'orange', 'black', 'white']\n",
    "color"
   ]
  },
  {
   "cell_type": "code",
   "execution_count": 37,
   "id": "c0e64e8c",
   "metadata": {},
   "outputs": [
    {
     "data": {
      "text/plain": [
       "True"
      ]
     },
     "execution_count": 37,
     "metadata": {},
     "output_type": "execute_result"
    }
   ],
   "source": [
    "'blue' in color"
   ]
  },
  {
   "cell_type": "code",
   "execution_count": 38,
   "id": "32cd1cf4",
   "metadata": {},
   "outputs": [
    {
     "data": {
      "text/plain": [
       "['red', 'blue', 'green']"
      ]
     },
     "execution_count": 38,
     "metadata": {},
     "output_type": "execute_result"
    }
   ],
   "source": [
    "# 리스트의 추가, 삭제\n",
    "## append() : 새로운 데이터가 마지막 위치에 추가된다.\n",
    "color = ['red', 'blue', 'green']\n",
    "color"
   ]
  },
  {
   "cell_type": "code",
   "execution_count": 39,
   "id": "1659697d",
   "metadata": {},
   "outputs": [
    {
     "data": {
      "text/plain": [
       "['red', 'blue', 'green', 'white']"
      ]
     },
     "execution_count": 39,
     "metadata": {},
     "output_type": "execute_result"
    }
   ],
   "source": [
    "color.append('white')\n",
    "color"
   ]
  },
  {
   "cell_type": "code",
   "execution_count": 40,
   "id": "f3ddc526",
   "metadata": {},
   "outputs": [],
   "source": [
    "# extend() : 기존 리스트에 새로운 리스트를 추가"
   ]
  },
  {
   "cell_type": "code",
   "execution_count": 41,
   "id": "077fb725",
   "metadata": {},
   "outputs": [
    {
     "data": {
      "text/plain": [
       "['red', 'blue', 'green', 'orange', 'black', 'white']"
      ]
     },
     "execution_count": 41,
     "metadata": {},
     "output_type": "execute_result"
    }
   ],
   "source": [
    "color = ['red', 'blue', 'green']\n",
    "color.extend(['orange', 'black', 'white'])\n",
    "color"
   ]
  },
  {
   "cell_type": "code",
   "execution_count": 42,
   "id": "022a8a67",
   "metadata": {},
   "outputs": [
    {
     "data": {
      "text/plain": [
       "['orange', 'red', 'blue', 'green', 'orange', 'black', 'white']"
      ]
     },
     "execution_count": 42,
     "metadata": {},
     "output_type": "execute_result"
    }
   ],
   "source": [
    "# insert(index, data)\n",
    "color. insert(0, 'orange')\n",
    "color"
   ]
  },
  {
   "cell_type": "code",
   "execution_count": 43,
   "id": "76d9a2e7",
   "metadata": {},
   "outputs": [
    {
     "data": {
      "text/plain": [
       "['orange', 'blue', 'green', 'orange', 'black', 'white']"
      ]
     },
     "execution_count": 43,
     "metadata": {},
     "output_type": "execute_result"
    }
   ],
   "source": [
    "# remove(data)\n",
    "color.remove('red')\n",
    "color"
   ]
  },
  {
   "cell_type": "code",
   "execution_count": 44,
   "id": "f2cade93",
   "metadata": {},
   "outputs": [
    {
     "data": {
      "text/plain": [
       "['blue', 'green', 'orange', 'black', 'white']"
      ]
     },
     "execution_count": 44,
     "metadata": {},
     "output_type": "execute_result"
    }
   ],
   "source": [
    "# del : 인덱스를 이용한 삭제\n",
    "del color[0]\n",
    "color"
   ]
  },
  {
   "cell_type": "code",
   "execution_count": 45,
   "id": "8d02f7b1",
   "metadata": {},
   "outputs": [
    {
     "name": "stdout",
     "output_type": "stream",
     "text": [
      "[1, 2, 3] 1 2 3\n"
     ]
    }
   ],
   "source": [
    "# 패킹(packing)과 언패킹(unpacking)\n",
    "## packing : 하나의 변수에 여러 개의 데이터를 할당하는 것\n",
    "## unpacking : 하나의 변수에 담긴 여러 개의 데이터를 각각의 변수로 반환\n",
    "x = [1, 2, 3]\n",
    "a, b, c = x\n",
    "print(x, a, b, c)"
   ]
  },
  {
   "cell_type": "code",
   "execution_count": 46,
   "id": "fe17cb25",
   "metadata": {},
   "outputs": [
    {
     "ename": "ValueError",
     "evalue": "not enough values to unpack (expected 4, got 3)",
     "output_type": "error",
     "traceback": [
      "\u001b[1;31m---------------------------------------------------------------------------\u001b[0m",
      "\u001b[1;31mValueError\u001b[0m                                Traceback (most recent call last)",
      "Input \u001b[1;32mIn [46]\u001b[0m, in \u001b[0;36m<cell line: 1>\u001b[1;34m()\u001b[0m\n\u001b[1;32m----> 1\u001b[0m a, b, c, d \u001b[38;5;241m=\u001b[39m x\n",
      "\u001b[1;31mValueError\u001b[0m: not enough values to unpack (expected 4, got 3)"
     ]
    }
   ],
   "source": [
    "a, b, c, d = x"
   ]
  },
  {
   "cell_type": "code",
   "execution_count": 47,
   "id": "35104e02",
   "metadata": {},
   "outputs": [
    {
     "ename": "ValueError",
     "evalue": "too many values to unpack (expected 2)",
     "output_type": "error",
     "traceback": [
      "\u001b[1;31m---------------------------------------------------------------------------\u001b[0m",
      "\u001b[1;31mValueError\u001b[0m                                Traceback (most recent call last)",
      "Input \u001b[1;32mIn [47]\u001b[0m, in \u001b[0;36m<cell line: 1>\u001b[1;34m()\u001b[0m\n\u001b[1;32m----> 1\u001b[0m a, b \u001b[38;5;241m=\u001b[39m x\n",
      "\u001b[1;31mValueError\u001b[0m: too many values to unpack (expected 2)"
     ]
    }
   ],
   "source": [
    "a, b = x"
   ]
  },
  {
   "cell_type": "code",
   "execution_count": 48,
   "id": "ae767895",
   "metadata": {},
   "outputs": [
    {
     "data": {
      "text/plain": [
       "[[49, 79, 20, 100, 80], [88, 77, 99, 66, 50], [90, 100, 52, 60, 70]]"
      ]
     },
     "execution_count": 48,
     "metadata": {},
     "output_type": "execute_result"
    }
   ],
   "source": [
    "# 이차원 리스트\n",
    "kor = [49, 79, 20, 100, 80]\n",
    "eng = [88, 77, 99, 66, 50]\n",
    "math = [90, 100, 52, 60, 70]\n",
    "score = [kor, eng, math]\n",
    "score"
   ]
  },
  {
   "cell_type": "code",
   "execution_count": 49,
   "id": "ad15a26b",
   "metadata": {},
   "outputs": [
    {
     "name": "stdout",
     "output_type": "stream",
     "text": [
      "[49, 79, 20, 100, 80]\n",
      "[49, 79, 20, 100, 80]\n"
     ]
    }
   ],
   "source": [
    "print(kor)\n",
    "print(score[0])"
   ]
  },
  {
   "cell_type": "code",
   "execution_count": 50,
   "id": "1a653442",
   "metadata": {},
   "outputs": [
    {
     "name": "stdout",
     "output_type": "stream",
     "text": [
      "[88, 77, 99, 66, 50]\n",
      "[88, 77, 99, 66, 50]\n"
     ]
    }
   ],
   "source": [
    "print(eng)\n",
    "print(score[1])"
   ]
  },
  {
   "cell_type": "code",
   "execution_count": 51,
   "id": "8ce2182e",
   "metadata": {},
   "outputs": [
    {
     "name": "stdout",
     "output_type": "stream",
     "text": [
      "[90, 100, 52, 60, 70]\n",
      "[90, 100, 52, 60, 70]\n"
     ]
    }
   ],
   "source": [
    "print(math)\n",
    "print(score[2])"
   ]
  },
  {
   "cell_type": "code",
   "execution_count": 52,
   "id": "cb34902b",
   "metadata": {},
   "outputs": [
    {
     "name": "stdout",
     "output_type": "stream",
     "text": [
      "79\n",
      "79\n"
     ]
    }
   ],
   "source": [
    "# 두 번째 학생의 국어점수\n",
    "print(kor[1])\n",
    "print(score[0][1])"
   ]
  },
  {
   "cell_type": "code",
   "execution_count": 53,
   "id": "f7253b21",
   "metadata": {},
   "outputs": [
    {
     "data": {
      "text/plain": [
       "[100, 2, 3, 4, 5]"
      ]
     },
     "execution_count": 53,
     "metadata": {},
     "output_type": "execute_result"
    }
   ],
   "source": [
    "x = [1, 2, 3, 4, 5]\n",
    "y = x\n",
    "x[0] = 100\n",
    "y"
   ]
  },
  {
   "cell_type": "code",
   "execution_count": 54,
   "id": "e61b9688",
   "metadata": {},
   "outputs": [
    {
     "name": "stdout",
     "output_type": "stream",
     "text": [
      "True\n",
      "False\n"
     ]
    }
   ],
   "source": [
    "# == : 값을 비교하는 연산자, is : 메모리의 주소를 비교하는 연산자\n",
    "a = 300\n",
    "b = 300\n",
    "\n",
    "print(a == b)\n",
    "print(a is b)"
   ]
  },
  {
   "cell_type": "code",
   "execution_count": 55,
   "id": "744bb91d",
   "metadata": {},
   "outputs": [
    {
     "name": "stdout",
     "output_type": "stream",
     "text": [
      "True\n",
      "True\n"
     ]
    }
   ],
   "source": [
    "# 파이썬은 -5에서부터 256까지 이미 메모리에 할당되어 있다. (값과 주소가 같다.) \n",
    "\n",
    "a = 1\n",
    "b = 1\n",
    "\n",
    "print(a == b)\n",
    "print(a is b)"
   ]
  },
  {
   "cell_type": "code",
   "execution_count": 56,
   "id": "bce46733",
   "metadata": {},
   "outputs": [
    {
     "name": "stdout",
     "output_type": "stream",
     "text": [
      "True\n",
      "True\n"
     ]
    }
   ],
   "source": [
    "a = 256\n",
    "b = 256\n",
    "\n",
    "print(a == b)\n",
    "print(a is b)"
   ]
  },
  {
   "cell_type": "code",
   "execution_count": 57,
   "id": "5dcc5815",
   "metadata": {},
   "outputs": [
    {
     "name": "stdout",
     "output_type": "stream",
     "text": [
      "True\n",
      "False\n"
     ]
    }
   ],
   "source": [
    "a = 257\n",
    "b = 257\n",
    "\n",
    "print(a == b)\n",
    "print(a is b)"
   ]
  },
  {
   "cell_type": "code",
   "execution_count": 58,
   "id": "6adb9114",
   "metadata": {},
   "outputs": [
    {
     "name": "stdout",
     "output_type": "stream",
     "text": [
      "True\n",
      "False\n"
     ]
    }
   ],
   "source": [
    "a = 1.25\n",
    "b = 1.25\n",
    "\n",
    "print(a == b)\n",
    "print(a is b)"
   ]
  },
  {
   "cell_type": "code",
   "execution_count": 59,
   "id": "f50804a3",
   "metadata": {},
   "outputs": [
    {
     "name": "stdout",
     "output_type": "stream",
     "text": [
      "a =  [0, 2, 3, 4, 5]\n"
     ]
    }
   ],
   "source": [
    "# 리스트의 요소를 제거하는 작업\n",
    "## 인덱스를 이용해서 제거 : del 명령어, pop() 함수\n",
    "a = [0, 1, 2, 3, 4, 5]\n",
    "del a[1]\n",
    "print('a = ' , a)"
   ]
  },
  {
   "cell_type": "code",
   "execution_count": 60,
   "id": "8aa46eab",
   "metadata": {},
   "outputs": [
    {
     "name": "stdout",
     "output_type": "stream",
     "text": [
      "a =  [0, 2, 4, 5]\n"
     ]
    }
   ],
   "source": [
    "a.pop(2)\n",
    "print('a = ', a)"
   ]
  },
  {
   "cell_type": "code",
   "execution_count": 61,
   "id": "01cfb46b",
   "metadata": {},
   "outputs": [
    {
     "name": "stdout",
     "output_type": "stream",
     "text": [
      "a =  []\n"
     ]
    }
   ],
   "source": [
    "# 모두 제거 : clear()\n",
    "a.clear()\n",
    "print('a = ', a)"
   ]
  },
  {
   "cell_type": "code",
   "execution_count": 62,
   "id": "1378a2aa",
   "metadata": {},
   "outputs": [],
   "source": [
    "# 정렬(sort) : 기본 오름차순\n",
    "b = [52, 273, 103, 32, 8, 1]\n",
    "b.sort()"
   ]
  },
  {
   "cell_type": "code",
   "execution_count": 63,
   "id": "718476eb",
   "metadata": {},
   "outputs": [
    {
     "name": "stdout",
     "output_type": "stream",
     "text": [
      "[1, 8, 32, 52, 103, 273]\n"
     ]
    }
   ],
   "source": [
    "print(b)"
   ]
  },
  {
   "cell_type": "code",
   "execution_count": 64,
   "id": "2f00afad",
   "metadata": {},
   "outputs": [
    {
     "data": {
      "text/plain": [
       "[52, 273, 103, 32, 8, 1]"
      ]
     },
     "execution_count": 64,
     "metadata": {},
     "output_type": "execute_result"
    }
   ],
   "source": [
    "b = [52, 273, 103, 32, 8, 1]\n",
    "b"
   ]
  },
  {
   "cell_type": "code",
   "execution_count": 65,
   "id": "434fe552",
   "metadata": {},
   "outputs": [
    {
     "name": "stdout",
     "output_type": "stream",
     "text": [
      "[273, 103, 52, 32, 8, 1]\n"
     ]
    }
   ],
   "source": [
    "b.sort(reverse = True) # 내림차순\n",
    "print(b)"
   ]
  },
  {
   "cell_type": "code",
   "execution_count": 66,
   "id": "fe274343",
   "metadata": {},
   "outputs": [
    {
     "data": {
      "text/plain": [
       "False"
      ]
     },
     "execution_count": 66,
     "metadata": {},
     "output_type": "execute_result"
    }
   ],
   "source": [
    "# in 연산자, not in 연산자\n",
    "b = [52, 273, 103, 32, 8, 1]\n",
    "7 in b "
   ]
  },
  {
   "cell_type": "code",
   "execution_count": 67,
   "id": "1639c6db",
   "metadata": {},
   "outputs": [
    {
     "data": {
      "text/plain": [
       "True"
      ]
     },
     "execution_count": 67,
     "metadata": {},
     "output_type": "execute_result"
    }
   ],
   "source": [
    "7 not in b "
   ]
  },
  {
   "cell_type": "markdown",
   "id": "4bb0966b",
   "metadata": {},
   "source": [
    "## 튜플(Tuple)\n",
    "- 리스트와 유사하지만 값을 변경할 수 없다. 즉, 읽기 전용 자료를 저장할 때 사용\n",
    "- 각 값에 대한 인덱스가 부여된다.\n",
    "- 변경 불가능\n",
    "- 소괄호()를 사용하여 데이터를 표현한다."
   ]
  },
  {
   "cell_type": "markdown",
   "id": "72c08cb0",
   "metadata": {},
   "source": [
    "## 사전(Dictionary)\n",
    "- 키(key)와 값(value)을 쌍(아이템, item)으로 담아서 관리하는 자료구조\n",
    "- 저장된 각 값에 대한 순서는 의미가 없다.\n",
    "- 저장된 데이터는 키(key)에 의해 조회된다.\n",
    "- 키(key)는 중복을 허용하지 않는다.\n",
    "- 중괄호 {}를 사용하여 데이터를 표현한다."
   ]
  },
  {
   "cell_type": "markdown",
   "id": "2e696e0e",
   "metadata": {},
   "source": [
    "## 집합(set) \n",
    "- 인덱스가 없고 값만 저장되는 자료구조\n",
    "- 순서는 의미가 없다.\n",
    "- 중괄호 {}를 사용\n",
    "- 컴마(,)를 기준으로 데이터를 분리한다.\n",
    "- 중복값을 허용하지 않는다."
   ]
  },
  {
   "cell_type": "markdown",
   "id": "84a7f3df",
   "metadata": {},
   "source": [
    "# 제어문\n",
    "1. 정의 : 프로그램의 흐름이나 순서를 제어할 때 사용하는 문장\n",
    "          일반적으로 프로그램은 위에서 아래로, 좌에서 우로 진행\n",
    "2. 조건문 or 비교/판단문 or 선택문\n",
    " - 주어진 조건에 따라 프로그램의 실행을 선택 또는 변경\n",
    " - 조건식은 반드시 그 결과가 참 도는 거짓으로 판정이 되는 식\n",
    " - if문\n",
    " \n",
    "3. 반복문\n",
    " - 동일하거나 유사한 성격을 가진 문장을 반복할 때 사용하는 문장\n",
    " - 주어진 조건이 참일 때 문장을 반복\n",
    " - 유사한 성격이란 동일한 행위를 하되 일정한 규칙을 가지고 있는 문장\n",
    " - for문, while문\n",
    "\n",
    "4. 기타 제어문\n",
    " - break : 무조건 반복을 벗어나라는 의미\n",
    " - continue : 이하 생략"
   ]
  },
  {
   "cell_type": "markdown",
   "id": "d8967e1e",
   "metadata": {},
   "source": [
    "## 조건문 - if문"
   ]
  },
  {
   "cell_type": "code",
   "execution_count": 68,
   "id": "e8e59532",
   "metadata": {},
   "outputs": [
    {
     "name": "stdout",
     "output_type": "stream",
     "text": [
      "hi\n",
      "a =  1\n",
      "바보 배고파\n"
     ]
    }
   ],
   "source": [
    "print('hi')\n",
    "a = 1\n",
    "print('a = ', a)\n",
    "print('바보 배고파')"
   ]
  },
  {
   "cell_type": "code",
   "execution_count": 69,
   "id": "17fee7cf",
   "metadata": {},
   "outputs": [
    {
     "name": "stdout",
     "output_type": "stream",
     "text": [
      "hi\n"
     ]
    }
   ],
   "source": [
    "# 파이썬은 들여쓰기가 중요하다.\n",
    "print('hi')\n",
    "a = 1\n",
    "if a == 0:\n",
    "    print('a = ', a)\n",
    "    print('바보 배고파')"
   ]
  },
  {
   "cell_type": "code",
   "execution_count": 70,
   "id": "9843e1aa",
   "metadata": {},
   "outputs": [
    {
     "name": "stdout",
     "output_type": "stream",
     "text": [
      "hi\n",
      "a =  0\n",
      "바보 배고파\n"
     ]
    }
   ],
   "source": [
    "print('hi')\n",
    "a = 0\n",
    "if a == 0:\n",
    "    print('a = ', a)\n",
    "    print('바보 배고파')"
   ]
  },
  {
   "cell_type": "code",
   "execution_count": 71,
   "id": "bd7ea7fc",
   "metadata": {},
   "outputs": [],
   "source": [
    "# 하나의 숫자를 입력받아 짝수인지 판정하는 프로그램을 구현하시오"
   ]
  },
  {
   "cell_type": "code",
   "execution_count": 72,
   "id": "72823715",
   "metadata": {},
   "outputs": [
    {
     "name": "stdout",
     "output_type": "stream",
     "text": [
      "숫자 = 2\n",
      "입력받은 숫자 2는 짝수입니다.\n"
     ]
    }
   ],
   "source": [
    "# 정답\n",
    "num = int(input('숫자 = '))\n",
    "\n",
    "if num % 2 == 0:\n",
    "    print('입력받은 숫자 %d는 짝수입니다.' % num)\n",
    "else:   \n",
    "    print('입력받은 숫자 %d는 홀수입니다.' % num)"
   ]
  },
  {
   "cell_type": "code",
   "execution_count": 73,
   "id": "944381a4",
   "metadata": {},
   "outputs": [
    {
     "name": "stdout",
     "output_type": "stream",
     "text": [
      "하나의 숫자를 입력하세요: 1\n",
      "입력받은 숫자 1는 짝수가 아닙니다.\n"
     ]
    }
   ],
   "source": [
    "A = int(input('하나의 숫자를 입력하세요: '))\n",
    "if A % 2 == 0:\n",
    "    print('입력받은 숫자 %d는 짝수입니다.' % A)\n",
    "elif A % 2 != 0:\n",
    "    print('입력받은 숫자 %d는 짝수가 아닙니다.' % A)\n",
    "else: \n",
    "    print('숫자가 아닙니다.')"
   ]
  },
  {
   "cell_type": "code",
   "execution_count": null,
   "id": "56656a0d",
   "metadata": {},
   "outputs": [],
   "source": [
    "# 하나의 숫자를 입력받아 양수인지 음수, 0인지 판정하는 프로그램을 구현"
   ]
  },
  {
   "cell_type": "code",
   "execution_count": 74,
   "id": "0bbbb6c6",
   "metadata": {},
   "outputs": [
    {
     "name": "stdout",
     "output_type": "stream",
     "text": [
      "숫자 = 5\n",
      "양수\n"
     ]
    }
   ],
   "source": [
    "#정답\n",
    "num = int(input('숫자 = '))\n",
    "\n",
    "if num < 0:\n",
    "    print('음수')\n",
    "elif num > 0:\n",
    "    print('양수')\n",
    "else:\n",
    "    print('제로')"
   ]
  },
  {
   "cell_type": "code",
   "execution_count": 2,
   "id": "55561b54",
   "metadata": {},
   "outputs": [
    {
     "name": "stdout",
     "output_type": "stream",
     "text": [
      "하나의 숫자를 입력하세요: -2\n",
      "입력받은 숫자 -2는 음수입니다.\n"
     ]
    }
   ],
   "source": [
    "a = int(input('하나의 숫자를 입력하세요: '))\n",
    "if a < 0:\n",
    "    print('입력받은 숫자 %d는 음수입니다.' % a)\n",
    "elif a > 0:\n",
    "    print('입력받은 숫자 %d는 양수입니다.' % a)\n",
    "else: \n",
    "    print('0은 음수도 양수도 아닙니다.')"
   ]
  },
  {
   "cell_type": "markdown",
   "id": "389dc2dc",
   "metadata": {},
   "source": [
    "###  문제: 성적처리 프로그램 1단계\n",
    "국어, 영어, 수학점수를 입력받아 총점과 평균을 계산하여 출력하는 프로그램을 작성하시오. 단, 평균은 소숫점 이하 둘째자리까지 출력되도록 구현하시오.<br>\n",
    "<입력형식><br>\n",
    "국어 =<br>\n",
    "영어 =<br>\n",
    "수학 =<br>\n",
    "\n",
    "<출력형식><br>\n",
    "총점 : xx점, 평균 : xx.xx점\n"
   ]
  },
  {
   "cell_type": "code",
   "execution_count": 77,
   "id": "0e1fffa9",
   "metadata": {},
   "outputs": [
    {
     "name": "stdout",
     "output_type": "stream",
     "text": [
      "국어 = 88\n",
      "영어 = 78\n",
      "수학 = 93\n",
      "총점 : 259점, 평균 : 86.33점 \n"
     ]
    }
   ],
   "source": [
    "#입력문 - 키보드를 통해 데이터를 입력받을 때 사용하는 문장\n",
    "kor = int(input('국어 = '))\n",
    "eng = int(input('영어 = '))\n",
    "math = int(input('수학 = '))\n",
    "\n",
    "# 처리문 - 제어문이나 함수를 통해 처리하는 문장\n",
    "tot = kor + eng + math\n",
    "avg = tot / 3\n",
    "\n",
    "# 출력문 - 출력형식에 맞게 구현되는 문장\n",
    "print('총점 : {0}점, 평균 : {1:.2f}점 '.format(tot, avg))\n"
   ]
  },
  {
   "cell_type": "code",
   "execution_count": 76,
   "id": "d8d5afb7",
   "metadata": {},
   "outputs": [
    {
     "name": "stdout",
     "output_type": "stream",
     "text": [
      "국어 = \n",
      ", 영어 = \n",
      ", 수학 =  \n",
      "95,30,20\n"
     ]
    },
    {
     "ename": "ValueError",
     "evalue": "invalid literal for int() with base 10: '95,30,20'",
     "output_type": "error",
     "traceback": [
      "\u001b[1;31m---------------------------------------------------------------------------\u001b[0m",
      "\u001b[1;31mValueError\u001b[0m                                Traceback (most recent call last)",
      "Input \u001b[1;32mIn [76]\u001b[0m, in \u001b[0;36m<cell line: 1>\u001b[1;34m()\u001b[0m\n\u001b[1;32m----> 1\u001b[0m c \u001b[38;5;241m=\u001b[39m [\u001b[38;5;28;43mint\u001b[39;49m\u001b[43m(\u001b[49m\u001b[38;5;28;43minput\u001b[39;49m\u001b[43m(\u001b[49m\u001b[38;5;124;43m'\u001b[39;49m\u001b[38;5;124;43m국어 = \u001b[39;49m\u001b[38;5;130;43;01m\\n\u001b[39;49;00m\u001b[38;5;124;43m, 영어 = \u001b[39;49m\u001b[38;5;130;43;01m\\n\u001b[39;49;00m\u001b[38;5;124;43m, 수학 =  \u001b[39;49m\u001b[38;5;130;43;01m\\n\u001b[39;49;00m\u001b[38;5;124;43m'\u001b[39;49m\u001b[43m)\u001b[49m\u001b[43m)\u001b[49m]\n\u001b[0;32m      2\u001b[0m \u001b[38;5;28;01mif\u001b[39;00m c[\u001b[38;5;241m1\u001b[39m]\u001b[38;5;241m+\u001b[39mc[\u001b[38;5;241m2\u001b[39m]\u001b[38;5;241m+\u001b[39mc[\u001b[38;5;241m3\u001b[39m] \u001b[38;5;241m>\u001b[39m \u001b[38;5;241m0\u001b[39m:\n\u001b[0;32m      3\u001b[0m     \u001b[38;5;28mprint\u001b[39m(\u001b[38;5;124m'\u001b[39m\u001b[38;5;124m총점입니다.\u001b[39m\u001b[38;5;124m'\u001b[39m)\n",
      "\u001b[1;31mValueError\u001b[0m: invalid literal for int() with base 10: '95,30,20'"
     ]
    }
   ],
   "source": [
    "c = [int(input('국어 = \\n, 영어 = \\n, 수학 =  \\n'))] # 각각의 값을 입력할 수 없기 때문에 전체로 계산해서는 x.\n",
    "if c[1]+c[2]+c[3] > 0:  # 각 파트별로 점수입력을 받아야지만 총점과 평균값을 계산할 수 있다.\n",
    "    print('총점: ',c[1]+c[2]+c[3], '입니다.')\n",
    "elif c[1]+c[2]+c[3]/3 > 0:\n",
    "    print('평균입니다.' )"
   ]
  },
  {
   "cell_type": "markdown",
   "id": "4d249f42",
   "metadata": {},
   "source": [
    "### 성적 처리 프로그램 2단계\n",
    "학점을 부여하시오. 학점은 평균을 이용하여 A, B, C, D, F로 표현하되, <br>\n",
    "평균이 90점 이상이면 'A학점', 80점 이상이면 'B학점'....."
   ]
  },
  {
   "cell_type": "code",
   "execution_count": 80,
   "id": "359d3b48",
   "metadata": {},
   "outputs": [
    {
     "name": "stdout",
     "output_type": "stream",
     "text": [
      "국어 = 85\n",
      "영어 = 93\n",
      "수학 = 77\n",
      "총점 : 255점, 평균 : 85.00점 \n",
      "B학점\n"
     ]
    }
   ],
   "source": [
    "#입력문 - 키보드를 통해 데이터를 입력받을 때 사용하는 문장\n",
    "kor = int(input('국어 = '))\n",
    "eng = int(input('영어 = '))\n",
    "math = int(input('수학 = '))\n",
    "\n",
    "# 처리문 - 제어문이나 함수를 통해 처리하는 문장\n",
    "tot = kor + eng + math\n",
    "avg = tot / 3\n",
    "\n",
    "# 출력문 - 출력형식에 맞게 구현되는 문장\n",
    "print('총점 : {0}점, 평균 : {1:.2f}점 '.format(tot, avg))\n",
    "\n",
    "\n",
    "if avg >= 90:\n",
    "    print('A학점')\n",
    "elif avg >= 80:\n",
    "    print('B학점')\n",
    "elif avg >= 70:\n",
    "    print('C학점')\n",
    "elif avg >= 60:\n",
    "    print('D학점')\n",
    "else:\n",
    "    print('F학점')\n"
   ]
  },
  {
   "cell_type": "markdown",
   "id": "2f6c5ee4",
   "metadata": {},
   "source": [
    "## 반복문\n",
    "- 반복하는 문장\n",
    "- for문, while문"
   ]
  },
  {
   "cell_type": "code",
   "execution_count": 81,
   "id": "873abcac",
   "metadata": {},
   "outputs": [
    {
     "data": {
      "text/plain": [
       "[1, 2, 3, 4, 5]"
      ]
     },
     "execution_count": 81,
     "metadata": {},
     "output_type": "execute_result"
    }
   ],
   "source": [
    "# for 개별변수 in 집합변수:\n",
    "a = [1, 2, 3, 4, 5]\n",
    "a"
   ]
  },
  {
   "cell_type": "code",
   "execution_count": 82,
   "id": "8de45282",
   "metadata": {},
   "outputs": [
    {
     "name": "stdout",
     "output_type": "stream",
     "text": [
      "1\n",
      "2\n",
      "3\n",
      "4\n",
      "5\n"
     ]
    }
   ],
   "source": [
    "print(a[0])\n",
    "print(a[1])\n",
    "print(a[2])\n",
    "print(a[3])\n",
    "print(a[4])"
   ]
  },
  {
   "cell_type": "code",
   "execution_count": 83,
   "id": "57e1fdf0",
   "metadata": {},
   "outputs": [
    {
     "name": "stdout",
     "output_type": "stream",
     "text": [
      "1\n",
      "2\n",
      "3\n",
      "4\n",
      "5\n"
     ]
    }
   ],
   "source": [
    "for i in a:\n",
    "    print(i) "
   ]
  },
  {
   "cell_type": "code",
   "execution_count": 84,
   "id": "a597a500",
   "metadata": {},
   "outputs": [
    {
     "name": "stdout",
     "output_type": "stream",
     "text": [
      "hello\n",
      "hello\n",
      "hello\n",
      "hello\n",
      "hello\n"
     ]
    }
   ],
   "source": [
    "for i in a:\n",
    "    print('hello')"
   ]
  },
  {
   "cell_type": "code",
   "execution_count": 85,
   "id": "72efde45",
   "metadata": {},
   "outputs": [
    {
     "name": "stdout",
     "output_type": "stream",
     "text": [
      "hello\n",
      "hello\n",
      "hello\n",
      "hello\n",
      "hello\n"
     ]
    }
   ],
   "source": [
    "for _ in a: #_생략의 의미란..??\n",
    "    print('hello')"
   ]
  },
  {
   "cell_type": "code",
   "execution_count": 86,
   "id": "fb5fe1cd",
   "metadata": {},
   "outputs": [
    {
     "name": "stdout",
     "output_type": "stream",
     "text": [
      "1\n",
      "2\n",
      "3\n",
      "4\n",
      "5\n"
     ]
    }
   ],
   "source": [
    "# range(start(시작값) , end +1(끝값+1), step(증가, 감소값)) \n",
    "for i in range(1, 6, 1):\n",
    "    print(i)"
   ]
  },
  {
   "cell_type": "code",
   "execution_count": 87,
   "id": "243679ea",
   "metadata": {},
   "outputs": [
    {
     "name": "stdout",
     "output_type": "stream",
     "text": [
      "1\n",
      "2\n",
      "3\n",
      "4\n",
      "5\n"
     ]
    }
   ],
   "source": [
    "for i in range(1, 6):\n",
    "    print(i)"
   ]
  },
  {
   "cell_type": "code",
   "execution_count": 88,
   "id": "fda98d8f",
   "metadata": {},
   "outputs": [
    {
     "name": "stdout",
     "output_type": "stream",
     "text": [
      "0\n",
      "1\n",
      "2\n",
      "3\n",
      "4\n",
      "5\n"
     ]
    }
   ],
   "source": [
    "for i in range(6): # 한 값만 있을 경우 시작값은 0이다.\n",
    "    print(i)"
   ]
  },
  {
   "cell_type": "code",
   "execution_count": 89,
   "id": "3b9178b1",
   "metadata": {},
   "outputs": [
    {
     "name": "stdout",
     "output_type": "stream",
     "text": [
      "k\n",
      "o\n",
      "r\n",
      "e\n",
      "a\n"
     ]
    }
   ],
   "source": [
    "for i in \"korea\": \n",
    "    print(i)"
   ]
  },
  {
   "cell_type": "code",
   "execution_count": 90,
   "id": "d25ff9f3",
   "metadata": {},
   "outputs": [
    {
     "name": "stdout",
     "output_type": "stream",
     "text": [
      "red\n",
      "blue\n",
      "black\n"
     ]
    }
   ],
   "source": [
    "for i in ['red', 'blue', 'black']:\n",
    "    print(i)"
   ]
  },
  {
   "cell_type": "code",
   "execution_count": 91,
   "id": "b27fce3b",
   "metadata": {},
   "outputs": [
    {
     "name": "stdout",
     "output_type": "stream",
     "text": [
      "['red', 'blue', 'black']\n"
     ]
    }
   ],
   "source": [
    "for i in [['red', 'blue', 'black']]:\n",
    "    print(i)"
   ]
  },
  {
   "cell_type": "code",
   "execution_count": 92,
   "id": "a397a19a",
   "metadata": {},
   "outputs": [
    {
     "name": "stdout",
     "output_type": "stream",
     "text": [
      "1\n",
      "3\n",
      "5\n",
      "7\n",
      "9\n"
     ]
    }
   ],
   "source": [
    "for i in range(1, 10, 2): # 1부터 9까지 2씩 증가시켜라\n",
    "    print(i)"
   ]
  },
  {
   "cell_type": "code",
   "execution_count": 93,
   "id": "df47bda1",
   "metadata": {},
   "outputs": [
    {
     "name": "stdout",
     "output_type": "stream",
     "text": [
      "1\n",
      "3\n",
      "5\n",
      "7\n",
      "9\n"
     ]
    }
   ],
   "source": [
    "for i in range(1,11):\n",
    "    if i % 2 != 0:\n",
    "        print(i)"
   ]
  },
  {
   "cell_type": "code",
   "execution_count": 94,
   "id": "5faffa63",
   "metadata": {},
   "outputs": [
    {
     "name": "stdout",
     "output_type": "stream",
     "text": [
      "10\n",
      "9\n",
      "8\n",
      "7\n",
      "6\n",
      "5\n",
      "4\n",
      "3\n",
      "2\n",
      "1\n"
     ]
    }
   ],
   "source": [
    "for i in range(10, 0, -1):\n",
    "    print(i)"
   ]
  },
  {
   "cell_type": "markdown",
   "id": "b1e41fd5",
   "metadata": {},
   "source": [
    "### 구구단 출력하는 프로그램\n",
    " 하나의 수를 입력받아 해당 숫자의 구구단을 출력하는 프로그램을 구현하시오."
   ]
  },
  {
   "cell_type": "code",
   "execution_count": 95,
   "id": "9692ce64",
   "metadata": {},
   "outputs": [
    {
     "name": "stdout",
     "output_type": "stream",
     "text": [
      "하나의 수를 입력하세요: 7\n",
      "7\n",
      "14\n",
      "21\n",
      "28\n",
      "35\n",
      "42\n",
      "49\n",
      "56\n",
      "63\n"
     ]
    }
   ],
   "source": [
    "dan = int(input('하나의 수를 입력하세요: '))\n",
    "\n",
    "# for 개별변수 in 집한변수\n",
    "for i in range(1,10):\n",
    "    print(dan * i)"
   ]
  },
  {
   "cell_type": "code",
   "execution_count": 97,
   "id": "952f286d",
   "metadata": {},
   "outputs": [
    {
     "name": "stdout",
     "output_type": "stream",
     "text": [
      "단수 =  7\n",
      "7 x 1 = 7\n",
      "7 x 2 = 14\n",
      "7 x 3 = 21\n",
      "7 x 4 = 28\n",
      "7 x 5 = 35\n",
      "7 x 6 = 42\n",
      "7 x 7 = 49\n",
      "7 x 8 = 56\n",
      "7 x 9 = 63\n"
     ]
    }
   ],
   "source": [
    "dan = int(input('단수 =  '))\n",
    "\n",
    "# for 개별변수 in 집한변수\n",
    "for i in range(1,10):\n",
    "    print('{0} x {1} = {2}'.format(dan, i, dan*i))"
   ]
  },
  {
   "cell_type": "markdown",
   "id": "384fbc17",
   "metadata": {},
   "source": [
    "### 구구단 출력하시오"
   ]
  },
  {
   "cell_type": "code",
   "execution_count": 100,
   "id": "e46a7574",
   "metadata": {},
   "outputs": [
    {
     "name": "stdout",
     "output_type": "stream",
     "text": [
      "==== 2단 =====\n",
      "2 x 1 = 2\n",
      "2 x 2 = 4\n",
      "2 x 3 = 6\n",
      "2 x 4 = 8\n",
      "2 x 5 = 10\n",
      "2 x 6 = 12\n",
      "2 x 7 = 14\n",
      "2 x 8 = 16\n",
      "2 x 9 = 18\n",
      "\n",
      "==== 3단 =====\n",
      "3 x 1 = 3\n",
      "3 x 2 = 6\n",
      "3 x 3 = 9\n",
      "3 x 4 = 12\n",
      "3 x 5 = 15\n",
      "3 x 6 = 18\n",
      "3 x 7 = 21\n",
      "3 x 8 = 24\n",
      "3 x 9 = 27\n",
      "\n",
      "==== 4단 =====\n",
      "4 x 1 = 4\n",
      "4 x 2 = 8\n",
      "4 x 3 = 12\n",
      "4 x 4 = 16\n",
      "4 x 5 = 20\n",
      "4 x 6 = 24\n",
      "4 x 7 = 28\n",
      "4 x 8 = 32\n",
      "4 x 9 = 36\n",
      "\n",
      "==== 5단 =====\n",
      "5 x 1 = 5\n",
      "5 x 2 = 10\n",
      "5 x 3 = 15\n",
      "5 x 4 = 20\n",
      "5 x 5 = 25\n",
      "5 x 6 = 30\n",
      "5 x 7 = 35\n",
      "5 x 8 = 40\n",
      "5 x 9 = 45\n",
      "\n",
      "==== 6단 =====\n",
      "6 x 1 = 6\n",
      "6 x 2 = 12\n",
      "6 x 3 = 18\n",
      "6 x 4 = 24\n",
      "6 x 5 = 30\n",
      "6 x 6 = 36\n",
      "6 x 7 = 42\n",
      "6 x 8 = 48\n",
      "6 x 9 = 54\n",
      "\n",
      "==== 7단 =====\n",
      "7 x 1 = 7\n",
      "7 x 2 = 14\n",
      "7 x 3 = 21\n",
      "7 x 4 = 28\n",
      "7 x 5 = 35\n",
      "7 x 6 = 42\n",
      "7 x 7 = 49\n",
      "7 x 8 = 56\n",
      "7 x 9 = 63\n",
      "\n",
      "==== 8단 =====\n",
      "8 x 1 = 8\n",
      "8 x 2 = 16\n",
      "8 x 3 = 24\n",
      "8 x 4 = 32\n",
      "8 x 5 = 40\n",
      "8 x 6 = 48\n",
      "8 x 7 = 56\n",
      "8 x 8 = 64\n",
      "8 x 9 = 72\n",
      "\n",
      "==== 9단 =====\n",
      "9 x 1 = 9\n",
      "9 x 2 = 18\n",
      "9 x 3 = 27\n",
      "9 x 4 = 36\n",
      "9 x 5 = 45\n",
      "9 x 6 = 54\n",
      "9 x 7 = 63\n",
      "9 x 8 = 72\n",
      "9 x 9 = 81\n",
      "\n"
     ]
    }
   ],
   "source": [
    "# 단수\n",
    "for dan in range(2, 10):\n",
    "    print('==== {0}단 ====='.format(dan)) #\n",
    "    #자연수\n",
    "    for su in range(1, 10):\n",
    "        print('{0} x {1} = {2}'.format(dan, su, dan*su))\n",
    "    print()"
   ]
  },
  {
   "cell_type": "code",
   "execution_count": 104,
   "id": "c0d50ecf",
   "metadata": {},
   "outputs": [
    {
     "name": "stdout",
     "output_type": "stream",
     "text": [
      "1 번째\n",
      "hi\n",
      "hi\n",
      "hi\n",
      "2 번째\n",
      "hi\n",
      "hi\n",
      "hi\n"
     ]
    }
   ],
   "source": [
    "# 다중 for\n",
    "for i in[1, 2]:\n",
    "    print('%d 번째' % i)\n",
    "    for j in [1, 2, 3]:\n",
    "        print('hi')"
   ]
  },
  {
   "cell_type": "code",
   "execution_count": 105,
   "id": "ef8abe2c",
   "metadata": {},
   "outputs": [
    {
     "name": "stdout",
     "output_type": "stream",
     "text": [
      "1 번째\n",
      "hi\n",
      "hi\n",
      "hi\n",
      "\n",
      "2 번째\n",
      "hi\n",
      "hi\n",
      "hi\n",
      "\n"
     ]
    }
   ],
   "source": [
    "for i in[1, 2]:\n",
    "    print('%d 번째' % i)\n",
    "    for j in [1, 2, 3]:\n",
    "        print('hi')\n",
    "    print()"
   ]
  },
  {
   "cell_type": "code",
   "execution_count": 108,
   "id": "4eab6d56",
   "metadata": {},
   "outputs": [
    {
     "name": "stdout",
     "output_type": "stream",
     "text": [
      "1 번째\n",
      "hi\n",
      "\n",
      "hi\n",
      "\n",
      "hi\n",
      "\n",
      "2 번째\n",
      "hi\n",
      "\n",
      "hi\n",
      "\n",
      "hi\n",
      "\n"
     ]
    }
   ],
   "source": [
    "for i in[1, 2]:\n",
    "    print('%d 번째' % i)\n",
    "    for j in [1, 2, 3]:\n",
    "        print('hi')\n",
    "        print()"
   ]
  },
  {
   "cell_type": "markdown",
   "id": "b8f541c3",
   "metadata": {},
   "source": [
    "### 1부터 100까지 자연수를 출력하는 프로그램을 구하시오\n"
   ]
  },
  {
   "cell_type": "code",
   "execution_count": 109,
   "id": "898912cd",
   "metadata": {},
   "outputs": [
    {
     "name": "stdout",
     "output_type": "stream",
     "text": [
      "1\n",
      "2\n",
      "3\n",
      "4\n",
      "5\n",
      "6\n",
      "7\n",
      "8\n",
      "9\n",
      "10\n",
      "11\n",
      "12\n",
      "13\n",
      "14\n",
      "15\n",
      "16\n",
      "17\n",
      "18\n",
      "19\n",
      "20\n",
      "21\n",
      "22\n",
      "23\n",
      "24\n",
      "25\n",
      "26\n",
      "27\n",
      "28\n",
      "29\n",
      "30\n",
      "31\n",
      "32\n",
      "33\n",
      "34\n",
      "35\n",
      "36\n",
      "37\n",
      "38\n",
      "39\n",
      "40\n",
      "41\n",
      "42\n",
      "43\n",
      "44\n",
      "45\n",
      "46\n",
      "47\n",
      "48\n",
      "49\n",
      "50\n",
      "51\n",
      "52\n",
      "53\n",
      "54\n",
      "55\n",
      "56\n",
      "57\n",
      "58\n",
      "59\n",
      "60\n",
      "61\n",
      "62\n",
      "63\n",
      "64\n",
      "65\n",
      "66\n",
      "67\n",
      "68\n",
      "69\n",
      "70\n",
      "71\n",
      "72\n",
      "73\n",
      "74\n",
      "75\n",
      "76\n",
      "77\n",
      "78\n",
      "79\n",
      "80\n",
      "81\n",
      "82\n",
      "83\n",
      "84\n",
      "85\n",
      "86\n",
      "87\n",
      "88\n",
      "89\n",
      "90\n",
      "91\n",
      "92\n",
      "93\n",
      "94\n",
      "95\n",
      "96\n",
      "97\n",
      "98\n",
      "99\n",
      "100\n"
     ]
    }
   ],
   "source": [
    "for i in range(1,101):\n",
    "    print(i)"
   ]
  },
  {
   "cell_type": "code",
   "execution_count": 110,
   "id": "818cb8da",
   "metadata": {},
   "outputs": [
    {
     "name": "stdout",
     "output_type": "stream",
     "text": [
      "1 2 3 4 5 6 7 8 9 10 11 12 13 14 15 16 17 18 19 20 21 22 23 24 25 26 27 28 29 30 31 32 33 34 35 36 37 38 39 40 41 42 43 44 45 46 47 48 49 50 51 52 53 54 55 56 57 58 59 60 61 62 63 64 65 66 67 68 69 70 71 72 73 74 75 76 77 78 79 80 81 82 83 84 85 86 87 88 89 90 91 92 93 94 95 96 97 98 99 100 "
     ]
    }
   ],
   "source": [
    "for i in range(1,101):\n",
    "    print(i, end = ' ')"
   ]
  },
  {
   "cell_type": "code",
   "execution_count": 113,
   "id": "abd0e60e",
   "metadata": {},
   "outputs": [
    {
     "name": "stdout",
     "output_type": "stream",
     "text": [
      "  1  2  3  4  5  6  7  8  9 10\n",
      " 11 12 13 14 15 16 17 18 19 20\n",
      " 21 22 23 24 25 26 27 28 29 30\n",
      " 31 32 33 34 35 36 37 38 39 40\n",
      " 41 42 43 44 45 46 47 48 49 50\n",
      " 51 52 53 54 55 56 57 58 59 60\n",
      " 61 62 63 64 65 66 67 68 69 70\n",
      " 71 72 73 74 75 76 77 78 79 80\n",
      " 81 82 83 84 85 86 87 88 89 90\n",
      " 91 92 93 94 95 96 97 98 99100\n"
     ]
    }
   ],
   "source": [
    "for i in range(1,101):\n",
    "    print('%3d' % i, end = '')\n",
    "    if i % 10 == 0:\n",
    "        print()"
   ]
  },
  {
   "cell_type": "code",
   "execution_count": 114,
   "id": "e1f9e481",
   "metadata": {},
   "outputs": [
    {
     "name": "stdout",
     "output_type": "stream",
     "text": [
      "    1    2    3    4    5    6    7    8    9   10"
     ]
    }
   ],
   "source": [
    "for i in range(1,11):\n",
    "    print('%5d' % i, end = '')"
   ]
  },
  {
   "cell_type": "code",
   "execution_count": 115,
   "id": "9e0ad1d8",
   "metadata": {},
   "outputs": [
    {
     "name": "stdout",
     "output_type": "stream",
     "text": [
      "    1    2    3    4    5    6    7    8    9   10"
     ]
    }
   ],
   "source": [
    "i = 1\n",
    "while i < 11:\n",
    "    print('%5d' % i, end = '')\n",
    "    i = i + 1 # i += 1"
   ]
  },
  {
   "cell_type": "code",
   "execution_count": 116,
   "id": "d5e15b0c",
   "metadata": {},
   "outputs": [
    {
     "name": "stdout",
     "output_type": "stream",
     "text": [
      "    1    2    3    4    5    6    7    8    9   10"
     ]
    }
   ],
   "source": [
    "i = 1\n",
    "while True:  # 무한Loop\n",
    "    # 서식 %d 정수형\n",
    "    print('%5d' % i, end = '')\n",
    "    i = i + 1  # i += 1\n",
    "    if i > 10:\n",
    "        break"
   ]
  },
  {
   "cell_type": "markdown",
   "id": "874e6c4b",
   "metadata": {},
   "source": [
    "### 숫자를 다섯개 입력받아 그 합을 계산한 후 출력하는 프로그램"
   ]
  },
  {
   "cell_type": "code",
   "execution_count": 117,
   "id": "22f273fc",
   "metadata": {},
   "outputs": [
    {
     "name": "stdout",
     "output_type": "stream",
     "text": [
      "숫자= 1\n",
      "숫자= 5\n",
      "숫자= 3\n",
      "숫자= 4\n",
      "숫자= 2\n",
      "tot =  15\n"
     ]
    }
   ],
   "source": [
    "a = int(input('숫자= '))\n",
    "b = int(input('숫자= '))\n",
    "c = int(input('숫자= '))\n",
    "d = int(input('숫자= '))\n",
    "e = int(input('숫자= '))\n",
    "\n",
    "tot = a + b + c + d + e\n",
    "\n",
    "print('tot = ', tot)"
   ]
  },
  {
   "cell_type": "code",
   "execution_count": 118,
   "id": "6a8796b7",
   "metadata": {},
   "outputs": [
    {
     "name": "stdout",
     "output_type": "stream",
     "text": [
      "숫자= 5\n",
      "숫자= 4\n",
      "숫자= 1\n",
      "숫자= 3\n",
      "숫자= 2\n",
      "tot =  15\n"
     ]
    }
   ],
   "source": [
    "tot = 0\n",
    "for i in range(5): # 0, 1, 2, 3, 4\n",
    "    num = int(input('숫자= '))\n",
    "    tot = tot + num # tot는 누적변수\n",
    "\n",
    "print('tot = ', tot)"
   ]
  },
  {
   "cell_type": "markdown",
   "id": "de8708dd",
   "metadata": {},
   "source": [
    "### 숫자를 입력받아 누적합을 계산하는 프로그램을 작성하되, 입력 받은 숫자가 0이면 입력을 중지하고 누적합의 결과를 출력하는 프로그램을 구현하시오. "
   ]
  },
  {
   "cell_type": "code",
   "execution_count": 120,
   "id": "e863d482",
   "metadata": {},
   "outputs": [
    {
     "name": "stdout",
     "output_type": "stream",
     "text": [
      "숫자 = 1\n",
      "숫자 = 0\n",
      "tot =  1\n"
     ]
    }
   ],
   "source": [
    "tot = 0\n",
    "while True:\n",
    "    num = int(input('숫자 = '))\n",
    "    if num == 0: break\n",
    "    tot = tot + num\n",
    "    \n",
    "print('tot = ', tot)"
   ]
  },
  {
   "cell_type": "code",
   "execution_count": 122,
   "id": "8c90acf8",
   "metadata": {},
   "outputs": [
    {
     "name": "stdout",
     "output_type": "stream",
     "text": [
      "0\n",
      "1\n",
      "2\n",
      "3\n",
      "4\n",
      "5\n",
      "6\n",
      "7\n",
      "8\n",
      "9\n"
     ]
    }
   ],
   "source": [
    "for i in range(10):\n",
    "    print(i)"
   ]
  },
  {
   "cell_type": "code",
   "execution_count": 121,
   "id": "2ae8e0b8",
   "metadata": {},
   "outputs": [
    {
     "name": "stdout",
     "output_type": "stream",
     "text": [
      "0\n",
      "1\n",
      "2\n",
      "3\n",
      "4\n",
      "6\n",
      "7\n",
      "8\n",
      "9\n"
     ]
    }
   ],
   "source": [
    "for i in range(10):\n",
    "    if i == 5: continue # 이하생략, 건너뛰기\n",
    "    print(i) # 위와 비교했을 때 5가 생략 되었다."
   ]
  },
  {
   "cell_type": "code",
   "execution_count": 123,
   "id": "8755fc84",
   "metadata": {},
   "outputs": [
    {
     "name": "stdout",
     "output_type": "stream",
     "text": [
      "0\n",
      "1\n",
      "2\n",
      "3\n",
      "4\n",
      "5\n",
      "6\n",
      "7\n",
      "8\n",
      "9\n",
      "End of program\n"
     ]
    }
   ],
   "source": [
    "# 반복문의 else의 의미 : 어떤 조건이 완전히 끝났을 때 한 번 더 실행해주는 역할\n",
    "for i in range(10):\n",
    "    print(i)\n",
    "else:\n",
    "    print('End of program')"
   ]
  },
  {
   "cell_type": "code",
   "execution_count": 127,
   "id": "8b24121d",
   "metadata": {},
   "outputs": [
    {
     "name": "stdout",
     "output_type": "stream",
     "text": [
      "단 = 1\n",
      "단 = 0\n",
      "단 = 3\n",
      "짝수단만 출력하고 싶어요~\n"
     ]
    }
   ],
   "source": [
    "# 구구단으로 출력할 단수를 입력받는 문장\n",
    "while True:\n",
    "    dan = int(input('단 = '))\n",
    "    if dan >= 2 and dan <= 9: break\n",
    "    \n",
    "i = 1\n",
    "while dan % 2 == 0:\n",
    "    print('{} x {} = {}'.format(dan, i, dan*i))\n",
    "    i += 1\n",
    "    if i > 9:break\n",
    "else:\n",
    "    print('짝수단만 출력하고 싶어요~')"
   ]
  },
  {
   "cell_type": "code",
   "execution_count": null,
   "id": "1f52cb2d",
   "metadata": {},
   "outputs": [],
   "source": []
  },
  {
   "cell_type": "code",
   "execution_count": null,
   "id": "ce0bb7d9",
   "metadata": {},
   "outputs": [],
   "source": []
  }
 ],
 "metadata": {
  "kernelspec": {
   "display_name": "Python 3 (ipykernel)",
   "language": "python",
   "name": "python3"
  },
  "language_info": {
   "codemirror_mode": {
    "name": "ipython",
    "version": 3
   },
   "file_extension": ".py",
   "mimetype": "text/x-python",
   "name": "python",
   "nbconvert_exporter": "python",
   "pygments_lexer": "ipython3",
   "version": "3.9.12"
  },
  "toc": {
   "base_numbering": 1,
   "nav_menu": {},
   "number_sections": true,
   "sideBar": true,
   "skip_h1_title": false,
   "title_cell": "Table of Contents",
   "title_sidebar": "Contents",
   "toc_cell": false,
   "toc_position": {},
   "toc_section_display": true,
   "toc_window_display": false
  }
 },
 "nbformat": 4,
 "nbformat_minor": 5
}

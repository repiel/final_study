{
 "cells": [
  {
   "cell_type": "code",
   "execution_count": 2,
   "id": "0b1b41cd",
   "metadata": {},
   "outputs": [
    {
     "name": "stdout",
     "output_type": "stream",
     "text": [
      "안녕하세요\n"
     ]
    }
   ],
   "source": [
    "# 대소문자 변환함수 : upper()와 lower()\n",
    "# 모든 것을 객체로 간주한다.\n",
    "print('안녕하세요')\n",
    "\n",
    "love = print # 객체 복사"
   ]
  },
  {
   "cell_type": "code",
   "execution_count": 3,
   "id": "3b93c34e",
   "metadata": {},
   "outputs": [
    {
     "name": "stdout",
     "output_type": "stream",
     "text": [
      "웃기다\n"
     ]
    }
   ],
   "source": [
    "love('웃기다')"
   ]
  },
  {
   "cell_type": "code",
   "execution_count": 5,
   "id": "4fc5cd85",
   "metadata": {},
   "outputs": [
    {
     "data": {
      "text/plain": [
       "'Hello Python Programming....'"
      ]
     },
     "execution_count": 5,
     "metadata": {},
     "output_type": "execute_result"
    }
   ],
   "source": [
    "string = 'Hello Python Programming....'\n",
    "string"
   ]
  },
  {
   "cell_type": "code",
   "execution_count": 6,
   "id": "fa7d9568",
   "metadata": {},
   "outputs": [
    {
     "data": {
      "text/plain": [
       "'HELLO PYTHON PROGRAMMING....'"
      ]
     },
     "execution_count": 6,
     "metadata": {},
     "output_type": "execute_result"
    }
   ],
   "source": [
    "string.upper() # =>string의 모든 문장을 대문자로 바꾸라는 뜻"
   ]
  },
  {
   "cell_type": "code",
   "execution_count": 8,
   "id": "d03ef26d",
   "metadata": {},
   "outputs": [
    {
     "data": {
      "text/plain": [
       "'hello python programming....'"
      ]
     },
     "execution_count": 8,
     "metadata": {},
     "output_type": "execute_result"
    }
   ],
   "source": [
    "string.lower()"
   ]
  },
  {
   "cell_type": "code",
   "execution_count": 7,
   "id": "377a2749",
   "metadata": {},
   "outputs": [
    {
     "ename": "NameError",
     "evalue": "name 'upper' is not defined",
     "output_type": "error",
     "traceback": [
      "\u001b[1;31m---------------------------------------------------------------------------\u001b[0m",
      "\u001b[1;31mNameError\u001b[0m                                 Traceback (most recent call last)",
      "Input \u001b[1;32mIn [7]\u001b[0m, in \u001b[0;36m<cell line: 1>\u001b[1;34m()\u001b[0m\n\u001b[1;32m----> 1\u001b[0m \u001b[43mupper\u001b[49m(string)\n",
      "\u001b[1;31mNameError\u001b[0m: name 'upper' is not defined"
     ]
    }
   ],
   "source": [
    "upper(string)"
   ]
  },
  {
   "cell_type": "code",
   "execution_count": 9,
   "id": "7937386e",
   "metadata": {},
   "outputs": [],
   "source": [
    "# strip(좌우의 공백을 제거) , ltrim(좌의 공백을 제거), rtrim(우의 공백을 제거)"
   ]
  },
  {
   "cell_type": "code",
   "execution_count": 13,
   "id": "709f9edd",
   "metadata": {},
   "outputs": [],
   "source": [
    "aaa = '''\n",
    "         안녕하세요\n",
    "문자열과 관련된 함수를 알아볼까요?      \n",
    "''' #탭은 안되나요?"
   ]
  },
  {
   "cell_type": "code",
   "execution_count": 14,
   "id": "e991ebf7",
   "metadata": {},
   "outputs": [
    {
     "data": {
      "text/plain": [
       "'\\n         안녕하세요\\n문자열과 관련된 함수를 알아볼까요?      \\n'"
      ]
     },
     "execution_count": 14,
     "metadata": {},
     "output_type": "execute_result"
    }
   ],
   "source": [
    "aaa"
   ]
  },
  {
   "cell_type": "code",
   "execution_count": 15,
   "id": "cf1fab62",
   "metadata": {},
   "outputs": [
    {
     "name": "stdout",
     "output_type": "stream",
     "text": [
      "\n",
      "         안녕하세요\n",
      "문자열과 관련된 함수를 알아볼까요?      \n",
      "\n"
     ]
    }
   ],
   "source": [
    "print(aaa)"
   ]
  },
  {
   "cell_type": "code",
   "execution_count": 16,
   "id": "eb394e0a",
   "metadata": {},
   "outputs": [
    {
     "name": "stdout",
     "output_type": "stream",
     "text": [
      "안녕하세요\n",
      "문자열과 관련된 함수를 알아볼까요?\n"
     ]
    }
   ],
   "source": [
    "print(aaa.strip())"
   ]
  },
  {
   "cell_type": "code",
   "execution_count": 17,
   "id": "3c70fc49",
   "metadata": {},
   "outputs": [
    {
     "name": "stdout",
     "output_type": "stream",
     "text": [
      "<class 'bool'>\n"
     ]
    }
   ],
   "source": [
    "# 논리형 변수 : True or False, and, or, not\n",
    "hungry = True\n",
    "sleep = False\n",
    "\n",
    "print(type(hungry))"
   ]
  },
  {
   "cell_type": "code",
   "execution_count": 18,
   "id": "16954b6b",
   "metadata": {},
   "outputs": [
    {
     "name": "stdout",
     "output_type": "stream",
     "text": [
      "False\n"
     ]
    }
   ],
   "source": [
    "print(hungry and sleep)"
   ]
  },
  {
   "cell_type": "code",
   "execution_count": 19,
   "id": "aeeb7163",
   "metadata": {},
   "outputs": [
    {
     "name": "stdout",
     "output_type": "stream",
     "text": [
      "True\n"
     ]
    }
   ],
   "source": [
    "print(hungry or sleep)"
   ]
  },
  {
   "cell_type": "code",
   "execution_count": 20,
   "id": "c054a76d",
   "metadata": {},
   "outputs": [
    {
     "name": "stdout",
     "output_type": "stream",
     "text": [
      "True\n"
     ]
    }
   ],
   "source": [
    "print(hungry and not sleep)"
   ]
  },
  {
   "cell_type": "code",
   "execution_count": 24,
   "id": "9da1cab4",
   "metadata": {},
   "outputs": [
    {
     "name": "stdout",
     "output_type": "stream",
     "text": [
      "ok\n"
     ]
    }
   ],
   "source": [
    "a = 1\n",
    "b = 3\n",
    "\n",
    "if a == 1 and b == 3:\n",
    "    print('ok')\n",
    "else:\n",
    "    print('not ok')"
   ]
  },
  {
   "cell_type": "code",
   "execution_count": 25,
   "id": "baa41d74",
   "metadata": {},
   "outputs": [],
   "source": [
    "# 비교(관계) 연산자 : ==, !=, >=, >, <=, <\n",
    "# 논리연산자 : and, or, not"
   ]
  },
  {
   "cell_type": "code",
   "execution_count": 26,
   "id": "3c61faad",
   "metadata": {},
   "outputs": [
    {
     "data": {
      "text/plain": [
       "0"
      ]
     },
     "execution_count": 26,
     "metadata": {},
     "output_type": "execute_result"
    }
   ],
   "source": [
    "# find() : 왼쪽부터 찾아서 처음 나오는 위치값을 얻어오는 함수\n",
    "# rfind() : 오른쪽부터 찾아서 처음 나오는 위치값을 얻어오는 함수\n",
    "string = '안녕안녕하세요'.find(\"안녕\")\n",
    "string"
   ]
  },
  {
   "cell_type": "markdown",
   "id": "b6e87c3b",
   "metadata": {},
   "source": [
    "- 안 녕 안 녕 하 세 요\n",
    "- 0  1  2 3  4  5 6"
   ]
  },
  {
   "cell_type": "code",
   "execution_count": 27,
   "id": "6462e899",
   "metadata": {},
   "outputs": [
    {
     "data": {
      "text/plain": [
       "2"
      ]
     },
     "execution_count": 27,
     "metadata": {},
     "output_type": "execute_result"
    }
   ],
   "source": [
    "string = '안녕안녕하세요'.rfind('안녕')\n",
    "string"
   ]
  },
  {
   "cell_type": "code",
   "execution_count": 28,
   "id": "74bf120a",
   "metadata": {},
   "outputs": [
    {
     "name": "stdout",
     "output_type": "stream",
     "text": [
      "True\n"
     ]
    }
   ],
   "source": [
    "# in 연산자 (문구안에 그 단어가 들어있는지 확인 하는 연산자이다.)\n",
    "print('안녕' in '안녕하세요')"
   ]
  },
  {
   "cell_type": "code",
   "execution_count": 29,
   "id": "39e68894",
   "metadata": {},
   "outputs": [
    {
     "name": "stdout",
     "output_type": "stream",
     "text": [
      "False\n"
     ]
    }
   ],
   "source": [
    "print('잘자' in '안녕하세요')"
   ]
  },
  {
   "cell_type": "code",
   "execution_count": 30,
   "id": "06724c39",
   "metadata": {},
   "outputs": [
    {
     "data": {
      "text/plain": [
       "['10', '20', '30', '40', '50']"
      ]
     },
     "execution_count": 30,
     "metadata": {},
     "output_type": "execute_result"
    }
   ],
   "source": [
    "# split() : 문자열을 자르는 함수\n",
    "\n",
    "a = \"10 20 30 40 50\".split(\" \")\n",
    "a"
   ]
  },
  {
   "cell_type": "code",
   "execution_count": 31,
   "id": "c99cc0e4",
   "metadata": {},
   "outputs": [
    {
     "data": {
      "text/plain": [
       "'10'"
      ]
     },
     "execution_count": 31,
     "metadata": {},
     "output_type": "execute_result"
    }
   ],
   "source": [
    "# f-문자열 : 파이썬 3.6버전부터 사용되는 기능\n",
    "# 문자열 앞에 f를 붙이고 문자열 내부에 표현식을 {}괄호로 삽입\n",
    "## f'문자열{표현식}문자열'\n",
    "a = \"{}\".format(10)\n",
    "a"
   ]
  },
  {
   "cell_type": "code",
   "execution_count": 32,
   "id": "0896de0e",
   "metadata": {},
   "outputs": [
    {
     "data": {
      "text/plain": [
       "str"
      ]
     },
     "execution_count": 32,
     "metadata": {},
     "output_type": "execute_result"
    }
   ],
   "source": [
    "type(a)"
   ]
  },
  {
   "cell_type": "code",
   "execution_count": 33,
   "id": "7b7aa20f",
   "metadata": {},
   "outputs": [
    {
     "data": {
      "text/plain": [
       "'10'"
      ]
     },
     "execution_count": 33,
     "metadata": {},
     "output_type": "execute_result"
    }
   ],
   "source": [
    "f'{10}'"
   ]
  },
  {
   "cell_type": "code",
   "execution_count": 35,
   "id": "c80b89e7",
   "metadata": {},
   "outputs": [
    {
     "data": {
      "text/plain": [
       "'3 + 4 = 7'"
      ]
     },
     "execution_count": 35,
     "metadata": {},
     "output_type": "execute_result"
    }
   ],
   "source": [
    "f\"3 + 4 = {3+4}\""
   ]
  },
  {
   "cell_type": "code",
   "execution_count": null,
   "id": "ca8c95b6",
   "metadata": {},
   "outputs": [],
   "source": []
  }
 ],
 "metadata": {
  "kernelspec": {
   "display_name": "Python 3 (ipykernel)",
   "language": "python",
   "name": "python3"
  },
  "language_info": {
   "codemirror_mode": {
    "name": "ipython",
    "version": 3
   },
   "file_extension": ".py",
   "mimetype": "text/x-python",
   "name": "python",
   "nbconvert_exporter": "python",
   "pygments_lexer": "ipython3",
   "version": "3.9.12"
  },
  "toc": {
   "base_numbering": 1,
   "nav_menu": {},
   "number_sections": true,
   "sideBar": true,
   "skip_h1_title": false,
   "title_cell": "Table of Contents",
   "title_sidebar": "Contents",
   "toc_cell": false,
   "toc_position": {},
   "toc_section_display": true,
   "toc_window_display": false
  }
 },
 "nbformat": 4,
 "nbformat_minor": 5
}
